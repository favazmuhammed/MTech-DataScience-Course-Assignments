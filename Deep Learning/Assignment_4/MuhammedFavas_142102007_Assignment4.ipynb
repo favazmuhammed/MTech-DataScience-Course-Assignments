{
  "nbformat": 4,
  "nbformat_minor": 0,
  "metadata": {
    "colab": {
      "name": "DL_Assignment4.ipynb",
      "provenance": []
    },
    "kernelspec": {
      "name": "python3",
      "display_name": "Python 3"
    },
    "language_info": {
      "name": "python"
    },
    "accelerator": "GPU"
  },
  "cells": [
    {
      "cell_type": "code",
      "execution_count": null,
      "metadata": {
        "id": "-d65sry5MacR"
      },
      "outputs": [],
      "source": [
        "import numpy as np\n",
        "import pandas as pd\n",
        "import tensorflow as tf\n",
        "from tensorflow import keras\n",
        "from tensorflow.keras import layers\n",
        "from keras.utils import np_utils\n",
        "import matplotlib.pyplot as plt\n"
      ]
    },
    {
      "cell_type": "code",
      "source": [
        "!pip install -q -U keras-tuner\n",
        "from keras_tuner import RandomSearch"
      ],
      "metadata": {
        "id": "7RQ70HJrOnmq"
      },
      "execution_count": null,
      "outputs": []
    },
    {
      "cell_type": "markdown",
      "source": [
        "### Load MNIST Dataset"
      ],
      "metadata": {
        "id": "FYGe6Z3aJzb2"
      }
    },
    {
      "cell_type": "code",
      "source": [
        "# load the mnist dataset \n",
        "(x1_train, y1_train), (x1_test, y1_test) = keras.datasets.mnist.load_data()\n",
        "\n",
        "n_train_samples = len(x1_train)\n",
        "n_test_samples = len(x1_test)\n",
        "img_height , img_width = x1_train[0].shape\n",
        "n_classes = len(set(y1_train))\n",
        "\n",
        "print(f'No. of samples  in train data  :{x1_train.shape[0]}')\n",
        "print(f'No. of samples  in test data   :{x1_test.shape[0]}')\n",
        "print(f'Size of an image:{x1_train[0].shape}')\n",
        "print(f'No. of classes:{n_classes}')\n",
        "\n",
        "# Preprocess the data \n",
        "x1_train = x1_train.reshape(n_train_samples, img_height*img_width).astype(\"float32\") / 255\n",
        "x1_test = x1_test.reshape(n_test_samples, img_height*img_width).astype(\"float32\") / 255\n",
        "\n",
        "y1_train = y1_train.astype(\"float32\")\n",
        "y1_test = y1_test.astype(\"float32\")\n",
        "\n",
        "#y1_train = np_utils.to_categorical(y1_train, n_classes)\n",
        "#y1_test = np_utils.to_categorical(y1_test, n_classes)\n",
        "\n",
        "\n",
        "# choose last 1000 samples for validation and remaining for training\n",
        "x1_val = x1_train[-10000:]\n",
        "y1_val = y1_train[-10000:]\n",
        "x1_train = x1_train[:-10000]\n",
        "y1_train = y1_train[:-10000]"
      ],
      "metadata": {
        "colab": {
          "base_uri": "https://localhost:8080/"
        },
        "id": "lCC3mfYLk5US",
        "outputId": "faf17c9b-e9ec-4986-d1f4-2714e8382128"
      },
      "execution_count": null,
      "outputs": [
        {
          "output_type": "stream",
          "name": "stdout",
          "text": [
            "No. of samples  in train data  :60000\n",
            "No. of samples  in test data   :10000\n",
            "Size of an image:(28, 28)\n",
            "No. of classes:10\n"
          ]
        }
      ]
    },
    {
      "cell_type": "markdown",
      "source": [
        "### Load CIFAR-10 Dataset"
      ],
      "metadata": {
        "id": "FKtfawURKBtz"
      }
    },
    {
      "cell_type": "code",
      "source": [
        "# load the mnist dataset \n",
        "(x2_train, y2_train), (x2_test, y2_test) = keras.datasets.cifar10.load_data()\n",
        "print(f'No. of samples  in train data  :{x2_train.shape[0]}')\n",
        "print(f'No. of samples  in test data   :{x2_test.shape[0]}')\n",
        "print(f'Size of an image:{x2_train[0].shape}')\n",
        "\n",
        "n_train_samples = len(x2_train)\n",
        "n_test_samples = len(x2_test)\n",
        "img_height , img_width, n_channel = x2_train[0].shape\n",
        "\n",
        "\n",
        "# Preprocess the data \n",
        "x2_train = x2_train.reshape(n_train_samples, img_height*img_width*n_channel).astype(\"float32\") / 255\n",
        "x2_test = x2_test.reshape(n_test_samples, img_height*img_width*n_channel).astype(\"float32\") / 255\n",
        "\n",
        "\n",
        "#y2_train = np_utils.to_categorical(y2_train,10)\n",
        "#y2_test = np_utils.to_categorical(y2_test, 10)\n",
        "\n",
        "y2_train = y2_train.astype(\"float32\")\n",
        "y2_test = y2_test.astype(\"float32\")\n",
        "\n",
        "\n",
        "\n",
        "# choose last 1000 samples for validation and remaining for training\n",
        "x2_val = x2_train[-10000:]\n",
        "y2_val = y2_train[-10000:]\n",
        "x2_train = x2_train[:-10000]\n",
        "y2_train = y2_train[:-10000]"
      ],
      "metadata": {
        "colab": {
          "base_uri": "https://localhost:8080/"
        },
        "id": "QLDFJsnnJ_Iy",
        "outputId": "246a57f3-eb01-4daa-ffab-2b3919c208c5"
      },
      "execution_count": null,
      "outputs": [
        {
          "output_type": "stream",
          "name": "stdout",
          "text": [
            "No. of samples  in train data  :50000\n",
            "No. of samples  in test data   :10000\n",
            "Size of an image:(32, 32, 3)\n"
          ]
        }
      ]
    },
    {
      "cell_type": "markdown",
      "source": [
        "### Utility Function"
      ],
      "metadata": {
        "id": "gMG0GNMq9Cil"
      }
    },
    {
      "cell_type": "code",
      "source": [
        "# function for ploting loss and accuracy for validation and test dataset\n",
        "def plot_graph(history):\n",
        "  val_loss = history.history['val_loss']\n",
        "  train_loss = history.history['loss']\n",
        "  val_accuracy = history.history['val_accuracy']\n",
        "  train_accuracy = history.history['accuracy']\n",
        "  x = list(range(1,len(val_loss)+1))\n",
        "  fig,(ax1,ax2) = plt.subplots(1,2,figsize=(15, 5))\n",
        "  ax1.plot(x,val_accuracy,'r',label = \"Validation Accuarcy\")\n",
        "  ax1.plot(x,train_accuracy,'b',label = \"Train Accuracy\")\n",
        "  ax1.set_xlabel('Epoch')\n",
        "  ax1.set_ylabel('Accuarcy')\n",
        "  ax1.legend()\n",
        "  ax1.grid()\n",
        "\n",
        "  ax2.plot(x,val_loss,'r',label = \"Validation loss\")\n",
        "  ax2.plot(x,train_loss,'b',label = \"Train loss\")\n",
        "  ax2.set_xlabel('Epoch')\n",
        "  ax2.set_ylabel('Categorical Cross Entropy')\n",
        "  ax2.legend()\n",
        "  ax2.grid()\n",
        "  plt.show()"
      ],
      "metadata": {
        "id": "D6NoiHRhgFNh"
      },
      "execution_count": null,
      "outputs": []
    },
    {
      "cell_type": "markdown",
      "source": [
        "### **Task-1:**\n",
        "Create a base FNN model by choosing hyperparameters like number of layers, number of neurons in each layer, batch size, learning rate etc. Proper justification should be provided for hyperparameter selection."
      ],
      "metadata": {
        "id": "y2Kj_ZPrIuzc"
      }
    },
    {
      "cell_type": "markdown",
      "source": [
        "Hyper parameteter tuning:\n",
        "Used keras tuner which randomly try some combination of parameters and return best parameter based on validation accuaracy. For both mnist and cifar-10 classifier parameter choosed for parameter tuning are \n",
        "1. no.of hidden layers\n",
        "2. No. of nodes in each hidden layer\n",
        "3. Learning rate \n",
        "\n",
        "Choose batch size based on the number of samples in the training set"
      ],
      "metadata": {
        "id": "Y4W4Yqhl1UcP"
      }
    },
    {
      "cell_type": "markdown",
      "source": [
        "### MNITS Classifier"
      ],
      "metadata": {
        "id": "l1i3QQmTHQWR"
      }
    },
    {
      "cell_type": "code",
      "source": [
        "# function for hyperparameter tuning with keras-tuner\n",
        "def model_builder_mnist(hp):\n",
        "  # various hyperparameters\n",
        "  hp_units = hp.Int('units', min_value=10, max_value=100, step=10)\n",
        "  hp_layers = hp.Int('layers', min_value=2, max_value=6)\n",
        "  hp_learning_rate = hp.Choice('learning_rate', values=[1e-2, 1e-3, 1e-4])\n",
        "  \n",
        "  # model defined as sequential model\n",
        "  model = keras.Sequential()\n",
        "  model.add(keras.Input(shape=(28*28,)))                                # input layer\n",
        "  for i in range(1, hp_layers):                                         # hidden layers\n",
        "    model.add(layers.Dense(units=hp_units, activation='relu'))\n",
        "  model.add(keras.layers.Dense(10))                                     #output layer\n",
        "  \n",
        "  # compile the model with adam optimizer \n",
        "  # output function as sigmoid\n",
        "  model.compile(optimizer=keras.optimizers.Adam(learning_rate=hp_learning_rate),\n",
        "                loss=keras.losses.SparseCategoricalCrossentropy(from_logits=True),\n",
        "                metrics=['accuracy'])\n",
        "\n",
        "  return model\n"
      ],
      "metadata": {
        "id": "_LM2Cbz-1uM3"
      },
      "execution_count": null,
      "outputs": []
    },
    {
      "cell_type": "code",
      "source": [
        "# hyperparameter tuning\n",
        "# try 10 trials from the available combinations\n",
        "tuner = RandomSearch(\n",
        "    model_builder_mnist,\n",
        "    objective='val_accuracy',\n",
        "    max_trials= 10,\n",
        "    executions_per_trial =2,\n",
        "    overwrite=True\n",
        ")\n",
        "\n",
        "stop_early = tf.keras.callbacks.EarlyStopping(monitor='val_loss', patience=5)\n",
        "tuner.search(x1_train,y1_train, epochs=5, validation_data=(x1_test,y1_test), callbacks=[stop_early])"
      ],
      "metadata": {
        "colab": {
          "base_uri": "https://localhost:8080/"
        },
        "id": "YqD8jpb93k-F",
        "outputId": "b6dd3891-ea58-4217-f3b9-762293e28f1c"
      },
      "execution_count": null,
      "outputs": [
        {
          "output_type": "stream",
          "name": "stdout",
          "text": [
            "Trial 10 Complete [00h 01m 15s]\n",
            "val_accuracy: 0.9153500199317932\n",
            "\n",
            "Best val_accuracy So Far: 0.9733499884605408\n",
            "Total elapsed time: 00h 13m 22s\n",
            "INFO:tensorflow:Oracle triggered exit\n"
          ]
        },
        {
          "output_type": "stream",
          "name": "stderr",
          "text": [
            "INFO:tensorflow:Oracle triggered exit\n"
          ]
        }
      ]
    },
    {
      "cell_type": "code",
      "source": [
        "# best hyperparameters\n",
        "best_hps=tuner.get_best_hyperparameters(num_trials=1)[0]\n",
        "print(\"Best hyper Parameters:\\n----------------------\")\n",
        "print(f\"No. of layers              :{best_hps.get('layers')}\") \n",
        "print(f\"No. of nodes in each layer :{best_hps.get('units')}\")      \n",
        "print(f\"Learning rate              :{best_hps.get('learning_rate')}\")   "
      ],
      "metadata": {
        "colab": {
          "base_uri": "https://localhost:8080/"
        },
        "id": "xWlV9lLABgOQ",
        "outputId": "a360bc23-b107-42e4-bc1f-17693eaa9b27"
      },
      "execution_count": null,
      "outputs": [
        {
          "output_type": "stream",
          "name": "stdout",
          "text": [
            "Best hyper Parameters:\n",
            "----------------------\n",
            "No. of layers              :4\n",
            "No. of nodes in each layer :90\n",
            "Learning rate              :0.001\n"
          ]
        }
      ]
    },
    {
      "cell_type": "code",
      "source": [
        "# retrive best model\n",
        "model11 = tuner.hypermodel.build(best_hps)\n",
        "model11.summary()"
      ],
      "metadata": {
        "colab": {
          "base_uri": "https://localhost:8080/"
        },
        "id": "VXjIC9avD_G5",
        "outputId": "f2880210-633a-4f08-8138-f927f1b24815"
      },
      "execution_count": null,
      "outputs": [
        {
          "output_type": "stream",
          "name": "stdout",
          "text": [
            "Model: \"sequential_1\"\n",
            "_________________________________________________________________\n",
            " Layer (type)                Output Shape              Param #   \n",
            "=================================================================\n",
            " dense_2 (Dense)             (None, 90)                70650     \n",
            "                                                                 \n",
            " dense_3 (Dense)             (None, 90)                8190      \n",
            "                                                                 \n",
            " dense_4 (Dense)             (None, 90)                8190      \n",
            "                                                                 \n",
            " dense_5 (Dense)             (None, 10)                910       \n",
            "                                                                 \n",
            "=================================================================\n",
            "Total params: 87,940\n",
            "Trainable params: 87,940\n",
            "Non-trainable params: 0\n",
            "_________________________________________________________________\n"
          ]
        }
      ]
    },
    {
      "cell_type": "code",
      "source": [
        "# train the best model for 20 epochs\n",
        "# batch size is coosed as 64 based on the number of training samples\n",
        "history = model11.fit(x1_train,\n",
        "                    y1_train,\n",
        "                    batch_size=64,\n",
        "                    epochs=20,\n",
        "                    validation_data=(x1_val, y1_val)\n",
        "                    )"
      ],
      "metadata": {
        "colab": {
          "base_uri": "https://localhost:8080/"
        },
        "id": "B6iku1cMET0U",
        "outputId": "617bf1bf-0900-43a9-c3fb-5d3f21ce0b80"
      },
      "execution_count": null,
      "outputs": [
        {
          "output_type": "stream",
          "name": "stdout",
          "text": [
            "Epoch 1/20\n",
            "782/782 [==============================] - 4s 4ms/step - loss: 0.3245 - accuracy: 0.9049 - val_loss: 0.1464 - val_accuracy: 0.9575\n",
            "Epoch 2/20\n",
            "782/782 [==============================] - 3s 4ms/step - loss: 0.1313 - accuracy: 0.9605 - val_loss: 0.1188 - val_accuracy: 0.9652\n",
            "Epoch 3/20\n",
            "782/782 [==============================] - 3s 4ms/step - loss: 0.0926 - accuracy: 0.9715 - val_loss: 0.1010 - val_accuracy: 0.9698\n",
            "Epoch 4/20\n",
            "782/782 [==============================] - 3s 4ms/step - loss: 0.0718 - accuracy: 0.9771 - val_loss: 0.0972 - val_accuracy: 0.9718\n",
            "Epoch 5/20\n",
            "782/782 [==============================] - 3s 4ms/step - loss: 0.0581 - accuracy: 0.9815 - val_loss: 0.0888 - val_accuracy: 0.9746\n",
            "Epoch 6/20\n",
            "782/782 [==============================] - 3s 4ms/step - loss: 0.0463 - accuracy: 0.9852 - val_loss: 0.0889 - val_accuracy: 0.9741\n",
            "Epoch 7/20\n",
            "782/782 [==============================] - 3s 4ms/step - loss: 0.0409 - accuracy: 0.9861 - val_loss: 0.0872 - val_accuracy: 0.9758\n",
            "Epoch 8/20\n",
            "782/782 [==============================] - 3s 4ms/step - loss: 0.0332 - accuracy: 0.9892 - val_loss: 0.1011 - val_accuracy: 0.9739\n",
            "Epoch 9/20\n",
            "782/782 [==============================] - 3s 4ms/step - loss: 0.0302 - accuracy: 0.9900 - val_loss: 0.0892 - val_accuracy: 0.9767\n",
            "Epoch 10/20\n",
            "782/782 [==============================] - 3s 4ms/step - loss: 0.0239 - accuracy: 0.9919 - val_loss: 0.0933 - val_accuracy: 0.9767\n",
            "Epoch 11/20\n",
            "782/782 [==============================] - 3s 4ms/step - loss: 0.0259 - accuracy: 0.9912 - val_loss: 0.1153 - val_accuracy: 0.9723\n",
            "Epoch 12/20\n",
            "782/782 [==============================] - 3s 4ms/step - loss: 0.0197 - accuracy: 0.9936 - val_loss: 0.1170 - val_accuracy: 0.9758\n",
            "Epoch 13/20\n",
            "782/782 [==============================] - 3s 4ms/step - loss: 0.0194 - accuracy: 0.9935 - val_loss: 0.1064 - val_accuracy: 0.9756\n",
            "Epoch 14/20\n",
            "782/782 [==============================] - 3s 4ms/step - loss: 0.0187 - accuracy: 0.9933 - val_loss: 0.1195 - val_accuracy: 0.9749\n",
            "Epoch 15/20\n",
            "782/782 [==============================] - 3s 4ms/step - loss: 0.0182 - accuracy: 0.9938 - val_loss: 0.1210 - val_accuracy: 0.9750\n",
            "Epoch 16/20\n",
            "782/782 [==============================] - 3s 4ms/step - loss: 0.0155 - accuracy: 0.9947 - val_loss: 0.1004 - val_accuracy: 0.9804\n",
            "Epoch 17/20\n",
            "782/782 [==============================] - 3s 4ms/step - loss: 0.0135 - accuracy: 0.9955 - val_loss: 0.0995 - val_accuracy: 0.9783\n",
            "Epoch 18/20\n",
            "782/782 [==============================] - 3s 4ms/step - loss: 0.0166 - accuracy: 0.9945 - val_loss: 0.1020 - val_accuracy: 0.9770\n",
            "Epoch 19/20\n",
            "782/782 [==============================] - 3s 4ms/step - loss: 0.0148 - accuracy: 0.9952 - val_loss: 0.1158 - val_accuracy: 0.9790\n",
            "Epoch 20/20\n",
            "782/782 [==============================] - 3s 4ms/step - loss: 0.0098 - accuracy: 0.9970 - val_loss: 0.1216 - val_accuracy: 0.9764\n"
          ]
        }
      ]
    },
    {
      "cell_type": "code",
      "source": [
        "# plot loss and accuracy curves\n",
        "plot_graph(history)"
      ],
      "metadata": {
        "colab": {
          "base_uri": "https://localhost:8080/",
          "height": 334
        },
        "id": "DHbz9fekkUwZ",
        "outputId": "fd21dee7-e14c-4fa5-c745-538f361f7082"
      },
      "execution_count": null,
      "outputs": [
        {
          "output_type": "display_data",
          "data": {
            "image/png": "[encoded data removed]",
            "text/plain": [
              "<Figure size 1080x360 with 2 Axes>"
            ]
          },
          "metadata": {
            "needs_background": "light"
          }
        }
      ]
    },
    {
      "cell_type": "markdown",
      "source": [
        "Observations:\n",
        "1. In each epochs training loss decreasing and valdation loss oscilating after 8 epochs "
      ],
      "metadata": {
        "id": "eJPGKStQQqsv"
      }
    },
    {
      "cell_type": "markdown",
      "source": [
        "### CIFAR-10 Classifier"
      ],
      "metadata": {
        "id": "46g2sBlpIH_0"
      }
    },
    {
      "cell_type": "code",
      "source": [
        "# function for hyperparameter tuning with keras-tuner\n",
        "def model_builder_cifar(hp):\n",
        "  # hyper parameters\n",
        "  hp_units = hp.Int('units', min_value=32, max_value=256, step=32)\n",
        "  hp_layers = hp.Int('layers', min_value=2, max_value=6)\n",
        "  hp_learning_rate = hp.Choice('learning_rate', values=[1e-2, 1e-3, 1e-4])\n",
        "\n",
        "  # define model\n",
        "  model = keras.Sequential()\n",
        "  model.add(keras.Input(shape=(32*32*3,)))\n",
        "  for i in range(1, hp_layers):\n",
        "    model.add(layers.Dense(units=hp_units, activation='relu'))\n",
        "  model.add(keras.layers.Dense(10))\n",
        "  \n",
        "  # compile the model\n",
        "  model.compile(optimizer=keras.optimizers.Adam(learning_rate=hp_learning_rate),\n",
        "                loss=keras.losses.SparseCategoricalCrossentropy(from_logits=True),\n",
        "                metrics=['accuracy'])\n",
        "\n",
        "  return model"
      ],
      "metadata": {
        "id": "bUozUSUEFaUo"
      },
      "execution_count": null,
      "outputs": []
    },
    {
      "cell_type": "code",
      "source": [
        "# hyperparameter tuning \n",
        "# try 10 combinations of parametrs from the available combinations\n",
        "tuner = RandomSearch(\n",
        "    model_builder_cifar,\n",
        "    objective='val_accuracy',\n",
        "    max_trials= 10,\n",
        "    executions_per_trial =2,\n",
        "    overwrite=True\n",
        ")\n",
        "\n",
        "stop_early = tf.keras.callbacks.EarlyStopping(monitor='val_loss', patience=5)\n",
        "tuner.search(x2_train,y2_train, epochs=5, validation_data=(x2_test,y2_test), callbacks=[stop_early])"
      ],
      "metadata": {
        "colab": {
          "base_uri": "https://localhost:8080/"
        },
        "id": "2P4CliQkF_vt",
        "outputId": "e33f47e0-7622-48d8-80ae-83e99ef7eed9"
      },
      "execution_count": null,
      "outputs": [
        {
          "output_type": "stream",
          "name": "stdout",
          "text": [
            "Trial 10 Complete [00h 00m 57s]\n",
            "val_accuracy: 0.4232500046491623\n",
            "\n",
            "Best val_accuracy So Far: 0.46539999544620514\n",
            "Total elapsed time: 00h 11m 37s\n",
            "INFO:tensorflow:Oracle triggered exit\n"
          ]
        },
        {
          "output_type": "stream",
          "name": "stderr",
          "text": [
            "INFO:tensorflow:Oracle triggered exit\n"
          ]
        }
      ]
    },
    {
      "cell_type": "code",
      "source": [
        "# best hyperparametrs\n",
        "best_hps=tuner.get_best_hyperparameters(num_trials=1)[0]\n",
        "print(\"Best hyper Parameters:\\n----------------------\")\n",
        "print(f\"No. of layers              :{best_hps.get('layers')}\") \n",
        "print(f\"No. of nodes in each layer :{best_hps.get('units')}\")      \n",
        "print(f\"Learning rate              :{best_hps.get('learning_rate')}\")  "
      ],
      "metadata": {
        "colab": {
          "base_uri": "https://localhost:8080/"
        },
        "id": "XJWcq2_qHghA",
        "outputId": "5f856f0b-ad30-47f2-fedf-0ca3835c04da"
      },
      "execution_count": null,
      "outputs": [
        {
          "output_type": "stream",
          "name": "stdout",
          "text": [
            "Best hyper Parameters:\n",
            "----------------------\n",
            "No. of layers              :5\n",
            "No. of nodes in each layer :256\n",
            "Learning rate              :0.0001\n"
          ]
        }
      ]
    },
    {
      "cell_type": "code",
      "source": [
        "# retrieve best model\n",
        "model12 = tuner.hypermodel.build(best_hps)\n",
        "model12.summary()"
      ],
      "metadata": {
        "colab": {
          "base_uri": "https://localhost:8080/"
        },
        "id": "Mh-85LaCHkRo",
        "outputId": "fef50e2b-83e6-4b82-a7e6-bb4df293736a"
      },
      "execution_count": null,
      "outputs": [
        {
          "output_type": "stream",
          "name": "stdout",
          "text": [
            "Model: \"sequential_1\"\n",
            "_________________________________________________________________\n",
            " Layer (type)                Output Shape              Param #   \n",
            "=================================================================\n",
            " dense_5 (Dense)             (None, 256)               786688    \n",
            "                                                                 \n",
            " dense_6 (Dense)             (None, 256)               65792     \n",
            "                                                                 \n",
            " dense_7 (Dense)             (None, 256)               65792     \n",
            "                                                                 \n",
            " dense_8 (Dense)             (None, 256)               65792     \n",
            "                                                                 \n",
            " dense_9 (Dense)             (None, 10)                2570      \n",
            "                                                                 \n",
            "=================================================================\n",
            "Total params: 986,634\n",
            "Trainable params: 986,634\n",
            "Non-trainable params: 0\n",
            "_________________________________________________________________\n"
          ]
        }
      ]
    },
    {
      "cell_type": "code",
      "source": [
        "# fit best model for 20  epochs\n",
        "# batch size is coosed as 64 based on the number of training samples\n",
        "history = model12.fit(x2_train,\n",
        "                    y2_train,\n",
        "                    batch_size=64,\n",
        "                    epochs=20,\n",
        "                    validation_data=(x2_val, y2_val)\n",
        "                    )"
      ],
      "metadata": {
        "colab": {
          "base_uri": "https://localhost:8080/"
        },
        "id": "_GwZ3bcIHpPI",
        "outputId": "1be4260c-7682-4098-fe04-deec5817cfa2"
      },
      "execution_count": null,
      "outputs": [
        {
          "output_type": "stream",
          "name": "stdout",
          "text": [
            "Epoch 1/20\n",
            "625/625 [==============================] - 4s 6ms/step - loss: 1.8757 - accuracy: 0.3232 - val_loss: 1.7482 - val_accuracy: 0.3722\n",
            "Epoch 2/20\n",
            "625/625 [==============================] - 3s 5ms/step - loss: 1.6696 - accuracy: 0.4031 - val_loss: 1.6454 - val_accuracy: 0.4159\n",
            "Epoch 3/20\n",
            "625/625 [==============================] - 3s 5ms/step - loss: 1.5861 - accuracy: 0.4341 - val_loss: 1.5962 - val_accuracy: 0.4308\n",
            "Epoch 4/20\n",
            "625/625 [==============================] - 3s 5ms/step - loss: 1.5309 - accuracy: 0.4537 - val_loss: 1.5711 - val_accuracy: 0.4388\n",
            "Epoch 5/20\n",
            "625/625 [==============================] - 3s 5ms/step - loss: 1.4826 - accuracy: 0.4713 - val_loss: 1.5390 - val_accuracy: 0.4530\n",
            "Epoch 6/20\n",
            "625/625 [==============================] - 3s 5ms/step - loss: 1.4450 - accuracy: 0.4848 - val_loss: 1.5060 - val_accuracy: 0.4711\n",
            "Epoch 7/20\n",
            "625/625 [==============================] - 3s 5ms/step - loss: 1.4186 - accuracy: 0.4953 - val_loss: 1.4875 - val_accuracy: 0.4765\n",
            "Epoch 8/20\n",
            "625/625 [==============================] - 3s 5ms/step - loss: 1.3799 - accuracy: 0.5087 - val_loss: 1.4835 - val_accuracy: 0.4811\n",
            "Epoch 9/20\n",
            "625/625 [==============================] - 3s 5ms/step - loss: 1.3534 - accuracy: 0.5175 - val_loss: 1.4687 - val_accuracy: 0.4779\n",
            "Epoch 10/20\n",
            "625/625 [==============================] - 3s 5ms/step - loss: 1.3347 - accuracy: 0.5257 - val_loss: 1.4237 - val_accuracy: 0.5007\n",
            "Epoch 11/20\n",
            "625/625 [==============================] - 3s 5ms/step - loss: 1.3015 - accuracy: 0.5365 - val_loss: 1.4367 - val_accuracy: 0.4941\n",
            "Epoch 12/20\n",
            "625/625 [==============================] - 3s 5ms/step - loss: 1.2776 - accuracy: 0.5443 - val_loss: 1.4363 - val_accuracy: 0.5020\n",
            "Epoch 13/20\n",
            "625/625 [==============================] - 3s 5ms/step - loss: 1.2569 - accuracy: 0.5517 - val_loss: 1.4194 - val_accuracy: 0.5041\n",
            "Epoch 14/20\n",
            "625/625 [==============================] - 3s 5ms/step - loss: 1.2265 - accuracy: 0.5622 - val_loss: 1.4003 - val_accuracy: 0.5109\n",
            "Epoch 15/20\n",
            "625/625 [==============================] - 3s 5ms/step - loss: 1.2072 - accuracy: 0.5696 - val_loss: 1.3985 - val_accuracy: 0.5147\n",
            "Epoch 16/20\n",
            "625/625 [==============================] - 3s 5ms/step - loss: 1.1823 - accuracy: 0.5812 - val_loss: 1.4232 - val_accuracy: 0.5038\n",
            "Epoch 17/20\n",
            "625/625 [==============================] - 3s 5ms/step - loss: 1.1636 - accuracy: 0.5874 - val_loss: 1.3891 - val_accuracy: 0.5206\n",
            "Epoch 18/20\n",
            "625/625 [==============================] - 3s 5ms/step - loss: 1.1471 - accuracy: 0.5937 - val_loss: 1.3939 - val_accuracy: 0.5136\n",
            "Epoch 19/20\n",
            "625/625 [==============================] - 3s 5ms/step - loss: 1.1205 - accuracy: 0.6002 - val_loss: 1.3854 - val_accuracy: 0.5169\n",
            "Epoch 20/20\n",
            "625/625 [==============================] - 3s 5ms/step - loss: 1.1032 - accuracy: 0.6089 - val_loss: 1.3764 - val_accuracy: 0.5291\n"
          ]
        }
      ]
    },
    {
      "cell_type": "code",
      "source": [
        "# plot loss and accuracy curves\n",
        "plot_graph(history)"
      ],
      "metadata": {
        "colab": {
          "base_uri": "https://localhost:8080/",
          "height": 334
        },
        "id": "exwX90mcHxqL",
        "outputId": "aa590f26-3d50-4634-e0a4-515908bf16c2"
      },
      "execution_count": null,
      "outputs": [
        {
          "output_type": "display_data",
          "data": {
            "image/png": "[encoded data removed]",
            "text/plain": [
              "<Figure size 1080x360 with 2 Axes>"
            ]
          },
          "metadata": {
            "needs_background": "light"
          }
        }
      ]
    },
    {
      "cell_type": "markdown",
      "source": [
        "Observations:\n",
        "1. Both training loss and validation loss decreasing with each epoch. No overfit"
      ],
      "metadata": {
        "id": "mczepX_ySSQb"
      }
    },
    {
      "cell_type": "markdown",
      "source": [
        "### **Task-2**\n",
        "Modify the base model created in task-1 by adding batch normalization layers after each layer."
      ],
      "metadata": {
        "id": "M3mDOdSlmA6E"
      }
    },
    {
      "cell_type": "code",
      "source": [
        "# function for defining and compiling model with batch normalisation\n",
        "def my_model(input_size, n_classes, hidden_layers, n_nodes, learning_rate):\n",
        "  model = keras.Sequential()\n",
        "  model.add(keras.Input(shape=(input_size,)))\n",
        "  for i in range(hidden_layers):\n",
        "    model.add(layers.Dense(units=n_nodes, activation='relu'))\n",
        "    model.add(layers.BatchNormalization())\n",
        "  model.add(keras.layers.Dense(n_classes))\n",
        "  print(model.summary())\n",
        "\n",
        "  model.compile(optimizer=keras.optimizers.Adam(learning_rate=learning_rate),\n",
        "                loss=keras.losses.SparseCategoricalCrossentropy(from_logits=True),\n",
        "                metrics=['accuracy'])\n",
        "\n",
        "  return model"
      ],
      "metadata": {
        "id": "_wZJmIvqIOTW"
      },
      "execution_count": null,
      "outputs": []
    },
    {
      "cell_type": "markdown",
      "source": [
        "### MNIST Classifier"
      ],
      "metadata": {
        "id": "6lSyZ2yumVmt"
      }
    },
    {
      "cell_type": "code",
      "source": [
        "# define a model with 3 hidden layers (total layer=4) with 90 nodes in each (parameters got from task-1)\n",
        "# output layer with 10 nodes\n",
        "model21 = my_model(input_size =28*28,  n_classes =10, hidden_layers=3, n_nodes =90, learning_rate=0.001)\n"
      ],
      "metadata": {
        "colab": {
          "base_uri": "https://localhost:8080/"
        },
        "id": "KHihzkvomAAI",
        "outputId": "2f3748ae-4d98-426a-e530-1ae183dc488b"
      },
      "execution_count": null,
      "outputs": [
        {
          "output_type": "stream",
          "name": "stdout",
          "text": [
            "Model: \"sequential_2\"\n",
            "_________________________________________________________________\n",
            " Layer (type)                Output Shape              Param #   \n",
            "=================================================================\n",
            " dense_10 (Dense)            (None, 90)                70650     \n",
            "                                                                 \n",
            " batch_normalization (BatchN  (None, 90)               360       \n",
            " ormalization)                                                   \n",
            "                                                                 \n",
            " dense_11 (Dense)            (None, 90)                8190      \n",
            "                                                                 \n",
            " batch_normalization_1 (Batc  (None, 90)               360       \n",
            " hNormalization)                                                 \n",
            "                                                                 \n",
            " dense_12 (Dense)            (None, 90)                8190      \n",
            "                                                                 \n",
            " batch_normalization_2 (Batc  (None, 90)               360       \n",
            " hNormalization)                                                 \n",
            "                                                                 \n",
            " dense_13 (Dense)            (None, 10)                910       \n",
            "                                                                 \n",
            "=================================================================\n",
            "Total params: 89,020\n",
            "Trainable params: 88,480\n",
            "Non-trainable params: 540\n",
            "_________________________________________________________________\n",
            "None\n"
          ]
        }
      ]
    },
    {
      "cell_type": "code",
      "source": [
        "history = model21.fit(x1_train,\n",
        "                    y1_train,\n",
        "                    batch_size=64,\n",
        "                    epochs=20,\n",
        "                    validation_data=(x1_val, y1_val)\n",
        "                    )"
      ],
      "metadata": {
        "colab": {
          "base_uri": "https://localhost:8080/"
        },
        "id": "QC5i_f3jnFK0",
        "outputId": "8295e47d-7fb6-42c1-edea-8a8cdcff9ad3"
      },
      "execution_count": null,
      "outputs": [
        {
          "output_type": "stream",
          "name": "stdout",
          "text": [
            "Epoch 1/20\n",
            "782/782 [==============================] - 7s 7ms/step - loss: 0.2899 - accuracy: 0.9122 - val_loss: 0.1289 - val_accuracy: 0.9634\n",
            "Epoch 2/20\n",
            "782/782 [==============================] - 5s 6ms/step - loss: 0.1258 - accuracy: 0.9614 - val_loss: 0.1040 - val_accuracy: 0.9686\n",
            "Epoch 3/20\n",
            "782/782 [==============================] - 5s 6ms/step - loss: 0.0915 - accuracy: 0.9706 - val_loss: 0.1037 - val_accuracy: 0.9682\n",
            "Epoch 4/20\n",
            "782/782 [==============================] - 5s 6ms/step - loss: 0.0745 - accuracy: 0.9757 - val_loss: 0.1091 - val_accuracy: 0.9685\n",
            "Epoch 5/20\n",
            "782/782 [==============================] - 5s 6ms/step - loss: 0.0624 - accuracy: 0.9798 - val_loss: 0.0923 - val_accuracy: 0.9721\n",
            "Epoch 6/20\n",
            "782/782 [==============================] - 5s 6ms/step - loss: 0.0529 - accuracy: 0.9832 - val_loss: 0.0832 - val_accuracy: 0.9759\n",
            "Epoch 7/20\n",
            "782/782 [==============================] - 5s 6ms/step - loss: 0.0471 - accuracy: 0.9850 - val_loss: 0.0882 - val_accuracy: 0.9738\n",
            "Epoch 8/20\n",
            "782/782 [==============================] - 5s 6ms/step - loss: 0.0405 - accuracy: 0.9873 - val_loss: 0.0925 - val_accuracy: 0.9750\n",
            "Epoch 9/20\n",
            "782/782 [==============================] - 5s 6ms/step - loss: 0.0399 - accuracy: 0.9871 - val_loss: 0.0945 - val_accuracy: 0.9737\n",
            "Epoch 10/20\n",
            "782/782 [==============================] - 5s 6ms/step - loss: 0.0336 - accuracy: 0.9888 - val_loss: 0.0768 - val_accuracy: 0.9788\n",
            "Epoch 11/20\n",
            "782/782 [==============================] - 5s 6ms/step - loss: 0.0293 - accuracy: 0.9903 - val_loss: 0.0914 - val_accuracy: 0.9762\n",
            "Epoch 12/20\n",
            "782/782 [==============================] - 5s 6ms/step - loss: 0.0292 - accuracy: 0.9902 - val_loss: 0.0916 - val_accuracy: 0.9762\n",
            "Epoch 13/20\n",
            "782/782 [==============================] - 5s 6ms/step - loss: 0.0259 - accuracy: 0.9914 - val_loss: 0.0894 - val_accuracy: 0.9766\n",
            "Epoch 14/20\n",
            "782/782 [==============================] - 5s 6ms/step - loss: 0.0233 - accuracy: 0.9919 - val_loss: 0.0895 - val_accuracy: 0.9775\n",
            "Epoch 15/20\n",
            "782/782 [==============================] - 5s 6ms/step - loss: 0.0216 - accuracy: 0.9928 - val_loss: 0.0930 - val_accuracy: 0.9786\n",
            "Epoch 16/20\n",
            "782/782 [==============================] - 5s 6ms/step - loss: 0.0205 - accuracy: 0.9927 - val_loss: 0.0882 - val_accuracy: 0.9782\n",
            "Epoch 17/20\n",
            "782/782 [==============================] - 5s 6ms/step - loss: 0.0208 - accuracy: 0.9929 - val_loss: 0.0995 - val_accuracy: 0.9767\n",
            "Epoch 18/20\n",
            "782/782 [==============================] - 5s 6ms/step - loss: 0.0207 - accuracy: 0.9927 - val_loss: 0.0984 - val_accuracy: 0.9768\n",
            "Epoch 19/20\n",
            "782/782 [==============================] - 5s 6ms/step - loss: 0.0173 - accuracy: 0.9939 - val_loss: 0.0998 - val_accuracy: 0.9777\n",
            "Epoch 20/20\n",
            "782/782 [==============================] - 5s 6ms/step - loss: 0.0180 - accuracy: 0.9938 - val_loss: 0.0953 - val_accuracy: 0.9791\n"
          ]
        }
      ]
    },
    {
      "cell_type": "code",
      "source": [
        "plot_graph(history)"
      ],
      "metadata": {
        "colab": {
          "base_uri": "https://localhost:8080/",
          "height": 334
        },
        "id": "z_H6F4hZnt30",
        "outputId": "e7354a14-096e-468f-d543-03a5e91c1837"
      },
      "execution_count": null,
      "outputs": [
        {
          "output_type": "display_data",
          "data": {
            "image/png": "[encoded data removed]",
            "text/plain": [
              "<Figure size 1080x360 with 2 Axes>"
            ]
          },
          "metadata": {
            "needs_background": "light"
          }
        }
      ]
    },
    {
      "cell_type": "markdown",
      "source": [
        "Observations:\n",
        "\n",
        "1. No much improvement in validation accuracy \n",
        "2. Validation loss slightly decreased\n",
        "\n",
        "So, model with batchnormalization layer gives better performance"
      ],
      "metadata": {
        "id": "3z3hkVl45G8f"
      }
    },
    {
      "cell_type": "markdown",
      "source": [
        "### CIFAR-10 Classifier"
      ],
      "metadata": {
        "id": "EGw710qavH5u"
      }
    },
    {
      "cell_type": "code",
      "source": [
        "# define a model with 4 hidden layers(total layers = 5) with 256 nodes in each (parameters got from task-1)\n",
        "# output layer with 10 nodes\n",
        "model22 = my_model(input_size = 32*32*3,  n_classes = 10, hidden_layers=4, n_nodes =256, learning_rate=0.0001)"
      ],
      "metadata": {
        "colab": {
          "base_uri": "https://localhost:8080/"
        },
        "id": "38Tt2-xcvPnp",
        "outputId": "3a87532e-8c69-4ad6-8185-e759ae4f041d"
      },
      "execution_count": null,
      "outputs": [
        {
          "output_type": "stream",
          "name": "stdout",
          "text": [
            "Model: \"sequential_3\"\n",
            "_________________________________________________________________\n",
            " Layer (type)                Output Shape              Param #   \n",
            "=================================================================\n",
            " dense_14 (Dense)            (None, 256)               786688    \n",
            "                                                                 \n",
            " batch_normalization_3 (Batc  (None, 256)              1024      \n",
            " hNormalization)                                                 \n",
            "                                                                 \n",
            " dense_15 (Dense)            (None, 256)               65792     \n",
            "                                                                 \n",
            " batch_normalization_4 (Batc  (None, 256)              1024      \n",
            " hNormalization)                                                 \n",
            "                                                                 \n",
            " dense_16 (Dense)            (None, 256)               65792     \n",
            "                                                                 \n",
            " batch_normalization_5 (Batc  (None, 256)              1024      \n",
            " hNormalization)                                                 \n",
            "                                                                 \n",
            " dense_17 (Dense)            (None, 256)               65792     \n",
            "                                                                 \n",
            " batch_normalization_6 (Batc  (None, 256)              1024      \n",
            " hNormalization)                                                 \n",
            "                                                                 \n",
            " dense_18 (Dense)            (None, 10)                2570      \n",
            "                                                                 \n",
            "=================================================================\n",
            "Total params: 990,730\n",
            "Trainable params: 988,682\n",
            "Non-trainable params: 2,048\n",
            "_________________________________________________________________\n",
            "None\n"
          ]
        }
      ]
    },
    {
      "cell_type": "code",
      "source": [
        "history = model22.fit(x2_train,\n",
        "                    y2_train,\n",
        "                    batch_size=64,\n",
        "                    epochs=20,\n",
        "                    validation_data=(x2_val, y2_val),\n",
        "                    )"
      ],
      "metadata": {
        "colab": {
          "base_uri": "https://localhost:8080/"
        },
        "id": "j_8sLcktvaBU",
        "outputId": "537ba19d-76b3-4c53-8d56-fa66231eb61e"
      },
      "execution_count": null,
      "outputs": [
        {
          "output_type": "stream",
          "name": "stdout",
          "text": [
            "Epoch 1/20\n",
            "625/625 [==============================] - 6s 8ms/step - loss: 1.9081 - accuracy: 0.3442 - val_loss: 1.9809 - val_accuracy: 0.3288\n",
            "Epoch 2/20\n",
            "625/625 [==============================] - 4s 7ms/step - loss: 1.5956 - accuracy: 0.4360 - val_loss: 1.7427 - val_accuracy: 0.3955\n",
            "Epoch 3/20\n",
            "625/625 [==============================] - 5s 7ms/step - loss: 1.4867 - accuracy: 0.4760 - val_loss: 1.8978 - val_accuracy: 0.3615\n",
            "Epoch 4/20\n",
            "625/625 [==============================] - 4s 7ms/step - loss: 1.4068 - accuracy: 0.5042 - val_loss: 1.6618 - val_accuracy: 0.4207\n",
            "Epoch 5/20\n",
            "625/625 [==============================] - 5s 7ms/step - loss: 1.3398 - accuracy: 0.5256 - val_loss: 1.5790 - val_accuracy: 0.4482\n",
            "Epoch 6/20\n",
            "625/625 [==============================] - 4s 7ms/step - loss: 1.2768 - accuracy: 0.5513 - val_loss: 1.6937 - val_accuracy: 0.4348\n",
            "Epoch 7/20\n",
            "625/625 [==============================] - 4s 7ms/step - loss: 1.2256 - accuracy: 0.5701 - val_loss: 1.6316 - val_accuracy: 0.4474\n",
            "Epoch 8/20\n",
            "625/625 [==============================] - 4s 7ms/step - loss: 1.1752 - accuracy: 0.5876 - val_loss: 1.5274 - val_accuracy: 0.4795\n",
            "Epoch 9/20\n",
            "625/625 [==============================] - 4s 7ms/step - loss: 1.1314 - accuracy: 0.6016 - val_loss: 1.5306 - val_accuracy: 0.4769\n",
            "Epoch 10/20\n",
            "625/625 [==============================] - 4s 7ms/step - loss: 1.0883 - accuracy: 0.6165 - val_loss: 1.5724 - val_accuracy: 0.4498\n",
            "Epoch 11/20\n",
            "625/625 [==============================] - 5s 7ms/step - loss: 1.0526 - accuracy: 0.6312 - val_loss: 1.5850 - val_accuracy: 0.4532\n",
            "Epoch 12/20\n",
            "625/625 [==============================] - 4s 7ms/step - loss: 1.0140 - accuracy: 0.6441 - val_loss: 1.5720 - val_accuracy: 0.4729\n",
            "Epoch 13/20\n",
            "625/625 [==============================] - 4s 7ms/step - loss: 0.9795 - accuracy: 0.6575 - val_loss: 1.5430 - val_accuracy: 0.4844\n",
            "Epoch 14/20\n",
            "625/625 [==============================] - 4s 7ms/step - loss: 0.9379 - accuracy: 0.6740 - val_loss: 1.5886 - val_accuracy: 0.4677\n",
            "Epoch 15/20\n",
            "625/625 [==============================] - 4s 7ms/step - loss: 0.9067 - accuracy: 0.6836 - val_loss: 1.6717 - val_accuracy: 0.4627\n",
            "Epoch 16/20\n",
            "625/625 [==============================] - 4s 7ms/step - loss: 0.8703 - accuracy: 0.6967 - val_loss: 1.5540 - val_accuracy: 0.4887\n",
            "Epoch 17/20\n",
            "625/625 [==============================] - 4s 7ms/step - loss: 0.8406 - accuracy: 0.7088 - val_loss: 1.6252 - val_accuracy: 0.4773\n",
            "Epoch 18/20\n",
            "625/625 [==============================] - 5s 7ms/step - loss: 0.8058 - accuracy: 0.7189 - val_loss: 1.6680 - val_accuracy: 0.4674\n",
            "Epoch 19/20\n",
            "625/625 [==============================] - 5s 7ms/step - loss: 0.7762 - accuracy: 0.7310 - val_loss: 1.6539 - val_accuracy: 0.4863\n",
            "Epoch 20/20\n",
            "625/625 [==============================] - 4s 7ms/step - loss: 0.7488 - accuracy: 0.7413 - val_loss: 1.6283 - val_accuracy: 0.4843\n"
          ]
        }
      ]
    },
    {
      "cell_type": "code",
      "source": [
        "plot_graph(history)"
      ],
      "metadata": {
        "colab": {
          "base_uri": "https://localhost:8080/",
          "height": 334
        },
        "id": "9ftDBg1mL2_a",
        "outputId": "a89d8631-e8d6-4a89-81e9-78616033a3bb"
      },
      "execution_count": null,
      "outputs": [
        {
          "output_type": "display_data",
          "data": {
            "image/png": "[encoded data removed]",
            "text/plain": [
              "<Figure size 1080x360 with 2 Axes>"
            ]
          },
          "metadata": {
            "needs_background": "light"
          }
        }
      ]
    },
    {
      "cell_type": "markdown",
      "source": [
        "Observations:\n",
        "\n",
        "1. A large gap between accuracies of taining and validation.\n",
        "2. A large gap between losses of taining and validation. Overfit the model.\n",
        "3. As compared with base model accuracy reduced and loss increased for validation\n",
        "\n",
        "So model without batchnormalization layer gives better performance"
      ],
      "metadata": {
        "id": "KRifaptK6FD7"
      }
    },
    {
      "cell_type": "markdown",
      "source": [
        "### **Task-3**\n",
        "Add dropout regularization (add a drop-out layer) to the model obtained in \n",
        "step 5. Train it and observe the changes in performance by plotting the \n",
        "accuracy and loss curves. "
      ],
      "metadata": {
        "id": "MiKzXYXTMN-o"
      }
    },
    {
      "cell_type": "code",
      "source": [
        "# defining the model with a dropout layer before output layer \n",
        "# option to select batch normalization layer after each hidden layer \n",
        "\n",
        "def regularized_model(input_size, n_classes, hidden_layers, n_nodes, learning_rate, normalization=False):\n",
        "  model = keras.Sequential()\n",
        "  model.add(keras.Input(shape=(input_size,)))\n",
        "  for i in range(hidden_layers):\n",
        "    model.add(layers.Dense(units=n_nodes, activation='relu'))\n",
        "    if normalization==True:\n",
        "      model.add(layers.BatchNormalization())\n",
        "  model.add(layers.Dropout(0.2))\n",
        "  model.add(keras.layers.Dense(n_classes))\n",
        "  print(model.summary())\n",
        "\n",
        "  model.compile(optimizer=keras.optimizers.Adam(learning_rate=learning_rate),\n",
        "                loss=keras.losses.SparseCategoricalCrossentropy(from_logits=True),\n",
        "                metrics=['accuracy'])\n",
        "\n",
        "  return model"
      ],
      "metadata": {
        "id": "0bmTDoTtMNcQ"
      },
      "execution_count": null,
      "outputs": []
    },
    {
      "cell_type": "markdown",
      "source": [
        "### MNIST Classifier"
      ],
      "metadata": {
        "id": "cCQLNhy-NbqR"
      }
    },
    {
      "cell_type": "code",
      "source": [
        "# model with batch normalization gives a better accuarcy value compared to model in task 1\n",
        "# built a model with batch normalisation and dropout layer\n",
        "\n",
        "model31 = regularized_model(input_size = 28*28, n_classes=10, hidden_layers=3, n_nodes=90, learning_rate=0.001, normalization=True)"
      ],
      "metadata": {
        "colab": {
          "base_uri": "https://localhost:8080/"
        },
        "id": "cOMtI0lUNa01",
        "outputId": "2c601116-4e9c-4bc3-bad5-d1966b98b8c2"
      },
      "execution_count": null,
      "outputs": [
        {
          "output_type": "stream",
          "name": "stdout",
          "text": [
            "Model: \"sequential_4\"\n",
            "_________________________________________________________________\n",
            " Layer (type)                Output Shape              Param #   \n",
            "=================================================================\n",
            " dense_19 (Dense)            (None, 90)                70650     \n",
            "                                                                 \n",
            " batch_normalization_7 (Batc  (None, 90)               360       \n",
            " hNormalization)                                                 \n",
            "                                                                 \n",
            " dense_20 (Dense)            (None, 90)                8190      \n",
            "                                                                 \n",
            " batch_normalization_8 (Batc  (None, 90)               360       \n",
            " hNormalization)                                                 \n",
            "                                                                 \n",
            " dense_21 (Dense)            (None, 90)                8190      \n",
            "                                                                 \n",
            " batch_normalization_9 (Batc  (None, 90)               360       \n",
            " hNormalization)                                                 \n",
            "                                                                 \n",
            " dropout (Dropout)           (None, 90)                0         \n",
            "                                                                 \n",
            " dense_22 (Dense)            (None, 10)                910       \n",
            "                                                                 \n",
            "=================================================================\n",
            "Total params: 89,020\n",
            "Trainable params: 88,480\n",
            "Non-trainable params: 540\n",
            "_________________________________________________________________\n",
            "None\n"
          ]
        }
      ]
    },
    {
      "cell_type": "code",
      "source": [
        "# train the model\n",
        "history = model31.fit(x1_train,\n",
        "                    y1_train,\n",
        "                    batch_size=64,\n",
        "                    epochs=20,\n",
        "                    validation_data=(x1_val, y1_val)\n",
        "                    )"
      ],
      "metadata": {
        "colab": {
          "base_uri": "https://localhost:8080/"
        },
        "id": "sbkaATG6NtiW",
        "outputId": "f5dc6019-49b2-4d9c-9cb2-d55d4873b0ca"
      },
      "execution_count": null,
      "outputs": [
        {
          "output_type": "stream",
          "name": "stdout",
          "text": [
            "Epoch 1/20\n",
            "782/782 [==============================] - 6s 7ms/step - loss: 0.3319 - accuracy: 0.8985 - val_loss: 0.1430 - val_accuracy: 0.9573\n",
            "Epoch 2/20\n",
            "782/782 [==============================] - 5s 7ms/step - loss: 0.1490 - accuracy: 0.9543 - val_loss: 0.1070 - val_accuracy: 0.9677\n",
            "Epoch 3/20\n",
            "782/782 [==============================] - 6s 8ms/step - loss: 0.1100 - accuracy: 0.9658 - val_loss: 0.1009 - val_accuracy: 0.9705\n",
            "Epoch 4/20\n",
            "782/782 [==============================] - 5s 6ms/step - loss: 0.0900 - accuracy: 0.9714 - val_loss: 0.1005 - val_accuracy: 0.9717\n",
            "Epoch 5/20\n",
            "782/782 [==============================] - 5s 6ms/step - loss: 0.0742 - accuracy: 0.9763 - val_loss: 0.0818 - val_accuracy: 0.9762\n",
            "Epoch 6/20\n",
            "782/782 [==============================] - 5s 6ms/step - loss: 0.0678 - accuracy: 0.9785 - val_loss: 0.0886 - val_accuracy: 0.9749\n",
            "Epoch 7/20\n",
            "782/782 [==============================] - 5s 7ms/step - loss: 0.0573 - accuracy: 0.9818 - val_loss: 0.0935 - val_accuracy: 0.9742\n",
            "Epoch 8/20\n",
            "782/782 [==============================] - 5s 6ms/step - loss: 0.0551 - accuracy: 0.9821 - val_loss: 0.0875 - val_accuracy: 0.9761\n",
            "Epoch 9/20\n",
            "782/782 [==============================] - 5s 6ms/step - loss: 0.0499 - accuracy: 0.9836 - val_loss: 0.0834 - val_accuracy: 0.9771\n",
            "Epoch 10/20\n",
            "782/782 [==============================] - 5s 6ms/step - loss: 0.0418 - accuracy: 0.9860 - val_loss: 0.0838 - val_accuracy: 0.9769\n",
            "Epoch 11/20\n",
            "782/782 [==============================] - 5s 7ms/step - loss: 0.0404 - accuracy: 0.9868 - val_loss: 0.0964 - val_accuracy: 0.9770\n",
            "Epoch 12/20\n",
            "782/782 [==============================] - 5s 6ms/step - loss: 0.0377 - accuracy: 0.9875 - val_loss: 0.0997 - val_accuracy: 0.9744\n",
            "Epoch 13/20\n",
            "782/782 [==============================] - 5s 6ms/step - loss: 0.0339 - accuracy: 0.9891 - val_loss: 0.0892 - val_accuracy: 0.9775\n",
            "Epoch 14/20\n",
            "782/782 [==============================] - 5s 6ms/step - loss: 0.0287 - accuracy: 0.9903 - val_loss: 0.0922 - val_accuracy: 0.9764\n",
            "Epoch 15/20\n",
            "782/782 [==============================] - 5s 7ms/step - loss: 0.0312 - accuracy: 0.9890 - val_loss: 0.0884 - val_accuracy: 0.9772\n",
            "Epoch 16/20\n",
            "782/782 [==============================] - 5s 6ms/step - loss: 0.0280 - accuracy: 0.9907 - val_loss: 0.0904 - val_accuracy: 0.9782\n",
            "Epoch 17/20\n",
            "782/782 [==============================] - 5s 6ms/step - loss: 0.0260 - accuracy: 0.9915 - val_loss: 0.0913 - val_accuracy: 0.9779\n",
            "Epoch 18/20\n",
            "782/782 [==============================] - 5s 6ms/step - loss: 0.0239 - accuracy: 0.9916 - val_loss: 0.0869 - val_accuracy: 0.9800\n",
            "Epoch 19/20\n",
            "782/782 [==============================] - 5s 6ms/step - loss: 0.0225 - accuracy: 0.9921 - val_loss: 0.0881 - val_accuracy: 0.9777\n",
            "Epoch 20/20\n",
            "782/782 [==============================] - 5s 6ms/step - loss: 0.0225 - accuracy: 0.9924 - val_loss: 0.0955 - val_accuracy: 0.9770\n"
          ]
        }
      ]
    },
    {
      "cell_type": "code",
      "source": [
        "# plot loss and accuracy\n",
        "plot_graph(history)"
      ],
      "metadata": {
        "colab": {
          "base_uri": "https://localhost:8080/",
          "height": 334
        },
        "id": "H5tSq0u7N3Ts",
        "outputId": "d2afabbc-7097-4663-8ec4-37ca47a5bb5a"
      },
      "execution_count": null,
      "outputs": [
        {
          "output_type": "display_data",
          "data": {
            "image/png": "[encoded data removed]",
            "text/plain": [
              "<Figure size 1080x360 with 2 Axes>"
            ]
          },
          "metadata": {
            "needs_background": "light"
          }
        }
      ]
    },
    {
      "cell_type": "markdown",
      "source": [
        "Observations:\n",
        "\n",
        "1. As compared to second model accuarcy not improved much \n",
        "2. validation loss decreased slightly \n",
        "\n",
        "So overall model with batch normalization and dropout layer gives better performance for MNIST dataset (model31)"
      ],
      "metadata": {
        "id": "nd8_ZJgm7NnB"
      }
    },
    {
      "cell_type": "markdown",
      "source": [
        "### CIFAR Classifier"
      ],
      "metadata": {
        "id": "B7JzNzj3N_CI"
      }
    },
    {
      "cell_type": "code",
      "source": [
        "# model without batch normalization gives a better accuarcy value compared to model in task 1\n",
        "# built a model with a dropout layer and without batch normalisation layers\n",
        "model32 = regularized_model(input_size = 32*32*3, n_classes=10, hidden_layers=4, n_nodes=256, learning_rate=0.0001, normalization=False)"
      ],
      "metadata": {
        "colab": {
          "base_uri": "https://localhost:8080/"
        },
        "id": "RIpJPGYkOCPr",
        "outputId": "48e432df-314a-4fec-ebe1-0d00c490dceb"
      },
      "execution_count": null,
      "outputs": [
        {
          "output_type": "stream",
          "name": "stdout",
          "text": [
            "Model: \"sequential_5\"\n",
            "_________________________________________________________________\n",
            " Layer (type)                Output Shape              Param #   \n",
            "=================================================================\n",
            " dense_23 (Dense)            (None, 256)               786688    \n",
            "                                                                 \n",
            " dense_24 (Dense)            (None, 256)               65792     \n",
            "                                                                 \n",
            " dense_25 (Dense)            (None, 256)               65792     \n",
            "                                                                 \n",
            " dense_26 (Dense)            (None, 256)               65792     \n",
            "                                                                 \n",
            " dropout_1 (Dropout)         (None, 256)               0         \n",
            "                                                                 \n",
            " dense_27 (Dense)            (None, 10)                2570      \n",
            "                                                                 \n",
            "=================================================================\n",
            "Total params: 986,634\n",
            "Trainable params: 986,634\n",
            "Non-trainable params: 0\n",
            "_________________________________________________________________\n",
            "None\n"
          ]
        }
      ]
    },
    {
      "cell_type": "code",
      "source": [
        "# train the model\n",
        "history = model32.fit(x2_train,\n",
        "                    y2_train,\n",
        "                    batch_size=64,\n",
        "                    epochs=20,\n",
        "                    validation_data=(x2_val, y2_val)\n",
        "                    )"
      ],
      "metadata": {
        "colab": {
          "base_uri": "https://localhost:8080/"
        },
        "id": "OEXorbqTOJa1",
        "outputId": "738afa3e-7c50-4ccc-d354-3b5c368e3081"
      },
      "execution_count": null,
      "outputs": [
        {
          "output_type": "stream",
          "name": "stdout",
          "text": [
            "Epoch 1/20\n",
            "625/625 [==============================] - 4s 5ms/step - loss: 1.9207 - accuracy: 0.3037 - val_loss: 1.8172 - val_accuracy: 0.3482\n",
            "Epoch 2/20\n",
            "625/625 [==============================] - 3s 5ms/step - loss: 1.7177 - accuracy: 0.3868 - val_loss: 1.6949 - val_accuracy: 0.3933\n",
            "Epoch 3/20\n",
            "625/625 [==============================] - 3s 5ms/step - loss: 1.6280 - accuracy: 0.4197 - val_loss: 1.6233 - val_accuracy: 0.4208\n",
            "Epoch 4/20\n",
            "625/625 [==============================] - 3s 5ms/step - loss: 1.5758 - accuracy: 0.4419 - val_loss: 1.5699 - val_accuracy: 0.4389\n",
            "Epoch 5/20\n",
            "625/625 [==============================] - 3s 5ms/step - loss: 1.5256 - accuracy: 0.4575 - val_loss: 1.5475 - val_accuracy: 0.4557\n",
            "Epoch 6/20\n",
            "625/625 [==============================] - 3s 5ms/step - loss: 1.4896 - accuracy: 0.4700 - val_loss: 1.5164 - val_accuracy: 0.4608\n",
            "Epoch 7/20\n",
            "625/625 [==============================] - 4s 6ms/step - loss: 1.4585 - accuracy: 0.4844 - val_loss: 1.5145 - val_accuracy: 0.4576\n",
            "Epoch 8/20\n",
            "625/625 [==============================] - 3s 5ms/step - loss: 1.4265 - accuracy: 0.4945 - val_loss: 1.5004 - val_accuracy: 0.4699\n",
            "Epoch 9/20\n",
            "625/625 [==============================] - 3s 6ms/step - loss: 1.3972 - accuracy: 0.5037 - val_loss: 1.4638 - val_accuracy: 0.4819\n",
            "Epoch 10/20\n",
            "625/625 [==============================] - 4s 6ms/step - loss: 1.3719 - accuracy: 0.5149 - val_loss: 1.4442 - val_accuracy: 0.4915\n",
            "Epoch 11/20\n",
            "625/625 [==============================] - 3s 5ms/step - loss: 1.3484 - accuracy: 0.5192 - val_loss: 1.4461 - val_accuracy: 0.4888\n",
            "Epoch 12/20\n",
            "625/625 [==============================] - 3s 6ms/step - loss: 1.3296 - accuracy: 0.5263 - val_loss: 1.4365 - val_accuracy: 0.4921\n",
            "Epoch 13/20\n",
            "625/625 [==============================] - 3s 5ms/step - loss: 1.2993 - accuracy: 0.5379 - val_loss: 1.4265 - val_accuracy: 0.4946\n",
            "Epoch 14/20\n",
            "625/625 [==============================] - 3s 5ms/step - loss: 1.2774 - accuracy: 0.5473 - val_loss: 1.4190 - val_accuracy: 0.4997\n",
            "Epoch 15/20\n",
            "625/625 [==============================] - 3s 6ms/step - loss: 1.2582 - accuracy: 0.5525 - val_loss: 1.3865 - val_accuracy: 0.5143\n",
            "Epoch 16/20\n",
            "625/625 [==============================] - 4s 6ms/step - loss: 1.2327 - accuracy: 0.5638 - val_loss: 1.3985 - val_accuracy: 0.5094\n",
            "Epoch 17/20\n",
            "625/625 [==============================] - 3s 6ms/step - loss: 1.2096 - accuracy: 0.5712 - val_loss: 1.3877 - val_accuracy: 0.5101\n",
            "Epoch 18/20\n",
            "625/625 [==============================] - 4s 6ms/step - loss: 1.1967 - accuracy: 0.5754 - val_loss: 1.3728 - val_accuracy: 0.5203\n",
            "Epoch 19/20\n",
            "625/625 [==============================] - 3s 5ms/step - loss: 1.1769 - accuracy: 0.5815 - val_loss: 1.3837 - val_accuracy: 0.5105\n",
            "Epoch 20/20\n",
            "625/625 [==============================] - 4s 6ms/step - loss: 1.1526 - accuracy: 0.5911 - val_loss: 1.4175 - val_accuracy: 0.5055\n"
          ]
        }
      ]
    },
    {
      "cell_type": "code",
      "source": [
        "# plot accuracy and loss \n",
        "plot_graph(history)"
      ],
      "metadata": {
        "colab": {
          "base_uri": "https://localhost:8080/",
          "height": 334
        },
        "id": "-SGqltZ9ORZm",
        "outputId": "1ddef615-6602-4db0-f262-7f4fd14014d6"
      },
      "execution_count": null,
      "outputs": [
        {
          "output_type": "display_data",
          "data": {
            "image/png": "[encoded data removed]",
            "text/plain": [
              "<Figure size 1080x360 with 2 Axes>"
            ]
          },
          "metadata": {
            "needs_background": "light"
          }
        }
      ]
    },
    {
      "cell_type": "markdown",
      "source": [
        "Observations:\n",
        "\n",
        "1. No improvement in validation accuracy \n",
        "2. validation loss slightly increased\n",
        "\n",
        "So best model for CIFAR-10 dataset is model without batchnormalization and dropout layers (model12)"
      ],
      "metadata": {
        "id": "BJAOKfj68P28"
      }
    },
    {
      "cell_type": "markdown",
      "source": [
        "### **Best Models**"
      ],
      "metadata": {
        "id": "tw3fCw78VXA1"
      }
    },
    {
      "cell_type": "markdown",
      "source": [
        "### MNIST Classifier"
      ],
      "metadata": {
        "id": "F5PfDV1jVYGK"
      }
    },
    {
      "cell_type": "markdown",
      "source": [
        "Best Model:\n",
        "1. No.of hidden layers =2\n",
        "2. No.of nodes in hidden layers = 80\n",
        "3. Learning rate =  0.001\n",
        "4. Batch Normalization after each hidden layers\n",
        "5. Dropout layer before output layer"
      ],
      "metadata": {
        "id": "x6OEAs54VYpW"
      }
    },
    {
      "cell_type": "code",
      "source": [
        "# model31 is best model\n",
        "model31.summary()"
      ],
      "metadata": {
        "colab": {
          "base_uri": "https://localhost:8080/"
        },
        "id": "uTIPDhp2YZeA",
        "outputId": "401af6a2-2a8f-4529-a16e-3e2a08d9df6d"
      },
      "execution_count": null,
      "outputs": [
        {
          "output_type": "stream",
          "name": "stdout",
          "text": [
            "Model: \"sequential_4\"\n",
            "_________________________________________________________________\n",
            " Layer (type)                Output Shape              Param #   \n",
            "=================================================================\n",
            " dense_19 (Dense)            (None, 90)                70650     \n",
            "                                                                 \n",
            " batch_normalization_7 (Batc  (None, 90)               360       \n",
            " hNormalization)                                                 \n",
            "                                                                 \n",
            " dense_20 (Dense)            (None, 90)                8190      \n",
            "                                                                 \n",
            " batch_normalization_8 (Batc  (None, 90)               360       \n",
            " hNormalization)                                                 \n",
            "                                                                 \n",
            " dense_21 (Dense)            (None, 90)                8190      \n",
            "                                                                 \n",
            " batch_normalization_9 (Batc  (None, 90)               360       \n",
            " hNormalization)                                                 \n",
            "                                                                 \n",
            " dropout (Dropout)           (None, 90)                0         \n",
            "                                                                 \n",
            " dense_22 (Dense)            (None, 10)                910       \n",
            "                                                                 \n",
            "=================================================================\n",
            "Total params: 89,020\n",
            "Trainable params: 88,480\n",
            "Non-trainable params: 540\n",
            "_________________________________________________________________\n"
          ]
        }
      ]
    },
    {
      "cell_type": "code",
      "source": [
        "print(\"Evaluate on test data\")\n",
        "results = model31.evaluate(x1_test, y1_test, batch_size=64)\n",
        "print(\"\\nEvaluation Results:\\n-------------------\")\n",
        "print(pd.DataFrame(results, columns = [' '], index=['Test Loss','Test Accuracy']))"
      ],
      "metadata": {
        "colab": {
          "base_uri": "https://localhost:8080/"
        },
        "id": "P9knRBjnOTNe",
        "outputId": "b0e15e61-1b34-46d3-d5ce-0b91ebf92075"
      },
      "execution_count": null,
      "outputs": [
        {
          "output_type": "stream",
          "name": "stdout",
          "text": [
            "Evaluate on test data\n",
            "157/157 [==============================] - 1s 3ms/step - loss: 0.0840 - accuracy: 0.9810\n",
            "\n",
            "Evaluation Results:\n",
            "-------------------\n",
            "                       \n",
            "Test Loss      0.084007\n",
            "Test Accuracy  0.981000\n"
          ]
        }
      ]
    },
    {
      "cell_type": "markdown",
      "source": [
        "### CIFAR Classifier"
      ],
      "metadata": {
        "id": "ErcDcuPWXLDv"
      }
    },
    {
      "cell_type": "markdown",
      "source": [
        "Best Model:\n",
        "1. No.of hidden layers = 4\n",
        "2. No.of nodes in hidden layers = 192\n",
        "3. Learning rate =  0.0001\n",
        "4. No Batch Normalization after each hidden layers\n",
        "5. No Dropout layer before output layer"
      ],
      "metadata": {
        "id": "Mh9lopzSXMJc"
      }
    },
    {
      "cell_type": "code",
      "source": [
        "# model12 is best model\n",
        "\n",
        "model12.summary()"
      ],
      "metadata": {
        "colab": {
          "base_uri": "https://localhost:8080/"
        },
        "id": "QQXIMjT1Y0V7",
        "outputId": "c63b28c6-0c7d-4727-9b64-c25afb98212b"
      },
      "execution_count": null,
      "outputs": [
        {
          "output_type": "stream",
          "name": "stdout",
          "text": [
            "Model: \"sequential_1\"\n",
            "_________________________________________________________________\n",
            " Layer (type)                Output Shape              Param #   \n",
            "=================================================================\n",
            " dense_5 (Dense)             (None, 256)               786688    \n",
            "                                                                 \n",
            " dense_6 (Dense)             (None, 256)               65792     \n",
            "                                                                 \n",
            " dense_7 (Dense)             (None, 256)               65792     \n",
            "                                                                 \n",
            " dense_8 (Dense)             (None, 256)               65792     \n",
            "                                                                 \n",
            " dense_9 (Dense)             (None, 10)                2570      \n",
            "                                                                 \n",
            "=================================================================\n",
            "Total params: 986,634\n",
            "Trainable params: 986,634\n",
            "Non-trainable params: 0\n",
            "_________________________________________________________________\n"
          ]
        }
      ]
    },
    {
      "cell_type": "code",
      "source": [
        "print(\"Evaluate on test data\")\n",
        "results = model12.evaluate(x2_test, y2_test, batch_size=64)\n",
        "print(\"\\nEvaluation Results:\\n-------------------\")\n",
        "print(pd.DataFrame(results, columns = [' '], index=['Test Loss','Test Accuracy']))"
      ],
      "metadata": {
        "colab": {
          "base_uri": "https://localhost:8080/"
        },
        "id": "IxxZ7bVHXJxp",
        "outputId": "6934112e-f3b2-4042-e75f-464e42af94ad"
      },
      "execution_count": null,
      "outputs": [
        {
          "output_type": "stream",
          "name": "stdout",
          "text": [
            "Evaluate on test data\n",
            "157/157 [==============================] - 1s 3ms/step - loss: 1.3441 - accuracy: 0.5315\n",
            "\n",
            "Evaluation Results:\n",
            "-------------------\n",
            "                       \n",
            "Test Loss      1.344133\n",
            "Test Accuracy  0.531500\n"
          ]
        }
      ]
    }
  ]
}