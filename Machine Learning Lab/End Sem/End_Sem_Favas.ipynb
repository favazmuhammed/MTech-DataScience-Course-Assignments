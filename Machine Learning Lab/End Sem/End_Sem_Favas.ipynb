{
 "cells": [
  {
   "cell_type": "code",
   "execution_count": 28,
   "id": "3ee99e9c",
   "metadata": {},
   "outputs": [],
   "source": [
    "import numpy as np\n",
    "import pandas as pd\n",
    "import matplotlib.pyplot as plt\n",
    "import string\n",
    "import nltk\n",
    "from nltk.corpus import wordnet\n",
    "from nltk.tokenize import sent_tokenize, word_tokenize\n",
    "from nltk.corpus import stopwords\n",
    "from sklearn.feature_extraction.text import TfidfVectorizer\n",
    "from nltk.stem import WordNetLemmatizer\n",
    "from sklearn.cluster import KMeans\n",
    "\n",
    "\n",
    "#import module for ignoring warnings\n",
    "import warnings\n",
    "warnings.filterwarnings('ignore')"
   ]
  },
  {
   "cell_type": "markdown",
   "id": "fd1be562",
   "metadata": {},
   "source": [
    "### Question-2"
   ]
  },
  {
   "cell_type": "code",
   "execution_count": 12,
   "id": "5795d019",
   "metadata": {},
   "outputs": [
    {
     "data": {
      "text/html": [
       "<div>\n",
       "<style scoped>\n",
       "    .dataframe tbody tr th:only-of-type {\n",
       "        vertical-align: middle;\n",
       "    }\n",
       "\n",
       "    .dataframe tbody tr th {\n",
       "        vertical-align: top;\n",
       "    }\n",
       "\n",
       "    .dataframe thead th {\n",
       "        text-align: right;\n",
       "    }\n",
       "</style>\n",
       "<table border=\"1\" class=\"dataframe\">\n",
       "  <thead>\n",
       "    <tr style=\"text-align: right;\">\n",
       "      <th></th>\n",
       "      <th>ArticleId</th>\n",
       "      <th>Text</th>\n",
       "    </tr>\n",
       "  </thead>\n",
       "  <tbody>\n",
       "    <tr>\n",
       "      <th>0</th>\n",
       "      <td>1833</td>\n",
       "      <td>worldcom exboss launches defence lawyers defen...</td>\n",
       "    </tr>\n",
       "    <tr>\n",
       "      <th>1</th>\n",
       "      <td>154</td>\n",
       "      <td>german business confidence slides german busin...</td>\n",
       "    </tr>\n",
       "    <tr>\n",
       "      <th>2</th>\n",
       "      <td>1101</td>\n",
       "      <td>bbc poll indicates economic gloom citizens maj...</td>\n",
       "    </tr>\n",
       "    <tr>\n",
       "      <th>3</th>\n",
       "      <td>1976</td>\n",
       "      <td>lifestyle governs mobile choice faster better ...</td>\n",
       "    </tr>\n",
       "    <tr>\n",
       "      <th>4</th>\n",
       "      <td>917</td>\n",
       "      <td>enron bosses 168m payout eighteen former enron...</td>\n",
       "    </tr>\n",
       "    <tr>\n",
       "      <th>...</th>\n",
       "      <td>...</td>\n",
       "      <td>...</td>\n",
       "    </tr>\n",
       "    <tr>\n",
       "      <th>1485</th>\n",
       "      <td>857</td>\n",
       "      <td>double eviction big brother model caprice holb...</td>\n",
       "    </tr>\n",
       "    <tr>\n",
       "      <th>1486</th>\n",
       "      <td>325</td>\n",
       "      <td>dj double act revamp chart show dj duo jk joel...</td>\n",
       "    </tr>\n",
       "    <tr>\n",
       "      <th>1487</th>\n",
       "      <td>1590</td>\n",
       "      <td>weak dollar hits reuters revenues media group ...</td>\n",
       "    </tr>\n",
       "    <tr>\n",
       "      <th>1488</th>\n",
       "      <td>1587</td>\n",
       "      <td>apple ipod family expands market apple expande...</td>\n",
       "    </tr>\n",
       "    <tr>\n",
       "      <th>1489</th>\n",
       "      <td>538</td>\n",
       "      <td>santy worm makes unwelcome visit thousands web...</td>\n",
       "    </tr>\n",
       "  </tbody>\n",
       "</table>\n",
       "<p>1490 rows × 2 columns</p>\n",
       "</div>"
      ],
      "text/plain": [
       "      ArticleId                                               Text\n",
       "0          1833  worldcom exboss launches defence lawyers defen...\n",
       "1           154  german business confidence slides german busin...\n",
       "2          1101  bbc poll indicates economic gloom citizens maj...\n",
       "3          1976  lifestyle governs mobile choice faster better ...\n",
       "4           917  enron bosses 168m payout eighteen former enron...\n",
       "...         ...                                                ...\n",
       "1485        857  double eviction big brother model caprice holb...\n",
       "1486        325  dj double act revamp chart show dj duo jk joel...\n",
       "1487       1590  weak dollar hits reuters revenues media group ...\n",
       "1488       1587  apple ipod family expands market apple expande...\n",
       "1489        538  santy worm makes unwelcome visit thousands web...\n",
       "\n",
       "[1490 rows x 2 columns]"
      ]
     },
     "execution_count": 12,
     "metadata": {},
     "output_type": "execute_result"
    }
   ],
   "source": [
    "# import the data\n",
    "data = pd.read_csv('data.csv')\n",
    "data = data.drop('Unnamed: 0', axis=1)\n",
    "data"
   ]
  },
  {
   "cell_type": "code",
   "execution_count": 16,
   "id": "05c69bac",
   "metadata": {},
   "outputs": [
    {
     "data": {
      "text/plain": [
       "0       worldcom exboss launches defence lawyers defen...\n",
       "1       german business confidence slides german busin...\n",
       "2       bbc poll indicates economic gloom citizens maj...\n",
       "3       lifestyle governs mobile choice faster better ...\n",
       "4       enron bosses 168m payout eighteen former enron...\n",
       "                              ...                        \n",
       "1485    double eviction big brother model caprice holb...\n",
       "1486    dj double act revamp chart show dj duo jk joel...\n",
       "1487    weak dollar hits reuters revenues media group ...\n",
       "1488    apple ipod family expands market apple expande...\n",
       "1489    santy worm makes unwelcome visit thousands web...\n",
       "Name: Text, Length: 1490, dtype: object"
      ]
     },
     "execution_count": 16,
     "metadata": {},
     "output_type": "execute_result"
    }
   ],
   "source": [
    "#retrive texts\n",
    "texts = data['Text']\n",
    "texts"
   ]
  },
  {
   "cell_type": "code",
   "execution_count": 20,
   "id": "1b076c54",
   "metadata": {},
   "outputs": [],
   "source": [
    "# define a function for pre-processing the text\n",
    "# this function can be used with TfidfVectorizer\n",
    "def preprocess(text):\n",
    "    punctuations = string.punctuation\n",
    "    stop_words = set(stopwords.words(\"english\"))\n",
    "    lemmatizer = WordNetLemmatizer()                                 #initializing the lemetizer\n",
    "    \n",
    "    #function for removing punctuations\n",
    "    def remove_punctuation_from_word(word):\n",
    "        return ''.join(c for c in word if c not in punctuations)\n",
    "\n",
    "\n",
    "    words = word_tokenize(text)                                       #text to tokens\n",
    "    words = [word for word in words if not word in stop_words]        # removing stop words\n",
    "    words = [word for word in words if not len(word.strip())<2]       # removing the words having length < 2\n",
    "    words = [word.lower() for word in words]                          #convert all words to lowercase\n",
    "    words = [word for word in words if word.isalnum()]                #remove non alphanumeric\n",
    "    words = [remove_punctuation_from_word(word) for word in words]\n",
    "    words = [lemmatizer.lemmatize(word) for word in words]             #lemmetize\n",
    "    words = [lemmatizer.lemmatize(word, pos='a') for word in words]    #lemetize adjectives\n",
    "    return ' '.join(words)     "
   ]
  },
  {
   "cell_type": "code",
   "execution_count": 23,
   "id": "cfb7bf65",
   "metadata": {},
   "outputs": [],
   "source": [
    "# convert all documents to vectors based on tfidfs of each terms\n",
    "vectorizer = TfidfVectorizer(lowercase= True, stop_words='english', preprocessor=preprocess)  #initialize tf-idf vectorizer\n",
    "X = vectorizer.fit_transform(texts)\n",
    "features = vectorizer.get_feature_names()                                       #list of features\n",
    "feature_vectors = X.toarray()                                                   #feature vectors for doing the classification"
   ]
  },
  {
   "cell_type": "code",
   "execution_count": 27,
   "id": "5855781e",
   "metadata": {},
   "outputs": [
    {
     "data": {
      "text/plain": [
       "23986"
      ]
     },
     "execution_count": 27,
     "metadata": {},
     "output_type": "execute_result"
    }
   ],
   "source": [
    "len(features)          # no. of features"
   ]
  },
  {
   "cell_type": "markdown",
   "id": "54c0c941",
   "metadata": {},
   "source": [
    "###### K-Means Algorithm for clustering"
   ]
  },
  {
   "cell_type": "code",
   "execution_count": 59,
   "id": "20ea80d0",
   "metadata": {},
   "outputs": [
    {
     "data": {
      "image/png": "[encoded data removed]",
      "text/plain": [
       "<Figure size 432x288 with 1 Axes>"
      ]
     },
     "metadata": {
      "needs_background": "light"
     },
     "output_type": "display_data"
    }
   ],
   "source": [
    "# finding optimum number of clusters\n",
    "# calculate distortion for a range of number of cluster from 1 to 10\n",
    "distortions = []\n",
    "for i in range(3, 11):\n",
    "    km = KMeans(n_clusters=i, init='random',n_init=10, max_iter=300,tol=1e-04, random_state=0)\n",
    "    km.fit(feature_vectors)\n",
    "    distortions.append(km.inertia_)\n",
    "    \n",
    "# plot the distortion vs number of clusters\n",
    "plt.plot(range(3, 11), distortions, marker='o')\n",
    "plt.xlabel('Number of clusters')\n",
    "plt.ylabel('Distortion')\n",
    "plt.show()"
   ]
  },
  {
   "cell_type": "code",
   "execution_count": 33,
   "id": "f25a8ef5",
   "metadata": {},
   "outputs": [
    {
     "data": {
      "text/plain": [
       "array([ 3.33248371e-04,  1.28373330e-02, -1.35525272e-20, ...,\n",
       "        5.42101086e-20, -2.71050543e-20, -8.13151629e-20])"
      ]
     },
     "execution_count": 33,
     "metadata": {},
     "output_type": "execute_result"
    }
   ],
   "source": [
    "# do k-mean clustering for best number of clusters\n",
    "# for 5 clusters\n",
    "km = KMeans(n_clusters=5, init='random', n_init=10, max_iter=300,tol=1e-04, random_state=0)\n",
    "km.fit(feature_vectors)\n",
    "y = km.predict(feature_vectors)\n",
    "centroids = km.cluster_centers_                    #get cluster centers\n",
    "centroids[0]"
   ]
  },
  {
   "cell_type": "code",
   "execution_count": 37,
   "id": "4511cc30",
   "metadata": {},
   "outputs": [
    {
     "data": {
      "text/html": [
       "<div>\n",
       "<style scoped>\n",
       "    .dataframe tbody tr th:only-of-type {\n",
       "        vertical-align: middle;\n",
       "    }\n",
       "\n",
       "    .dataframe tbody tr th {\n",
       "        vertical-align: top;\n",
       "    }\n",
       "\n",
       "    .dataframe thead th {\n",
       "        text-align: right;\n",
       "    }\n",
       "</style>\n",
       "<table border=\"1\" class=\"dataframe\">\n",
       "  <thead>\n",
       "    <tr style=\"text-align: right;\">\n",
       "      <th></th>\n",
       "      <th>ArticleId</th>\n",
       "      <th>Text</th>\n",
       "      <th>y</th>\n",
       "    </tr>\n",
       "  </thead>\n",
       "  <tbody>\n",
       "    <tr>\n",
       "      <th>0</th>\n",
       "      <td>1833</td>\n",
       "      <td>worldcom exboss launches defence lawyers defen...</td>\n",
       "      <td>1</td>\n",
       "    </tr>\n",
       "    <tr>\n",
       "      <th>1</th>\n",
       "      <td>154</td>\n",
       "      <td>german business confidence slides german busin...</td>\n",
       "      <td>1</td>\n",
       "    </tr>\n",
       "    <tr>\n",
       "      <th>2</th>\n",
       "      <td>1101</td>\n",
       "      <td>bbc poll indicates economic gloom citizens maj...</td>\n",
       "      <td>1</td>\n",
       "    </tr>\n",
       "    <tr>\n",
       "      <th>3</th>\n",
       "      <td>1976</td>\n",
       "      <td>lifestyle governs mobile choice faster better ...</td>\n",
       "      <td>4</td>\n",
       "    </tr>\n",
       "    <tr>\n",
       "      <th>4</th>\n",
       "      <td>917</td>\n",
       "      <td>enron bosses 168m payout eighteen former enron...</td>\n",
       "      <td>1</td>\n",
       "    </tr>\n",
       "    <tr>\n",
       "      <th>...</th>\n",
       "      <td>...</td>\n",
       "      <td>...</td>\n",
       "      <td>...</td>\n",
       "    </tr>\n",
       "    <tr>\n",
       "      <th>1485</th>\n",
       "      <td>857</td>\n",
       "      <td>double eviction big brother model caprice holb...</td>\n",
       "      <td>3</td>\n",
       "    </tr>\n",
       "    <tr>\n",
       "      <th>1486</th>\n",
       "      <td>325</td>\n",
       "      <td>dj double act revamp chart show dj duo jk joel...</td>\n",
       "      <td>3</td>\n",
       "    </tr>\n",
       "    <tr>\n",
       "      <th>1487</th>\n",
       "      <td>1590</td>\n",
       "      <td>weak dollar hits reuters revenues media group ...</td>\n",
       "      <td>1</td>\n",
       "    </tr>\n",
       "    <tr>\n",
       "      <th>1488</th>\n",
       "      <td>1587</td>\n",
       "      <td>apple ipod family expands market apple expande...</td>\n",
       "      <td>4</td>\n",
       "    </tr>\n",
       "    <tr>\n",
       "      <th>1489</th>\n",
       "      <td>538</td>\n",
       "      <td>santy worm makes unwelcome visit thousands web...</td>\n",
       "      <td>4</td>\n",
       "    </tr>\n",
       "  </tbody>\n",
       "</table>\n",
       "<p>1490 rows × 3 columns</p>\n",
       "</div>"
      ],
      "text/plain": [
       "      ArticleId                                               Text  y\n",
       "0          1833  worldcom exboss launches defence lawyers defen...  1\n",
       "1           154  german business confidence slides german busin...  1\n",
       "2          1101  bbc poll indicates economic gloom citizens maj...  1\n",
       "3          1976  lifestyle governs mobile choice faster better ...  4\n",
       "4           917  enron bosses 168m payout eighteen former enron...  1\n",
       "...         ...                                                ... ..\n",
       "1485        857  double eviction big brother model caprice holb...  3\n",
       "1486        325  dj double act revamp chart show dj duo jk joel...  3\n",
       "1487       1590  weak dollar hits reuters revenues media group ...  1\n",
       "1488       1587  apple ipod family expands market apple expande...  4\n",
       "1489        538  santy worm makes unwelcome visit thousands web...  4\n",
       "\n",
       "[1490 rows x 3 columns]"
      ]
     },
     "execution_count": 37,
     "metadata": {},
     "output_type": "execute_result"
    }
   ],
   "source": [
    "# Add new column to the dataframe with cluster number\n",
    "data['y'] = y\n",
    "data"
   ]
  },
  {
   "cell_type": "code",
   "execution_count": 38,
   "id": "97660e8c",
   "metadata": {},
   "outputs": [
    {
     "data": {
      "text/plain": [
       "0       1833\n",
       "1        154\n",
       "2       1101\n",
       "4        917\n",
       "8       2034\n",
       "        ... \n",
       "1478    1144\n",
       "1479    2058\n",
       "1480    1124\n",
       "1484    1774\n",
       "1487    1590\n",
       "Name: ArticleId, Length: 430, dtype: int64"
      ]
     },
     "execution_count": 38,
     "metadata": {},
     "output_type": "execute_result"
    }
   ],
   "source": [
    "data[data.loc[:,'y']==1]['ArticleId']"
   ]
  },
  {
   "cell_type": "code",
   "execution_count": 46,
   "id": "d95f925b",
   "metadata": {},
   "outputs": [
    {
     "name": "stdout",
     "output_type": "stream",
     "text": [
      "Cluster-1\n",
      "----------------------------\n",
      "No. of articles:172\n",
      "Article IDs:\n",
      "[1683, 1518, 947, 105, 1297, 2127, 639, 1544, 813, 39, 1825, 749, 1469, 1260, 344, 378, 413, 1205, 828, 1696, 261, 761, 171, 1175, 1446, 122, 302, 1517, 2153, 1360, 1121, 575, 1554, 1466, 1451, 1851, 1893, 1349, 400, 1391, 440, 1348, 1482, 1031, 1717, 1939, 1688, 1713, 572, 1170, 2156, 1318, 1528, 623, 470, 2204, 1239, 870, 549, 1526, 324, 289, 1498, 1570, 1041, 832, 2119, 1783, 1589, 310, 882, 1546, 1817, 1938, 2050, 1398, 1008, 2083, 701, 543, 898, 1013, 1209, 390, 520, 1877, 207, 792, 1104, 415, 487, 833, 1903, 1347, 86, 1613, 1155, 1792, 1034, 2047, 1708, 1504, 253, 641, 1149, 613, 661, 622, 740, 1850, 2045, 153, 1368, 1289, 257, 1690, 1988, 2109, 637, 517, 1838, 2081, 825, 2063, 818, 2170, 979, 1108, 1852, 29, 1112, 193, 1301, 1661, 93, 566, 2019, 920, 1818, 284, 14, 1156, 1441, 386, 1250, 863, 1595, 494, 198, 1605, 288, 1571, 1791, 2060, 1651, 2198, 104, 165, 473, 169, 208, 2084, 929, 232, 1355, 7, 1178, 718, 1072, 772, 2207, 980]\n",
      "\n",
      "Relevant Words:\n",
      "mr\n",
      "labour\n",
      "election\n",
      "party\n",
      "blair\n",
      "tory\n",
      "said\n",
      "tax\n",
      "brown\n",
      "minister\n",
      "government\n",
      "lord\n",
      "howard\n",
      "prime\n",
      "plan\n",
      "Cluster-2\n",
      "----------------------------\n",
      "No. of articles:430\n",
      "Article IDs:\n",
      "[1833, 154, 1101, 917, 2034, 1153, 1028, 812, 1561, 1527, 1503, 2002, 2100, 2205, 593, 90, 1763, 643, 40, 180, 315, 1079, 1638, 1929, 445, 212, 1566, 1962, 1474, 603, 1220, 1259, 777, 1843, 2048, 334, 2093, 974, 1408, 461, 1745, 1133, 1844, 764, 1361, 380, 1235, 932, 775, 1523, 303, 19, 666, 1771, 1557, 1392, 490, 1964, 2082, 627, 61, 1213, 736, 1878, 760, 50, 1802, 1736, 140, 2, 1811, 1376, 871, 778, 1982, 1681, 2052, 1718, 514, 1598, 2159, 158, 65, 2195, 220, 1287, 1916, 435, 682, 453, 465, 1444, 1275, 1080, 726, 173, 1578, 2199, 1534, 1199, 1999, 2035, 248, 1374, 949, 429, 360, 2168, 1058, 1793, 674, 1174, 339, 123, 2113, 1885, 1088, 1381, 897, 1125, 748, 1437, 345, 544, 1537, 924, 1159, 892, 1087, 431, 392, 1208, 305, 1882, 410, 632, 711, 1980, 1946, 1960, 1759, 480, 2021, 317, 38, 508, 356, 1402, 1579, 1909, 2129, 1195, 1007, 496, 1623, 2186, 1102, 677, 286, 855, 1390, 787, 1185, 2023, 2001, 817, 822, 991, 2016, 1931, 1488, 437, 536, 418, 1926, 1846, 1896, 125, 2220, 1362, 331, 236, 53, 1268, 2107, 720, 1109, 1222, 814, 956, 1226, 362, 1354, 1143, 758, 358, 877, 2130, 1952, 1126, 1848, 2027, 766, 1243, 63, 1992, 2003, 16, 1830, 756, 747, 967, 1152, 548, 500, 83, 1726, 1366, 2213, 245, 663, 2031, 1994, 1874, 1433, 1585, 194, 1106, 239, 2006, 359, 268, 982, 984, 176, 722, 340, 1271, 80, 408, 256, 1283, 770, 219, 1506, 693, 327, 249, 2072, 2185, 1410, 1652, 731, 951, 1202, 1238, 450, 196, 1908, 985, 202, 1198, 1331, 1677, 2197, 241, 1492, 1955, 279, 655, 1036, 1070, 1212, 1710, 992, 1346, 1714, 648, 1251, 686, 959, 2041, 319, 2062, 399, 935, 75, 709, 705, 617, 1697, 2187, 1897, 238, 1640, 1475, 364, 1139, 323, 755, 944, 905, 1452, 1620, 856, 1508, 1812, 678, 1978, 1574, 528, 2056, 20, 1375, 1211, 1963, 1925, 1478, 1148, 1322, 70, 1427, 135, 1950, 2192, 2169, 1342, 1276, 329, 1103, 389, 187, 126, 1813, 970, 1911, 1834, 1137, 1236, 1723, 1117, 1377, 1824, 271, 1485, 880, 923, 918, 1650, 1465, 1760, 1110, 1095, 1948, 526, 1678, 2014, 1516, 1754, 175, 225, 960, 946, 2177, 484, 1118, 780, 1835, 416, 430, 1486, 88, 1657, 111, 101, 1369, 2221, 1943, 1533, 1231, 1372, 2164, 1386, 2012, 1247, 885, 312, 35, 926, 189, 609, 320, 395, 738, 2004, 54, 2180, 753, 291, 1245, 363, 729, 1413, 1436, 1630, 1814, 477, 1731, 192, 1089, 1228, 896, 1920, 788, 1511, 1730, 2149, 1075, 955, 166, 2102, 1064, 1739, 1806, 1257, 1144, 2058, 1124, 1774, 1590]\n",
      "\n",
      "Relevant Words:\n",
      "said\n",
      "mr\n",
      "year\n",
      "company\n",
      "market\n",
      "firm\n",
      "growth\n",
      "bank\n",
      "sale\n",
      "economy\n",
      "government\n",
      "share\n",
      "rate\n",
      "country\n",
      "price\n",
      "Cluster-3\n",
      "----------------------------\n",
      "No. of articles:127\n",
      "Article IDs:\n",
      "[1797, 1866, 177, 687, 2017, 1804, 690, 2079, 1645, 867, 2179, 1264, 1930, 1343, 1023, 1875, 1038, 1017, 962, 121, 351, 569, 762, 281, 1077, 1147, 2115, 1794, 190, 1483, 217, 1090, 148, 1078, 881, 1309, 1686, 859, 114, 1974, 391, 1030, 773, 734, 11, 552, 1536, 1049, 542, 688, 1876, 374, 424, 299, 318, 1781, 366, 716, 940, 214, 670, 444, 1752, 2020, 902, 1033, 1491, 365, 2212, 2059, 221, 570, 30, 679, 2209, 1081, 1709, 1494, 587, 250, 407, 2201, 1449, 1337, 164, 1565, 665, 1786, 10, 835, 1611, 824, 1853, 1005, 1900, 1917, 2166, 170, 85, 384, 1560, 649, 560, 1489, 1273, 1150, 583, 1873, 550, 132, 1037, 117, 1197, 2026, 2091, 1854, 1481, 1421, 1500, 1655, 274, 1042, 1689, 1111, 1505, 714, 783]\n",
      "\n",
      "Relevant Words:\n",
      "film\n",
      "award\n",
      "best\n",
      "actor\n",
      "oscar\n",
      "star\n",
      "festival\n",
      "actress\n",
      "director\n",
      "nomination\n",
      "comedy\n",
      "movie\n",
      "year\n",
      "aviator\n",
      "box\n",
      "Cluster-4\n",
      "----------------------------\n",
      "No. of articles:519\n",
      "Article IDs:\n",
      "[1582, 651, 707, 1588, 342, 486, 1344, 1547, 1785, 1617, 1026, 1407, 466, 1009, 805, 771, 2000, 953, 1522, 455, 527, 42, 1364, 1418, 2046, 476, 96, 210, 1766, 1971, 1303, 79, 1932, 1458, 1321, 699, 1738, 1756, 891, 684, 226, 506, 1249, 1425, 2061, 634, 306, 997, 1945, 267, 197, 251, 1411, 1487, 91, 1184, 449, 1778, 853, 1919, 1596, 1769, 183, 1066, 406, 537, 1330, 1711, 1021, 1400, 1299, 1119, 893, 396, 1862, 559, 439, 601, 147, 273, 850, 1060, 31, 316, 1047, 1934, 82, 826, 1069, 1128, 1941, 1658, 495, 485, 1642, 92, 597, 518, 1294, 990, 1065, 420, 1387, 2151, 46, 1621, 1632, 2128, 203, 2089, 1796, 533, 727, 78, 2074, 1809, 375, 2141, 425, 1141, 1499, 1529, 1966, 1396, 578, 467, 899, 1542, 1928, 1254, 1497, 370, 186, 137, 1014, 1540, 1099, 743, 1308, 811, 228, 49, 151, 754, 1277, 434, 1872, 1312, 577, 26, 1244, 612, 1740, 264, 1218, 610, 510, 1836, 1725, 2184, 906, 1653, 2098, 1985, 602, 266, 1431, 1912, 1157, 561, 512, 735, 1100, 2118, 1940, 1716, 894, 1921, 1840, 47, 1879, 2036, 1358, 733, 1858, 1379, 108, 2224, 1163, 1612, 15, 1607, 492, 1625, 2223, 216, 983, 588, 482, 647, 1424, 1967, 1597, 998, 293, 307, 1548, 1559, 901, 1998, 900, 224, 1146, 1338, 280, 530, 1584, 110, 1462, 1040, 335, 393, 785, 1728, 1201, 427, 355, 803, 800, 958, 1984, 275, 2111, 1071, 130, 1603, 1052, 328, 730, 2178, 1902, 491, 1965, 2210, 1279, 1093, 712, 1435, 18, 361, 1440, 986, 941, 188, 377, 2217, 443, 76, 1280, 1995, 231, 1234, 1043, 1583, 2010, 401, 843, 1415, 252, 547, 2147, 995, 1639, 2157, 234, 1467, 62, 829, 1253, 1351, 1127, 660, 1292, 1183, 1761, 1370, 246, 858, 1744, 301, 907, 2064, 426, 1863, 948, 1753, 2188, 614, 1115, 174, 1737, 1649, 1203, 1320, 630, 1027, 1646, 1445, 1240, 1803, 1432, 300, 1706, 689, 1901, 1493, 1510, 802, 978, 102, 571, 1676, 1637, 4, 1323, 2110, 488, 1024, 1214, 1751, 1473, 706, 2160, 1633, 1750, 156, 460, 167, 628, 2073, 629, 115, 815, 298, 233, 943, 1192, 419, 672, 1906, 1210, 1647, 1827, 1795, 2173, 1990, 1350, 1327, 2070, 2143, 1887, 423, 1790, 2043, 1871, 1702, 644, 750, 767, 2121, 696, 1378, 988, 1429, 1841, 290, 1248, 1602, 2219, 1120, 1665, 74, 388, 1674, 834, 2029, 790, 1217, 1741, 2015, 1177, 744, 695, 1799, 759, 1113, 1599, 213, 534, 589, 1129, 969, 2152, 1443, 1692, 1913, 2158, 1989, 1682, 230, 209, 346, 1784, 68, 831, 685, 1414, 1815, 1397, 1664, 1388, 255, 1403, 1538, 1808, 1821, 2080, 1263, 128, 2135, 839, 1764, 1572, 1057, 555, 1569, 1003, 1942, 1610, 218, 1614, 1406, 1914, 1096, 836, 2108, 1167, 886, 1891, 657, 1495, 1169, 1450, 934, 989, 656, 1618, 433, 916, 98, 888, 507, 1707, 774, 119, 1282, 1524, 1082, 615, 1332, 1054, 1734, 1788, 1884, 873, 889, 2148, 936, 842, 1609, 1380, 1947, 557, 44, 201, 565, 479, 1314, 94, 387, 595, 2120, 957, 33, 654, 1130, 1062, 2078, 1687, 120, 1868, 1166, 1525, 1864, 1490, 1886, 181, 1949, 2145, 2206, 605, 937, 454, 1870, 304, 950, 1904, 857, 325]\n",
      "\n",
      "Relevant Words:\n",
      "game\n",
      "said\n",
      "england\n",
      "win\n",
      "player\n",
      "match\n",
      "world\n",
      "year\n",
      "champion\n",
      "cup\n",
      "play\n",
      "team\n",
      "injury\n",
      "time\n",
      "chelsea\n",
      "Cluster-5\n",
      "----------------------------\n",
      "No. of articles:242\n",
      "Article IDs:\n",
      "[1976, 1552, 405, 702, 1951, 1532, 1394, 590, 277, 904, 464, 1742, 972, 2144, 1055, 371, 1680, 136, 618, 1515, 1091, 865, 227, 611, 2044, 844, 840, 876, 2077, 1164, 1412, 1022, 1098, 1855, 1012, 283, 878, 1553, 1434, 474, 150, 1439, 352, 513, 1194, 1550, 25, 292, 428, 658, 1968, 372, 739, 1733, 2116, 295, 1894, 987, 1977, 1401, 254, 2150, 930, 69, 447, 1190, 2175, 247, 2076, 1847, 2086, 1045, 607, 1383, 1749, 441, 1981, 563, 1182, 343, 1326, 1266, 1395, 2131, 497, 2042, 1468, 1029, 964, 2133, 1076, 1772, 1765, 1606, 1039, 1641, 2171, 1604, 2030, 1648, 973, 673, 2054, 456, 1464, 1867, 1805, 1670, 1455, 1615, 1223, 160, 1758, 1767, 581, 710, 1935, 37, 1336, 879, 32, 645, 1135, 1114, 2216, 1860, 1555, 619, 1624, 741, 890, 794, 864, 757, 240, 2009, 1229, 1269, 1453, 1050, 616, 675, 341, 195, 1179, 2208, 184, 1428, 2117, 1215, 143, 2088, 793, 106, 574, 204, 1801, 809, 1701, 66, 1480, 475, 1755, 2069, 2161, 199, 919, 21, 631, 1011, 1204, 789, 1363, 1328, 2075, 848, 2032, 2067, 1667, 2214, 1053, 1831, 1382, 820, 458, 478, 801, 1881, 1993, 2096, 2095, 909, 728, 1186, 1122, 797, 522, 636, 1715, 1073, 182, 229, 200, 993, 28, 791, 1160, 2193, 1004, 912, 1261, 2142, 145, 2183, 860, 436, 2114, 903, 1820, 1097, 1056, 2112, 1241, 1969, 804, 1409, 1937, 311, 697, 159, 1333, 155, 816, 1600, 314, 1454, 403, 1819, 883, 1880, 1587, 538]\n",
      "\n",
      "Relevant Words:\n",
      "mobile\n",
      "phone\n",
      "people\n",
      "said\n",
      "technology\n",
      "user\n",
      "service\n",
      "software\n",
      "microsoft\n",
      "net\n",
      "computer\n",
      "email\n",
      "digital\n",
      "broadband\n",
      "music\n"
     ]
    }
   ],
   "source": [
    "for i in range(len(centroids)):\n",
    "    print('Cluster-{}\\n----------------------------'.format(i+1))\n",
    "    articles_i = list(data[data.loc[:,'y']==i]['ArticleId'])\n",
    "    print('No. of articles:{}'.format(len(articles_i)))\n",
    "    print('Article IDs:')\n",
    "    print(articles_i)\n",
    "                      \n",
    "    # get cluster centers tfidf\n",
    "    centroid = centroids[i]\n",
    "    feature_tfidf = {}                   # dictionary for saving words corresponding to each tfidf\n",
    "    for i in range(len(features)):\n",
    "        feature_tfidf[features[i]] = centroid[i]\n",
    "    \n",
    "    # sort tfidf for getting important words\n",
    "    sorted_tfidf = sorted( feature_tfidf.items(), key=lambda kv: kv[1], reverse=True)\n",
    "    best_15_words = sorted_tfidf[:15] \n",
    "    \n",
    "    \n",
    "    # print best 15 words for each cluster\n",
    "    print('\\nRelevant Words:')\n",
    "    for doc in best_15_words:\n",
    "        print(doc[0]) \n",
    "                      \n",
    "    "
   ]
  },
  {
   "cell_type": "markdown",
   "id": "8059542f",
   "metadata": {},
   "source": [
    "### Question -1"
   ]
  },
  {
   "cell_type": "markdown",
   "id": "016402db",
   "metadata": {},
   "source": []
  },
  {
   "cell_type": "code",
   "execution_count": 167,
   "id": "34df1526",
   "metadata": {},
   "outputs": [],
   "source": [
    "from sklearn.preprocessing import StandardScaler\n",
    "from sklearn.cluster import DBSCAN\n",
    "from sklearn.neighbors import NearestNeighbors\n",
    "from numpy import linalg\n",
    "import queue\n",
    "\n",
    "plt.style.use('ggplot')\n",
    "%matplotlib inline"
   ]
  },
  {
   "cell_type": "markdown",
   "id": "48feccfb",
   "metadata": {},
   "source": [
    "###### Part -a"
   ]
  },
  {
   "cell_type": "code",
   "execution_count": 205,
   "id": "3f2b275e",
   "metadata": {},
   "outputs": [],
   "source": [
    "# create a custom class for dbscan\n",
    "\n",
    "class dbScan:\n",
    "    \n",
    "    #init function\n",
    "    def __init__(self,Eps,MinPt):\n",
    "        self.Eps = Eps\n",
    "        self.MinPt = MinPt\n",
    "        \n",
    "    # function for standardising the datapoints\n",
    "    def data_standardise(self,X):\n",
    "        sc = StandardScaler()\n",
    "        return sc.fit_transform(X)\n",
    "    \n",
    "    # function for getting neigbouring point of a given all datapoints\n",
    "    def epsilon_neighbour(self, data):\n",
    "        \n",
    "        points = []\n",
    "        for i in range(len(data)):\n",
    "            temp = []\n",
    "            for j in range(len(data)):\n",
    "                if linalg.norm(data[i,:]-data[j,:]) <= self.Eps:\n",
    "                    temp.append(j)\n",
    "            points.append(temp)\n",
    "        \n",
    "        return points\n",
    "    \n",
    "\n",
    "\n",
    "        "
   ]
  },
  {
   "cell_type": "markdown",
   "id": "0bca5589",
   "metadata": {},
   "source": [
    "###### Import give dataset"
   ]
  },
  {
   "cell_type": "code",
   "execution_count": 199,
   "id": "f9f05305",
   "metadata": {},
   "outputs": [
    {
     "data": {
      "text/html": [
       "<div>\n",
       "<style scoped>\n",
       "    .dataframe tbody tr th:only-of-type {\n",
       "        vertical-align: middle;\n",
       "    }\n",
       "\n",
       "    .dataframe tbody tr th {\n",
       "        vertical-align: top;\n",
       "    }\n",
       "\n",
       "    .dataframe thead th {\n",
       "        text-align: right;\n",
       "    }\n",
       "</style>\n",
       "<table border=\"1\" class=\"dataframe\">\n",
       "  <thead>\n",
       "    <tr style=\"text-align: right;\">\n",
       "      <th></th>\n",
       "      <th>x1</th>\n",
       "      <th>x2</th>\n",
       "    </tr>\n",
       "  </thead>\n",
       "  <tbody>\n",
       "    <tr>\n",
       "      <th>0</th>\n",
       "      <td>100.369485</td>\n",
       "      <td>91.723728</td>\n",
       "    </tr>\n",
       "    <tr>\n",
       "      <th>1</th>\n",
       "      <td>118.670830</td>\n",
       "      <td>49.404950</td>\n",
       "    </tr>\n",
       "    <tr>\n",
       "      <th>2</th>\n",
       "      <td>106.303971</td>\n",
       "      <td>54.869194</td>\n",
       "    </tr>\n",
       "    <tr>\n",
       "      <th>3</th>\n",
       "      <td>99.937150</td>\n",
       "      <td>91.353868</td>\n",
       "    </tr>\n",
       "    <tr>\n",
       "      <th>4</th>\n",
       "      <td>86.602028</td>\n",
       "      <td>84.495519</td>\n",
       "    </tr>\n",
       "    <tr>\n",
       "      <th>...</th>\n",
       "      <td>...</td>\n",
       "      <td>...</td>\n",
       "    </tr>\n",
       "    <tr>\n",
       "      <th>535</th>\n",
       "      <td>125.904297</td>\n",
       "      <td>-33.664439</td>\n",
       "    </tr>\n",
       "    <tr>\n",
       "      <th>536</th>\n",
       "      <td>54.016283</td>\n",
       "      <td>-10.302560</td>\n",
       "    </tr>\n",
       "    <tr>\n",
       "      <th>537</th>\n",
       "      <td>-43.867790</td>\n",
       "      <td>96.264202</td>\n",
       "    </tr>\n",
       "    <tr>\n",
       "      <th>538</th>\n",
       "      <td>-5.117278</td>\n",
       "      <td>45.919416</td>\n",
       "    </tr>\n",
       "    <tr>\n",
       "      <th>539</th>\n",
       "      <td>140.735139</td>\n",
       "      <td>28.101669</td>\n",
       "    </tr>\n",
       "  </tbody>\n",
       "</table>\n",
       "<p>540 rows × 2 columns</p>\n",
       "</div>"
      ],
      "text/plain": [
       "             x1         x2\n",
       "0    100.369485  91.723728\n",
       "1    118.670830  49.404950\n",
       "2    106.303971  54.869194\n",
       "3     99.937150  91.353868\n",
       "4     86.602028  84.495519\n",
       "..          ...        ...\n",
       "535  125.904297 -33.664439\n",
       "536   54.016283 -10.302560\n",
       "537  -43.867790  96.264202\n",
       "538   -5.117278  45.919416\n",
       "539  140.735139  28.101669\n",
       "\n",
       "[540 rows x 2 columns]"
      ]
     },
     "execution_count": 199,
     "metadata": {},
     "output_type": "execute_result"
    }
   ],
   "source": [
    "#read the dataset\n",
    "data = pd.read_csv('dbscan.csv')\n",
    "data.columns = ['x1','x2']\n",
    "data"
   ]
  },
  {
   "cell_type": "code",
   "execution_count": 163,
   "id": "bbd42a98",
   "metadata": {},
   "outputs": [
    {
     "data": {
      "image/png": "[encoded data removed]",
      "text/plain": [
       "<Figure size 504x360 with 1 Axes>"
      ]
     },
     "metadata": {
      "needs_background": "light"
     },
     "output_type": "display_data"
    }
   ],
   "source": [
    "# Visualising the data\n",
    "plt.figure(figsize=(7,5))\n",
    "plt.scatter(data.loc[:,'x1'], data.loc[:,'x2'])\n",
    "plt.xlabel('x1', size=14)\n",
    "plt.ylabel('x2', size=14)\n",
    "plt.show()"
   ]
  },
  {
   "cell_type": "code",
   "execution_count": null,
   "id": "1e254cf5",
   "metadata": {},
   "outputs": [],
   "source": [
    "# run dbscan on give dataset"
   ]
  },
  {
   "cell_type": "markdown",
   "id": "02b03cb3",
   "metadata": {},
   "source": [
    "###### Part - b"
   ]
  },
  {
   "cell_type": "code",
   "execution_count": 127,
   "id": "73922d24",
   "metadata": {},
   "outputs": [
    {
     "data": {
      "image/png": "[encoded data removed]",
      "text/plain": [
       "<Figure size 504x360 with 1 Axes>"
      ]
     },
     "metadata": {
      "needs_background": "light"
     },
     "output_type": "display_data"
    }
   ],
   "source": [
    "#finding eps and min_samples value\n",
    "#its a two dimentional data so select min_samples = 4\n",
    "\n",
    "\n",
    "#calculate distance of each point to its 4 nerest neightbours using knn\n",
    "neighbors = NearestNeighbors(n_neighbors=4)\n",
    "neighbors_fit = neighbors.fit(data)\n",
    "distances, indices = neighbors_fit.kneighbors(data)\n",
    "\n",
    "#sort the distance in ascending order and get min distance of each point\n",
    "distance = np.sort(distances, axis=0)\n",
    "distance = distance[:,1]\n",
    "\n",
    "#plot the distances\n",
    "plt.figure(figsize=(7,5))\n",
    "plt.plot(distance)\n",
    "plt.xlabel('Data points')\n",
    "plt.ylabel('Min distance')\n",
    "plt.show()"
   ]
  },
  {
   "cell_type": "code",
   "execution_count": null,
   "id": "bd9cb461",
   "metadata": {},
   "outputs": [],
   "source": [
    "# from this we can say that epsilon value taking a diversion from 5 to 12\n",
    "# iterate over epsilon from 5 to 12 \n",
    "# remove data points corresponding good cluster for next iteration"
   ]
  },
  {
   "cell_type": "code",
   "execution_count": 203,
   "id": "bbe56b18",
   "metadata": {},
   "outputs": [
    {
     "ename": "KeyError",
     "evalue": "'labels'",
     "output_type": "error",
     "traceback": [
      "\u001b[1;31m---------------------------------------------------------------------------\u001b[0m",
      "\u001b[1;31mKeyError\u001b[0m                                  Traceback (most recent call last)",
      "\u001b[1;32mc:\\users\\favas\\python\\lib\\site-packages\\pandas\\core\\indexes\\base.py\u001b[0m in \u001b[0;36mget_loc\u001b[1;34m(self, key, method, tolerance)\u001b[0m\n\u001b[0;32m   3360\u001b[0m             \u001b[1;32mtry\u001b[0m\u001b[1;33m:\u001b[0m\u001b[1;33m\u001b[0m\u001b[1;33m\u001b[0m\u001b[0m\n\u001b[1;32m-> 3361\u001b[1;33m                 \u001b[1;32mreturn\u001b[0m \u001b[0mself\u001b[0m\u001b[1;33m.\u001b[0m\u001b[0m_engine\u001b[0m\u001b[1;33m.\u001b[0m\u001b[0mget_loc\u001b[0m\u001b[1;33m(\u001b[0m\u001b[0mcasted_key\u001b[0m\u001b[1;33m)\u001b[0m\u001b[1;33m\u001b[0m\u001b[1;33m\u001b[0m\u001b[0m\n\u001b[0m\u001b[0;32m   3362\u001b[0m             \u001b[1;32mexcept\u001b[0m \u001b[0mKeyError\u001b[0m \u001b[1;32mas\u001b[0m \u001b[0merr\u001b[0m\u001b[1;33m:\u001b[0m\u001b[1;33m\u001b[0m\u001b[1;33m\u001b[0m\u001b[0m\n",
      "\u001b[1;32mc:\\users\\favas\\python\\lib\\site-packages\\pandas\\_libs\\index.pyx\u001b[0m in \u001b[0;36mpandas._libs.index.IndexEngine.get_loc\u001b[1;34m()\u001b[0m\n",
      "\u001b[1;32mc:\\users\\favas\\python\\lib\\site-packages\\pandas\\_libs\\index.pyx\u001b[0m in \u001b[0;36mpandas._libs.index.IndexEngine.get_loc\u001b[1;34m()\u001b[0m\n",
      "\u001b[1;32mpandas\\_libs\\hashtable_class_helper.pxi\u001b[0m in \u001b[0;36mpandas._libs.hashtable.PyObjectHashTable.get_item\u001b[1;34m()\u001b[0m\n",
      "\u001b[1;32mpandas\\_libs\\hashtable_class_helper.pxi\u001b[0m in \u001b[0;36mpandas._libs.hashtable.PyObjectHashTable.get_item\u001b[1;34m()\u001b[0m\n",
      "\u001b[1;31mKeyError\u001b[0m: 'labels'",
      "\nThe above exception was the direct cause of the following exception:\n",
      "\u001b[1;31mKeyError\u001b[0m                                  Traceback (most recent call last)",
      "\u001b[1;32m~\\AppData\\Local\\Temp/ipykernel_4476/1165038089.py\u001b[0m in \u001b[0;36m<module>\u001b[1;34m\u001b[0m\n\u001b[0;32m     15\u001b[0m     \u001b[1;32mfor\u001b[0m \u001b[0ml\u001b[0m \u001b[1;32min\u001b[0m \u001b[0munique_labels\u001b[0m\u001b[1;33m:\u001b[0m\u001b[1;33m\u001b[0m\u001b[1;33m\u001b[0m\u001b[0m\n\u001b[0;32m     16\u001b[0m         \u001b[1;32mif\u001b[0m \u001b[0ml\u001b[0m \u001b[1;33m!=\u001b[0m \u001b[1;33m-\u001b[0m\u001b[1;36m1\u001b[0m\u001b[1;33m:\u001b[0m\u001b[1;33m\u001b[0m\u001b[1;33m\u001b[0m\u001b[0m\n\u001b[1;32m---> 17\u001b[1;33m             \u001b[1;32mif\u001b[0m \u001b[0mlen\u001b[0m\u001b[1;33m(\u001b[0m\u001b[0mdata_new\u001b[0m\u001b[1;33m[\u001b[0m\u001b[0mdata_new\u001b[0m\u001b[1;33m[\u001b[0m\u001b[1;34m'labels'\u001b[0m\u001b[1;33m]\u001b[0m\u001b[1;33m==\u001b[0m\u001b[0ml\u001b[0m\u001b[1;33m]\u001b[0m\u001b[1;33m)\u001b[0m \u001b[1;33m<\u001b[0m \u001b[0mmin_count\u001b[0m\u001b[1;33m:\u001b[0m\u001b[1;33m\u001b[0m\u001b[1;33m\u001b[0m\u001b[0m\n\u001b[0m\u001b[0;32m     18\u001b[0m                 \u001b[0mdata_new\u001b[0m\u001b[1;33m[\u001b[0m\u001b[0mdata_new\u001b[0m\u001b[1;33m[\u001b[0m\u001b[1;34m'labels'\u001b[0m\u001b[1;33m]\u001b[0m\u001b[1;33m==\u001b[0m\u001b[0ml\u001b[0m\u001b[1;33m]\u001b[0m\u001b[1;33m[\u001b[0m\u001b[1;34m'labels'\u001b[0m\u001b[1;33m]\u001b[0m \u001b[1;33m=\u001b[0m \u001b[1;33m-\u001b[0m\u001b[1;36m1\u001b[0m\u001b[1;33m\u001b[0m\u001b[1;33m\u001b[0m\u001b[0m\n\u001b[0;32m     19\u001b[0m             \u001b[1;32melse\u001b[0m\u001b[1;33m:\u001b[0m\u001b[1;33m\u001b[0m\u001b[1;33m\u001b[0m\u001b[0m\n",
      "\u001b[1;32mc:\\users\\favas\\python\\lib\\site-packages\\pandas\\core\\frame.py\u001b[0m in \u001b[0;36m__getitem__\u001b[1;34m(self, key)\u001b[0m\n\u001b[0;32m   3453\u001b[0m             \u001b[1;32mif\u001b[0m \u001b[0mself\u001b[0m\u001b[1;33m.\u001b[0m\u001b[0mcolumns\u001b[0m\u001b[1;33m.\u001b[0m\u001b[0mnlevels\u001b[0m \u001b[1;33m>\u001b[0m \u001b[1;36m1\u001b[0m\u001b[1;33m:\u001b[0m\u001b[1;33m\u001b[0m\u001b[1;33m\u001b[0m\u001b[0m\n\u001b[0;32m   3454\u001b[0m                 \u001b[1;32mreturn\u001b[0m \u001b[0mself\u001b[0m\u001b[1;33m.\u001b[0m\u001b[0m_getitem_multilevel\u001b[0m\u001b[1;33m(\u001b[0m\u001b[0mkey\u001b[0m\u001b[1;33m)\u001b[0m\u001b[1;33m\u001b[0m\u001b[1;33m\u001b[0m\u001b[0m\n\u001b[1;32m-> 3455\u001b[1;33m             \u001b[0mindexer\u001b[0m \u001b[1;33m=\u001b[0m \u001b[0mself\u001b[0m\u001b[1;33m.\u001b[0m\u001b[0mcolumns\u001b[0m\u001b[1;33m.\u001b[0m\u001b[0mget_loc\u001b[0m\u001b[1;33m(\u001b[0m\u001b[0mkey\u001b[0m\u001b[1;33m)\u001b[0m\u001b[1;33m\u001b[0m\u001b[1;33m\u001b[0m\u001b[0m\n\u001b[0m\u001b[0;32m   3456\u001b[0m             \u001b[1;32mif\u001b[0m \u001b[0mis_integer\u001b[0m\u001b[1;33m(\u001b[0m\u001b[0mindexer\u001b[0m\u001b[1;33m)\u001b[0m\u001b[1;33m:\u001b[0m\u001b[1;33m\u001b[0m\u001b[1;33m\u001b[0m\u001b[0m\n\u001b[0;32m   3457\u001b[0m                 \u001b[0mindexer\u001b[0m \u001b[1;33m=\u001b[0m \u001b[1;33m[\u001b[0m\u001b[0mindexer\u001b[0m\u001b[1;33m]\u001b[0m\u001b[1;33m\u001b[0m\u001b[1;33m\u001b[0m\u001b[0m\n",
      "\u001b[1;32mc:\\users\\favas\\python\\lib\\site-packages\\pandas\\core\\indexes\\base.py\u001b[0m in \u001b[0;36mget_loc\u001b[1;34m(self, key, method, tolerance)\u001b[0m\n\u001b[0;32m   3361\u001b[0m                 \u001b[1;32mreturn\u001b[0m \u001b[0mself\u001b[0m\u001b[1;33m.\u001b[0m\u001b[0m_engine\u001b[0m\u001b[1;33m.\u001b[0m\u001b[0mget_loc\u001b[0m\u001b[1;33m(\u001b[0m\u001b[0mcasted_key\u001b[0m\u001b[1;33m)\u001b[0m\u001b[1;33m\u001b[0m\u001b[1;33m\u001b[0m\u001b[0m\n\u001b[0;32m   3362\u001b[0m             \u001b[1;32mexcept\u001b[0m \u001b[0mKeyError\u001b[0m \u001b[1;32mas\u001b[0m \u001b[0merr\u001b[0m\u001b[1;33m:\u001b[0m\u001b[1;33m\u001b[0m\u001b[1;33m\u001b[0m\u001b[0m\n\u001b[1;32m-> 3363\u001b[1;33m                 \u001b[1;32mraise\u001b[0m \u001b[0mKeyError\u001b[0m\u001b[1;33m(\u001b[0m\u001b[0mkey\u001b[0m\u001b[1;33m)\u001b[0m \u001b[1;32mfrom\u001b[0m \u001b[0merr\u001b[0m\u001b[1;33m\u001b[0m\u001b[1;33m\u001b[0m\u001b[0m\n\u001b[0m\u001b[0;32m   3364\u001b[0m \u001b[1;33m\u001b[0m\u001b[0m\n\u001b[0;32m   3365\u001b[0m         \u001b[1;32mif\u001b[0m \u001b[0mis_scalar\u001b[0m\u001b[1;33m(\u001b[0m\u001b[0mkey\u001b[0m\u001b[1;33m)\u001b[0m \u001b[1;32mand\u001b[0m \u001b[0misna\u001b[0m\u001b[1;33m(\u001b[0m\u001b[0mkey\u001b[0m\u001b[1;33m)\u001b[0m \u001b[1;32mand\u001b[0m \u001b[1;32mnot\u001b[0m \u001b[0mself\u001b[0m\u001b[1;33m.\u001b[0m\u001b[0mhasnans\u001b[0m\u001b[1;33m:\u001b[0m\u001b[1;33m\u001b[0m\u001b[1;33m\u001b[0m\u001b[0m\n",
      "\u001b[1;31mKeyError\u001b[0m: 'labels'"
     ]
    }
   ],
   "source": [
    "epsilon = [5,6,7,8,9,10,11,12]                              # list of epsilon get from elbow method\n",
    "min_count = 20                                              #set a minimum count per cluster get an idea from visualization\n",
    "clusters_no = ['c1', 'c2','c3','c4','c5','c6','c7']\n",
    "i = 0\n",
    "data_new = data\n",
    "\n",
    "for eps in epsilon:\n",
    "    dbscan = DBSCAN(eps=eps, min_samples=4) #initilize dbscan model\n",
    "    dbscan.fit(data_new)                        #fit the model\n",
    "    labels = dbscan.labels_                 #labels of each data point\n",
    "    \n",
    "    unique_labels = set(labels)\n",
    "    \n",
    "    \n",
    "    for l in unique_labels:\n",
    "        if l != -1:\n",
    "            if len(data_new[data_new['labels']==l]) < min_count:\n",
    "                data_new[data_new['labels']==l]['labels'] = -1\n",
    "            else:\n",
    "                data_new[data_new['labels']==l]['labels'] = cluster_no[i]\n",
    "                i = i+1\n",
    "    \n",
    "    data = data.append(data_new[data_new['labels']==cluster_no[i-1]])\n",
    "    data_new = data_new[data_new['labels'] != 1]             #next set of pionts\n",
    "                    "
   ]
  },
  {
   "cell_type": "code",
   "execution_count": null,
   "id": "71f9a344",
   "metadata": {},
   "outputs": [],
   "source": [
    "# clustering with some arbitary values"
   ]
  },
  {
   "cell_type": "code",
   "execution_count": 196,
   "id": "6db6b4b6",
   "metadata": {},
   "outputs": [
    {
     "data": {
      "text/plain": [
       "{-1, 0, 1, 2, 3, 4}"
      ]
     },
     "execution_count": 196,
     "metadata": {},
     "output_type": "execute_result"
    }
   ],
   "source": [
    "dbscan = DBSCAN(eps=12, min_samples=12) #initilize dbscan model\n",
    "dbscan.fit(data_new)                        #fit the model\n",
    "labels = dbscan.labels_                 #labels of each data point\n",
    "data['labels']  = labels \n",
    "set(labels)"
   ]
  },
  {
   "cell_type": "code",
   "execution_count": 197,
   "id": "0226950b",
   "metadata": {},
   "outputs": [
    {
     "data": {
      "image/png": "[encoded data removed]",
      "text/plain": [
       "<Figure size 504x360 with 1 Axes>"
      ]
     },
     "metadata": {
      "needs_background": "light"
     },
     "output_type": "display_data"
    }
   ],
   "source": [
    "#plot the clusters\n",
    "plt.figure(figsize=(7,5))\n",
    "plt.scatter(data[data['labels']==-1].x1, data[data['labels']==-1].x2, color= 'black')\n",
    "plt.scatter(data[data['labels']==0].x1, data[data['labels']==0].x2, color= 'blue')\n",
    "plt.scatter(data[data['labels']==1].x1, data[data['labels']==1].x2, color= 'orange')\n",
    "plt.scatter(data[data['labels']==2].x1, data[data['labels']==2].x2, color= 'lightgreen')\n",
    "plt.scatter(data[data['labels']==3].x1, data[data['labels']==3].x2, color= 'red')\n",
    "plt.scatter(data[data['labels']==4].x1, data[data['labels']==4].x2, color= 'yellow')\n",
    "\n",
    "plt.xlabel('x1')\n",
    "plt.ylabel('x2')\n",
    "plt.show()"
   ]
  },
  {
   "cell_type": "code",
   "execution_count": null,
   "id": "e2803262",
   "metadata": {},
   "outputs": [],
   "source": [
    "# iterate over epsilon and min points\n",
    "epsilon = [9,10,11,12,13,14]   \n",
    "min_poins = [9,10,11,12,13,14]"
   ]
  }
 ],
 "metadata": {
  "kernelspec": {
   "display_name": "Python 3 (ipykernel)",
   "language": "python",
   "name": "python3"
  },
  "language_info": {
   "codemirror_mode": {
    "name": "ipython",
    "version": 3
   },
   "file_extension": ".py",
   "mimetype": "text/x-python",
   "name": "python",
   "nbconvert_exporter": "python",
   "pygments_lexer": "ipython3",
   "version": "3.9.6"
  }
 },
 "nbformat": 4,
 "nbformat_minor": 5
}
