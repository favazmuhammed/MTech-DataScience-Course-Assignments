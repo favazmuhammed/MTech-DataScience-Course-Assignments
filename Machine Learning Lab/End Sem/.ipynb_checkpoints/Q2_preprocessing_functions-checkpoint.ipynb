{
 "cells": [
  {
   "cell_type": "code",
   "execution_count": null,
   "metadata": {
    "id": "FBxPJxm8OCqK"
   },
   "outputs": [],
   "source": [
    "import string\n",
    "import nltk\n",
    "from nltk.corpus import wordnet\n",
    "from nltk.tokenize import sent_tokenize, word_tokenize\n",
    "from nltk.corpus import stopwords\n",
    "\n",
    "# creating a string consisting of punctuations\n",
    "punctuations = string.punctuation\n",
    "\n",
    "# creating a set of stopwords\n",
    "stop_words = set(stopwords.words(\"english\"))\n",
    "\n",
    "# function removing the stopwards from comments\n",
    "def remove_stop_words(words):\n",
    "    return [w for w in words if not w in stop_words]\n",
    "\n",
    "# function removing words having length less than 2\n",
    "def remove_empty(words):\n",
    "    return [w for w in words if not len(w.strip())<2]\n",
    "\n",
    "# function converting uppercase to lowercase in comments\n",
    "def words_to_lowercase(words):\n",
    "    return [w.lower() for w in words]\n",
    "\n",
    "\n",
    "# functions removing punctuations from the comments\n",
    "def remove_punctuation_from_word(word):\n",
    "    return ''.join(c for c in word if c not in punctuations)\n",
    "def remove_punctuation_from_words(words):\n",
    "    return [remove_punctuation_from_word(w) for w in words]\n",
    "\n",
    "# use this to create text from words after all preprocessing done\n",
    "def add(words):\n",
    "    text=' '.join(words)\n",
    "    return text"
   ]
  },
  {
   "cell_type": "code",
   "execution_count": null,
   "metadata": {
    "id": "iXFA9IpqOFUW"
   },
   "outputs": [],
   "source": [
    "## to convert text to words use \"word_tokenize\" from nltk.tokenize then apply the preprocessing function given above"
   ]
  }
 ],
 "metadata": {
  "colab": {
   "collapsed_sections": [],
   "name": "preprocessing_functions.ipynb",
   "provenance": []
  },
  "kernelspec": {
   "display_name": "Python 3 (ipykernel)",
   "language": "python",
   "name": "python3"
  },
  "language_info": {
   "codemirror_mode": {
    "name": "ipython",
    "version": 3
   },
   "file_extension": ".py",
   "mimetype": "text/x-python",
   "name": "python",
   "nbconvert_exporter": "python",
   "pygments_lexer": "ipython3",
   "version": "3.9.6"
  }
 },
 "nbformat": 4,
 "nbformat_minor": 1
}
