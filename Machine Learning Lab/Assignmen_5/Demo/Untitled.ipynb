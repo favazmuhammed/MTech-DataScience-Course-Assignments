{
 "cells": [
  {
   "cell_type": "code",
   "execution_count": 1,
   "id": "147bc78b",
   "metadata": {},
   "outputs": [
    {
     "data": {
      "text/plain": [
       "[0, 0, 0, 0, 0, 0, 0, 0, 0, 0, 0, 1, 1, 1, 1, 1, 1, 1, 1, 1, 1, 1, 1]"
      ]
     },
     "execution_count": 1,
     "metadata": {},
     "output_type": "execute_result"
    }
   ],
   "source": [
    "Y = [0] * 11 + [1] * 12\n",
    "Y"
   ]
  },
  {
   "cell_type": "code",
   "execution_count": 2,
   "id": "16bd9a36",
   "metadata": {},
   "outputs": [
    {
     "data": {
      "text/plain": [
       "{'gamma': [0.1, 1, 10.0], 'C': [0.01, 0.1, 1, 10.0, 100.0]}"
      ]
     },
     "execution_count": 2,
     "metadata": {},
     "output_type": "execute_result"
    }
   ],
   "source": [
    "C_range = [1e-2, 1e-1, 1, 1e1, 1e2]\n",
    "gamma_range = [1e-1, 1, 1e1]\n",
    "param_grid = dict(gamma=gamma_range, C=C_range)\n",
    "param_grid "
   ]
  },
  {
   "cell_type": "code",
   "execution_count": null,
   "id": "ea0d94d6",
   "metadata": {},
   "outputs": [],
   "source": []
  }
 ],
 "metadata": {
  "kernelspec": {
   "display_name": "Python 3 (ipykernel)",
   "language": "python",
   "name": "python3"
  },
  "language_info": {
   "codemirror_mode": {
    "name": "ipython",
    "version": 3
   },
   "file_extension": ".py",
   "mimetype": "text/x-python",
   "name": "python",
   "nbconvert_exporter": "python",
   "pygments_lexer": "ipython3",
   "version": "3.9.6"
  }
 },
 "nbformat": 4,
 "nbformat_minor": 5
}
