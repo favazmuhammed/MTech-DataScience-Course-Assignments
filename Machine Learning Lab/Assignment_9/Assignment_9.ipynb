{
 "cells": [
  {
   "cell_type": "code",
   "execution_count": 12,
   "id": "c5173133",
   "metadata": {},
   "outputs": [],
   "source": [
    "import pandas as pd\n",
    "import numpy as np\n",
    "import matplotlib.pyplot as plt\n",
    "from sklearn.tree import DecisionTreeClassifier\n",
    "from sklearn.model_selection import GridSearchCV"
   ]
  },
  {
   "cell_type": "code",
   "execution_count": 15,
   "id": "e751d95a",
   "metadata": {},
   "outputs": [
    {
     "data": {
      "text/html": [
       "<div>\n",
       "<style scoped>\n",
       "    .dataframe tbody tr th:only-of-type {\n",
       "        vertical-align: middle;\n",
       "    }\n",
       "\n",
       "    .dataframe tbody tr th {\n",
       "        vertical-align: top;\n",
       "    }\n",
       "\n",
       "    .dataframe thead th {\n",
       "        text-align: right;\n",
       "    }\n",
       "</style>\n",
       "<table border=\"1\" class=\"dataframe\">\n",
       "  <thead>\n",
       "    <tr style=\"text-align: right;\">\n",
       "      <th></th>\n",
       "      <th>0</th>\n",
       "      <th>1</th>\n",
       "      <th>2</th>\n",
       "      <th>3</th>\n",
       "      <th>4</th>\n",
       "      <th>5</th>\n",
       "      <th>6</th>\n",
       "      <th>7</th>\n",
       "      <th>8</th>\n",
       "      <th>9</th>\n",
       "      <th>...</th>\n",
       "      <th>38</th>\n",
       "      <th>39</th>\n",
       "      <th>40</th>\n",
       "      <th>41</th>\n",
       "      <th>42</th>\n",
       "      <th>43</th>\n",
       "      <th>44</th>\n",
       "      <th>45</th>\n",
       "      <th>46</th>\n",
       "      <th>47</th>\n",
       "    </tr>\n",
       "  </thead>\n",
       "  <tbody>\n",
       "    <tr>\n",
       "      <th>count</th>\n",
       "      <td>8507.000000</td>\n",
       "      <td>8507.000000</td>\n",
       "      <td>8507.000000</td>\n",
       "      <td>8.507000e+03</td>\n",
       "      <td>8507.000000</td>\n",
       "      <td>8507.000000</td>\n",
       "      <td>8507.000000</td>\n",
       "      <td>8507.000000</td>\n",
       "      <td>8507.000000</td>\n",
       "      <td>8507.000000</td>\n",
       "      <td>...</td>\n",
       "      <td>8507.000000</td>\n",
       "      <td>8507.000000</td>\n",
       "      <td>8507.000000</td>\n",
       "      <td>8507.000000</td>\n",
       "      <td>8507.000000</td>\n",
       "      <td>8507.000000</td>\n",
       "      <td>8507.000000</td>\n",
       "      <td>8507.000000</td>\n",
       "      <td>8507.000000</td>\n",
       "      <td>8507.000000</td>\n",
       "    </tr>\n",
       "    <tr>\n",
       "      <th>mean</th>\n",
       "      <td>-0.000001</td>\n",
       "      <td>0.000007</td>\n",
       "      <td>0.000015</td>\n",
       "      <td>-8.104282e-07</td>\n",
       "      <td>0.000010</td>\n",
       "      <td>0.000011</td>\n",
       "      <td>0.015471</td>\n",
       "      <td>0.015463</td>\n",
       "      <td>0.015448</td>\n",
       "      <td>-0.016507</td>\n",
       "      <td>...</td>\n",
       "      <td>8.297015</td>\n",
       "      <td>-0.635826</td>\n",
       "      <td>7.031227</td>\n",
       "      <td>8.142438</td>\n",
       "      <td>-1.501420</td>\n",
       "      <td>-1.501451</td>\n",
       "      <td>-1.501339</td>\n",
       "      <td>-1.497626</td>\n",
       "      <td>-1.497649</td>\n",
       "      <td>-1.497529</td>\n",
       "    </tr>\n",
       "    <tr>\n",
       "      <th>std</th>\n",
       "      <td>0.000064</td>\n",
       "      <td>0.000069</td>\n",
       "      <td>0.000230</td>\n",
       "      <td>8.580479e-06</td>\n",
       "      <td>0.000038</td>\n",
       "      <td>0.000217</td>\n",
       "      <td>0.015712</td>\n",
       "      <td>0.015715</td>\n",
       "      <td>0.015722</td>\n",
       "      <td>0.027911</td>\n",
       "      <td>...</td>\n",
       "      <td>6.660245</td>\n",
       "      <td>1.607126</td>\n",
       "      <td>11.689025</td>\n",
       "      <td>6.417985</td>\n",
       "      <td>0.003717</td>\n",
       "      <td>0.003720</td>\n",
       "      <td>0.003670</td>\n",
       "      <td>0.002998</td>\n",
       "      <td>0.002996</td>\n",
       "      <td>0.003015</td>\n",
       "    </tr>\n",
       "    <tr>\n",
       "      <th>min</th>\n",
       "      <td>-0.000678</td>\n",
       "      <td>-0.002163</td>\n",
       "      <td>-0.002209</td>\n",
       "      <td>-4.170000e-05</td>\n",
       "      <td>-0.000260</td>\n",
       "      <td>-0.001626</td>\n",
       "      <td>-0.055309</td>\n",
       "      <td>-0.055316</td>\n",
       "      <td>-0.055328</td>\n",
       "      <td>-0.061243</td>\n",
       "      <td>...</td>\n",
       "      <td>0.712110</td>\n",
       "      <td>-0.891000</td>\n",
       "      <td>-0.535610</td>\n",
       "      <td>0.606140</td>\n",
       "      <td>-1.512400</td>\n",
       "      <td>-1.512400</td>\n",
       "      <td>-1.511800</td>\n",
       "      <td>-1.510400</td>\n",
       "      <td>-1.510400</td>\n",
       "      <td>-1.510500</td>\n",
       "    </tr>\n",
       "    <tr>\n",
       "      <th>25%</th>\n",
       "      <td>-0.000006</td>\n",
       "      <td>-0.000007</td>\n",
       "      <td>-0.000065</td>\n",
       "      <td>-5.435000e-06</td>\n",
       "      <td>-0.000006</td>\n",
       "      <td>-0.000065</td>\n",
       "      <td>0.012665</td>\n",
       "      <td>0.012656</td>\n",
       "      <td>0.012658</td>\n",
       "      <td>-0.035379</td>\n",
       "      <td>...</td>\n",
       "      <td>4.409750</td>\n",
       "      <td>-0.717045</td>\n",
       "      <td>1.500250</td>\n",
       "      <td>4.322250</td>\n",
       "      <td>-1.504100</td>\n",
       "      <td>-1.504100</td>\n",
       "      <td>-1.504000</td>\n",
       "      <td>-1.499400</td>\n",
       "      <td>-1.499400</td>\n",
       "      <td>-1.499300</td>\n",
       "    </tr>\n",
       "    <tr>\n",
       "      <th>50%</th>\n",
       "      <td>-0.000002</td>\n",
       "      <td>0.000004</td>\n",
       "      <td>0.000003</td>\n",
       "      <td>-1.740000e-06</td>\n",
       "      <td>0.000004</td>\n",
       "      <td>0.000002</td>\n",
       "      <td>0.019684</td>\n",
       "      <td>0.019680</td>\n",
       "      <td>0.019674</td>\n",
       "      <td>-0.028206</td>\n",
       "      <td>...</td>\n",
       "      <td>6.496200</td>\n",
       "      <td>-0.668240</td>\n",
       "      <td>3.235400</td>\n",
       "      <td>6.343600</td>\n",
       "      <td>-1.500800</td>\n",
       "      <td>-1.500800</td>\n",
       "      <td>-1.500700</td>\n",
       "      <td>-1.497900</td>\n",
       "      <td>-1.497900</td>\n",
       "      <td>-1.497800</td>\n",
       "    </tr>\n",
       "    <tr>\n",
       "      <th>75%</th>\n",
       "      <td>0.000002</td>\n",
       "      <td>0.000026</td>\n",
       "      <td>0.000089</td>\n",
       "      <td>3.790000e-06</td>\n",
       "      <td>0.000029</td>\n",
       "      <td>0.000078</td>\n",
       "      <td>0.025535</td>\n",
       "      <td>0.025531</td>\n",
       "      <td>0.025518</td>\n",
       "      <td>0.004998</td>\n",
       "      <td>...</td>\n",
       "      <td>9.822150</td>\n",
       "      <td>-0.578400</td>\n",
       "      <td>7.891750</td>\n",
       "      <td>9.731400</td>\n",
       "      <td>-1.498500</td>\n",
       "      <td>-1.498500</td>\n",
       "      <td>-1.498500</td>\n",
       "      <td>-1.496100</td>\n",
       "      <td>-1.496100</td>\n",
       "      <td>-1.496000</td>\n",
       "    </tr>\n",
       "    <tr>\n",
       "      <th>max</th>\n",
       "      <td>0.005784</td>\n",
       "      <td>0.004525</td>\n",
       "      <td>0.003330</td>\n",
       "      <td>7.080000e-05</td>\n",
       "      <td>0.000348</td>\n",
       "      <td>0.001982</td>\n",
       "      <td>0.046324</td>\n",
       "      <td>0.046319</td>\n",
       "      <td>0.046329</td>\n",
       "      <td>0.071934</td>\n",
       "      <td>...</td>\n",
       "      <td>89.372000</td>\n",
       "      <td>146.340000</td>\n",
       "      <td>145.860000</td>\n",
       "      <td>98.758000</td>\n",
       "      <td>-1.458500</td>\n",
       "      <td>-1.466200</td>\n",
       "      <td>-1.472600</td>\n",
       "      <td>-1.488400</td>\n",
       "      <td>-1.488400</td>\n",
       "      <td>-1.486800</td>\n",
       "    </tr>\n",
       "  </tbody>\n",
       "</table>\n",
       "<p>8 rows × 48 columns</p>\n",
       "</div>"
      ],
      "text/plain": [
       "                 0            1            2             3            4  \\\n",
       "count  8507.000000  8507.000000  8507.000000  8.507000e+03  8507.000000   \n",
       "mean     -0.000001     0.000007     0.000015 -8.104282e-07     0.000010   \n",
       "std       0.000064     0.000069     0.000230  8.580479e-06     0.000038   \n",
       "min      -0.000678    -0.002163    -0.002209 -4.170000e-05    -0.000260   \n",
       "25%      -0.000006    -0.000007    -0.000065 -5.435000e-06    -0.000006   \n",
       "50%      -0.000002     0.000004     0.000003 -1.740000e-06     0.000004   \n",
       "75%       0.000002     0.000026     0.000089  3.790000e-06     0.000029   \n",
       "max       0.005784     0.004525     0.003330  7.080000e-05     0.000348   \n",
       "\n",
       "                 5            6            7            8            9  ...  \\\n",
       "count  8507.000000  8507.000000  8507.000000  8507.000000  8507.000000  ...   \n",
       "mean      0.000011     0.015471     0.015463     0.015448    -0.016507  ...   \n",
       "std       0.000217     0.015712     0.015715     0.015722     0.027911  ...   \n",
       "min      -0.001626    -0.055309    -0.055316    -0.055328    -0.061243  ...   \n",
       "25%      -0.000065     0.012665     0.012656     0.012658    -0.035379  ...   \n",
       "50%       0.000002     0.019684     0.019680     0.019674    -0.028206  ...   \n",
       "75%       0.000078     0.025535     0.025531     0.025518     0.004998  ...   \n",
       "max       0.001982     0.046324     0.046319     0.046329     0.071934  ...   \n",
       "\n",
       "                38           39           40           41           42  \\\n",
       "count  8507.000000  8507.000000  8507.000000  8507.000000  8507.000000   \n",
       "mean      8.297015    -0.635826     7.031227     8.142438    -1.501420   \n",
       "std       6.660245     1.607126    11.689025     6.417985     0.003717   \n",
       "min       0.712110    -0.891000    -0.535610     0.606140    -1.512400   \n",
       "25%       4.409750    -0.717045     1.500250     4.322250    -1.504100   \n",
       "50%       6.496200    -0.668240     3.235400     6.343600    -1.500800   \n",
       "75%       9.822150    -0.578400     7.891750     9.731400    -1.498500   \n",
       "max      89.372000   146.340000   145.860000    98.758000    -1.458500   \n",
       "\n",
       "                43           44           45           46           47  \n",
       "count  8507.000000  8507.000000  8507.000000  8507.000000  8507.000000  \n",
       "mean     -1.501451    -1.501339    -1.497626    -1.497649    -1.497529  \n",
       "std       0.003720     0.003670     0.002998     0.002996     0.003015  \n",
       "min      -1.512400    -1.511800    -1.510400    -1.510400    -1.510500  \n",
       "25%      -1.504100    -1.504000    -1.499400    -1.499400    -1.499300  \n",
       "50%      -1.500800    -1.500700    -1.497900    -1.497900    -1.497800  \n",
       "75%      -1.498500    -1.498500    -1.496100    -1.496100    -1.496000  \n",
       "max      -1.466200    -1.472600    -1.488400    -1.488400    -1.486800  \n",
       "\n",
       "[8 rows x 48 columns]"
      ]
     },
     "execution_count": 15,
     "metadata": {},
     "output_type": "execute_result"
    }
   ],
   "source": [
    "data = pd.read_csv('train.csv')\n",
    "data.describe()\n",
    "#description.iloc[2,:]"
   ]
  },
  {
   "cell_type": "code",
   "execution_count": 3,
   "id": "626947b1",
   "metadata": {},
   "outputs": [
    {
     "data": {
      "text/plain": [
       "(8507, 4268)"
      ]
     },
     "execution_count": 3,
     "metadata": {},
     "output_type": "execute_result"
    }
   ],
   "source": [
    "len(data), len(data[data.iloc[:,48]=='n'])"
   ]
  },
  {
   "cell_type": "code",
   "execution_count": 4,
   "id": "7a21c875",
   "metadata": {},
   "outputs": [
    {
     "data": {
      "text/plain": [
       "(853, 413, 651, 1253, 1069)"
      ]
     },
     "execution_count": 4,
     "metadata": {},
     "output_type": "execute_result"
    }
   ],
   "source": [
    "len(data[data.iloc[:,48]=='p1']), len(data[data.iloc[:,48]=='p2']),len(data[data.iloc[:,48]=='p3']),len(data[data.iloc[:,48]=='p4']),len(data[data.iloc[:,48]=='p5'])"
   ]
  },
  {
   "cell_type": "code",
   "execution_count": 19,
   "id": "24c5f061",
   "metadata": {},
   "outputs": [
    {
     "data": {
      "text/html": [
       "<div>\n",
       "<style scoped>\n",
       "    .dataframe tbody tr th:only-of-type {\n",
       "        vertical-align: middle;\n",
       "    }\n",
       "\n",
       "    .dataframe tbody tr th {\n",
       "        vertical-align: top;\n",
       "    }\n",
       "\n",
       "    .dataframe thead th {\n",
       "        text-align: right;\n",
       "    }\n",
       "</style>\n",
       "<table border=\"1\" class=\"dataframe\">\n",
       "  <thead>\n",
       "    <tr style=\"text-align: right;\">\n",
       "      <th></th>\n",
       "      <th>0</th>\n",
       "      <th>1</th>\n",
       "      <th>2</th>\n",
       "      <th>3</th>\n",
       "      <th>4</th>\n",
       "      <th>5</th>\n",
       "      <th>6</th>\n",
       "      <th>7</th>\n",
       "      <th>8</th>\n",
       "      <th>9</th>\n",
       "      <th>...</th>\n",
       "      <th>39</th>\n",
       "      <th>40</th>\n",
       "      <th>41</th>\n",
       "      <th>42</th>\n",
       "      <th>43</th>\n",
       "      <th>44</th>\n",
       "      <th>45</th>\n",
       "      <th>46</th>\n",
       "      <th>47</th>\n",
       "      <th>48</th>\n",
       "    </tr>\n",
       "  </thead>\n",
       "  <tbody>\n",
       "    <tr>\n",
       "      <th>0</th>\n",
       "      <td>-6.190000e-06</td>\n",
       "      <td>-0.000037</td>\n",
       "      <td>0.000070</td>\n",
       "      <td>-2.560000e-05</td>\n",
       "      <td>-0.000041</td>\n",
       "      <td>-0.000116</td>\n",
       "      <td>0.027253</td>\n",
       "      <td>0.027290</td>\n",
       "      <td>0.027220</td>\n",
       "      <td>0.017966</td>\n",
       "      <td>...</td>\n",
       "      <td>-0.69694</td>\n",
       "      <td>1.6505</td>\n",
       "      <td>3.7807</td>\n",
       "      <td>-1.5016</td>\n",
       "      <td>-1.5017</td>\n",
       "      <td>-1.5016</td>\n",
       "      <td>-1.4939</td>\n",
       "      <td>-1.4939</td>\n",
       "      <td>-1.4940</td>\n",
       "      <td>0</td>\n",
       "    </tr>\n",
       "    <tr>\n",
       "      <th>1</th>\n",
       "      <td>-5.080000e-07</td>\n",
       "      <td>-0.000008</td>\n",
       "      <td>-0.000010</td>\n",
       "      <td>-2.900000e-06</td>\n",
       "      <td>-0.000001</td>\n",
       "      <td>0.000046</td>\n",
       "      <td>0.031973</td>\n",
       "      <td>0.031981</td>\n",
       "      <td>0.031992</td>\n",
       "      <td>-0.036266</td>\n",
       "      <td>...</td>\n",
       "      <td>-0.49315</td>\n",
       "      <td>9.1182</td>\n",
       "      <td>15.4610</td>\n",
       "      <td>-1.4980</td>\n",
       "      <td>-1.4980</td>\n",
       "      <td>-1.4980</td>\n",
       "      <td>-1.4978</td>\n",
       "      <td>-1.4978</td>\n",
       "      <td>-1.4978</td>\n",
       "      <td>1</td>\n",
       "    </tr>\n",
       "    <tr>\n",
       "      <th>2</th>\n",
       "      <td>2.950000e-06</td>\n",
       "      <td>0.000036</td>\n",
       "      <td>0.000004</td>\n",
       "      <td>1.580000e-05</td>\n",
       "      <td>0.000098</td>\n",
       "      <td>-0.000337</td>\n",
       "      <td>0.010780</td>\n",
       "      <td>0.010744</td>\n",
       "      <td>0.010740</td>\n",
       "      <td>-0.018368</td>\n",
       "      <td>...</td>\n",
       "      <td>-0.68272</td>\n",
       "      <td>1.8947</td>\n",
       "      <td>5.9028</td>\n",
       "      <td>-1.4970</td>\n",
       "      <td>-1.4971</td>\n",
       "      <td>-1.4972</td>\n",
       "      <td>-1.5038</td>\n",
       "      <td>-1.5039</td>\n",
       "      <td>-1.5036</td>\n",
       "      <td>0</td>\n",
       "    </tr>\n",
       "    <tr>\n",
       "      <th>3</th>\n",
       "      <td>-1.680000e-05</td>\n",
       "      <td>0.000026</td>\n",
       "      <td>0.000518</td>\n",
       "      <td>1.550000e-05</td>\n",
       "      <td>0.000072</td>\n",
       "      <td>0.000032</td>\n",
       "      <td>-0.037939</td>\n",
       "      <td>-0.037965</td>\n",
       "      <td>-0.038483</td>\n",
       "      <td>-0.030257</td>\n",
       "      <td>...</td>\n",
       "      <td>-0.71862</td>\n",
       "      <td>1.9076</td>\n",
       "      <td>5.5017</td>\n",
       "      <td>-1.4962</td>\n",
       "      <td>-1.4963</td>\n",
       "      <td>-1.4960</td>\n",
       "      <td>-1.5020</td>\n",
       "      <td>-1.5021</td>\n",
       "      <td>-1.5017</td>\n",
       "      <td>0</td>\n",
       "    </tr>\n",
       "    <tr>\n",
       "      <th>4</th>\n",
       "      <td>1.610000e-06</td>\n",
       "      <td>0.000018</td>\n",
       "      <td>-0.000156</td>\n",
       "      <td>-9.650000e-07</td>\n",
       "      <td>0.000009</td>\n",
       "      <td>0.000036</td>\n",
       "      <td>0.010411</td>\n",
       "      <td>0.010393</td>\n",
       "      <td>0.010549</td>\n",
       "      <td>-0.014548</td>\n",
       "      <td>...</td>\n",
       "      <td>-0.71715</td>\n",
       "      <td>1.0778</td>\n",
       "      <td>4.9960</td>\n",
       "      <td>-1.5042</td>\n",
       "      <td>-1.5042</td>\n",
       "      <td>-1.5041</td>\n",
       "      <td>-1.4911</td>\n",
       "      <td>-1.4911</td>\n",
       "      <td>-1.4915</td>\n",
       "      <td>0</td>\n",
       "    </tr>\n",
       "  </tbody>\n",
       "</table>\n",
       "<p>5 rows × 49 columns</p>\n",
       "</div>"
      ],
      "text/plain": [
       "              0         1         2             3         4         5  \\\n",
       "0 -6.190000e-06 -0.000037  0.000070 -2.560000e-05 -0.000041 -0.000116   \n",
       "1 -5.080000e-07 -0.000008 -0.000010 -2.900000e-06 -0.000001  0.000046   \n",
       "2  2.950000e-06  0.000036  0.000004  1.580000e-05  0.000098 -0.000337   \n",
       "3 -1.680000e-05  0.000026  0.000518  1.550000e-05  0.000072  0.000032   \n",
       "4  1.610000e-06  0.000018 -0.000156 -9.650000e-07  0.000009  0.000036   \n",
       "\n",
       "          6         7         8         9  ...       39      40       41  \\\n",
       "0  0.027253  0.027290  0.027220  0.017966  ... -0.69694  1.6505   3.7807   \n",
       "1  0.031973  0.031981  0.031992 -0.036266  ... -0.49315  9.1182  15.4610   \n",
       "2  0.010780  0.010744  0.010740 -0.018368  ... -0.68272  1.8947   5.9028   \n",
       "3 -0.037939 -0.037965 -0.038483 -0.030257  ... -0.71862  1.9076   5.5017   \n",
       "4  0.010411  0.010393  0.010549 -0.014548  ... -0.71715  1.0778   4.9960   \n",
       "\n",
       "       42      43      44      45      46      47  48  \n",
       "0 -1.5016 -1.5017 -1.5016 -1.4939 -1.4939 -1.4940   0  \n",
       "1 -1.4980 -1.4980 -1.4980 -1.4978 -1.4978 -1.4978   1  \n",
       "2 -1.4970 -1.4971 -1.4972 -1.5038 -1.5039 -1.5036   0  \n",
       "3 -1.4962 -1.4963 -1.4960 -1.5020 -1.5021 -1.5017   0  \n",
       "4 -1.5042 -1.5042 -1.5041 -1.4911 -1.4911 -1.4915   0  \n",
       "\n",
       "[5 rows x 49 columns]"
      ]
     },
     "execution_count": 19,
     "metadata": {},
     "output_type": "execute_result"
    }
   ],
   "source": [
    "data_binary = data.copy()\n",
    "for i in range(len(data)):\n",
    "    if data_binary.iloc[i,-1] == 'n':\n",
    "        data_binary.iloc[i,-1] = 1\n",
    "    else:\n",
    "        data_binary.iloc[i,-1] = 0\n",
    "\n",
    "data_binary.head()"
   ]
  },
  {
   "cell_type": "code",
   "execution_count": 8,
   "id": "862e8401",
   "metadata": {},
   "outputs": [
    {
     "name": "stderr",
     "output_type": "stream",
     "text": [
      "c:\\users\\favas\\python\\lib\\site-packages\\pandas\\core\\indexing.py:1817: SettingWithCopyWarning: \n",
      "A value is trying to be set on a copy of a slice from a DataFrame.\n",
      "Try using .loc[row_indexer,col_indexer] = value instead\n",
      "\n",
      "See the caveats in the documentation: https://pandas.pydata.org/pandas-docs/stable/user_guide/indexing.html#returning-a-view-versus-a-copy\n",
      "  self._setitem_single_column(loc, value, pi)\n"
     ]
    },
    {
     "data": {
      "text/html": [
       "<div>\n",
       "<style scoped>\n",
       "    .dataframe tbody tr th:only-of-type {\n",
       "        vertical-align: middle;\n",
       "    }\n",
       "\n",
       "    .dataframe tbody tr th {\n",
       "        vertical-align: top;\n",
       "    }\n",
       "\n",
       "    .dataframe thead th {\n",
       "        text-align: right;\n",
       "    }\n",
       "</style>\n",
       "<table border=\"1\" class=\"dataframe\">\n",
       "  <thead>\n",
       "    <tr style=\"text-align: right;\">\n",
       "      <th></th>\n",
       "      <th>0</th>\n",
       "      <th>1</th>\n",
       "      <th>2</th>\n",
       "      <th>3</th>\n",
       "      <th>4</th>\n",
       "      <th>5</th>\n",
       "      <th>6</th>\n",
       "      <th>7</th>\n",
       "      <th>8</th>\n",
       "      <th>9</th>\n",
       "      <th>...</th>\n",
       "      <th>39</th>\n",
       "      <th>40</th>\n",
       "      <th>41</th>\n",
       "      <th>42</th>\n",
       "      <th>43</th>\n",
       "      <th>44</th>\n",
       "      <th>45</th>\n",
       "      <th>46</th>\n",
       "      <th>47</th>\n",
       "      <th>48</th>\n",
       "    </tr>\n",
       "  </thead>\n",
       "  <tbody>\n",
       "    <tr>\n",
       "      <th>0</th>\n",
       "      <td>-0.000006</td>\n",
       "      <td>-0.000037</td>\n",
       "      <td>0.000070</td>\n",
       "      <td>-2.560000e-05</td>\n",
       "      <td>-0.000041</td>\n",
       "      <td>-0.000116</td>\n",
       "      <td>0.027253</td>\n",
       "      <td>0.027290</td>\n",
       "      <td>0.027220</td>\n",
       "      <td>0.017966</td>\n",
       "      <td>...</td>\n",
       "      <td>-0.69694</td>\n",
       "      <td>1.6505</td>\n",
       "      <td>3.7807</td>\n",
       "      <td>-1.5016</td>\n",
       "      <td>-1.5017</td>\n",
       "      <td>-1.5016</td>\n",
       "      <td>-1.4939</td>\n",
       "      <td>-1.4939</td>\n",
       "      <td>-1.4940</td>\n",
       "      <td>4</td>\n",
       "    </tr>\n",
       "    <tr>\n",
       "      <th>2</th>\n",
       "      <td>0.000003</td>\n",
       "      <td>0.000036</td>\n",
       "      <td>0.000004</td>\n",
       "      <td>1.580000e-05</td>\n",
       "      <td>0.000098</td>\n",
       "      <td>-0.000337</td>\n",
       "      <td>0.010780</td>\n",
       "      <td>0.010744</td>\n",
       "      <td>0.010740</td>\n",
       "      <td>-0.018368</td>\n",
       "      <td>...</td>\n",
       "      <td>-0.68272</td>\n",
       "      <td>1.8947</td>\n",
       "      <td>5.9028</td>\n",
       "      <td>-1.4970</td>\n",
       "      <td>-1.4971</td>\n",
       "      <td>-1.4972</td>\n",
       "      <td>-1.5038</td>\n",
       "      <td>-1.5039</td>\n",
       "      <td>-1.5036</td>\n",
       "      <td>5</td>\n",
       "    </tr>\n",
       "    <tr>\n",
       "      <th>3</th>\n",
       "      <td>-0.000017</td>\n",
       "      <td>0.000026</td>\n",
       "      <td>0.000518</td>\n",
       "      <td>1.550000e-05</td>\n",
       "      <td>0.000072</td>\n",
       "      <td>0.000032</td>\n",
       "      <td>-0.037939</td>\n",
       "      <td>-0.037965</td>\n",
       "      <td>-0.038483</td>\n",
       "      <td>-0.030257</td>\n",
       "      <td>...</td>\n",
       "      <td>-0.71862</td>\n",
       "      <td>1.9076</td>\n",
       "      <td>5.5017</td>\n",
       "      <td>-1.4962</td>\n",
       "      <td>-1.4963</td>\n",
       "      <td>-1.4960</td>\n",
       "      <td>-1.5020</td>\n",
       "      <td>-1.5021</td>\n",
       "      <td>-1.5017</td>\n",
       "      <td>1</td>\n",
       "    </tr>\n",
       "    <tr>\n",
       "      <th>4</th>\n",
       "      <td>0.000002</td>\n",
       "      <td>0.000018</td>\n",
       "      <td>-0.000156</td>\n",
       "      <td>-9.650000e-07</td>\n",
       "      <td>0.000009</td>\n",
       "      <td>0.000036</td>\n",
       "      <td>0.010411</td>\n",
       "      <td>0.010393</td>\n",
       "      <td>0.010549</td>\n",
       "      <td>-0.014548</td>\n",
       "      <td>...</td>\n",
       "      <td>-0.71715</td>\n",
       "      <td>1.0778</td>\n",
       "      <td>4.9960</td>\n",
       "      <td>-1.5042</td>\n",
       "      <td>-1.5042</td>\n",
       "      <td>-1.5041</td>\n",
       "      <td>-1.4911</td>\n",
       "      <td>-1.4911</td>\n",
       "      <td>-1.4915</td>\n",
       "      <td>5</td>\n",
       "    </tr>\n",
       "    <tr>\n",
       "      <th>8</th>\n",
       "      <td>-0.000002</td>\n",
       "      <td>-0.000016</td>\n",
       "      <td>0.000046</td>\n",
       "      <td>-1.330000e-06</td>\n",
       "      <td>0.000008</td>\n",
       "      <td>-0.000092</td>\n",
       "      <td>0.011017</td>\n",
       "      <td>0.011033</td>\n",
       "      <td>0.010987</td>\n",
       "      <td>0.019514</td>\n",
       "      <td>...</td>\n",
       "      <td>-0.68758</td>\n",
       "      <td>11.5330</td>\n",
       "      <td>30.4150</td>\n",
       "      <td>-1.4991</td>\n",
       "      <td>-1.4992</td>\n",
       "      <td>-1.4993</td>\n",
       "      <td>-1.4986</td>\n",
       "      <td>-1.4986</td>\n",
       "      <td>-1.4984</td>\n",
       "      <td>2</td>\n",
       "    </tr>\n",
       "  </tbody>\n",
       "</table>\n",
       "<p>5 rows × 49 columns</p>\n",
       "</div>"
      ],
      "text/plain": [
       "          0         1         2             3         4         5         6  \\\n",
       "0 -0.000006 -0.000037  0.000070 -2.560000e-05 -0.000041 -0.000116  0.027253   \n",
       "2  0.000003  0.000036  0.000004  1.580000e-05  0.000098 -0.000337  0.010780   \n",
       "3 -0.000017  0.000026  0.000518  1.550000e-05  0.000072  0.000032 -0.037939   \n",
       "4  0.000002  0.000018 -0.000156 -9.650000e-07  0.000009  0.000036  0.010411   \n",
       "8 -0.000002 -0.000016  0.000046 -1.330000e-06  0.000008 -0.000092  0.011017   \n",
       "\n",
       "          7         8         9  ...       39       40       41      42  \\\n",
       "0  0.027290  0.027220  0.017966  ... -0.69694   1.6505   3.7807 -1.5016   \n",
       "2  0.010744  0.010740 -0.018368  ... -0.68272   1.8947   5.9028 -1.4970   \n",
       "3 -0.037965 -0.038483 -0.030257  ... -0.71862   1.9076   5.5017 -1.4962   \n",
       "4  0.010393  0.010549 -0.014548  ... -0.71715   1.0778   4.9960 -1.5042   \n",
       "8  0.011033  0.010987  0.019514  ... -0.68758  11.5330  30.4150 -1.4991   \n",
       "\n",
       "       43      44      45      46      47  48  \n",
       "0 -1.5017 -1.5016 -1.4939 -1.4939 -1.4940   4  \n",
       "2 -1.4971 -1.4972 -1.5038 -1.5039 -1.5036   5  \n",
       "3 -1.4963 -1.4960 -1.5020 -1.5021 -1.5017   1  \n",
       "4 -1.5042 -1.5041 -1.4911 -1.4911 -1.4915   5  \n",
       "8 -1.4992 -1.4993 -1.4986 -1.4986 -1.4984   2  \n",
       "\n",
       "[5 rows x 49 columns]"
      ]
     },
     "execution_count": 8,
     "metadata": {},
     "output_type": "execute_result"
    }
   ],
   "source": [
    "data_multi = data[data.iloc[:,-1]!= 'n']\n",
    "\n",
    "for i in range(len(data_multi)):\n",
    "    if data_multi.iloc[i,-1] == 'p1':\n",
    "        data_multi.iloc[i,-1] = 1\n",
    "    elif data_multi.iloc[i,-1] == 'p2':\n",
    "        data_multi.iloc[i,-1] = 2\n",
    "    elif data_multi.iloc[i,-1] == 'p3':\n",
    "        data_multi.iloc[i,-1] = 3\n",
    "    elif data_multi.iloc[i,-1] == 'p4':\n",
    "        data_multi.iloc[i,-1] = 4\n",
    "    elif data_multi.iloc[i,-1] == 'p5':\n",
    "        data_multi.iloc[i,-1] = 5\n",
    "\n",
    "data_multi.head()"
   ]
  },
  {
   "cell_type": "markdown",
   "id": "269e4720",
   "metadata": {},
   "source": [
    "##### PCA for dimentionality reduction"
   ]
  },
  {
   "cell_type": "code",
   "execution_count": 141,
   "id": "274352b4",
   "metadata": {},
   "outputs": [
    {
     "data": {
      "text/plain": [
       "array([[-9.83908864e+00,  5.47492192e-02, -3.88061700e+00, ...,\n",
       "         4.31402222e-03, -4.15720154e-03,  6.05678593e-04],\n",
       "       [ 3.80982130e+01,  2.53876015e+01,  1.15837537e+01, ...,\n",
       "        -9.50373554e-04, -1.42539812e-03, -3.77572472e-03],\n",
       "       [-6.76600595e+00,  1.98286006e+00, -3.40479590e+00, ...,\n",
       "        -5.78812974e-03,  4.66104476e-03,  2.07758271e-03],\n",
       "       ...,\n",
       "       [ 3.19765081e+00, -7.50236801e+00,  1.94429008e+01, ...,\n",
       "        -3.14021813e-03,  1.15727154e-03, -5.24354474e-03],\n",
       "       [-7.12348124e+00, -1.35258633e-01, -1.99428410e-01, ...,\n",
       "        -3.85071261e-03, -1.72918142e-03,  8.49928020e-04],\n",
       "       [ 2.02649302e+01, -7.79875626e+00, -3.85232187e+00, ...,\n",
       "        -3.22667165e-03, -2.14214236e-03, -2.51570193e-03]])"
      ]
     },
     "execution_count": 141,
     "metadata": {},
     "output_type": "execute_result"
    }
   ],
   "source": [
    "'''\n",
    "from sklearn.decomposition import PCA, KernelPCA\n",
    "X = data_binary.iloc[:,:-1]\n",
    "y = np.array(data_binary.iloc[:,-1]).astype(int)\n",
    "\n",
    "pca = PCA(n_components=20)\n",
    "X_binary = pca.fit_transform(X)\n",
    "X_binary\n",
    "'''"
   ]
  },
  {
   "cell_type": "code",
   "execution_count": 111,
   "id": "1168845d",
   "metadata": {},
   "outputs": [
    {
     "data": {
      "text/plain": [
       "\"\\ndata_binary_pca = np.concatenate((X_binary, y.reshape((len(y),1))), axis=1)\\ndata_binary_pca = pd.DataFrame(data_binary, columns=['x1','x2','y'])\\ndata_binary_pca\\n\""
      ]
     },
     "execution_count": 111,
     "metadata": {},
     "output_type": "execute_result"
    }
   ],
   "source": [
    "'''\n",
    "data_binary_pca = np.concatenate((X_binary, y.reshape((len(y),1))), axis=1)\n",
    "data_binary_pca = pd.DataFrame(data_binary, columns=['x1','x2','y'])\n",
    "data_binary_pca\n",
    "''''"
   ]
  },
  {
   "cell_type": "code",
   "execution_count": 112,
   "id": "e35c3f09",
   "metadata": {},
   "outputs": [
    {
     "data": {
      "text/plain": [
       "\"\\nplt.scatter(data_binary[data_binary.iloc[:,-1]==0].iloc[:,37],data_binary[data_binary.iloc[:,-1]==0].iloc[:, 37], color = 'green')\\nplt.scatter(data_binary[data_binary.iloc[:,-1]==1].iloc[:,40],data_binary[data_binary.iloc[:,-1]==1].iloc[:,40], color = 'red')\\n\""
      ]
     },
     "execution_count": 112,
     "metadata": {},
     "output_type": "execute_result"
    }
   ],
   "source": [
    "'''\n",
    "plt.scatter(data_binary[data_binary.iloc[:,-1]==0].iloc[:,37],data_binary[data_binary.iloc[:,-1]==0].iloc[:, 37], color = 'green')\n",
    "plt.scatter(data_binary[data_binary.iloc[:,-1]==1].iloc[:,40],data_binary[data_binary.iloc[:,-1]==1].iloc[:,40], color = 'red')\n",
    "'''"
   ]
  },
  {
   "cell_type": "code",
   "execution_count": 9,
   "id": "986720b1",
   "metadata": {},
   "outputs": [
    {
     "data": {
      "text/plain": [
       "array([0, 1])"
      ]
     },
     "execution_count": 9,
     "metadata": {},
     "output_type": "execute_result"
    }
   ],
   "source": [
    "X = data_binary.iloc[:,:-1]\n",
    "y = data_binary.iloc[:,-1].astype(int)\n",
    "y.unique()"
   ]
  },
  {
   "cell_type": "code",
   "execution_count": 10,
   "id": "ebd69b75",
   "metadata": {},
   "outputs": [],
   "source": [
    "from sklearn.model_selection import train_test_split\n",
    "X_train, X_test, y_train, y_test = train_test_split(X, y, test_size=0.3, random_state=42)"
   ]
  },
  {
   "cell_type": "code",
   "execution_count": 14,
   "id": "efde752e",
   "metadata": {},
   "outputs": [
    {
     "name": "stdout",
     "output_type": "stream",
     "text": [
      "Feature: 0, Score: 0.00000\n",
      "Feature: 1, Score: 0.00103\n",
      "Feature: 2, Score: 0.00066\n",
      "Feature: 3, Score: 0.00129\n",
      "Feature: 4, Score: 0.00000\n",
      "Feature: 5, Score: 0.00126\n",
      "Feature: 6, Score: 0.34399\n",
      "Feature: 7, Score: 0.00000\n",
      "Feature: 8, Score: 0.00155\n",
      "Feature: 9, Score: 0.00011\n",
      "Feature: 10, Score: 0.00039\n",
      "Feature: 11, Score: 0.45902\n",
      "Feature: 12, Score: 0.08657\n",
      "Feature: 13, Score: 0.00061\n",
      "Feature: 14, Score: 0.00000\n",
      "Feature: 15, Score: 0.01108\n",
      "Feature: 16, Score: 0.00119\n",
      "Feature: 17, Score: 0.00067\n",
      "Feature: 18, Score: 0.00571\n",
      "Feature: 19, Score: 0.00128\n",
      "Feature: 20, Score: 0.00334\n",
      "Feature: 21, Score: 0.00161\n",
      "Feature: 22, Score: 0.03003\n",
      "Feature: 23, Score: 0.00126\n",
      "Feature: 24, Score: 0.00000\n",
      "Feature: 25, Score: 0.00000\n",
      "Feature: 26, Score: 0.00045\n",
      "Feature: 27, Score: 0.00111\n",
      "Feature: 28, Score: 0.00000\n",
      "Feature: 29, Score: 0.00067\n",
      "Feature: 30, Score: 0.00000\n",
      "Feature: 31, Score: 0.00132\n",
      "Feature: 32, Score: 0.00099\n",
      "Feature: 33, Score: 0.00741\n",
      "Feature: 34, Score: 0.00000\n",
      "Feature: 35, Score: 0.01402\n",
      "Feature: 36, Score: 0.00196\n",
      "Feature: 37, Score: 0.00067\n",
      "Feature: 38, Score: 0.00054\n",
      "Feature: 39, Score: 0.01436\n",
      "Feature: 40, Score: 0.00000\n",
      "Feature: 41, Score: 0.00127\n",
      "Feature: 42, Score: 0.00064\n",
      "Feature: 43, Score: 0.00000\n",
      "Feature: 44, Score: 0.00065\n",
      "Feature: 45, Score: 0.00000\n",
      "Feature: 46, Score: 0.00000\n",
      "Feature: 47, Score: 0.00130\n"
     ]
    },
    {
     "data": {
      "image/png": "[encoded data removed]",
      "text/plain": [
       "<Figure size 432x288 with 1 Axes>"
      ]
     },
     "metadata": {
      "needs_background": "light"
     },
     "output_type": "display_data"
    }
   ],
   "source": [
    "clf = DecisionTreeClassifier(random_state=42)\n",
    "clf.fit(X_train, y_train)\n",
    "\n",
    "importance = clf.feature_importances_\n",
    "# summarize feature importance\n",
    "for i,v in enumerate(importance):\n",
    "\tprint('Feature: %0d, Score: %.5f' % (i,v))\n",
    "# plot feature importance\n",
    "plt.bar([x for x in range(len(importance))], importance)\n",
    "plt.show()"
   ]
  },
  {
   "cell_type": "code",
   "execution_count": 20,
   "id": "e4e018b0",
   "metadata": {},
   "outputs": [],
   "source": [
    "data_binary = data_binary.iloc[:, [6,11,12,15,22,35,39,48]]\n",
    "X = data_binary.iloc[:,:-1]\n",
    "y = data_binary.iloc[:,-1].astype(int)\n",
    "X_train, X_test, y_train, y_test = train_test_split(X, y, test_size=0.3, random_state=42)"
   ]
  },
  {
   "cell_type": "code",
   "execution_count": 21,
   "id": "96da1fdf",
   "metadata": {},
   "outputs": [
    {
     "name": "stdout",
     "output_type": "stream",
     "text": [
      "Fitting 3 folds for each of 4332 candidates, totalling 12996 fits\n",
      "Best paramters: {'criterion': 'entropy', 'max_depth': 15, 'min_samples_leaf': 1, 'min_samples_split': 2, 'splitter': 'random'})\n"
     ]
    }
   ],
   "source": [
    "\n",
    "\n",
    "params = {\n",
    "    \"criterion\":(\"gini\", \"entropy\"), \n",
    "    \"splitter\":(\"best\", \"random\"), \n",
    "    \"max_depth\":(list(range(1, 20))), \n",
    "    \"min_samples_split\":[2, 3, 4], \n",
    "    \"min_samples_leaf\":list(range(1, 20)), \n",
    "}\n",
    "\n",
    "\n",
    "tree_clf = DecisionTreeClassifier(random_state=42)\n",
    "tree_cv = GridSearchCV(tree_clf, params, scoring=\"accuracy\", n_jobs=-1, verbose=1, cv=3)\n",
    "tree_cv.fit(X_train, y_train)\n",
    "best_params = tree_cv.best_params_\n",
    "print(f\"Best paramters: {best_params})\")"
   ]
  },
  {
   "cell_type": "code",
   "execution_count": 24,
   "id": "b2762bc8",
   "metadata": {},
   "outputs": [
    {
     "data": {
      "text/plain": [
       "array([[1281,    9],\n",
       "       [  11, 1252]], dtype=int64)"
      ]
     },
     "execution_count": 24,
     "metadata": {},
     "output_type": "execute_result"
    }
   ],
   "source": [
    "from sklearn.metrics import accuracy_score, confusion_matrix, classification_report\n",
    "\n",
    "tree_clf = DecisionTreeClassifier(**best_params)\n",
    "tree_clf.fit(X_train, y_train)\n",
    "y_pred = tree_clf.predict(X_test)\n",
    "confusion_matrix(y_test, y_pred)"
   ]
  },
  {
   "cell_type": "code",
   "execution_count": 25,
   "id": "a377e6db",
   "metadata": {},
   "outputs": [
    {
     "data": {
      "text/plain": [
       "array([[1290,    0],\n",
       "       [   5, 1258]], dtype=int64)"
      ]
     },
     "execution_count": 25,
     "metadata": {},
     "output_type": "execute_result"
    }
   ],
   "source": [
    "from sklearn.ensemble import RandomForestClassifier\n",
    "\n",
    "rf_clf = RandomForestClassifier(n_estimators=100)\n",
    "rf_clf.fit(X_train, y_train)\n",
    "\n",
    "y_pred = rf_clf.predict(X_test)\n",
    "confusion_matrix(y_test, y_pred)"
   ]
  },
  {
   "cell_type": "code",
   "execution_count": null,
   "id": "fa186f8e",
   "metadata": {},
   "outputs": [],
   "source": [
    "'''\n",
    "importance = rf_clf.feature_importances_\n",
    "# summarize feature importance\n",
    "for i,v in enumerate(importance):\n",
    "\tprint('Feature: %0d, Score: %.5f' % (i,v))\n",
    "# plot feature importance\n",
    "plt.bar([x for x in range(len(importance))], importance)\n",
    "plt.show()"
   ]
  },
  {
   "cell_type": "code",
   "execution_count": 26,
   "id": "50e77255",
   "metadata": {},
   "outputs": [
    {
     "data": {
      "text/plain": [
       "\"\\nfrom sklearn.svm import SVC\\nsvm_clf = SVC(kernel = 'rbf').fit(X_train, y_train)\\n\\ny_pred = svm_clf.predict(X_test)\\nconfusion_matrix(y_test, y_pred)\\n\\n\""
      ]
     },
     "execution_count": 26,
     "metadata": {},
     "output_type": "execute_result"
    }
   ],
   "source": [
    "'''\n",
    "from sklearn.svm import SVC\n",
    "svm_clf = SVC(kernel = 'rbf').fit(X_train, y_train)\n",
    "\n",
    "y_pred = svm_clf.predict(X_test)\n",
    "confusion_matrix(y_test, y_pred)\n",
    "\n",
    "'''"
   ]
  },
  {
   "cell_type": "code",
   "execution_count": 30,
   "id": "78cefd59",
   "metadata": {},
   "outputs": [],
   "source": [
    "X = data_multi.iloc[:,:-1]\n",
    "y = data_multi.iloc[:,-1].astype(int)\n",
    "X_train, X_test, y_train, y_test = train_test_split(X, y, test_size=0.3, random_state=42)"
   ]
  },
  {
   "cell_type": "code",
   "execution_count": 31,
   "id": "f9b92c9a",
   "metadata": {},
   "outputs": [
    {
     "data": {
      "text/plain": [
       "RandomForestClassifier()"
      ]
     },
     "execution_count": 31,
     "metadata": {},
     "output_type": "execute_result"
    }
   ],
   "source": [
    "clf = RandomForestClassifier(n_estimators=100)\n",
    "clf.fit(X, y)"
   ]
  },
  {
   "cell_type": "code",
   "execution_count": 32,
   "id": "534118c9",
   "metadata": {},
   "outputs": [
    {
     "name": "stdout",
     "output_type": "stream",
     "text": [
      "Feature: 0, Score: 0.00271\n",
      "Feature: 1, Score: 0.00645\n",
      "Feature: 2, Score: 0.00067\n",
      "Feature: 3, Score: 0.00294\n",
      "Feature: 4, Score: 0.01026\n",
      "Feature: 5, Score: 0.00045\n",
      "Feature: 6, Score: 0.10430\n",
      "Feature: 7, Score: 0.09938\n",
      "Feature: 8, Score: 0.12883\n",
      "Feature: 9, Score: 0.15820\n",
      "Feature: 10, Score: 0.16355\n",
      "Feature: 11, Score: 0.12633\n",
      "Feature: 12, Score: 0.00991\n",
      "Feature: 13, Score: 0.00382\n",
      "Feature: 14, Score: 0.00312\n",
      "Feature: 15, Score: 0.01123\n",
      "Feature: 16, Score: 0.00449\n",
      "Feature: 17, Score: 0.00260\n",
      "Feature: 18, Score: 0.00863\n",
      "Feature: 19, Score: 0.00866\n",
      "Feature: 20, Score: 0.01146\n",
      "Feature: 21, Score: 0.01006\n",
      "Feature: 22, Score: 0.01008\n",
      "Feature: 23, Score: 0.01106\n",
      "Feature: 24, Score: 0.02617\n",
      "Feature: 25, Score: 0.00076\n",
      "Feature: 26, Score: 0.00069\n",
      "Feature: 27, Score: 0.01370\n",
      "Feature: 28, Score: 0.00075\n",
      "Feature: 29, Score: 0.00048\n",
      "Feature: 30, Score: 0.00776\n",
      "Feature: 31, Score: 0.00787\n",
      "Feature: 32, Score: 0.00708\n",
      "Feature: 33, Score: 0.00799\n",
      "Feature: 34, Score: 0.00903\n",
      "Feature: 35, Score: 0.00557\n",
      "Feature: 36, Score: 0.00195\n",
      "Feature: 37, Score: 0.00063\n",
      "Feature: 38, Score: 0.00053\n",
      "Feature: 39, Score: 0.00243\n",
      "Feature: 40, Score: 0.00080\n",
      "Feature: 41, Score: 0.00058\n",
      "Feature: 42, Score: 0.00148\n",
      "Feature: 43, Score: 0.00119\n",
      "Feature: 44, Score: 0.00122\n",
      "Feature: 45, Score: 0.00070\n",
      "Feature: 46, Score: 0.00061\n",
      "Feature: 47, Score: 0.00082\n"
     ]
    },
    {
     "data": {
      "image/png": "[encoded data removed]",
      "text/plain": [
       "<Figure size 432x288 with 1 Axes>"
      ]
     },
     "metadata": {
      "needs_background": "light"
     },
     "output_type": "display_data"
    }
   ],
   "source": [
    "importance = clf.feature_importances_\n",
    "# summarize feature importance\n",
    "for i,v in enumerate(importance):\n",
    "\tprint('Feature: %0d, Score: %.5f' % (i,v))\n",
    "# plot feature importance\n",
    "plt.bar([x for x in range(len(importance))], importance)\n",
    "plt.show()"
   ]
  },
  {
   "cell_type": "code",
   "execution_count": 33,
   "id": "0c2bfc67",
   "metadata": {},
   "outputs": [],
   "source": [
    "data_multi = data_multi.iloc[:, [6,7,8,9,10,11,15,20,21,22,23,24,27,48]]\n",
    "X = data_multi.iloc[:,:-1]\n",
    "y = data_multi.iloc[:,-1].astype(int)\n",
    "X_train, X_test, y_train, y_test = train_test_split(X, y, test_size=0.3, random_state=42)"
   ]
  },
  {
   "cell_type": "code",
   "execution_count": 34,
   "id": "32a87e47",
   "metadata": {},
   "outputs": [
    {
     "data": {
      "text/plain": [
       "array([[251,   0,   0,   0,   0],\n",
       "       [  0, 123,   0,   4,   1],\n",
       "       [  0,   0, 203,   0,   0],\n",
       "       [  0,   0,   1, 354,   0],\n",
       "       [  0,   0,   0,   0, 335]], dtype=int64)"
      ]
     },
     "execution_count": 34,
     "metadata": {},
     "output_type": "execute_result"
    }
   ],
   "source": [
    "clf_multi = RandomForestClassifier(n_estimators=100)\n",
    "clf_multi.fit(X_train, y_train)\n",
    "\n",
    "y_pred = clf_multi.predict(X_test)\n",
    "confusion_matrix(y_test, y_pred)"
   ]
  },
  {
   "cell_type": "code",
   "execution_count": 35,
   "id": "c24037cc",
   "metadata": {},
   "outputs": [
    {
     "data": {
      "text/plain": [
       "array([[602,   0,   0,   0,   0],\n",
       "       [  0, 285,   0,   0,   0],\n",
       "       [  0,   0, 448,   0,   0],\n",
       "       [  0,   0,   0, 898,   0],\n",
       "       [  0,   0,   0,   0, 734]], dtype=int64)"
      ]
     },
     "execution_count": 35,
     "metadata": {},
     "output_type": "execute_result"
    }
   ],
   "source": [
    "y_pred = clf_multi.predict(X_train)\n",
    "confusion_matrix(y_train, y_pred)"
   ]
  },
  {
   "cell_type": "code",
   "execution_count": null,
   "id": "34deeb9b",
   "metadata": {},
   "outputs": [],
   "source": []
  }
 ],
 "metadata": {
  "kernelspec": {
   "display_name": "Python 3 (ipykernel)",
   "language": "python",
   "name": "python3"
  },
  "language_info": {
   "codemirror_mode": {
    "name": "ipython",
    "version": 3
   },
   "file_extension": ".py",
   "mimetype": "text/x-python",
   "name": "python",
   "nbconvert_exporter": "python",
   "pygments_lexer": "ipython3",
   "version": "3.9.6"
  }
 },
 "nbformat": 4,
 "nbformat_minor": 5
}
