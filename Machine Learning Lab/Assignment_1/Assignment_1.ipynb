{
 "cells": [
  {
   "cell_type": "markdown",
   "metadata": {
    "id": "nsmKf880IShE"
   },
   "source": [
    "## 1. Numpy"
   ]
  },
  {
   "cell_type": "markdown",
   "metadata": {
    "id": "nQX9Sw_6Ilfa"
   },
   "source": [
    "### a. Create a 2D array with size 4 * 100 such that\n",
    "\n",
    "    i. Fill the first row with random values with approx mean 2\n",
    "    ii. Fill the second row with integers in increasing order.\n",
    "    iii. Fill the third row with randomly chosen alphabets.\n",
    "    iv. Fourth with Randomly formed alphanumeric strings of length 4."
   ]
  },
  {
   "cell_type": "code",
   "execution_count": 1,
   "metadata": {
    "colab": {
     "base_uri": "https://localhost:8080/"
    },
    "id": "1Q_Fkmm4Hdzh",
    "outputId": "5d4e2b59-465e-485f-9954-8bf5aca13c63"
   },
   "outputs": [
    {
     "name": "stdout",
     "output_type": "stream",
     "text": [
      "mean of first row= 2.0\n"
     ]
    },
    {
     "data": {
      "text/plain": [
       "array([[0, 1, 0, 4, 1, 1, 0, 3, 4, 3, 0, 1, 3, 1, 2, 0, 2, 4, 1, 3, 1, 3,\n",
       "        2, 0, 4, 0, 4, 1, 4, 3, 3, 3, 3, 3, 0, 2, 0, 0, 0, 1, 4, 4, 3, 3,\n",
       "        2, 4, 3, 4, 1, 0, 1, 0, 4, 3, 0, 0, 2, 1, 2, 3, 2, 2, 1, 1, 3, 3,\n",
       "        1, 1, 4, 0, 1, 2, 4, 3, 4, 1, 1, 4, 1, 0, 0, 2, 0, 0, 0, 2, 3, 4,\n",
       "        4, 2, 4, 3, 4, 4, 0, 2, 4, 1, 3, 4],\n",
       "       [1, 2, 3, 4, 5, 6, 7, 8, 9, 10, 11, 12, 13, 14, 15, 16, 17, 18,\n",
       "        19, 20, 21, 22, 23, 24, 25, 26, 27, 28, 29, 30, 31, 32, 33, 34,\n",
       "        35, 36, 37, 38, 39, 40, 41, 42, 43, 44, 45, 46, 47, 48, 49, 50,\n",
       "        51, 52, 53, 54, 55, 56, 57, 58, 59, 60, 61, 62, 63, 64, 65, 66,\n",
       "        67, 68, 69, 70, 71, 72, 73, 74, 75, 76, 77, 78, 79, 80, 81, 82,\n",
       "        83, 84, 85, 86, 87, 88, 89, 90, 91, 92, 93, 94, 95, 96, 97, 98,\n",
       "        99, 100],\n",
       "       ['c', 'e', 'h', 'g', 'J', 'K', 'o', 'X', 'V', 'w', 'A', 'X', 'y',\n",
       "        'V', 'L', 'b', 'q', 'j', 'H', 't', 'B', 'E', 'P', 'I', 'U', 'd',\n",
       "        'M', 'H', 'V', 'l', 'y', 'b', 'I', 'p', 'i', 'p', 'e', 'Z', 'h',\n",
       "        'P', 'i', 'm', 'u', 'F', 'n', 'N', 'o', 'O', 'o', 'j', 'c', 'N',\n",
       "        'R', 'V', 'j', 'F', 'X', 'G', 'w', 'c', 'a', 'H', 's', 'J', 'h',\n",
       "        'n', 'x', 'Z', 'u', 'I', 'p', 'r', 'S', 'C', 'o', 'T', 'X', 'M',\n",
       "        'O', 'b', 'k', 'F', 'N', 'y', 'D', 'L', 'S', 'r', 'v', 'I', 'c',\n",
       "        'Z', 'g', 'Z', 'L', 'T', 'u', 'J', 'N', 'y'],\n",
       "       ['lO4P', 'ie8o', 'AoJY', 'Dm7x', 'IXkk', '0t4y', 'MNUr', 'QHNi',\n",
       "        'Woce', 'PX3X', 's2Pe', 'jPX9', 'm1CV', 'ZcZg', 'UZwJ', 'aADx',\n",
       "        '9Uw9', '2QPT', 'NEb2', 'Q1Nh', 'Y3YD', 'Bad7', '926L', 'BHu6',\n",
       "        'XsIs', 'vStq', 'FJrY', 'nxuD', 'w7KI', 'CROW', 'RrqX', 'ubrr',\n",
       "        '0ID6', 'zj7q', 'rq6W', 'Lz1b', '68ip', 'vA0l', 'T2Gc', 'WUK0',\n",
       "        'LnoO', 'so02', 'ukvE', 'Ak5N', 'slUN', 'YxyX', 'Qedq', 'QOeO',\n",
       "        'h1nK', 'gRtK', 'uO2k', 'IoVR', 'hfXR', 'B0w4', 'vZTc', 'uk3E',\n",
       "        'BhBZ', 'Y0kw', 'UtVc', 'WoOe', 'lY4m', 'gDa8', 'DtYF', '6EVI',\n",
       "        'wNPd', 'hP4K', 'To48', 'j3HZ', 'Aakl', 'khaZ', '7EOy', '4EtK',\n",
       "        'FCgS', 'JRFL', 'K3XN', 'zvm4', 'n6an', 'oKqN', '0pCw', 'BWBR',\n",
       "        'FxMD', 'Tw7r', '8Tua', 'gYek', 'hrZo', 'o10x', 'VHTu', 'cfAO',\n",
       "        'vC2j', 'hwdM', 'vy1f', 'B97l', 'zWZs', 'Xh90', 'ar36', 'bQ4C',\n",
       "        'CVUD', 'sLFy', 'mMIq', 'ZvMV']], dtype=object)"
      ]
     },
     "execution_count": 1,
     "metadata": {},
     "output_type": "execute_result"
    }
   ],
   "source": [
    "import numpy as np\n",
    "import random\n",
    "import string\n",
    "\n",
    "#initializing an empty array of size 4*100\n",
    "my_array= np.empty(shape=(4,100), dtype='object')\n",
    "\n",
    "#filling the first raw with random numbers between 0 and 5\n",
    "my_array[0, :]= np.random.randint(0,5,100)\n",
    "\n",
    "while(True):\n",
    "    if my_array[0, :].mean()==2:   #do the process until mean of the all numbers in the first row equal to 2\n",
    "        break\n",
    "    else:\n",
    "        my_array[0, :]= np.random.randint(0,5,100)\n",
    "#printing the mean of the first row\n",
    "print(f\"mean of first row= {my_array[0,:].mean()}\")\n",
    "\n",
    "#assigning the integers between 1 and 100 to elements of second row in increasing order\n",
    "my_array[1,:] = np.arange(1,101)\n",
    "\n",
    "#defining a list of upper and lowercase alphabets\n",
    "letters_list = [char for char in string.ascii_letters]\n",
    "\n",
    "#assigning the third row elements with randomly chosed alphabets from the list of letters, letters_list\n",
    "\n",
    "for i in range(100):\n",
    "    my_array[2,i] = np.random.choice(letters_list)\n",
    "\n",
    "#assigning the fourth row elements with randomly formed string with alphanumeric charactors having size 4\n",
    "for i in range(100):  \n",
    "    my_array[3,i] = ''.join(random.choices(string.ascii_letters + string.digits, k=4))\n",
    "\n",
    "my_array\n"
   ]
  },
  {
   "cell_type": "markdown",
   "metadata": {
    "id": "NSy5-8zSI5sF"
   },
   "source": [
    "### b. Create a function to operate the array such that numeric values are squared and strings are doubled."
   ]
  },
  {
   "cell_type": "code",
   "execution_count": 2,
   "metadata": {
    "colab": {
     "base_uri": "https://localhost:8080/"
    },
    "id": "twXggSxiJBM-",
    "outputId": "78e00973-3d87-4dad-82e2-402b8fb0e66b"
   },
   "outputs": [
    {
     "data": {
      "text/plain": [
       "array([[0, 1, 0, 16, 1, 1, 0, 9, 16, 9, 0, 1, 9, 1, 4, 0, 4, 16, 1, 9, 1,\n",
       "        9, 4, 0, 16, 0, 16, 1, 16, 9, 9, 9, 9, 9, 0, 4, 0, 0, 0, 1, 16,\n",
       "        16, 9, 9, 4, 16, 9, 16, 1, 0, 1, 0, 16, 9, 0, 0, 4, 1, 4, 9, 4,\n",
       "        4, 1, 1, 9, 9, 1, 1, 16, 0, 1, 4, 16, 9, 16, 1, 1, 16, 1, 0, 0,\n",
       "        4, 0, 0, 0, 4, 9, 16, 16, 4, 16, 9, 16, 16, 0, 4, 16, 1, 9, 16],\n",
       "       [1, 4, 9, 16, 25, 36, 49, 64, 81, 100, 121, 144, 169, 196, 225,\n",
       "        256, 289, 324, 361, 400, 441, 484, 529, 576, 625, 676, 729, 784,\n",
       "        841, 900, 961, 1024, 1089, 1156, 1225, 1296, 1369, 1444, 1521,\n",
       "        1600, 1681, 1764, 1849, 1936, 2025, 2116, 2209, 2304, 2401, 2500,\n",
       "        2601, 2704, 2809, 2916, 3025, 3136, 3249, 3364, 3481, 3600, 3721,\n",
       "        3844, 3969, 4096, 4225, 4356, 4489, 4624, 4761, 4900, 5041, 5184,\n",
       "        5329, 5476, 5625, 5776, 5929, 6084, 6241, 6400, 6561, 6724, 6889,\n",
       "        7056, 7225, 7396, 7569, 7744, 7921, 8100, 8281, 8464, 8649, 8836,\n",
       "        9025, 9216, 9409, 9604, 9801, 10000],\n",
       "       ['c', 'e', 'h', 'g', 'J', 'K', 'o', 'X', 'V', 'w', 'A', 'X', 'y',\n",
       "        'V', 'L', 'b', 'q', 'j', 'H', 't', 'B', 'E', 'P', 'I', 'U', 'd',\n",
       "        'M', 'H', 'V', 'l', 'y', 'b', 'I', 'p', 'i', 'p', 'e', 'Z', 'h',\n",
       "        'P', 'i', 'm', 'u', 'F', 'n', 'N', 'o', 'O', 'o', 'j', 'c', 'N',\n",
       "        'R', 'V', 'j', 'F', 'X', 'G', 'w', 'c', 'a', 'H', 's', 'J', 'h',\n",
       "        'n', 'x', 'Z', 'u', 'I', 'p', 'r', 'S', 'C', 'o', 'T', 'X', 'M',\n",
       "        'O', 'b', 'k', 'F', 'N', 'y', 'D', 'L', 'S', 'r', 'v', 'I', 'c',\n",
       "        'Z', 'g', 'Z', 'L', 'T', 'u', 'J', 'N', 'y'],\n",
       "       ['lO4PlO4P', 'ie8oie8o', 'AoJYAoJY', 'Dm7xDm7x', 'IXkkIXkk',\n",
       "        '0t4y0t4y', 'MNUrMNUr', 'QHNiQHNi', 'WoceWoce', 'PX3XPX3X',\n",
       "        's2Pes2Pe', 'jPX9jPX9', 'm1CVm1CV', 'ZcZgZcZg', 'UZwJUZwJ',\n",
       "        'aADxaADx', '9Uw99Uw9', '2QPT2QPT', 'NEb2NEb2', 'Q1NhQ1Nh',\n",
       "        'Y3YDY3YD', 'Bad7Bad7', '926L926L', 'BHu6BHu6', 'XsIsXsIs',\n",
       "        'vStqvStq', 'FJrYFJrY', 'nxuDnxuD', 'w7KIw7KI', 'CROWCROW',\n",
       "        'RrqXRrqX', 'ubrrubrr', '0ID60ID6', 'zj7qzj7q', 'rq6Wrq6W',\n",
       "        'Lz1bLz1b', '68ip68ip', 'vA0lvA0l', 'T2GcT2Gc', 'WUK0WUK0',\n",
       "        'LnoOLnoO', 'so02so02', 'ukvEukvE', 'Ak5NAk5N', 'slUNslUN',\n",
       "        'YxyXYxyX', 'QedqQedq', 'QOeOQOeO', 'h1nKh1nK', 'gRtKgRtK',\n",
       "        'uO2kuO2k', 'IoVRIoVR', 'hfXRhfXR', 'B0w4B0w4', 'vZTcvZTc',\n",
       "        'uk3Euk3E', 'BhBZBhBZ', 'Y0kwY0kw', 'UtVcUtVc', 'WoOeWoOe',\n",
       "        'lY4mlY4m', 'gDa8gDa8', 'DtYFDtYF', '6EVI6EVI', 'wNPdwNPd',\n",
       "        'hP4KhP4K', 'To48To48', 'j3HZj3HZ', 'AaklAakl', 'khaZkhaZ',\n",
       "        '7EOy7EOy', '4EtK4EtK', 'FCgSFCgS', 'JRFLJRFL', 'K3XNK3XN',\n",
       "        'zvm4zvm4', 'n6ann6an', 'oKqNoKqN', '0pCw0pCw', 'BWBRBWBR',\n",
       "        'FxMDFxMD', 'Tw7rTw7r', '8Tua8Tua', 'gYekgYek', 'hrZohrZo',\n",
       "        'o10xo10x', 'VHTuVHTu', 'cfAOcfAO', 'vC2jvC2j', 'hwdMhwdM',\n",
       "        'vy1fvy1f', 'B97lB97l', 'zWZszWZs', 'Xh90Xh90', 'ar36ar36',\n",
       "        'bQ4CbQ4C', 'CVUDCVUD', 'sLFysLFy', 'mMIqmMIq', 'ZvMVZvMV']],\n",
       "      dtype=object)"
      ]
     },
     "execution_count": 2,
     "metadata": {},
     "output_type": "execute_result"
    }
   ],
   "source": [
    "#defining a function to operate the array such that the numeric values are squared and strings are doubled\n",
    "def array_operation(arr):\n",
    "    #number of rows and coloums of the given array defined to the variable rows and cols respectively\n",
    "    rows, cols = np.shape(arr) \n",
    "    \n",
    "    for i in range(rows):\n",
    "        for j in range(cols):\n",
    "            if type(arr[i,j]) == int or type(arr[i,j])  == float: #check array element is numeric value\n",
    "                arr[i,j] = np.square(arr[i,j])                    #if it numeric square it\n",
    "            elif type(arr[i,j]) == str:                           #if it a string, double it\n",
    "                arr[i,j] = arr[i,j]*2\n",
    "    \n",
    "    return arr \n",
    "\n",
    "\n",
    "\n",
    "#do the array operation mentioned in question on array in part a\n",
    "new_array = array_operation(my_array)\n",
    "new_array           "
   ]
  },
  {
   "cell_type": "markdown",
   "metadata": {
    "id": "RP_BLXgdJHMS"
   },
   "source": [
    "### c. Add another row with a linear combination of the first two rows."
   ]
  },
  {
   "cell_type": "code",
   "execution_count": 3,
   "metadata": {
    "colab": {
     "base_uri": "https://localhost:8080/"
    },
    "id": "4A1D5twUJNeM",
    "outputId": "2148d616-0c0a-4ae1-8cdf-af0642cfa0b4"
   },
   "outputs": [
    {
     "data": {
      "text/plain": [
       "array([[0, 1, 0, 16, 1, 1, 0, 9, 16, 9, 0, 1, 9, 1, 4, 0, 4, 16, 1, 9, 1,\n",
       "        9, 4, 0, 16, 0, 16, 1, 16, 9, 9, 9, 9, 9, 0, 4, 0, 0, 0, 1, 16,\n",
       "        16, 9, 9, 4, 16, 9, 16, 1, 0, 1, 0, 16, 9, 0, 0, 4, 1, 4, 9, 4,\n",
       "        4, 1, 1, 9, 9, 1, 1, 16, 0, 1, 4, 16, 9, 16, 1, 1, 16, 1, 0, 0,\n",
       "        4, 0, 0, 0, 4, 9, 16, 16, 4, 16, 9, 16, 16, 0, 4, 16, 1, 9, 16],\n",
       "       [1, 4, 9, 16, 25, 36, 49, 64, 81, 100, 121, 144, 169, 196, 225,\n",
       "        256, 289, 324, 361, 400, 441, 484, 529, 576, 625, 676, 729, 784,\n",
       "        841, 900, 961, 1024, 1089, 1156, 1225, 1296, 1369, 1444, 1521,\n",
       "        1600, 1681, 1764, 1849, 1936, 2025, 2116, 2209, 2304, 2401, 2500,\n",
       "        2601, 2704, 2809, 2916, 3025, 3136, 3249, 3364, 3481, 3600, 3721,\n",
       "        3844, 3969, 4096, 4225, 4356, 4489, 4624, 4761, 4900, 5041, 5184,\n",
       "        5329, 5476, 5625, 5776, 5929, 6084, 6241, 6400, 6561, 6724, 6889,\n",
       "        7056, 7225, 7396, 7569, 7744, 7921, 8100, 8281, 8464, 8649, 8836,\n",
       "        9025, 9216, 9409, 9604, 9801, 10000],\n",
       "       ['c', 'e', 'h', 'g', 'J', 'K', 'o', 'X', 'V', 'w', 'A', 'X', 'y',\n",
       "        'V', 'L', 'b', 'q', 'j', 'H', 't', 'B', 'E', 'P', 'I', 'U', 'd',\n",
       "        'M', 'H', 'V', 'l', 'y', 'b', 'I', 'p', 'i', 'p', 'e', 'Z', 'h',\n",
       "        'P', 'i', 'm', 'u', 'F', 'n', 'N', 'o', 'O', 'o', 'j', 'c', 'N',\n",
       "        'R', 'V', 'j', 'F', 'X', 'G', 'w', 'c', 'a', 'H', 's', 'J', 'h',\n",
       "        'n', 'x', 'Z', 'u', 'I', 'p', 'r', 'S', 'C', 'o', 'T', 'X', 'M',\n",
       "        'O', 'b', 'k', 'F', 'N', 'y', 'D', 'L', 'S', 'r', 'v', 'I', 'c',\n",
       "        'Z', 'g', 'Z', 'L', 'T', 'u', 'J', 'N', 'y'],\n",
       "       ['lO4PlO4P', 'ie8oie8o', 'AoJYAoJY', 'Dm7xDm7x', 'IXkkIXkk',\n",
       "        '0t4y0t4y', 'MNUrMNUr', 'QHNiQHNi', 'WoceWoce', 'PX3XPX3X',\n",
       "        's2Pes2Pe', 'jPX9jPX9', 'm1CVm1CV', 'ZcZgZcZg', 'UZwJUZwJ',\n",
       "        'aADxaADx', '9Uw99Uw9', '2QPT2QPT', 'NEb2NEb2', 'Q1NhQ1Nh',\n",
       "        'Y3YDY3YD', 'Bad7Bad7', '926L926L', 'BHu6BHu6', 'XsIsXsIs',\n",
       "        'vStqvStq', 'FJrYFJrY', 'nxuDnxuD', 'w7KIw7KI', 'CROWCROW',\n",
       "        'RrqXRrqX', 'ubrrubrr', '0ID60ID6', 'zj7qzj7q', 'rq6Wrq6W',\n",
       "        'Lz1bLz1b', '68ip68ip', 'vA0lvA0l', 'T2GcT2Gc', 'WUK0WUK0',\n",
       "        'LnoOLnoO', 'so02so02', 'ukvEukvE', 'Ak5NAk5N', 'slUNslUN',\n",
       "        'YxyXYxyX', 'QedqQedq', 'QOeOQOeO', 'h1nKh1nK', 'gRtKgRtK',\n",
       "        'uO2kuO2k', 'IoVRIoVR', 'hfXRhfXR', 'B0w4B0w4', 'vZTcvZTc',\n",
       "        'uk3Euk3E', 'BhBZBhBZ', 'Y0kwY0kw', 'UtVcUtVc', 'WoOeWoOe',\n",
       "        'lY4mlY4m', 'gDa8gDa8', 'DtYFDtYF', '6EVI6EVI', 'wNPdwNPd',\n",
       "        'hP4KhP4K', 'To48To48', 'j3HZj3HZ', 'AaklAakl', 'khaZkhaZ',\n",
       "        '7EOy7EOy', '4EtK4EtK', 'FCgSFCgS', 'JRFLJRFL', 'K3XNK3XN',\n",
       "        'zvm4zvm4', 'n6ann6an', 'oKqNoKqN', '0pCw0pCw', 'BWBRBWBR',\n",
       "        'FxMDFxMD', 'Tw7rTw7r', '8Tua8Tua', 'gYekgYek', 'hrZohrZo',\n",
       "        'o10xo10x', 'VHTuVHTu', 'cfAOcfAO', 'vC2jvC2j', 'hwdMhwdM',\n",
       "        'vy1fvy1f', 'B97lB97l', 'zWZszWZs', 'Xh90Xh90', 'ar36ar36',\n",
       "        'bQ4CbQ4C', 'CVUDCVUD', 'sLFysLFy', 'mMIqmMIq', 'ZvMVZvMV'],\n",
       "       [5, 30, 45, 240, 135, 190, 245, 410, 565, 590, 605, 730, 935, 990,\n",
       "        1165, 1280, 1485, 1780, 1815, 2090, 2215, 2510, 2685, 2880, 3285,\n",
       "        3380, 3805, 3930, 4365, 4590, 4895, 5210, 5535, 5870, 6125, 6520,\n",
       "        6845, 7220, 7605, 8010, 8565, 8980, 9335, 9770, 10165, 10740,\n",
       "        11135, 11680, 12015, 12500, 13015, 13520, 14205, 14670, 15125,\n",
       "        15680, 16285, 16830, 17445, 18090, 18645, 19260, 19855, 20490,\n",
       "        21215, 21870, 22455, 23130, 23965, 24500, 25215, 25960, 26805,\n",
       "        27470, 28285, 28890, 29655, 30580, 31215, 32000, 32805, 33660,\n",
       "        34445, 35280, 36125, 37020, 37935, 38880, 39765, 40540, 41565,\n",
       "        42410, 43405, 44340, 45125, 46120, 47205, 48030, 49095, 50160]],\n",
       "      dtype=object)"
      ]
     },
     "execution_count": 3,
     "metadata": {},
     "output_type": "execute_result"
    }
   ],
   "source": [
    "my_new_array = np.append(my_array, np.empty((1,100), dtype='object'), axis=0)\n",
    "rows, cols = np.shape(my_new_array) \n",
    "\n",
    "#define constants for linear combination\n",
    "a,b = 10,5\n",
    "for i in range(cols):\n",
    "    my_new_array[4,i] = my_new_array[0,i]*a+ my_new_array[1,i]*b\n",
    "    \n",
    "my_new_array "
   ]
  },
  {
   "cell_type": "markdown",
   "metadata": {
    "id": "xGNzREJqKI-W"
   },
   "source": [
    "### d. Transpose the above array to 100 * 5. (A.T)"
   ]
  },
  {
   "cell_type": "code",
   "execution_count": 4,
   "metadata": {
    "colab": {
     "base_uri": "https://localhost:8080/"
    },
    "id": "bt1xa01gKIYh",
    "outputId": "2a52b315-2695-4372-8c47-bbb61e892268"
   },
   "outputs": [
    {
     "data": {
      "text/plain": [
       "array([[0, 1, 'c', 'lO4PlO4P', 5],\n",
       "       [1, 4, 'e', 'ie8oie8o', 30],\n",
       "       [0, 9, 'h', 'AoJYAoJY', 45],\n",
       "       [16, 16, 'g', 'Dm7xDm7x', 240],\n",
       "       [1, 25, 'J', 'IXkkIXkk', 135],\n",
       "       [1, 36, 'K', '0t4y0t4y', 190],\n",
       "       [0, 49, 'o', 'MNUrMNUr', 245],\n",
       "       [9, 64, 'X', 'QHNiQHNi', 410],\n",
       "       [16, 81, 'V', 'WoceWoce', 565],\n",
       "       [9, 100, 'w', 'PX3XPX3X', 590],\n",
       "       [0, 121, 'A', 's2Pes2Pe', 605],\n",
       "       [1, 144, 'X', 'jPX9jPX9', 730],\n",
       "       [9, 169, 'y', 'm1CVm1CV', 935],\n",
       "       [1, 196, 'V', 'ZcZgZcZg', 990],\n",
       "       [4, 225, 'L', 'UZwJUZwJ', 1165],\n",
       "       [0, 256, 'b', 'aADxaADx', 1280],\n",
       "       [4, 289, 'q', '9Uw99Uw9', 1485],\n",
       "       [16, 324, 'j', '2QPT2QPT', 1780],\n",
       "       [1, 361, 'H', 'NEb2NEb2', 1815],\n",
       "       [9, 400, 't', 'Q1NhQ1Nh', 2090],\n",
       "       [1, 441, 'B', 'Y3YDY3YD', 2215],\n",
       "       [9, 484, 'E', 'Bad7Bad7', 2510],\n",
       "       [4, 529, 'P', '926L926L', 2685],\n",
       "       [0, 576, 'I', 'BHu6BHu6', 2880],\n",
       "       [16, 625, 'U', 'XsIsXsIs', 3285],\n",
       "       [0, 676, 'd', 'vStqvStq', 3380],\n",
       "       [16, 729, 'M', 'FJrYFJrY', 3805],\n",
       "       [1, 784, 'H', 'nxuDnxuD', 3930],\n",
       "       [16, 841, 'V', 'w7KIw7KI', 4365],\n",
       "       [9, 900, 'l', 'CROWCROW', 4590],\n",
       "       [9, 961, 'y', 'RrqXRrqX', 4895],\n",
       "       [9, 1024, 'b', 'ubrrubrr', 5210],\n",
       "       [9, 1089, 'I', '0ID60ID6', 5535],\n",
       "       [9, 1156, 'p', 'zj7qzj7q', 5870],\n",
       "       [0, 1225, 'i', 'rq6Wrq6W', 6125],\n",
       "       [4, 1296, 'p', 'Lz1bLz1b', 6520],\n",
       "       [0, 1369, 'e', '68ip68ip', 6845],\n",
       "       [0, 1444, 'Z', 'vA0lvA0l', 7220],\n",
       "       [0, 1521, 'h', 'T2GcT2Gc', 7605],\n",
       "       [1, 1600, 'P', 'WUK0WUK0', 8010],\n",
       "       [16, 1681, 'i', 'LnoOLnoO', 8565],\n",
       "       [16, 1764, 'm', 'so02so02', 8980],\n",
       "       [9, 1849, 'u', 'ukvEukvE', 9335],\n",
       "       [9, 1936, 'F', 'Ak5NAk5N', 9770],\n",
       "       [4, 2025, 'n', 'slUNslUN', 10165],\n",
       "       [16, 2116, 'N', 'YxyXYxyX', 10740],\n",
       "       [9, 2209, 'o', 'QedqQedq', 11135],\n",
       "       [16, 2304, 'O', 'QOeOQOeO', 11680],\n",
       "       [1, 2401, 'o', 'h1nKh1nK', 12015],\n",
       "       [0, 2500, 'j', 'gRtKgRtK', 12500],\n",
       "       [1, 2601, 'c', 'uO2kuO2k', 13015],\n",
       "       [0, 2704, 'N', 'IoVRIoVR', 13520],\n",
       "       [16, 2809, 'R', 'hfXRhfXR', 14205],\n",
       "       [9, 2916, 'V', 'B0w4B0w4', 14670],\n",
       "       [0, 3025, 'j', 'vZTcvZTc', 15125],\n",
       "       [0, 3136, 'F', 'uk3Euk3E', 15680],\n",
       "       [4, 3249, 'X', 'BhBZBhBZ', 16285],\n",
       "       [1, 3364, 'G', 'Y0kwY0kw', 16830],\n",
       "       [4, 3481, 'w', 'UtVcUtVc', 17445],\n",
       "       [9, 3600, 'c', 'WoOeWoOe', 18090],\n",
       "       [4, 3721, 'a', 'lY4mlY4m', 18645],\n",
       "       [4, 3844, 'H', 'gDa8gDa8', 19260],\n",
       "       [1, 3969, 's', 'DtYFDtYF', 19855],\n",
       "       [1, 4096, 'J', '6EVI6EVI', 20490],\n",
       "       [9, 4225, 'h', 'wNPdwNPd', 21215],\n",
       "       [9, 4356, 'n', 'hP4KhP4K', 21870],\n",
       "       [1, 4489, 'x', 'To48To48', 22455],\n",
       "       [1, 4624, 'Z', 'j3HZj3HZ', 23130],\n",
       "       [16, 4761, 'u', 'AaklAakl', 23965],\n",
       "       [0, 4900, 'I', 'khaZkhaZ', 24500],\n",
       "       [1, 5041, 'p', '7EOy7EOy', 25215],\n",
       "       [4, 5184, 'r', '4EtK4EtK', 25960],\n",
       "       [16, 5329, 'S', 'FCgSFCgS', 26805],\n",
       "       [9, 5476, 'C', 'JRFLJRFL', 27470],\n",
       "       [16, 5625, 'o', 'K3XNK3XN', 28285],\n",
       "       [1, 5776, 'T', 'zvm4zvm4', 28890],\n",
       "       [1, 5929, 'X', 'n6ann6an', 29655],\n",
       "       [16, 6084, 'M', 'oKqNoKqN', 30580],\n",
       "       [1, 6241, 'O', '0pCw0pCw', 31215],\n",
       "       [0, 6400, 'b', 'BWBRBWBR', 32000],\n",
       "       [0, 6561, 'k', 'FxMDFxMD', 32805],\n",
       "       [4, 6724, 'F', 'Tw7rTw7r', 33660],\n",
       "       [0, 6889, 'N', '8Tua8Tua', 34445],\n",
       "       [0, 7056, 'y', 'gYekgYek', 35280],\n",
       "       [0, 7225, 'D', 'hrZohrZo', 36125],\n",
       "       [4, 7396, 'L', 'o10xo10x', 37020],\n",
       "       [9, 7569, 'S', 'VHTuVHTu', 37935],\n",
       "       [16, 7744, 'r', 'cfAOcfAO', 38880],\n",
       "       [16, 7921, 'v', 'vC2jvC2j', 39765],\n",
       "       [4, 8100, 'I', 'hwdMhwdM', 40540],\n",
       "       [16, 8281, 'c', 'vy1fvy1f', 41565],\n",
       "       [9, 8464, 'Z', 'B97lB97l', 42410],\n",
       "       [16, 8649, 'g', 'zWZszWZs', 43405],\n",
       "       [16, 8836, 'Z', 'Xh90Xh90', 44340],\n",
       "       [0, 9025, 'L', 'ar36ar36', 45125],\n",
       "       [4, 9216, 'T', 'bQ4CbQ4C', 46120],\n",
       "       [16, 9409, 'u', 'CVUDCVUD', 47205],\n",
       "       [1, 9604, 'J', 'sLFysLFy', 48030],\n",
       "       [9, 9801, 'N', 'mMIqmMIq', 49095],\n",
       "       [16, 10000, 'y', 'ZvMVZvMV', 50160]], dtype=object)"
      ]
     },
     "execution_count": 4,
     "metadata": {},
     "output_type": "execute_result"
    }
   ],
   "source": [
    "my_array_transposed = np.transpose(my_new_array)\n",
    "my_array_transposed"
   ]
  },
  {
   "cell_type": "markdown",
   "metadata": {
    "id": "zV4B4STpVfzu"
   },
   "source": [
    "# 2. Pandas"
   ]
  },
  {
   "cell_type": "markdown",
   "metadata": {
    "id": "R9RqNQ69VjBF"
   },
   "source": [
    "### a. Create the Pandas DataFrame from above created numpy array with the first 4 columns."
   ]
  },
  {
   "cell_type": "code",
   "execution_count": 5,
   "metadata": {
    "colab": {
     "base_uri": "https://localhost:8080/",
     "height": 414
    },
    "id": "qI5TZbuPVx5x",
    "outputId": "fb9c885d-784e-4a7b-9907-cff2a40ca8c3"
   },
   "outputs": [
    {
     "data": {
      "text/html": [
       "<div>\n",
       "<style scoped>\n",
       "    .dataframe tbody tr th:only-of-type {\n",
       "        vertical-align: middle;\n",
       "    }\n",
       "\n",
       "    .dataframe tbody tr th {\n",
       "        vertical-align: top;\n",
       "    }\n",
       "\n",
       "    .dataframe thead th {\n",
       "        text-align: right;\n",
       "    }\n",
       "</style>\n",
       "<table border=\"1\" class=\"dataframe\">\n",
       "  <thead>\n",
       "    <tr style=\"text-align: right;\">\n",
       "      <th></th>\n",
       "      <th>0</th>\n",
       "      <th>1</th>\n",
       "      <th>2</th>\n",
       "      <th>3</th>\n",
       "    </tr>\n",
       "  </thead>\n",
       "  <tbody>\n",
       "    <tr>\n",
       "      <th>0</th>\n",
       "      <td>0</td>\n",
       "      <td>1</td>\n",
       "      <td>c</td>\n",
       "      <td>lO4PlO4P</td>\n",
       "    </tr>\n",
       "    <tr>\n",
       "      <th>1</th>\n",
       "      <td>1</td>\n",
       "      <td>4</td>\n",
       "      <td>e</td>\n",
       "      <td>ie8oie8o</td>\n",
       "    </tr>\n",
       "    <tr>\n",
       "      <th>2</th>\n",
       "      <td>0</td>\n",
       "      <td>9</td>\n",
       "      <td>h</td>\n",
       "      <td>AoJYAoJY</td>\n",
       "    </tr>\n",
       "    <tr>\n",
       "      <th>3</th>\n",
       "      <td>16</td>\n",
       "      <td>16</td>\n",
       "      <td>g</td>\n",
       "      <td>Dm7xDm7x</td>\n",
       "    </tr>\n",
       "    <tr>\n",
       "      <th>4</th>\n",
       "      <td>1</td>\n",
       "      <td>25</td>\n",
       "      <td>J</td>\n",
       "      <td>IXkkIXkk</td>\n",
       "    </tr>\n",
       "    <tr>\n",
       "      <th>...</th>\n",
       "      <td>...</td>\n",
       "      <td>...</td>\n",
       "      <td>...</td>\n",
       "      <td>...</td>\n",
       "    </tr>\n",
       "    <tr>\n",
       "      <th>95</th>\n",
       "      <td>4</td>\n",
       "      <td>9216</td>\n",
       "      <td>T</td>\n",
       "      <td>bQ4CbQ4C</td>\n",
       "    </tr>\n",
       "    <tr>\n",
       "      <th>96</th>\n",
       "      <td>16</td>\n",
       "      <td>9409</td>\n",
       "      <td>u</td>\n",
       "      <td>CVUDCVUD</td>\n",
       "    </tr>\n",
       "    <tr>\n",
       "      <th>97</th>\n",
       "      <td>1</td>\n",
       "      <td>9604</td>\n",
       "      <td>J</td>\n",
       "      <td>sLFysLFy</td>\n",
       "    </tr>\n",
       "    <tr>\n",
       "      <th>98</th>\n",
       "      <td>9</td>\n",
       "      <td>9801</td>\n",
       "      <td>N</td>\n",
       "      <td>mMIqmMIq</td>\n",
       "    </tr>\n",
       "    <tr>\n",
       "      <th>99</th>\n",
       "      <td>16</td>\n",
       "      <td>10000</td>\n",
       "      <td>y</td>\n",
       "      <td>ZvMVZvMV</td>\n",
       "    </tr>\n",
       "  </tbody>\n",
       "</table>\n",
       "<p>100 rows × 4 columns</p>\n",
       "</div>"
      ],
      "text/plain": [
       "     0      1  2         3\n",
       "0    0      1  c  lO4PlO4P\n",
       "1    1      4  e  ie8oie8o\n",
       "2    0      9  h  AoJYAoJY\n",
       "3   16     16  g  Dm7xDm7x\n",
       "4    1     25  J  IXkkIXkk\n",
       "..  ..    ... ..       ...\n",
       "95   4   9216  T  bQ4CbQ4C\n",
       "96  16   9409  u  CVUDCVUD\n",
       "97   1   9604  J  sLFysLFy\n",
       "98   9   9801  N  mMIqmMIq\n",
       "99  16  10000  y  ZvMVZvMV\n",
       "\n",
       "[100 rows x 4 columns]"
      ]
     },
     "execution_count": 5,
     "metadata": {},
     "output_type": "execute_result"
    }
   ],
   "source": [
    "import pandas as pd\n",
    "\n",
    "#my_data = pd.DataFrame(np.transpose(my_array))\n",
    "my_data = pd.DataFrame(my_array_transposed[:,0:4])\n",
    "my_data"
   ]
  },
  {
   "cell_type": "markdown",
   "metadata": {
    "id": "O_9RGxQMX3Dj"
   },
   "source": [
    "### b. Perform standardization on numerical values columns using function created by you. (Standardization = X – μ / σ)"
   ]
  },
  {
   "cell_type": "code",
   "execution_count": 6,
   "metadata": {
    "colab": {
     "base_uri": "https://localhost:8080/",
     "height": 414
    },
    "id": "3oCkASOZYSe7",
    "outputId": "8ed0fc3c-3a8b-4bce-966a-8fdc86219eb9"
   },
   "outputs": [
    {
     "data": {
      "text/html": [
       "<div>\n",
       "<style scoped>\n",
       "    .dataframe tbody tr th:only-of-type {\n",
       "        vertical-align: middle;\n",
       "    }\n",
       "\n",
       "    .dataframe tbody tr th {\n",
       "        vertical-align: top;\n",
       "    }\n",
       "\n",
       "    .dataframe thead th {\n",
       "        text-align: right;\n",
       "    }\n",
       "</style>\n",
       "<table border=\"1\" class=\"dataframe\">\n",
       "  <thead>\n",
       "    <tr style=\"text-align: right;\">\n",
       "      <th></th>\n",
       "      <th>0</th>\n",
       "      <th>1</th>\n",
       "      <th>2</th>\n",
       "      <th>3</th>\n",
       "    </tr>\n",
       "  </thead>\n",
       "  <tbody>\n",
       "    <tr>\n",
       "      <th>0</th>\n",
       "      <td>-1.00296</td>\n",
       "      <td>-1.11842</td>\n",
       "      <td>c</td>\n",
       "      <td>lO4PlO4P</td>\n",
       "    </tr>\n",
       "    <tr>\n",
       "      <th>1</th>\n",
       "      <td>-0.840669</td>\n",
       "      <td>-1.117428</td>\n",
       "      <td>e</td>\n",
       "      <td>ie8oie8o</td>\n",
       "    </tr>\n",
       "    <tr>\n",
       "      <th>2</th>\n",
       "      <td>-1.00296</td>\n",
       "      <td>-1.115775</td>\n",
       "      <td>h</td>\n",
       "      <td>AoJYAoJY</td>\n",
       "    </tr>\n",
       "    <tr>\n",
       "      <th>3</th>\n",
       "      <td>1.593701</td>\n",
       "      <td>-1.11346</td>\n",
       "      <td>g</td>\n",
       "      <td>Dm7xDm7x</td>\n",
       "    </tr>\n",
       "    <tr>\n",
       "      <th>4</th>\n",
       "      <td>-0.840669</td>\n",
       "      <td>-1.110484</td>\n",
       "      <td>J</td>\n",
       "      <td>IXkkIXkk</td>\n",
       "    </tr>\n",
       "    <tr>\n",
       "      <th>...</th>\n",
       "      <td>...</td>\n",
       "      <td>...</td>\n",
       "      <td>...</td>\n",
       "      <td>...</td>\n",
       "    </tr>\n",
       "    <tr>\n",
       "      <th>95</th>\n",
       "      <td>-0.353795</td>\n",
       "      <td>1.92851</td>\n",
       "      <td>T</td>\n",
       "      <td>bQ4CbQ4C</td>\n",
       "    </tr>\n",
       "    <tr>\n",
       "      <th>96</th>\n",
       "      <td>1.593701</td>\n",
       "      <td>1.992325</td>\n",
       "      <td>u</td>\n",
       "      <td>CVUDCVUD</td>\n",
       "    </tr>\n",
       "    <tr>\n",
       "      <th>97</th>\n",
       "      <td>-0.840669</td>\n",
       "      <td>2.056802</td>\n",
       "      <td>J</td>\n",
       "      <td>sLFysLFy</td>\n",
       "    </tr>\n",
       "    <tr>\n",
       "      <th>98</th>\n",
       "      <td>0.457662</td>\n",
       "      <td>2.121939</td>\n",
       "      <td>N</td>\n",
       "      <td>mMIqmMIq</td>\n",
       "    </tr>\n",
       "    <tr>\n",
       "      <th>99</th>\n",
       "      <td>1.593701</td>\n",
       "      <td>2.187739</td>\n",
       "      <td>y</td>\n",
       "      <td>ZvMVZvMV</td>\n",
       "    </tr>\n",
       "  </tbody>\n",
       "</table>\n",
       "<p>100 rows × 4 columns</p>\n",
       "</div>"
      ],
      "text/plain": [
       "           0         1  2         3\n",
       "0   -1.00296  -1.11842  c  lO4PlO4P\n",
       "1  -0.840669 -1.117428  e  ie8oie8o\n",
       "2   -1.00296 -1.115775  h  AoJYAoJY\n",
       "3   1.593701  -1.11346  g  Dm7xDm7x\n",
       "4  -0.840669 -1.110484  J  IXkkIXkk\n",
       "..       ...       ... ..       ...\n",
       "95 -0.353795   1.92851  T  bQ4CbQ4C\n",
       "96  1.593701  1.992325  u  CVUDCVUD\n",
       "97 -0.840669  2.056802  J  sLFysLFy\n",
       "98  0.457662  2.121939  N  mMIqmMIq\n",
       "99  1.593701  2.187739  y  ZvMVZvMV\n",
       "\n",
       "[100 rows x 4 columns]"
      ]
     },
     "execution_count": 6,
     "metadata": {},
     "output_type": "execute_result"
    }
   ],
   "source": [
    "def standardization(data):\n",
    "\n",
    "  mu = data.mean()\n",
    "  sigma = data.std()\n",
    "\n",
    "  data = (data - mu)/sigma\n",
    "  return data\n",
    "\n",
    "\n",
    "my_data[0]= standardization(my_data[0])\n",
    "my_data[1]= standardization(my_data[1])\n",
    "\n",
    "my_data"
   ]
  },
  {
   "cell_type": "markdown",
   "metadata": {
    "id": "yyIV9zM9dLK5"
   },
   "source": [
    "### c. Add the fifth column as a randomly chosen label among three labels of your choice..\n",
    "### Now consider this dataframe represents your classification data."
   ]
  },
  {
   "cell_type": "code",
   "execution_count": 7,
   "metadata": {
    "colab": {
     "base_uri": "https://localhost:8080/",
     "height": 414
    },
    "id": "gxTGDu8pdkFu",
    "outputId": "964f0f3e-ddee-4420-eee8-0e6993f19eca"
   },
   "outputs": [
    {
     "data": {
      "text/html": [
       "<div>\n",
       "<style scoped>\n",
       "    .dataframe tbody tr th:only-of-type {\n",
       "        vertical-align: middle;\n",
       "    }\n",
       "\n",
       "    .dataframe tbody tr th {\n",
       "        vertical-align: top;\n",
       "    }\n",
       "\n",
       "    .dataframe thead th {\n",
       "        text-align: right;\n",
       "    }\n",
       "</style>\n",
       "<table border=\"1\" class=\"dataframe\">\n",
       "  <thead>\n",
       "    <tr style=\"text-align: right;\">\n",
       "      <th></th>\n",
       "      <th>0</th>\n",
       "      <th>1</th>\n",
       "      <th>2</th>\n",
       "      <th>3</th>\n",
       "      <th>4</th>\n",
       "    </tr>\n",
       "  </thead>\n",
       "  <tbody>\n",
       "    <tr>\n",
       "      <th>0</th>\n",
       "      <td>-1.00296</td>\n",
       "      <td>-1.11842</td>\n",
       "      <td>c</td>\n",
       "      <td>lO4PlO4P</td>\n",
       "      <td>30</td>\n",
       "    </tr>\n",
       "    <tr>\n",
       "      <th>1</th>\n",
       "      <td>-0.840669</td>\n",
       "      <td>-1.117428</td>\n",
       "      <td>e</td>\n",
       "      <td>ie8oie8o</td>\n",
       "      <td>10</td>\n",
       "    </tr>\n",
       "    <tr>\n",
       "      <th>2</th>\n",
       "      <td>-1.00296</td>\n",
       "      <td>-1.115775</td>\n",
       "      <td>h</td>\n",
       "      <td>AoJYAoJY</td>\n",
       "      <td>10</td>\n",
       "    </tr>\n",
       "    <tr>\n",
       "      <th>3</th>\n",
       "      <td>1.593701</td>\n",
       "      <td>-1.11346</td>\n",
       "      <td>g</td>\n",
       "      <td>Dm7xDm7x</td>\n",
       "      <td>10</td>\n",
       "    </tr>\n",
       "    <tr>\n",
       "      <th>4</th>\n",
       "      <td>-0.840669</td>\n",
       "      <td>-1.110484</td>\n",
       "      <td>J</td>\n",
       "      <td>IXkkIXkk</td>\n",
       "      <td>10</td>\n",
       "    </tr>\n",
       "    <tr>\n",
       "      <th>...</th>\n",
       "      <td>...</td>\n",
       "      <td>...</td>\n",
       "      <td>...</td>\n",
       "      <td>...</td>\n",
       "      <td>...</td>\n",
       "    </tr>\n",
       "    <tr>\n",
       "      <th>95</th>\n",
       "      <td>-0.353795</td>\n",
       "      <td>1.92851</td>\n",
       "      <td>T</td>\n",
       "      <td>bQ4CbQ4C</td>\n",
       "      <td>10</td>\n",
       "    </tr>\n",
       "    <tr>\n",
       "      <th>96</th>\n",
       "      <td>1.593701</td>\n",
       "      <td>1.992325</td>\n",
       "      <td>u</td>\n",
       "      <td>CVUDCVUD</td>\n",
       "      <td>30</td>\n",
       "    </tr>\n",
       "    <tr>\n",
       "      <th>97</th>\n",
       "      <td>-0.840669</td>\n",
       "      <td>2.056802</td>\n",
       "      <td>J</td>\n",
       "      <td>sLFysLFy</td>\n",
       "      <td>10</td>\n",
       "    </tr>\n",
       "    <tr>\n",
       "      <th>98</th>\n",
       "      <td>0.457662</td>\n",
       "      <td>2.121939</td>\n",
       "      <td>N</td>\n",
       "      <td>mMIqmMIq</td>\n",
       "      <td>20</td>\n",
       "    </tr>\n",
       "    <tr>\n",
       "      <th>99</th>\n",
       "      <td>1.593701</td>\n",
       "      <td>2.187739</td>\n",
       "      <td>y</td>\n",
       "      <td>ZvMVZvMV</td>\n",
       "      <td>20</td>\n",
       "    </tr>\n",
       "  </tbody>\n",
       "</table>\n",
       "<p>100 rows × 5 columns</p>\n",
       "</div>"
      ],
      "text/plain": [
       "           0         1  2         3   4\n",
       "0   -1.00296  -1.11842  c  lO4PlO4P  30\n",
       "1  -0.840669 -1.117428  e  ie8oie8o  10\n",
       "2   -1.00296 -1.115775  h  AoJYAoJY  10\n",
       "3   1.593701  -1.11346  g  Dm7xDm7x  10\n",
       "4  -0.840669 -1.110484  J  IXkkIXkk  10\n",
       "..       ...       ... ..       ...  ..\n",
       "95 -0.353795   1.92851  T  bQ4CbQ4C  10\n",
       "96  1.593701  1.992325  u  CVUDCVUD  30\n",
       "97 -0.840669  2.056802  J  sLFysLFy  10\n",
       "98  0.457662  2.121939  N  mMIqmMIq  20\n",
       "99  1.593701  2.187739  y  ZvMVZvMV  20\n",
       "\n",
       "[100 rows x 5 columns]"
      ]
     },
     "execution_count": 7,
     "metadata": {},
     "output_type": "execute_result"
    }
   ],
   "source": [
    "#define three labels for random selection\n",
    "my_labels = [10,20,30]\n",
    "\n",
    "#using random.choice() function randomly select labels from given array\n",
    "#df.shape[0] gives number of rows in a data frame\n",
    "#assign values to new column of dataframe \n",
    "my_data[4] = [random.choice(my_labels) for i in range(my_data.shape[0])]\n",
    "my_data"
   ]
  },
  {
   "cell_type": "markdown",
   "metadata": {
    "id": "7nZQHK3OERIR"
   },
   "source": [
    "### d. Plot the data from the first column vs second column with different colors here color represents its class.\n"
   ]
  },
  {
   "cell_type": "code",
   "execution_count": 14,
   "metadata": {
    "colab": {
     "base_uri": "https://localhost:8080/",
     "height": 513
    },
    "id": "-PTVMdXTEcCY",
    "outputId": "702d1ca7-c4c9-487a-f1c0-096f21d525f3"
   },
   "outputs": [
    {
     "data": {
      "image/png": "[encoded data removed]",
      "text/plain": [
       "<Figure size 432x288 with 1 Axes>"
      ]
     },
     "metadata": {
      "needs_background": "light"
     },
     "output_type": "display_data"
    },
    {
     "data": {
      "image/png": "[encoded data removed]",
      "text/plain": [
       "<Figure size 432x288 with 1 Axes>"
      ]
     },
     "metadata": {
      "needs_background": "light"
     },
     "output_type": "display_data"
    }
   ],
   "source": [
    "import matplotlib.pyplot as plt\n",
    "\n",
    "my_data.columns = ['col1','col2','col3','col4','col5']\n",
    "plt.scatter(my_data['col1'],my_data['col2'], c='red')\n",
    "plt.show()\n",
    "\n",
    "\n",
    "index = np.arange(100)\n",
    "bar_width = 0.4\n",
    "\n",
    "col1 = plt.bar(index, my_data.col1, bar_width, label=\"col1\")\n",
    "col2 = plt.bar(index+bar_width, my_data.col2, bar_width, label=\"col2\")\n",
    "\n",
    "plt.show()"
   ]
  },
  {
   "cell_type": "markdown",
   "metadata": {
    "id": "9CPMchBlWbN6"
   },
   "source": [
    "# 3. Data Preprocessing"
   ]
  },
  {
   "cell_type": "markdown",
   "metadata": {
    "id": "JHpp91Z6aFM3"
   },
   "source": [
    "### b. Read the dataframe using pandas.\n"
   ]
  },
  {
   "cell_type": "code",
   "execution_count": 40,
   "metadata": {
    "colab": {
     "base_uri": "https://localhost:8080/",
     "height": 73,
     "resources": {
      "http://localhost:8080/nbextensions/google.colab/files.js": {
       "data": "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",
       "headers": [
        [
         "content-type",
         "application/javascript"
        ]
       ],
       "ok": true,
       "status": 200,
       "status_text": ""
      }
     }
    },
    "id": "cPvCZ9tKaYuq",
    "outputId": "89e78c78-a874-4b40-d38e-e2a69417a08a"
   },
   "outputs": [
    {
     "data": {
      "text/html": [
       "\n",
       "     <input type=\"file\" id=\"files-a00239dd-b905-4536-ad20-2176a1e2396c\" name=\"files[]\" multiple disabled\n",
       "        style=\"border:none\" />\n",
       "     <output id=\"result-a00239dd-b905-4536-ad20-2176a1e2396c\">\n",
       "      Upload widget is only available when the cell has been executed in the\n",
       "      current browser session. Please rerun this cell to enable.\n",
       "      </output>\n",
       "      <script src=\"/nbextensions/google.colab/files.js\"></script> "
      ],
      "text/plain": [
       "<IPython.core.display.HTML object>"
      ]
     },
     "metadata": {},
     "output_type": "display_data"
    },
    {
     "name": "stdout",
     "output_type": "stream",
     "text": [
      "Saving data.csv to data.csv\n"
     ]
    }
   ],
   "source": [
    "#from google.colab import files\n",
    "#uploaded_file = files.upload()\n"
   ]
  },
  {
   "cell_type": "code",
   "execution_count": 16,
   "metadata": {
    "colab": {
     "base_uri": "https://localhost:8080/",
     "height": 601
    },
    "id": "4TQAAyrBm7bk",
    "outputId": "34a26901-02c8-4bee-ea9f-733315c35c35"
   },
   "outputs": [
    {
     "data": {
      "text/html": [
       "<div>\n",
       "<style scoped>\n",
       "    .dataframe tbody tr th:only-of-type {\n",
       "        vertical-align: middle;\n",
       "    }\n",
       "\n",
       "    .dataframe tbody tr th {\n",
       "        vertical-align: top;\n",
       "    }\n",
       "\n",
       "    .dataframe thead th {\n",
       "        text-align: right;\n",
       "    }\n",
       "</style>\n",
       "<table border=\"1\" class=\"dataframe\">\n",
       "  <thead>\n",
       "    <tr style=\"text-align: right;\">\n",
       "      <th></th>\n",
       "      <th>Row_ID</th>\n",
       "      <th>Accurate_Episode_Date</th>\n",
       "      <th>Case_Reported_Date</th>\n",
       "      <th>Test_Reported_Date</th>\n",
       "      <th>Specimen_Date</th>\n",
       "      <th>Age_Group</th>\n",
       "      <th>Client_Gender</th>\n",
       "      <th>Case_AcquisitionInfo</th>\n",
       "      <th>Outcome1</th>\n",
       "      <th>Outbreak_Related</th>\n",
       "      <th>Reporting_PHU_ID</th>\n",
       "      <th>Reporting_PHU</th>\n",
       "      <th>Reporting_PHU_Address</th>\n",
       "      <th>Reporting_PHU_City</th>\n",
       "      <th>Reporting_PHU_Postal_Code</th>\n",
       "      <th>Reporting_PHU_Website</th>\n",
       "      <th>Reporting_PHU_Latitude</th>\n",
       "      <th>Reporting_PHU_Longitude</th>\n",
       "    </tr>\n",
       "  </thead>\n",
       "  <tbody>\n",
       "    <tr>\n",
       "      <th>0</th>\n",
       "      <td>1</td>\n",
       "      <td>2020-04-29</td>\n",
       "      <td>2020-05-05</td>\n",
       "      <td>2020-05-05</td>\n",
       "      <td>2020-05-03</td>\n",
       "      <td>40s</td>\n",
       "      <td>FEMALE</td>\n",
       "      <td>CC</td>\n",
       "      <td>Resolved</td>\n",
       "      <td>NaN</td>\n",
       "      <td>2253</td>\n",
       "      <td>Peel Public Health</td>\n",
       "      <td>7120 Hurontario Street</td>\n",
       "      <td>Mississauga</td>\n",
       "      <td>L5W 1N4</td>\n",
       "      <td>www.peelregion.ca/health/</td>\n",
       "      <td>43.647471</td>\n",
       "      <td>-79.708893</td>\n",
       "    </tr>\n",
       "    <tr>\n",
       "      <th>1</th>\n",
       "      <td>2</td>\n",
       "      <td>2020-03-29</td>\n",
       "      <td>2020-04-11</td>\n",
       "      <td>2020-04-15</td>\n",
       "      <td>2020-04-08</td>\n",
       "      <td>50s</td>\n",
       "      <td>FEMALE</td>\n",
       "      <td>CC</td>\n",
       "      <td>Fatal</td>\n",
       "      <td>NaN</td>\n",
       "      <td>2253</td>\n",
       "      <td>Peel Public Health</td>\n",
       "      <td>7120 Hurontario Street</td>\n",
       "      <td>Mississauga</td>\n",
       "      <td>L5W 1N4</td>\n",
       "      <td>www.peelregion.ca/health/</td>\n",
       "      <td>43.647471</td>\n",
       "      <td>-79.708893</td>\n",
       "    </tr>\n",
       "    <tr>\n",
       "      <th>2</th>\n",
       "      <td>3</td>\n",
       "      <td>2020-03-29</td>\n",
       "      <td>2020-04-07</td>\n",
       "      <td>2020-04-07</td>\n",
       "      <td>2020-04-06</td>\n",
       "      <td>40s</td>\n",
       "      <td>FEMALE</td>\n",
       "      <td>CC</td>\n",
       "      <td>Resolved</td>\n",
       "      <td>NaN</td>\n",
       "      <td>2253</td>\n",
       "      <td>Peel Public Health</td>\n",
       "      <td>7120 Hurontario Street</td>\n",
       "      <td>Mississauga</td>\n",
       "      <td>L5W 1N4</td>\n",
       "      <td>www.peelregion.ca/health/</td>\n",
       "      <td>43.647471</td>\n",
       "      <td>-79.708893</td>\n",
       "    </tr>\n",
       "    <tr>\n",
       "      <th>3</th>\n",
       "      <td>4</td>\n",
       "      <td>2020-06-15</td>\n",
       "      <td>2020-06-16</td>\n",
       "      <td>2020-06-16</td>\n",
       "      <td>2020-06-15</td>\n",
       "      <td>30s</td>\n",
       "      <td>FEMALE</td>\n",
       "      <td>UNSPECIFIED EPI LINK</td>\n",
       "      <td>Resolved</td>\n",
       "      <td>NaN</td>\n",
       "      <td>2253</td>\n",
       "      <td>Peel Public Health</td>\n",
       "      <td>7120 Hurontario Street</td>\n",
       "      <td>Mississauga</td>\n",
       "      <td>L5W 1N4</td>\n",
       "      <td>www.peelregion.ca/health/</td>\n",
       "      <td>43.647471</td>\n",
       "      <td>-79.708893</td>\n",
       "    </tr>\n",
       "    <tr>\n",
       "      <th>4</th>\n",
       "      <td>5</td>\n",
       "      <td>2020-04-17</td>\n",
       "      <td>2020-04-28</td>\n",
       "      <td>2020-04-28</td>\n",
       "      <td>2020-04-27</td>\n",
       "      <td>50s</td>\n",
       "      <td>FEMALE</td>\n",
       "      <td>CC</td>\n",
       "      <td>Resolved</td>\n",
       "      <td>NaN</td>\n",
       "      <td>2253</td>\n",
       "      <td>Peel Public Health</td>\n",
       "      <td>7120 Hurontario Street</td>\n",
       "      <td>Mississauga</td>\n",
       "      <td>L5W 1N4</td>\n",
       "      <td>www.peelregion.ca/health/</td>\n",
       "      <td>43.647471</td>\n",
       "      <td>-79.708893</td>\n",
       "    </tr>\n",
       "    <tr>\n",
       "      <th>...</th>\n",
       "      <td>...</td>\n",
       "      <td>...</td>\n",
       "      <td>...</td>\n",
       "      <td>...</td>\n",
       "      <td>...</td>\n",
       "      <td>...</td>\n",
       "      <td>...</td>\n",
       "      <td>...</td>\n",
       "      <td>...</td>\n",
       "      <td>...</td>\n",
       "      <td>...</td>\n",
       "      <td>...</td>\n",
       "      <td>...</td>\n",
       "      <td>...</td>\n",
       "      <td>...</td>\n",
       "      <td>...</td>\n",
       "      <td>...</td>\n",
       "      <td>...</td>\n",
       "    </tr>\n",
       "    <tr>\n",
       "      <th>314898</th>\n",
       "      <td>314899</td>\n",
       "      <td>2020-10-11</td>\n",
       "      <td>2020-10-13</td>\n",
       "      <td>2020-10-13</td>\n",
       "      <td>2020-10-12</td>\n",
       "      <td>&lt;20</td>\n",
       "      <td>FEMALE</td>\n",
       "      <td>MISSING INFORMATION</td>\n",
       "      <td>Resolved</td>\n",
       "      <td>NaN</td>\n",
       "      <td>3895</td>\n",
       "      <td>Toronto Public Health</td>\n",
       "      <td>277 Victoria Street, 5th Floor</td>\n",
       "      <td>Toronto</td>\n",
       "      <td>M5B 1W2</td>\n",
       "      <td>www.toronto.ca/community-people/health-wellnes...</td>\n",
       "      <td>43.656591</td>\n",
       "      <td>-79.379358</td>\n",
       "    </tr>\n",
       "    <tr>\n",
       "      <th>314899</th>\n",
       "      <td>314900</td>\n",
       "      <td>2020-06-02</td>\n",
       "      <td>2020-06-06</td>\n",
       "      <td>2020-06-06</td>\n",
       "      <td>2020-06-05</td>\n",
       "      <td>50s</td>\n",
       "      <td>FEMALE</td>\n",
       "      <td>CC</td>\n",
       "      <td>Resolved</td>\n",
       "      <td>NaN</td>\n",
       "      <td>3895</td>\n",
       "      <td>Toronto Public Health</td>\n",
       "      <td>277 Victoria Street, 5th Floor</td>\n",
       "      <td>Toronto</td>\n",
       "      <td>M5B 1W2</td>\n",
       "      <td>www.toronto.ca/community-people/health-wellnes...</td>\n",
       "      <td>43.656591</td>\n",
       "      <td>-79.379358</td>\n",
       "    </tr>\n",
       "    <tr>\n",
       "      <th>314900</th>\n",
       "      <td>314901</td>\n",
       "      <td>2020-05-25</td>\n",
       "      <td>2020-05-27</td>\n",
       "      <td>2020-05-27</td>\n",
       "      <td>2020-05-25</td>\n",
       "      <td>50s</td>\n",
       "      <td>MALE</td>\n",
       "      <td>MISSING INFORMATION</td>\n",
       "      <td>Resolved</td>\n",
       "      <td>NaN</td>\n",
       "      <td>3895</td>\n",
       "      <td>Toronto Public Health</td>\n",
       "      <td>277 Victoria Street, 5th Floor</td>\n",
       "      <td>Toronto</td>\n",
       "      <td>M5B 1W2</td>\n",
       "      <td>www.toronto.ca/community-people/health-wellnes...</td>\n",
       "      <td>43.656591</td>\n",
       "      <td>-79.379358</td>\n",
       "    </tr>\n",
       "    <tr>\n",
       "      <th>314901</th>\n",
       "      <td>314902</td>\n",
       "      <td>2020-11-30</td>\n",
       "      <td>2020-12-02</td>\n",
       "      <td>2020-12-02</td>\n",
       "      <td>2020-11-30</td>\n",
       "      <td>&lt;20</td>\n",
       "      <td>FEMALE</td>\n",
       "      <td>MISSING INFORMATION</td>\n",
       "      <td>Resolved</td>\n",
       "      <td>NaN</td>\n",
       "      <td>3895</td>\n",
       "      <td>Toronto Public Health</td>\n",
       "      <td>277 Victoria Street, 5th Floor</td>\n",
       "      <td>Toronto</td>\n",
       "      <td>M5B 1W2</td>\n",
       "      <td>www.toronto.ca/community-people/health-wellnes...</td>\n",
       "      <td>43.656591</td>\n",
       "      <td>-79.379358</td>\n",
       "    </tr>\n",
       "    <tr>\n",
       "      <th>314902</th>\n",
       "      <td>314903</td>\n",
       "      <td>2020-09-23</td>\n",
       "      <td>2020-09-27</td>\n",
       "      <td>2020-09-27</td>\n",
       "      <td>2020-09-23</td>\n",
       "      <td>20s</td>\n",
       "      <td>MALE</td>\n",
       "      <td>CC</td>\n",
       "      <td>Resolved</td>\n",
       "      <td>NaN</td>\n",
       "      <td>3895</td>\n",
       "      <td>Toronto Public Health</td>\n",
       "      <td>277 Victoria Street, 5th Floor</td>\n",
       "      <td>Toronto</td>\n",
       "      <td>M5B 1W2</td>\n",
       "      <td>www.toronto.ca/community-people/health-wellnes...</td>\n",
       "      <td>43.656591</td>\n",
       "      <td>-79.379358</td>\n",
       "    </tr>\n",
       "  </tbody>\n",
       "</table>\n",
       "<p>314903 rows × 18 columns</p>\n",
       "</div>"
      ],
      "text/plain": [
       "        Row_ID Accurate_Episode_Date Case_Reported_Date Test_Reported_Date  \\\n",
       "0            1            2020-04-29         2020-05-05         2020-05-05   \n",
       "1            2            2020-03-29         2020-04-11         2020-04-15   \n",
       "2            3            2020-03-29         2020-04-07         2020-04-07   \n",
       "3            4            2020-06-15         2020-06-16         2020-06-16   \n",
       "4            5            2020-04-17         2020-04-28         2020-04-28   \n",
       "...        ...                   ...                ...                ...   \n",
       "314898  314899            2020-10-11         2020-10-13         2020-10-13   \n",
       "314899  314900            2020-06-02         2020-06-06         2020-06-06   \n",
       "314900  314901            2020-05-25         2020-05-27         2020-05-27   \n",
       "314901  314902            2020-11-30         2020-12-02         2020-12-02   \n",
       "314902  314903            2020-09-23         2020-09-27         2020-09-27   \n",
       "\n",
       "       Specimen_Date Age_Group Client_Gender  Case_AcquisitionInfo  Outcome1  \\\n",
       "0         2020-05-03       40s        FEMALE                    CC  Resolved   \n",
       "1         2020-04-08       50s        FEMALE                    CC     Fatal   \n",
       "2         2020-04-06       40s        FEMALE                    CC  Resolved   \n",
       "3         2020-06-15       30s        FEMALE  UNSPECIFIED EPI LINK  Resolved   \n",
       "4         2020-04-27       50s        FEMALE                    CC  Resolved   \n",
       "...              ...       ...           ...                   ...       ...   \n",
       "314898    2020-10-12       <20        FEMALE   MISSING INFORMATION  Resolved   \n",
       "314899    2020-06-05       50s        FEMALE                    CC  Resolved   \n",
       "314900    2020-05-25       50s          MALE   MISSING INFORMATION  Resolved   \n",
       "314901    2020-11-30       <20        FEMALE   MISSING INFORMATION  Resolved   \n",
       "314902    2020-09-23       20s          MALE                    CC  Resolved   \n",
       "\n",
       "       Outbreak_Related  Reporting_PHU_ID          Reporting_PHU  \\\n",
       "0                   NaN              2253     Peel Public Health   \n",
       "1                   NaN              2253     Peel Public Health   \n",
       "2                   NaN              2253     Peel Public Health   \n",
       "3                   NaN              2253     Peel Public Health   \n",
       "4                   NaN              2253     Peel Public Health   \n",
       "...                 ...               ...                    ...   \n",
       "314898              NaN              3895  Toronto Public Health   \n",
       "314899              NaN              3895  Toronto Public Health   \n",
       "314900              NaN              3895  Toronto Public Health   \n",
       "314901              NaN              3895  Toronto Public Health   \n",
       "314902              NaN              3895  Toronto Public Health   \n",
       "\n",
       "                 Reporting_PHU_Address Reporting_PHU_City  \\\n",
       "0               7120 Hurontario Street        Mississauga   \n",
       "1               7120 Hurontario Street        Mississauga   \n",
       "2               7120 Hurontario Street        Mississauga   \n",
       "3               7120 Hurontario Street        Mississauga   \n",
       "4               7120 Hurontario Street        Mississauga   \n",
       "...                                ...                ...   \n",
       "314898  277 Victoria Street, 5th Floor            Toronto   \n",
       "314899  277 Victoria Street, 5th Floor            Toronto   \n",
       "314900  277 Victoria Street, 5th Floor            Toronto   \n",
       "314901  277 Victoria Street, 5th Floor            Toronto   \n",
       "314902  277 Victoria Street, 5th Floor            Toronto   \n",
       "\n",
       "       Reporting_PHU_Postal_Code  \\\n",
       "0                        L5W 1N4   \n",
       "1                        L5W 1N4   \n",
       "2                        L5W 1N4   \n",
       "3                        L5W 1N4   \n",
       "4                        L5W 1N4   \n",
       "...                          ...   \n",
       "314898                   M5B 1W2   \n",
       "314899                   M5B 1W2   \n",
       "314900                   M5B 1W2   \n",
       "314901                   M5B 1W2   \n",
       "314902                   M5B 1W2   \n",
       "\n",
       "                                    Reporting_PHU_Website  \\\n",
       "0                               www.peelregion.ca/health/   \n",
       "1                               www.peelregion.ca/health/   \n",
       "2                               www.peelregion.ca/health/   \n",
       "3                               www.peelregion.ca/health/   \n",
       "4                               www.peelregion.ca/health/   \n",
       "...                                                   ...   \n",
       "314898  www.toronto.ca/community-people/health-wellnes...   \n",
       "314899  www.toronto.ca/community-people/health-wellnes...   \n",
       "314900  www.toronto.ca/community-people/health-wellnes...   \n",
       "314901  www.toronto.ca/community-people/health-wellnes...   \n",
       "314902  www.toronto.ca/community-people/health-wellnes...   \n",
       "\n",
       "        Reporting_PHU_Latitude  Reporting_PHU_Longitude  \n",
       "0                    43.647471               -79.708893  \n",
       "1                    43.647471               -79.708893  \n",
       "2                    43.647471               -79.708893  \n",
       "3                    43.647471               -79.708893  \n",
       "4                    43.647471               -79.708893  \n",
       "...                        ...                      ...  \n",
       "314898               43.656591               -79.379358  \n",
       "314899               43.656591               -79.379358  \n",
       "314900               43.656591               -79.379358  \n",
       "314901               43.656591               -79.379358  \n",
       "314902               43.656591               -79.379358  \n",
       "\n",
       "[314903 rows x 18 columns]"
      ]
     },
     "execution_count": 16,
     "metadata": {},
     "output_type": "execute_result"
    }
   ],
   "source": [
    "import pandas as pd\n",
    "data = pd.read_csv('data.csv')\n",
    "data"
   ]
  },
  {
   "cell_type": "markdown",
   "metadata": {
    "id": "jWC0_DcOnrtY"
   },
   "source": [
    "### c. Among date columns, keep one any one column and delete others."
   ]
  },
  {
   "cell_type": "code",
   "execution_count": 17,
   "metadata": {
    "colab": {
     "base_uri": "https://localhost:8080/",
     "height": 542
    },
    "id": "43jAkHu_n2sq",
    "outputId": "89ea8f74-a3b5-41a3-c65a-be4976a1fa9b"
   },
   "outputs": [
    {
     "data": {
      "text/html": [
       "<div>\n",
       "<style scoped>\n",
       "    .dataframe tbody tr th:only-of-type {\n",
       "        vertical-align: middle;\n",
       "    }\n",
       "\n",
       "    .dataframe tbody tr th {\n",
       "        vertical-align: top;\n",
       "    }\n",
       "\n",
       "    .dataframe thead th {\n",
       "        text-align: right;\n",
       "    }\n",
       "</style>\n",
       "<table border=\"1\" class=\"dataframe\">\n",
       "  <thead>\n",
       "    <tr style=\"text-align: right;\">\n",
       "      <th></th>\n",
       "      <th>Row_ID</th>\n",
       "      <th>Specimen_Date</th>\n",
       "      <th>Age_Group</th>\n",
       "      <th>Client_Gender</th>\n",
       "      <th>Case_AcquisitionInfo</th>\n",
       "      <th>Outcome1</th>\n",
       "      <th>Outbreak_Related</th>\n",
       "      <th>Reporting_PHU_ID</th>\n",
       "      <th>Reporting_PHU</th>\n",
       "      <th>Reporting_PHU_Address</th>\n",
       "      <th>Reporting_PHU_City</th>\n",
       "      <th>Reporting_PHU_Postal_Code</th>\n",
       "      <th>Reporting_PHU_Website</th>\n",
       "      <th>Reporting_PHU_Latitude</th>\n",
       "      <th>Reporting_PHU_Longitude</th>\n",
       "    </tr>\n",
       "  </thead>\n",
       "  <tbody>\n",
       "    <tr>\n",
       "      <th>0</th>\n",
       "      <td>1</td>\n",
       "      <td>2020-05-03</td>\n",
       "      <td>40s</td>\n",
       "      <td>FEMALE</td>\n",
       "      <td>CC</td>\n",
       "      <td>Resolved</td>\n",
       "      <td>NaN</td>\n",
       "      <td>2253</td>\n",
       "      <td>Peel Public Health</td>\n",
       "      <td>7120 Hurontario Street</td>\n",
       "      <td>Mississauga</td>\n",
       "      <td>L5W 1N4</td>\n",
       "      <td>www.peelregion.ca/health/</td>\n",
       "      <td>43.647471</td>\n",
       "      <td>-79.708893</td>\n",
       "    </tr>\n",
       "    <tr>\n",
       "      <th>1</th>\n",
       "      <td>2</td>\n",
       "      <td>2020-04-08</td>\n",
       "      <td>50s</td>\n",
       "      <td>FEMALE</td>\n",
       "      <td>CC</td>\n",
       "      <td>Fatal</td>\n",
       "      <td>NaN</td>\n",
       "      <td>2253</td>\n",
       "      <td>Peel Public Health</td>\n",
       "      <td>7120 Hurontario Street</td>\n",
       "      <td>Mississauga</td>\n",
       "      <td>L5W 1N4</td>\n",
       "      <td>www.peelregion.ca/health/</td>\n",
       "      <td>43.647471</td>\n",
       "      <td>-79.708893</td>\n",
       "    </tr>\n",
       "    <tr>\n",
       "      <th>2</th>\n",
       "      <td>3</td>\n",
       "      <td>2020-04-06</td>\n",
       "      <td>40s</td>\n",
       "      <td>FEMALE</td>\n",
       "      <td>CC</td>\n",
       "      <td>Resolved</td>\n",
       "      <td>NaN</td>\n",
       "      <td>2253</td>\n",
       "      <td>Peel Public Health</td>\n",
       "      <td>7120 Hurontario Street</td>\n",
       "      <td>Mississauga</td>\n",
       "      <td>L5W 1N4</td>\n",
       "      <td>www.peelregion.ca/health/</td>\n",
       "      <td>43.647471</td>\n",
       "      <td>-79.708893</td>\n",
       "    </tr>\n",
       "    <tr>\n",
       "      <th>3</th>\n",
       "      <td>4</td>\n",
       "      <td>2020-06-15</td>\n",
       "      <td>30s</td>\n",
       "      <td>FEMALE</td>\n",
       "      <td>UNSPECIFIED EPI LINK</td>\n",
       "      <td>Resolved</td>\n",
       "      <td>NaN</td>\n",
       "      <td>2253</td>\n",
       "      <td>Peel Public Health</td>\n",
       "      <td>7120 Hurontario Street</td>\n",
       "      <td>Mississauga</td>\n",
       "      <td>L5W 1N4</td>\n",
       "      <td>www.peelregion.ca/health/</td>\n",
       "      <td>43.647471</td>\n",
       "      <td>-79.708893</td>\n",
       "    </tr>\n",
       "    <tr>\n",
       "      <th>4</th>\n",
       "      <td>5</td>\n",
       "      <td>2020-04-27</td>\n",
       "      <td>50s</td>\n",
       "      <td>FEMALE</td>\n",
       "      <td>CC</td>\n",
       "      <td>Resolved</td>\n",
       "      <td>NaN</td>\n",
       "      <td>2253</td>\n",
       "      <td>Peel Public Health</td>\n",
       "      <td>7120 Hurontario Street</td>\n",
       "      <td>Mississauga</td>\n",
       "      <td>L5W 1N4</td>\n",
       "      <td>www.peelregion.ca/health/</td>\n",
       "      <td>43.647471</td>\n",
       "      <td>-79.708893</td>\n",
       "    </tr>\n",
       "    <tr>\n",
       "      <th>5</th>\n",
       "      <td>6</td>\n",
       "      <td>2020-07-01</td>\n",
       "      <td>30s</td>\n",
       "      <td>FEMALE</td>\n",
       "      <td>OB</td>\n",
       "      <td>Resolved</td>\n",
       "      <td>NaN</td>\n",
       "      <td>2253</td>\n",
       "      <td>Peel Public Health</td>\n",
       "      <td>7120 Hurontario Street</td>\n",
       "      <td>Mississauga</td>\n",
       "      <td>L5W 1N4</td>\n",
       "      <td>www.peelregion.ca/health/</td>\n",
       "      <td>43.647471</td>\n",
       "      <td>-79.708893</td>\n",
       "    </tr>\n",
       "    <tr>\n",
       "      <th>6</th>\n",
       "      <td>7</td>\n",
       "      <td>2020-04-03</td>\n",
       "      <td>30s</td>\n",
       "      <td>MALE</td>\n",
       "      <td>OB</td>\n",
       "      <td>Resolved</td>\n",
       "      <td>Yes</td>\n",
       "      <td>2253</td>\n",
       "      <td>Peel Public Health</td>\n",
       "      <td>7120 Hurontario Street</td>\n",
       "      <td>Mississauga</td>\n",
       "      <td>L5W 1N4</td>\n",
       "      <td>www.peelregion.ca/health/</td>\n",
       "      <td>43.647471</td>\n",
       "      <td>-79.708893</td>\n",
       "    </tr>\n",
       "    <tr>\n",
       "      <th>7</th>\n",
       "      <td>8</td>\n",
       "      <td>2020-05-22</td>\n",
       "      <td>20s</td>\n",
       "      <td>MALE</td>\n",
       "      <td>CC</td>\n",
       "      <td>Resolved</td>\n",
       "      <td>NaN</td>\n",
       "      <td>2253</td>\n",
       "      <td>Peel Public Health</td>\n",
       "      <td>7120 Hurontario Street</td>\n",
       "      <td>Mississauga</td>\n",
       "      <td>L5W 1N4</td>\n",
       "      <td>www.peelregion.ca/health/</td>\n",
       "      <td>43.647471</td>\n",
       "      <td>-79.708893</td>\n",
       "    </tr>\n",
       "    <tr>\n",
       "      <th>8</th>\n",
       "      <td>9</td>\n",
       "      <td>2020-07-10</td>\n",
       "      <td>40s</td>\n",
       "      <td>MALE</td>\n",
       "      <td>CC</td>\n",
       "      <td>Resolved</td>\n",
       "      <td>NaN</td>\n",
       "      <td>2253</td>\n",
       "      <td>Peel Public Health</td>\n",
       "      <td>7120 Hurontario Street</td>\n",
       "      <td>Mississauga</td>\n",
       "      <td>L5W 1N4</td>\n",
       "      <td>www.peelregion.ca/health/</td>\n",
       "      <td>43.647471</td>\n",
       "      <td>-79.708893</td>\n",
       "    </tr>\n",
       "    <tr>\n",
       "      <th>9</th>\n",
       "      <td>10</td>\n",
       "      <td>2020-04-22</td>\n",
       "      <td>20s</td>\n",
       "      <td>FEMALE</td>\n",
       "      <td>NO KNOWN EPI LINK</td>\n",
       "      <td>Resolved</td>\n",
       "      <td>NaN</td>\n",
       "      <td>2253</td>\n",
       "      <td>Peel Public Health</td>\n",
       "      <td>7120 Hurontario Street</td>\n",
       "      <td>Mississauga</td>\n",
       "      <td>L5W 1N4</td>\n",
       "      <td>www.peelregion.ca/health/</td>\n",
       "      <td>43.647471</td>\n",
       "      <td>-79.708893</td>\n",
       "    </tr>\n",
       "  </tbody>\n",
       "</table>\n",
       "</div>"
      ],
      "text/plain": [
       "   Row_ID Specimen_Date Age_Group Client_Gender  Case_AcquisitionInfo  \\\n",
       "0       1    2020-05-03       40s        FEMALE                    CC   \n",
       "1       2    2020-04-08       50s        FEMALE                    CC   \n",
       "2       3    2020-04-06       40s        FEMALE                    CC   \n",
       "3       4    2020-06-15       30s        FEMALE  UNSPECIFIED EPI LINK   \n",
       "4       5    2020-04-27       50s        FEMALE                    CC   \n",
       "5       6    2020-07-01       30s        FEMALE                    OB   \n",
       "6       7    2020-04-03       30s          MALE                    OB   \n",
       "7       8    2020-05-22       20s          MALE                    CC   \n",
       "8       9    2020-07-10       40s          MALE                    CC   \n",
       "9      10    2020-04-22       20s        FEMALE     NO KNOWN EPI LINK   \n",
       "\n",
       "   Outcome1 Outbreak_Related  Reporting_PHU_ID       Reporting_PHU  \\\n",
       "0  Resolved              NaN              2253  Peel Public Health   \n",
       "1     Fatal              NaN              2253  Peel Public Health   \n",
       "2  Resolved              NaN              2253  Peel Public Health   \n",
       "3  Resolved              NaN              2253  Peel Public Health   \n",
       "4  Resolved              NaN              2253  Peel Public Health   \n",
       "5  Resolved              NaN              2253  Peel Public Health   \n",
       "6  Resolved              Yes              2253  Peel Public Health   \n",
       "7  Resolved              NaN              2253  Peel Public Health   \n",
       "8  Resolved              NaN              2253  Peel Public Health   \n",
       "9  Resolved              NaN              2253  Peel Public Health   \n",
       "\n",
       "    Reporting_PHU_Address Reporting_PHU_City Reporting_PHU_Postal_Code  \\\n",
       "0  7120 Hurontario Street        Mississauga                   L5W 1N4   \n",
       "1  7120 Hurontario Street        Mississauga                   L5W 1N4   \n",
       "2  7120 Hurontario Street        Mississauga                   L5W 1N4   \n",
       "3  7120 Hurontario Street        Mississauga                   L5W 1N4   \n",
       "4  7120 Hurontario Street        Mississauga                   L5W 1N4   \n",
       "5  7120 Hurontario Street        Mississauga                   L5W 1N4   \n",
       "6  7120 Hurontario Street        Mississauga                   L5W 1N4   \n",
       "7  7120 Hurontario Street        Mississauga                   L5W 1N4   \n",
       "8  7120 Hurontario Street        Mississauga                   L5W 1N4   \n",
       "9  7120 Hurontario Street        Mississauga                   L5W 1N4   \n",
       "\n",
       "       Reporting_PHU_Website  Reporting_PHU_Latitude  Reporting_PHU_Longitude  \n",
       "0  www.peelregion.ca/health/               43.647471               -79.708893  \n",
       "1  www.peelregion.ca/health/               43.647471               -79.708893  \n",
       "2  www.peelregion.ca/health/               43.647471               -79.708893  \n",
       "3  www.peelregion.ca/health/               43.647471               -79.708893  \n",
       "4  www.peelregion.ca/health/               43.647471               -79.708893  \n",
       "5  www.peelregion.ca/health/               43.647471               -79.708893  \n",
       "6  www.peelregion.ca/health/               43.647471               -79.708893  \n",
       "7  www.peelregion.ca/health/               43.647471               -79.708893  \n",
       "8  www.peelregion.ca/health/               43.647471               -79.708893  \n",
       "9  www.peelregion.ca/health/               43.647471               -79.708893  "
      ]
     },
     "execution_count": 17,
     "metadata": {},
     "output_type": "execute_result"
    }
   ],
   "source": [
    "data.drop(['Accurate_Episode_Date', 'Case_Reported_Date', 'Test_Reported_Date'], axis=1, inplace=True)\n",
    "#del data['Test_Reported_Date']\n",
    "data.head(10)"
   ]
  },
  {
   "cell_type": "markdown",
   "metadata": {
    "id": "pNHfcOdJoth_"
   },
   "source": [
    "### d. Perform all preprocessing steps needed such as deleting unwanted columns changing the format of some column data and other required changes. Take care of missing data. Do justify your steps.\n"
   ]
  },
  {
   "cell_type": "code",
   "execution_count": 18,
   "metadata": {
    "colab": {
     "base_uri": "https://localhost:8080/",
     "height": 355
    },
    "id": "F9y8mjCjtxk2",
    "outputId": "97563bfe-245a-4114-a021-606165b3d98d"
   },
   "outputs": [
    {
     "data": {
      "text/html": [
       "<div>\n",
       "<style scoped>\n",
       "    .dataframe tbody tr th:only-of-type {\n",
       "        vertical-align: middle;\n",
       "    }\n",
       "\n",
       "    .dataframe tbody tr th {\n",
       "        vertical-align: top;\n",
       "    }\n",
       "\n",
       "    .dataframe thead th {\n",
       "        text-align: right;\n",
       "    }\n",
       "</style>\n",
       "<table border=\"1\" class=\"dataframe\">\n",
       "  <thead>\n",
       "    <tr style=\"text-align: right;\">\n",
       "      <th></th>\n",
       "      <th>Age_Group</th>\n",
       "      <th>Client_Gender</th>\n",
       "      <th>Case_AcquisitionInfo</th>\n",
       "      <th>Outcome1</th>\n",
       "      <th>Reporting_PHU_ID</th>\n",
       "    </tr>\n",
       "  </thead>\n",
       "  <tbody>\n",
       "    <tr>\n",
       "      <th>0</th>\n",
       "      <td>40s</td>\n",
       "      <td>FEMALE</td>\n",
       "      <td>CC</td>\n",
       "      <td>Resolved</td>\n",
       "      <td>2253</td>\n",
       "    </tr>\n",
       "    <tr>\n",
       "      <th>1</th>\n",
       "      <td>50s</td>\n",
       "      <td>FEMALE</td>\n",
       "      <td>CC</td>\n",
       "      <td>Fatal</td>\n",
       "      <td>2253</td>\n",
       "    </tr>\n",
       "    <tr>\n",
       "      <th>2</th>\n",
       "      <td>40s</td>\n",
       "      <td>FEMALE</td>\n",
       "      <td>CC</td>\n",
       "      <td>Resolved</td>\n",
       "      <td>2253</td>\n",
       "    </tr>\n",
       "    <tr>\n",
       "      <th>3</th>\n",
       "      <td>30s</td>\n",
       "      <td>FEMALE</td>\n",
       "      <td>UNSPECIFIED EPI LINK</td>\n",
       "      <td>Resolved</td>\n",
       "      <td>2253</td>\n",
       "    </tr>\n",
       "    <tr>\n",
       "      <th>4</th>\n",
       "      <td>50s</td>\n",
       "      <td>FEMALE</td>\n",
       "      <td>CC</td>\n",
       "      <td>Resolved</td>\n",
       "      <td>2253</td>\n",
       "    </tr>\n",
       "    <tr>\n",
       "      <th>5</th>\n",
       "      <td>30s</td>\n",
       "      <td>FEMALE</td>\n",
       "      <td>OB</td>\n",
       "      <td>Resolved</td>\n",
       "      <td>2253</td>\n",
       "    </tr>\n",
       "    <tr>\n",
       "      <th>6</th>\n",
       "      <td>30s</td>\n",
       "      <td>MALE</td>\n",
       "      <td>OB</td>\n",
       "      <td>Resolved</td>\n",
       "      <td>2253</td>\n",
       "    </tr>\n",
       "    <tr>\n",
       "      <th>7</th>\n",
       "      <td>20s</td>\n",
       "      <td>MALE</td>\n",
       "      <td>CC</td>\n",
       "      <td>Resolved</td>\n",
       "      <td>2253</td>\n",
       "    </tr>\n",
       "    <tr>\n",
       "      <th>8</th>\n",
       "      <td>40s</td>\n",
       "      <td>MALE</td>\n",
       "      <td>CC</td>\n",
       "      <td>Resolved</td>\n",
       "      <td>2253</td>\n",
       "    </tr>\n",
       "    <tr>\n",
       "      <th>9</th>\n",
       "      <td>20s</td>\n",
       "      <td>FEMALE</td>\n",
       "      <td>NO KNOWN EPI LINK</td>\n",
       "      <td>Resolved</td>\n",
       "      <td>2253</td>\n",
       "    </tr>\n",
       "  </tbody>\n",
       "</table>\n",
       "</div>"
      ],
      "text/plain": [
       "  Age_Group Client_Gender  Case_AcquisitionInfo  Outcome1  Reporting_PHU_ID\n",
       "0       40s        FEMALE                    CC  Resolved              2253\n",
       "1       50s        FEMALE                    CC     Fatal              2253\n",
       "2       40s        FEMALE                    CC  Resolved              2253\n",
       "3       30s        FEMALE  UNSPECIFIED EPI LINK  Resolved              2253\n",
       "4       50s        FEMALE                    CC  Resolved              2253\n",
       "5       30s        FEMALE                    OB  Resolved              2253\n",
       "6       30s          MALE                    OB  Resolved              2253\n",
       "7       20s          MALE                    CC  Resolved              2253\n",
       "8       40s          MALE                    CC  Resolved              2253\n",
       "9       20s        FEMALE     NO KNOWN EPI LINK  Resolved              2253"
      ]
     },
     "execution_count": 18,
     "metadata": {},
     "output_type": "execute_result"
    }
   ],
   "source": [
    "#lots of data missing in the column 'Outbreak_Related'\n",
    "#removing columns other than 'Reporting_PHU_ID' that gives PHU information\n",
    "#remove 'Specimen_Date' lots of irregular data\n",
    "\n",
    "data.drop(['Reporting_PHU','Reporting_PHU_Address','Reporting_PHU_Postal_Code','Reporting_PHU_City', 'Reporting_PHU_Website','Reporting_PHU_Latitude','Reporting_PHU_Longitude'], axis=1, inplace=True)\n",
    "data.drop(['Row_ID','Specimen_Date','Outbreak_Related'], axis=1, inplace=True)\n",
    "data.head(10)"
   ]
  },
  {
   "cell_type": "code",
   "execution_count": 5,
   "metadata": {
    "id": "-zFRa5GAg2L4"
   },
   "outputs": [
    {
     "data": {
      "text/plain": [
       "array(['40s', '50s', '30s', '20s', '60s', '<20', '80s', '70s', '90+',\n",
       "       'UNKNOWN'], dtype=object)"
      ]
     },
     "execution_count": 5,
     "metadata": {},
     "output_type": "execute_result"
    }
   ],
   "source": [
    "#value in the Age_Group\n",
    "data['Age_Group'].unique()"
   ]
  },
  {
   "cell_type": "code",
   "execution_count": 6,
   "metadata": {},
   "outputs": [
    {
     "data": {
      "text/plain": [
       "array(['FEMALE', 'MALE', 'UNSPECIFIED', 'GENDER DIVERSE'], dtype=object)"
      ]
     },
     "execution_count": 6,
     "metadata": {},
     "output_type": "execute_result"
    }
   ],
   "source": [
    "#values in the Client_Gender\n",
    "data['Client_Gender'].unique()"
   ]
  },
  {
   "cell_type": "code",
   "execution_count": 7,
   "metadata": {},
   "outputs": [
    {
     "data": {
      "text/plain": [
       "array(['CC', 'UNSPECIFIED EPI LINK', 'OB', 'NO KNOWN EPI LINK', 'TRAVEL',\n",
       "       'MISSING INFORMATION'], dtype=object)"
      ]
     },
     "execution_count": 7,
     "metadata": {},
     "output_type": "execute_result"
    }
   ],
   "source": [
    "data['Case_AcquisitionInfo'].unique()"
   ]
  },
  {
   "cell_type": "code",
   "execution_count": 8,
   "metadata": {},
   "outputs": [
    {
     "data": {
      "text/plain": [
       "array(['Resolved', 'Fatal', 'Not Resolved'], dtype=object)"
      ]
     },
     "execution_count": 8,
     "metadata": {},
     "output_type": "execute_result"
    }
   ],
   "source": [
    "data['Outcome1'].unique()"
   ]
  },
  {
   "cell_type": "code",
   "execution_count": 9,
   "metadata": {},
   "outputs": [
    {
     "data": {
      "text/plain": [
       "array([2253, 2236, 2241, 3895, 2233, 2270, 2261, 2265, 2268, 2237, 2227,\n",
       "       2260, 2230, 2251, 2266, 4913, 2243, 5183, 2242, 2244, 2246, 2258,\n",
       "       2235, 2238, 2255, 2234, 2262, 2249, 2240, 2247, 2226, 2256, 2257,\n",
       "       2263], dtype=int64)"
      ]
     },
     "execution_count": 9,
     "metadata": {},
     "output_type": "execute_result"
    }
   ],
   "source": [
    "data['Reporting_PHU_ID'].unique()"
   ]
  },
  {
   "cell_type": "code",
   "execution_count": 10,
   "metadata": {},
   "outputs": [
    {
     "data": {
      "text/plain": [
       "Age_Group               0\n",
       "Client_Gender           0\n",
       "Case_AcquisitionInfo    0\n",
       "Outcome1                0\n",
       "Reporting_PHU_ID        0\n",
       "dtype: int64"
      ]
     },
     "execution_count": 10,
     "metadata": {},
     "output_type": "execute_result"
    }
   ],
   "source": [
    "data.isnull().sum()         #none of the missing values are in the form of nan"
   ]
  },
  {
   "cell_type": "code",
   "execution_count": 26,
   "metadata": {},
   "outputs": [
    {
     "data": {
      "text/plain": [
       "array(['40s', '50s', '30s', '20s', '60s', '10s', '80s', '70s', '90+',\n",
       "       'nan'], dtype=object)"
      ]
     },
     "execution_count": 26,
     "metadata": {},
     "output_type": "execute_result"
    }
   ],
   "source": [
    "#replace all the UNSPECIFIED, MISSING INFORMATION, UNKNOWN with np.nan to handle them as as whole\n",
    "\n",
    "data = data.replace(to_replace=['MISSING INFORMATION', 'UNSPECIFIED', 'UNKNOWN'], value= 'np.nan')\n",
    "\n",
    "#replace age <20 with 10s in the Age_Group\n",
    "\n",
    "data['Age_Group'] = data['Age_Group'].replace(to_replace=['<20'], value='10s')\n",
    "\n",
    "data['Age_Group'].unique()"
   ]
  },
  {
   "cell_type": "code",
   "execution_count": 34,
   "metadata": {},
   "outputs": [
    {
     "data": {
      "text/plain": [
       "array([['40s', 'FEMALE', 'CC', 'Resolved', 2253],\n",
       "       ['50s', 'FEMALE', 'CC', 'Fatal', 2253],\n",
       "       ['40s', 'FEMALE', 'CC', 'Resolved', 2253],\n",
       "       ['30s', 'FEMALE', 'UNSPECIFIED EPI LINK', 'Resolved', 2253],\n",
       "       ['50s', 'FEMALE', 'CC', 'Resolved', 2253],\n",
       "       ['30s', 'FEMALE', 'OB', 'Resolved', 2253],\n",
       "       ['30s', 'MALE', 'OB', 'Resolved', 2253],\n",
       "       ['20s', 'MALE', 'CC', 'Resolved', 2253],\n",
       "       ['40s', 'MALE', 'CC', 'Resolved', 2253],\n",
       "       ['20s', 'FEMALE', 'NO KNOWN EPI LINK', 'Resolved', 2253]],\n",
       "      dtype=object)"
      ]
     },
     "execution_count": 34,
     "metadata": {},
     "output_type": "execute_result"
    }
   ],
   "source": [
    "from sklearn.impute import SimpleImputer\n",
    "\n",
    "SI= SimpleImputer(missing_values='np.nan', strategy='most_frequent')\n",
    "SI.fit(data)\n",
    "data=SI.transform(data)\n",
    "data[:10]"
   ]
  },
  {
   "cell_type": "code",
   "execution_count": 39,
   "metadata": {},
   "outputs": [
    {
     "data": {
      "text/plain": [
       "array([[3, 0, 0, 2, 18],\n",
       "       [4, 0, 0, 0, 18],\n",
       "       [3, 0, 0, 2, 18],\n",
       "       [2, 0, 4, 2, 18],\n",
       "       [4, 0, 0, 2, 18],\n",
       "       [2, 0, 2, 2, 18],\n",
       "       [2, 2, 2, 2, 18],\n",
       "       [1, 2, 0, 2, 18],\n",
       "       [3, 2, 0, 2, 18],\n",
       "       [1, 0, 1, 2, 18]], dtype=object)"
      ]
     },
     "execution_count": 39,
     "metadata": {},
     "output_type": "execute_result"
    }
   ],
   "source": [
    "import numpy as np\n",
    "from sklearn.compose import ColumnTransformer\n",
    "from sklearn.preprocessing import OneHotEncoder\n",
    "transformer = ColumnTransformer(transformers=[('encoder', OneHotEncoder(), [0])], remainder='passthrough')\n",
    "In= np.array(transformer.fit_transform(data))\n",
    "\n",
    "from sklearn.preprocessing import LabelEncoder\n",
    "le= LabelEncoder()\n",
    "data[:,0] = le.fit_transform(data[:,0])\n",
    "data[:,1] = le.fit_transform(data[:,1])\n",
    "data[:,2] = le.fit_transform(data[:,2])\n",
    "data[:,3] = le.fit_transform(data[:,3])\n",
    "data[:,4] = le.fit_transform(data[:,4])\n",
    "data[:10]"
   ]
  },
  {
   "cell_type": "code",
   "execution_count": 40,
   "metadata": {},
   "outputs": [
    {
     "data": {
      "text/plain": [
       "array([2, 0, 2, 2, 2, 2, 2, 2, 2, 2], dtype=object)"
      ]
     },
     "execution_count": 40,
     "metadata": {},
     "output_type": "execute_result"
    }
   ],
   "source": [
    "Out = data[:,-2]\n",
    "Out[:10]"
   ]
  },
  {
   "cell_type": "code",
   "execution_count": 43,
   "metadata": {},
   "outputs": [
    {
     "data": {
      "text/plain": [
       "array([[3, 0, 0, 18],\n",
       "       [4, 0, 0, 18],\n",
       "       [3, 0, 0, 18],\n",
       "       [2, 0, 4, 18],\n",
       "       [4, 0, 0, 18],\n",
       "       [2, 0, 2, 18],\n",
       "       [2, 2, 2, 18],\n",
       "       [1, 2, 0, 18],\n",
       "       [3, 2, 0, 18],\n",
       "       [1, 0, 1, 18]], dtype=object)"
      ]
     },
     "execution_count": 43,
     "metadata": {},
     "output_type": "execute_result"
    }
   ],
   "source": [
    "In = np.delete(data, -2, axis=1)\n",
    "In[:10]"
   ]
  },
  {
   "cell_type": "code",
   "execution_count": null,
   "metadata": {},
   "outputs": [],
   "source": []
  },
  {
   "cell_type": "markdown",
   "metadata": {
    "id": "m6h_LHB8USik"
   },
   "source": [
    "### 6. After preprocessing, recognize the output column and split the data in input, output also split the dataset into train test."
   ]
  },
  {
   "cell_type": "code",
   "execution_count": 45,
   "metadata": {
    "colab": {
     "base_uri": "https://localhost:8080/",
     "height": 414
    },
    "id": "cCG2T_2-UaKj",
    "outputId": "43d43b76-b10e-4485-816d-14f91a223921"
   },
   "outputs": [],
   "source": [
    "from sklearn.model_selection import train_test_split\n",
    "In_train, In_test, Out_train, Out_test = train_test_split(In, Out, test_size = 0.2, random_state = 1)\n"
   ]
  },
  {
   "cell_type": "code",
   "execution_count": 46,
   "metadata": {
    "id": "Rg_bV-a5lXpT"
   },
   "outputs": [
    {
     "data": {
      "text/plain": [
       "251922"
      ]
     },
     "execution_count": 46,
     "metadata": {},
     "output_type": "execute_result"
    }
   ],
   "source": [
    "len(In_train)"
   ]
  },
  {
   "cell_type": "code",
   "execution_count": 47,
   "metadata": {},
   "outputs": [
    {
     "data": {
      "text/plain": [
       "251922"
      ]
     },
     "execution_count": 47,
     "metadata": {},
     "output_type": "execute_result"
    }
   ],
   "source": [
    "len(Out_train)"
   ]
  },
  {
   "cell_type": "code",
   "execution_count": 48,
   "metadata": {},
   "outputs": [
    {
     "data": {
      "text/plain": [
       "62981"
      ]
     },
     "execution_count": 48,
     "metadata": {},
     "output_type": "execute_result"
    }
   ],
   "source": [
    "len(In_test)"
   ]
  },
  {
   "cell_type": "code",
   "execution_count": 49,
   "metadata": {},
   "outputs": [
    {
     "data": {
      "text/plain": [
       "62981"
      ]
     },
     "execution_count": 49,
     "metadata": {},
     "output_type": "execute_result"
    }
   ],
   "source": [
    "len(Out_test)"
   ]
  },
  {
   "cell_type": "code",
   "execution_count": 50,
   "metadata": {},
   "outputs": [
    {
     "data": {
      "text/plain": [
       "array([[8, 2, 2, 13],\n",
       "       [3, 2, 2, 23],\n",
       "       [0, 0, 1, 17],\n",
       "       [2, 2, 2, 33],\n",
       "       [1, 0, 2, 30],\n",
       "       [1, 0, 5, 31],\n",
       "       [2, 0, 0, 30],\n",
       "       [4, 0, 0, 17],\n",
       "       [1, 2, 0, 18],\n",
       "       [1, 2, 5, 31]], dtype=object)"
      ]
     },
     "execution_count": 50,
     "metadata": {},
     "output_type": "execute_result"
    }
   ],
   "source": [
    "In_train[:10]"
   ]
  },
  {
   "cell_type": "raw",
   "metadata": {},
   "source": [
    "In_test[:10]"
   ]
  }
 ],
 "metadata": {
  "colab": {
   "name": "Assignment_1.ipynb",
   "provenance": []
  },
  "kernelspec": {
   "display_name": "Python 3 (ipykernel)",
   "language": "python",
   "name": "python3"
  },
  "language_info": {
   "codemirror_mode": {
    "name": "ipython",
    "version": 3
   },
   "file_extension": ".py",
   "mimetype": "text/x-python",
   "name": "python",
   "nbconvert_exporter": "python",
   "pygments_lexer": "ipython3",
   "version": "3.9.6"
  }
 },
 "nbformat": 4,
 "nbformat_minor": 1
}
