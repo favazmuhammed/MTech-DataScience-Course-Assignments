{
  "nbformat": 4,
  "nbformat_minor": 0,
  "metadata": {
    "colab": {
      "name": "Feature Selection_Model selection.ipynb",
      "provenance": []
    },
    "kernelspec": {
      "name": "python3",
      "display_name": "Python 3"
    },
    "language_info": {
      "name": "python"
    }
  },
  "cells": [
    {
      "cell_type": "code",
      "source": [
        "!pip install pefile"
      ],
      "metadata": {
        "colab": {
          "base_uri": "https://localhost:8080/"
        },
        "id": "Wqnz0P2V2Mj7",
        "outputId": "8578e57a-0f57-4e59-e37e-9a89cab7572e"
      },
      "execution_count": null,
      "outputs": [
        {
          "output_type": "stream",
          "name": "stdout",
          "text": [
            "Collecting pefile\n",
            "  Downloading pefile-2021.9.3.tar.gz (72 kB)\n",
            "\u001b[K     |████████████████████████████████| 72 kB 354 kB/s \n",
            "\u001b[?25hRequirement already satisfied: future in /usr/local/lib/python3.7/dist-packages (from pefile) (0.16.0)\n",
            "Building wheels for collected packages: pefile\n",
            "  Building wheel for pefile (setup.py) ... \u001b[?25l\u001b[?25hdone\n",
            "  Created wheel for pefile: filename=pefile-2021.9.3-py3-none-any.whl size=68844 sha256=6aa1c4bdcc26c62a0600cff79dc5a18cedd9f4a616659ea170dfd83b6b47b5ac\n",
            "  Stored in directory: /root/.cache/pip/wheels/50/be/9b/d19a6151b9c6e303f823faedf03193d7e90dac4009a0bdafeb\n",
            "Successfully built pefile\n",
            "Installing collected packages: pefile\n",
            "Successfully installed pefile-2021.9.3\n"
          ]
        }
      ]
    },
    {
      "cell_type": "markdown",
      "source": [
        "Question-3"
      ],
      "metadata": {
        "id": "F11Am21hJ-MY"
      }
    },
    {
      "cell_type": "code",
      "source": [
        "import pandas as pd\n",
        "import numpy as np\n",
        "import matplotlib.pyplot as plt\n",
        "import seaborn as sns\n",
        "\n",
        "from sklearn.model_selection import train_test_split\n",
        "from sklearn.tree import DecisionTreeClassifier\n",
        "from sklearn.ensemble import RandomForestClassifier\n",
        "from sklearn.svm import SVC\n",
        "from sklearn.metrics import accuracy_score, f1_score, precision_score, recall_score, confusion_matrix"
      ],
      "metadata": {
        "id": "IdRkjAJqJ9NP"
      },
      "execution_count": null,
      "outputs": []
    },
    {
      "cell_type": "code",
      "source": [
        "# define function for calculating false positive rate\n",
        "def false_positive_rate(cm):\n",
        "  FP = (cm.sum(axis=0) - np.diag(cm))[0]  \n",
        "  FN = (cm.sum(axis=0) - np.diag(cm))[1] \n",
        "  TP = np.diag(cm)[1]\n",
        "  TN = np.diag(cm)[0]\n",
        "  return FP/(FP+TN)"
      ],
      "metadata": {
        "id": "sER851vEveNj"
      },
      "execution_count": null,
      "outputs": []
    },
    {
      "cell_type": "code",
      "source": [
        "# import data in the csv file\n",
        "data = pd.read_csv('/content/drive/MyDrive/datasets/Assignments/features.csv')\n",
        "data.head()"
      ],
      "metadata": {
        "colab": {
          "base_uri": "https://localhost:8080/",
          "height": 300
        },
        "id": "0WWU0S8Ef3KF",
        "outputId": "6fecaa2a-a710-41f2-d8f5-25f098a903d8"
      },
      "execution_count": null,
      "outputs": [
        {
          "output_type": "execute_result",
          "data": {
            "text/html": [
              "\n",
              "  <div id=\"df-665f467b-3851-40ac-837e-709f1ea58dcd\">\n",
              "    <div class=\"colab-df-container\">\n",
              "      <div>\n",
              "<style scoped>\n",
              "    .dataframe tbody tr th:only-of-type {\n",
              "        vertical-align: middle;\n",
              "    }\n",
              "\n",
              "    .dataframe tbody tr th {\n",
              "        vertical-align: top;\n",
              "    }\n",
              "\n",
              "    .dataframe thead th {\n",
              "        text-align: right;\n",
              "    }\n",
              "</style>\n",
              "<table border=\"1\" class=\"dataframe\">\n",
              "  <thead>\n",
              "    <tr style=\"text-align: right;\">\n",
              "      <th></th>\n",
              "      <th>Machine</th>\n",
              "      <th>NumberOfSections</th>\n",
              "      <th>NumberOfSymbols</th>\n",
              "      <th>TimeDateStamp</th>\n",
              "      <th>Characteristics</th>\n",
              "      <th>SizeOfOptionalHeader</th>\n",
              "      <th>Magic</th>\n",
              "      <th>AddressOfEntryPoint</th>\n",
              "      <th>CheckSum</th>\n",
              "      <th>DllCharacteristics</th>\n",
              "      <th>...</th>\n",
              "      <th>garray</th>\n",
              "      <th>realaudioobjects_tlb</th>\n",
              "      <th>bpl</th>\n",
              "      <th>tmenuitem</th>\n",
              "      <th>fch</th>\n",
              "      <th>qqrv</th>\n",
              "      <th>de1gdzjfw0</th>\n",
              "      <th>vrhx</th>\n",
              "      <th>fp7f</th>\n",
              "      <th>fileCategory</th>\n",
              "    </tr>\n",
              "  </thead>\n",
              "  <tbody>\n",
              "    <tr>\n",
              "      <th>0</th>\n",
              "      <td>332</td>\n",
              "      <td>3</td>\n",
              "      <td>0</td>\n",
              "      <td>1208111602</td>\n",
              "      <td>271</td>\n",
              "      <td>224</td>\n",
              "      <td>267</td>\n",
              "      <td>25619</td>\n",
              "      <td>166732</td>\n",
              "      <td>32768</td>\n",
              "      <td>...</td>\n",
              "      <td>0</td>\n",
              "      <td>0</td>\n",
              "      <td>0</td>\n",
              "      <td>0</td>\n",
              "      <td>0</td>\n",
              "      <td>0</td>\n",
              "      <td>0</td>\n",
              "      <td>0</td>\n",
              "      <td>0</td>\n",
              "      <td>0</td>\n",
              "    </tr>\n",
              "    <tr>\n",
              "      <th>1</th>\n",
              "      <td>332</td>\n",
              "      <td>10</td>\n",
              "      <td>0</td>\n",
              "      <td>1405441342</td>\n",
              "      <td>8450</td>\n",
              "      <td>224</td>\n",
              "      <td>267</td>\n",
              "      <td>4138</td>\n",
              "      <td>670278</td>\n",
              "      <td>0</td>\n",
              "      <td>...</td>\n",
              "      <td>0</td>\n",
              "      <td>0</td>\n",
              "      <td>0</td>\n",
              "      <td>0</td>\n",
              "      <td>0</td>\n",
              "      <td>0</td>\n",
              "      <td>0</td>\n",
              "      <td>0</td>\n",
              "      <td>0</td>\n",
              "      <td>0</td>\n",
              "    </tr>\n",
              "    <tr>\n",
              "      <th>2</th>\n",
              "      <td>332</td>\n",
              "      <td>3</td>\n",
              "      <td>0</td>\n",
              "      <td>1208111618</td>\n",
              "      <td>271</td>\n",
              "      <td>224</td>\n",
              "      <td>267</td>\n",
              "      <td>85420</td>\n",
              "      <td>250152</td>\n",
              "      <td>32768</td>\n",
              "      <td>...</td>\n",
              "      <td>0</td>\n",
              "      <td>0</td>\n",
              "      <td>0</td>\n",
              "      <td>0</td>\n",
              "      <td>0</td>\n",
              "      <td>0</td>\n",
              "      <td>0</td>\n",
              "      <td>0</td>\n",
              "      <td>0</td>\n",
              "      <td>0</td>\n",
              "    </tr>\n",
              "    <tr>\n",
              "      <th>3</th>\n",
              "      <td>332</td>\n",
              "      <td>4</td>\n",
              "      <td>48</td>\n",
              "      <td>1405441237</td>\n",
              "      <td>8966</td>\n",
              "      <td>224</td>\n",
              "      <td>267</td>\n",
              "      <td>42</td>\n",
              "      <td>35920</td>\n",
              "      <td>0</td>\n",
              "      <td>...</td>\n",
              "      <td>0</td>\n",
              "      <td>0</td>\n",
              "      <td>0</td>\n",
              "      <td>0</td>\n",
              "      <td>0</td>\n",
              "      <td>0</td>\n",
              "      <td>0</td>\n",
              "      <td>0</td>\n",
              "      <td>0</td>\n",
              "      <td>0</td>\n",
              "    </tr>\n",
              "    <tr>\n",
              "      <th>4</th>\n",
              "      <td>332</td>\n",
              "      <td>3</td>\n",
              "      <td>0</td>\n",
              "      <td>1208113177</td>\n",
              "      <td>271</td>\n",
              "      <td>224</td>\n",
              "      <td>267</td>\n",
              "      <td>8175</td>\n",
              "      <td>19646</td>\n",
              "      <td>32768</td>\n",
              "      <td>...</td>\n",
              "      <td>0</td>\n",
              "      <td>0</td>\n",
              "      <td>0</td>\n",
              "      <td>0</td>\n",
              "      <td>0</td>\n",
              "      <td>0</td>\n",
              "      <td>0</td>\n",
              "      <td>0</td>\n",
              "      <td>0</td>\n",
              "      <td>0</td>\n",
              "    </tr>\n",
              "  </tbody>\n",
              "</table>\n",
              "<p>5 rows × 76 columns</p>\n",
              "</div>\n",
              "      <button class=\"colab-df-convert\" onclick=\"convertToInteractive('df-665f467b-3851-40ac-837e-709f1ea58dcd')\"\n",
              "              title=\"Convert this dataframe to an interactive table.\"\n",
              "              style=\"display:none;\">\n",
              "        \n",
              "  <svg xmlns=\"http://www.w3.org/2000/svg\" height=\"24px\"viewBox=\"0 0 24 24\"\n",
              "       width=\"24px\">\n",
              "    <path d=\"M0 0h24v24H0V0z\" fill=\"none\"/>\n",
              "    <path d=\"M18.56 5.44l.94 2.06.94-2.06 2.06-.94-2.06-.94-.94-2.06-.94 2.06-2.06.94zm-11 1L8.5 8.5l.94-2.06 2.06-.94-2.06-.94L8.5 2.5l-.94 2.06-2.06.94zm10 10l.94 2.06.94-2.06 2.06-.94-2.06-.94-.94-2.06-.94 2.06-2.06.94z\"/><path d=\"M17.41 7.96l-1.37-1.37c-.4-.4-.92-.59-1.43-.59-.52 0-1.04.2-1.43.59L10.3 9.45l-7.72 7.72c-.78.78-.78 2.05 0 2.83L4 21.41c.39.39.9.59 1.41.59.51 0 1.02-.2 1.41-.59l7.78-7.78 2.81-2.81c.8-.78.8-2.07 0-2.86zM5.41 20L4 18.59l7.72-7.72 1.47 1.35L5.41 20z\"/>\n",
              "  </svg>\n",
              "      </button>\n",
              "      \n",
              "  <style>\n",
              "    .colab-df-container {\n",
              "      display:flex;\n",
              "      flex-wrap:wrap;\n",
              "      gap: 12px;\n",
              "    }\n",
              "\n",
              "    .colab-df-convert {\n",
              "      background-color: #E8F0FE;\n",
              "      border: none;\n",
              "      border-radius: 50%;\n",
              "      cursor: pointer;\n",
              "      display: none;\n",
              "      fill: #1967D2;\n",
              "      height: 32px;\n",
              "      padding: 0 0 0 0;\n",
              "      width: 32px;\n",
              "    }\n",
              "\n",
              "    .colab-df-convert:hover {\n",
              "      background-color: #E2EBFA;\n",
              "      box-shadow: 0px 1px 2px rgba(60, 64, 67, 0.3), 0px 1px 3px 1px rgba(60, 64, 67, 0.15);\n",
              "      fill: #174EA6;\n",
              "    }\n",
              "\n",
              "    [theme=dark] .colab-df-convert {\n",
              "      background-color: #3B4455;\n",
              "      fill: #D2E3FC;\n",
              "    }\n",
              "\n",
              "    [theme=dark] .colab-df-convert:hover {\n",
              "      background-color: #434B5C;\n",
              "      box-shadow: 0px 1px 3px 1px rgba(0, 0, 0, 0.15);\n",
              "      filter: drop-shadow(0px 1px 2px rgba(0, 0, 0, 0.3));\n",
              "      fill: #FFFFFF;\n",
              "    }\n",
              "  </style>\n",
              "\n",
              "      <script>\n",
              "        const buttonEl =\n",
              "          document.querySelector('#df-665f467b-3851-40ac-837e-709f1ea58dcd button.colab-df-convert');\n",
              "        buttonEl.style.display =\n",
              "          google.colab.kernel.accessAllowed ? 'block' : 'none';\n",
              "\n",
              "        async function convertToInteractive(key) {\n",
              "          const element = document.querySelector('#df-665f467b-3851-40ac-837e-709f1ea58dcd');\n",
              "          const dataTable =\n",
              "            await google.colab.kernel.invokeFunction('convertToInteractive',\n",
              "                                                     [key], {});\n",
              "          if (!dataTable) return;\n",
              "\n",
              "          const docLinkHtml = 'Like what you see? Visit the ' +\n",
              "            '<a target=\"_blank\" href=https://colab.research.google.com/notebooks/data_table.ipynb>data table notebook</a>'\n",
              "            + ' to learn more about interactive tables.';\n",
              "          element.innerHTML = '';\n",
              "          dataTable['output_type'] = 'display_data';\n",
              "          await google.colab.output.renderOutput(dataTable, element);\n",
              "          const docLink = document.createElement('div');\n",
              "          docLink.innerHTML = docLinkHtml;\n",
              "          element.appendChild(docLink);\n",
              "        }\n",
              "      </script>\n",
              "    </div>\n",
              "  </div>\n",
              "  "
            ],
            "text/plain": [
              "   Machine  NumberOfSections  NumberOfSymbols  TimeDateStamp  Characteristics  \\\n",
              "0      332                 3                0     1208111602              271   \n",
              "1      332                10                0     1405441342             8450   \n",
              "2      332                 3                0     1208111618              271   \n",
              "3      332                 4               48     1405441237             8966   \n",
              "4      332                 3                0     1208113177              271   \n",
              "\n",
              "   SizeOfOptionalHeader  Magic  AddressOfEntryPoint  CheckSum  \\\n",
              "0                   224    267                25619    166732   \n",
              "1                   224    267                 4138    670278   \n",
              "2                   224    267                85420    250152   \n",
              "3                   224    267                   42     35920   \n",
              "4                   224    267                 8175     19646   \n",
              "\n",
              "   DllCharacteristics  ...  garray  realaudioobjects_tlb  bpl  tmenuitem  fch  \\\n",
              "0               32768  ...       0                     0    0          0    0   \n",
              "1                   0  ...       0                     0    0          0    0   \n",
              "2               32768  ...       0                     0    0          0    0   \n",
              "3                   0  ...       0                     0    0          0    0   \n",
              "4               32768  ...       0                     0    0          0    0   \n",
              "\n",
              "   qqrv  de1gdzjfw0  vrhx  fp7f  fileCategory  \n",
              "0     0           0     0     0             0  \n",
              "1     0           0     0     0             0  \n",
              "2     0           0     0     0             0  \n",
              "3     0           0     0     0             0  \n",
              "4     0           0     0     0             0  \n",
              "\n",
              "[5 rows x 76 columns]"
            ]
          },
          "metadata": {},
          "execution_count": 4
        }
      ]
    },
    {
      "cell_type": "code",
      "source": [
        "print('Total number of samples  : {}'.format(len(data)))\n",
        "print('Total number of features : {}'.format(len(data.iloc[0,:])-1))"
      ],
      "metadata": {
        "colab": {
          "base_uri": "https://localhost:8080/"
        },
        "id": "X0qNbpoapWMc",
        "outputId": "b6ba1fa6-74ec-40d7-bcb4-e6e43471cffc"
      },
      "execution_count": null,
      "outputs": [
        {
          "output_type": "stream",
          "name": "stdout",
          "text": [
            "Total number of samples  : 797\n",
            "Total number of features : 75\n"
          ]
        }
      ]
    },
    {
      "cell_type": "markdown",
      "source": [
        "## Feature Selection by Decision Tree feature importance"
      ],
      "metadata": {
        "id": "mFZagqUWD--u"
      }
    },
    {
      "cell_type": "code",
      "source": [
        "# define X and y and split data into train and test\n",
        "X = data.iloc[:,:-1]\n",
        "y = data.iloc[:,-1]\n",
        "\n",
        "X_train, X_test, y_train, y_test = train_test_split(X, y, test_size=0.3, random_state=42)"
      ],
      "metadata": {
        "id": "579YIsiWjBWu"
      },
      "execution_count": null,
      "outputs": []
    },
    {
      "cell_type": "code",
      "source": [
        "# instantiate decision tree classifier\n",
        "clf = DecisionTreeClassifier(random_state=0)\n",
        "\n",
        "#fit model and predict with test data\n",
        "clf.fit(X_train, y_train)\n",
        "y_pred = clf.predict(X_test)\n",
        "\n",
        "print(f'Accuracy              :{accuracy_score(y_test,y_pred)}')\n",
        "print(f'F1 Score              :{f1_score(y_test,y_pred)}')"
      ],
      "metadata": {
        "colab": {
          "base_uri": "https://localhost:8080/"
        },
        "id": "Ee6BgM3Uk4dV",
        "outputId": "b5242678-5bc6-4261-fadb-4953dca33713"
      },
      "execution_count": null,
      "outputs": [
        {
          "output_type": "stream",
          "name": "stdout",
          "text": [
            "Accuracy              :0.9875\n",
            "F1 Score              :0.9866666666666666\n"
          ]
        }
      ]
    },
    {
      "cell_type": "code",
      "source": [
        "# retrive feature importance and plot it \n",
        "importance = clf.feature_importances_\n",
        "features = list(data.columns)\n",
        "x = range(1, len(X.iloc[0,:])+1)\n",
        "plt.bar(x,importance)\n",
        "plt.ylim(0,0.2)"
      ],
      "metadata": {
        "colab": {
          "base_uri": "https://localhost:8080/",
          "height": 286
        },
        "id": "egS3wBbyoF9B",
        "outputId": "1efe852e-74d4-452d-daf4-dc77e140d5fd"
      },
      "execution_count": null,
      "outputs": [
        {
          "output_type": "execute_result",
          "data": {
            "text/plain": [
              "(0.0, 0.2)"
            ]
          },
          "metadata": {},
          "execution_count": 8
        },
        {
          "output_type": "display_data",
          "data": {
            "image/png": "[encoded data removed]",
            "text/plain": [
              "<Figure size 432x288 with 1 Axes>"
            ]
          },
          "metadata": {
            "needs_background": "light"
          }
        }
      ]
    },
    {
      "cell_type": "markdown",
      "source": [
        "### Selecting features by seting threshold for importance = 0.01"
      ],
      "metadata": {
        "id": "hlBWYD8UENlA"
      }
    },
    {
      "cell_type": "code",
      "source": [
        "new_features1 = []\n",
        "for feature, imp in zip(features, importance):\n",
        "  if imp > 0.01:\n",
        "    new_features1.append(feature)\n",
        "new_features1"
      ],
      "metadata": {
        "colab": {
          "base_uri": "https://localhost:8080/"
        },
        "id": "jGoGOqpCqowi",
        "outputId": "58d9560b-9124-4310-b4ea-09c21aa236a8"
      },
      "execution_count": null,
      "outputs": [
        {
          "output_type": "execute_result",
          "data": {
            "text/plain": [
              "['NumberOfSections',\n",
              " 'TimeDateStamp',\n",
              " 'CheckSum',\n",
              " 'DllCharacteristics',\n",
              " 'SizeOfImage',\n",
              " 'SizeOfInitializedData',\n",
              " 'SizeOfStackCommit',\n",
              " 'SizeOfUninitializedData',\n",
              " 'MajorImageVersion',\n",
              " 'MinorLinkerVersion',\n",
              " 'msvbvm60']"
            ]
          },
          "metadata": {},
          "execution_count": 9
        }
      ]
    },
    {
      "cell_type": "code",
      "source": [
        "# train with new features and calculate accuracy with test data\n",
        "X = data.loc[:,new_features1]\n",
        "y = data.iloc[:,-1]\n",
        "X_train, X_test, y_train, y_test = train_test_split(X, y, test_size=0.3, random_state=42)\n",
        "clf.fit(X_train, y_train)\n",
        "y_pred = clf.predict(X_test)\n",
        "\n",
        "print(f'Accuracy              :{accuracy_score(y_test,y_pred)}')\n",
        "print(f'F1 Score              :{f1_score(y_test,y_pred)}')"
      ],
      "metadata": {
        "colab": {
          "base_uri": "https://localhost:8080/"
        },
        "id": "XheNpsaVsB-g",
        "outputId": "9d988c3a-268b-41b8-f577-a8ff36c10064"
      },
      "execution_count": null,
      "outputs": [
        {
          "output_type": "stream",
          "name": "stdout",
          "text": [
            "Accuracy              :0.9875\n",
            "F1 Score              :0.9866666666666666\n"
          ]
        }
      ]
    },
    {
      "cell_type": "markdown",
      "source": [
        "### Selecting features by seting threshold for importance = 0.03"
      ],
      "metadata": {
        "id": "WJ0brl_5EcO-"
      }
    },
    {
      "cell_type": "code",
      "source": [
        "new_features2 = []\n",
        "for feature, imp in zip(features, importance):\n",
        "  if imp > 0.03:\n",
        "    new_features2.append(feature)\n",
        "print(new_features2)"
      ],
      "metadata": {
        "colab": {
          "base_uri": "https://localhost:8080/"
        },
        "id": "qAOwPR9R_136",
        "outputId": "5fb1db06-f679-4cb8-e2c8-e9d23e632cc4"
      },
      "execution_count": null,
      "outputs": [
        {
          "output_type": "stream",
          "name": "stdout",
          "text": [
            "['TimeDateStamp', 'CheckSum', 'SizeOfUninitializedData', 'MajorImageVersion', 'msvbvm60']\n"
          ]
        }
      ]
    },
    {
      "cell_type": "code",
      "source": [
        "# train with new features and calculate accuracy with test data\n",
        "X = data.loc[:,new_features2]\n",
        "y = data.iloc[:,-1]\n",
        "X_train, X_test, y_train, y_test = train_test_split(X, y, test_size=0.3, random_state=42)\n",
        "clf.fit(X_train, y_train)\n",
        "y_pred = clf.predict(X_test)\n",
        "\n",
        "print(f'Accuracy              :{accuracy_score(y_test,y_pred)}')\n",
        "print(f'F1 Score              :{f1_score(y_test,y_pred)}')"
      ],
      "metadata": {
        "colab": {
          "base_uri": "https://localhost:8080/"
        },
        "id": "CPC6ObTqGK3z",
        "outputId": "297b0921-0331-4e75-b20f-23d2b4d88069"
      },
      "execution_count": null,
      "outputs": [
        {
          "output_type": "stream",
          "name": "stdout",
          "text": [
            "Accuracy              :0.9708333333333333\n",
            "F1 Score              :0.9688888888888889\n"
          ]
        }
      ]
    },
    {
      "cell_type": "markdown",
      "source": [
        "### Selecting features by seting threshold for importance = 0.05"
      ],
      "metadata": {
        "id": "RLJjdG21EgNO"
      }
    },
    {
      "cell_type": "code",
      "source": [
        "new_features3 = []\n",
        "for feature, imp in zip(features, importance):\n",
        "  if imp > 0.05:\n",
        "    new_features3.append(feature)\n",
        "print(new_features3)"
      ],
      "metadata": {
        "colab": {
          "base_uri": "https://localhost:8080/"
        },
        "id": "NcgzUEcYAXq6",
        "outputId": "f6fbe4cb-27df-46dc-efb7-44b054c82660"
      },
      "execution_count": null,
      "outputs": [
        {
          "output_type": "stream",
          "name": "stdout",
          "text": [
            "['CheckSum', 'MajorImageVersion', 'msvbvm60']\n"
          ]
        }
      ]
    },
    {
      "cell_type": "code",
      "source": [
        "# train with new features and calculate accuracy with test data\n",
        "X = data.loc[:,new_features3]\n",
        "y = data.iloc[:,-1]\n",
        "X_train, X_test, y_train, y_test = train_test_split(X, y, test_size=0.3, random_state=42)\n",
        "clf.fit(X_train, y_train)\n",
        "y_pred = clf.predict(X_test)\n",
        "\n",
        "print(f'Accuracy              :{accuracy_score(y_test,y_pred)}')\n",
        "print(f'F1 Score              :{f1_score(y_test,y_pred)}')"
      ],
      "metadata": {
        "colab": {
          "base_uri": "https://localhost:8080/"
        },
        "id": "0c_2Wu3CGT3b",
        "outputId": "e9d79357-f69f-4e27-a1bd-1fc723933a50"
      },
      "execution_count": null,
      "outputs": [
        {
          "output_type": "stream",
          "name": "stdout",
          "text": [
            "Accuracy              :0.9291666666666667\n",
            "F1 Score              :0.9237668161434978\n"
          ]
        }
      ]
    },
    {
      "cell_type": "markdown",
      "source": [
        "No much change in accuracy when threshold set to 0.01, list new_feature1 gives best features"
      ],
      "metadata": {
        "id": "nUjFAuf1EqB3"
      }
    },
    {
      "cell_type": "markdown",
      "source": [
        "## Classification with best features"
      ],
      "metadata": {
        "id": "VAJXJnm4A5hz"
      }
    },
    {
      "cell_type": "code",
      "source": [
        "# best features when threshold set to 0.01\n",
        "for f in new_features1:\n",
        "  print(f)"
      ],
      "metadata": {
        "colab": {
          "base_uri": "https://localhost:8080/"
        },
        "id": "BPg39n6VE_Tr",
        "outputId": "51934668-b9e6-4a47-a779-454a1c0baa95"
      },
      "execution_count": null,
      "outputs": [
        {
          "output_type": "stream",
          "name": "stdout",
          "text": [
            "NumberOfSections\n",
            "TimeDateStamp\n",
            "CheckSum\n",
            "DllCharacteristics\n",
            "SizeOfImage\n",
            "SizeOfInitializedData\n",
            "SizeOfStackCommit\n",
            "SizeOfUninitializedData\n",
            "MajorImageVersion\n",
            "MinorLinkerVersion\n",
            "msvbvm60\n"
          ]
        }
      ]
    },
    {
      "cell_type": "markdown",
      "source": [
        "Decision Tree Classifier"
      ],
      "metadata": {
        "id": "D8_1Cdm0PaK5"
      }
    },
    {
      "cell_type": "code",
      "source": [
        "X = data.loc[:,new_features1]\n",
        "y = data.iloc[:,-1]\n",
        "X_train, X_test, y_train, y_test = train_test_split(X, y, test_size=0.3, random_state=42)\n",
        "\n",
        "clf1 = DecisionTreeClassifier(random_state=1)\n",
        "clf1.fit(X_train,y_train)"
      ],
      "metadata": {
        "colab": {
          "base_uri": "https://localhost:8080/"
        },
        "id": "PixYC9hbPUsm",
        "outputId": "2e397683-501a-4f77-b991-bd35645bc092"
      },
      "execution_count": null,
      "outputs": [
        {
          "output_type": "execute_result",
          "data": {
            "text/plain": [
              "DecisionTreeClassifier(random_state=1)"
            ]
          },
          "metadata": {},
          "execution_count": 18
        }
      ]
    },
    {
      "cell_type": "code",
      "source": [
        "# performance for training data\n",
        "y_pred = clf1.predict(X_train)\n",
        "\n",
        "cm = confusion_matrix(y_train,y_pred)\n",
        "print(f'Accuracy              :{accuracy_score(y_train,y_pred)}')\n",
        "print(f'F1 Score              :{f1_score(y_train,y_pred)}')\n",
        "print(f'Precision             :{precision_score(y_train,y_pred)}')\n",
        "print(f'Recall                :{recall_score(y_train,y_pred)}')\n",
        "print(f'False Positive Rate   :{false_positive_rate(cm)}')\n",
        "print('\\nConfusion Matrix\\n----------------')\n",
        "sns.heatmap(cm, annot=True, fmt='d', cmap='Blues')"
      ],
      "metadata": {
        "colab": {
          "base_uri": "https://localhost:8080/",
          "height": 421
        },
        "id": "5qllAPbwjKpQ",
        "outputId": "0ad1f162-a26d-4860-883d-6e0dcb670d13"
      },
      "execution_count": null,
      "outputs": [
        {
          "output_type": "stream",
          "name": "stdout",
          "text": [
            "Accuracy              :1.0\n",
            "F1 Score              :1.0\n",
            "Precision             :1.0\n",
            "Recall                :1.0\n",
            "False Positive Rate   :0.0\n",
            "\n",
            "Confusion Matrix\n",
            "----------------\n"
          ]
        },
        {
          "output_type": "execute_result",
          "data": {
            "text/plain": [
              "<matplotlib.axes._subplots.AxesSubplot at 0x7f49867e1e10>"
            ]
          },
          "metadata": {},
          "execution_count": 19
        },
        {
          "output_type": "display_data",
          "data": {
            "image/png": "[encoded data removed]",
            "text/plain": [
              "<Figure size 432x288 with 2 Axes>"
            ]
          },
          "metadata": {
            "needs_background": "light"
          }
        }
      ]
    },
    {
      "cell_type": "code",
      "source": [
        "# performance for test data\n",
        "y_pred = clf1.predict(X_test)\n",
        "\n",
        "cm = confusion_matrix(y_test,y_pred)\n",
        "print(f'Accuracy              :{accuracy_score(y_test,y_pred)}')\n",
        "print(f'F1 Score              :{f1_score(y_test,y_pred)}')\n",
        "print(f'Precision             :{precision_score(y_test,y_pred)}')\n",
        "print(f'Recall                :{recall_score(y_test,y_pred)}')\n",
        "print(f'False Positive Rate   :{false_positive_rate(cm)}')\n",
        "print('\\nConfusion Matrix\\n----------------')\n",
        "sns.heatmap(cm, annot=True, fmt='d', cmap='Blues')"
      ],
      "metadata": {
        "colab": {
          "base_uri": "https://localhost:8080/",
          "height": 421
        },
        "id": "UBe19yhyjFOC",
        "outputId": "887a9a1f-9c90-4521-85a3-7fd690aa5d31"
      },
      "execution_count": null,
      "outputs": [
        {
          "output_type": "stream",
          "name": "stdout",
          "text": [
            "Accuracy              :0.9791666666666666\n",
            "F1 Score              :0.9779735682819383\n",
            "Precision             :0.9823008849557522\n",
            "Recall                :0.9736842105263158\n",
            "False Positive Rate   :0.023622047244094488\n",
            "\n",
            "Confusion Matrix\n",
            "----------------\n"
          ]
        },
        {
          "output_type": "execute_result",
          "data": {
            "text/plain": [
              "<matplotlib.axes._subplots.AxesSubplot at 0x7f49867676d0>"
            ]
          },
          "metadata": {},
          "execution_count": 20
        },
        {
          "output_type": "display_data",
          "data": {
            "image/png": "[encoded data removed]",
            "text/plain": [
              "<Figure size 432x288 with 2 Axes>"
            ]
          },
          "metadata": {
            "needs_background": "light"
          }
        }
      ]
    },
    {
      "cell_type": "markdown",
      "source": [
        "Random Forest Classifier"
      ],
      "metadata": {
        "id": "Co5MYsswPoY_"
      }
    },
    {
      "cell_type": "code",
      "source": [
        "X = data.loc[:,new_features1]\n",
        "y = data.iloc[:,-1]\n",
        "X_train, X_test, y_train, y_test = train_test_split(X, y, test_size=0.3, random_state=42)\n",
        "\n",
        "clf2 = RandomForestClassifier(random_state=1)\n",
        "clf2.fit(X_train,y_train)"
      ],
      "metadata": {
        "colab": {
          "base_uri": "https://localhost:8080/"
        },
        "id": "rpLDL-Ro-ia_",
        "outputId": "34c61f53-2498-4d20-c96a-e9e06b7456c6"
      },
      "execution_count": null,
      "outputs": [
        {
          "output_type": "execute_result",
          "data": {
            "text/plain": [
              "RandomForestClassifier(random_state=1)"
            ]
          },
          "metadata": {},
          "execution_count": 30
        }
      ]
    },
    {
      "cell_type": "code",
      "source": [
        "# performance for training data\n",
        "y_pred = clf2.predict(X_train)\n",
        "\n",
        "cm = confusion_matrix(y_train,y_pred)\n",
        "print(f'Accuracy              :{accuracy_score(y_train,y_pred)}')\n",
        "print(f'F1 Score              :{f1_score(y_train,y_pred)}')\n",
        "print(f'Precision             :{precision_score(y_train,y_pred)}')\n",
        "print(f'Recall                :{recall_score(y_train,y_pred)}')\n",
        "print(f'False Positive Rate   :{false_positive_rate(cm)}')\n",
        "print('\\nConfusion Matrix\\n----------------')\n",
        "sns.heatmap(cm, annot=True, fmt='d', cmap='Blues')"
      ],
      "metadata": {
        "colab": {
          "base_uri": "https://localhost:8080/",
          "height": 421
        },
        "id": "_XSv7sMDjq2N",
        "outputId": "8f5cb8b9-1e70-4de7-cdc0-a4a22685a021"
      },
      "execution_count": null,
      "outputs": [
        {
          "output_type": "stream",
          "name": "stdout",
          "text": [
            "Accuracy              :1.0\n",
            "F1 Score              :1.0\n",
            "Precision             :1.0\n",
            "Recall                :1.0\n",
            "False Positive Rate   :0.0\n",
            "\n",
            "Confusion Matrix\n",
            "----------------\n"
          ]
        },
        {
          "output_type": "execute_result",
          "data": {
            "text/plain": [
              "<matplotlib.axes._subplots.AxesSubplot at 0x7f4986476190>"
            ]
          },
          "metadata": {},
          "execution_count": 31
        },
        {
          "output_type": "display_data",
          "data": {
            "image/png": "[encoded data removed]",
            "text/plain": [
              "<Figure size 432x288 with 2 Axes>"
            ]
          },
          "metadata": {
            "needs_background": "light"
          }
        }
      ]
    },
    {
      "cell_type": "code",
      "source": [
        "# peformance for test data\n",
        "y_pred = clf2.predict(X_test)\n",
        "cm = confusion_matrix(y_test,y_pred)\n",
        "print(f'Accuracy              :{accuracy_score(y_test,y_pred)}')\n",
        "print(f'F1 Score              :{f1_score(y_test,y_pred)}')\n",
        "print(f'Precision             :{precision_score(y_test,y_pred)}')\n",
        "print(f'Recall                :{recall_score(y_test,y_pred)}')\n",
        "print(f'False Positive Rate   :{false_positive_rate(cm)}')\n",
        "print('\\nConfusion Matrix\\n----------------')\n",
        "sns.heatmap(cm, annot=True, fmt='d', cmap='Blues')"
      ],
      "metadata": {
        "colab": {
          "base_uri": "https://localhost:8080/",
          "height": 421
        },
        "id": "Id_x3AdQjier",
        "outputId": "0397c10f-eae8-4695-bb50-6b70a6b8d99c"
      },
      "execution_count": null,
      "outputs": [
        {
          "output_type": "stream",
          "name": "stdout",
          "text": [
            "Accuracy              :0.9875\n",
            "F1 Score              :0.9867841409691629\n",
            "Precision             :0.9911504424778761\n",
            "Recall                :0.9824561403508771\n",
            "False Positive Rate   :0.015748031496062992\n",
            "\n",
            "Confusion Matrix\n",
            "----------------\n"
          ]
        },
        {
          "output_type": "execute_result",
          "data": {
            "text/plain": [
              "<matplotlib.axes._subplots.AxesSubplot at 0x7f4986398610>"
            ]
          },
          "metadata": {},
          "execution_count": 32
        },
        {
          "output_type": "display_data",
          "data": {
            "image/png": "[encoded data removed]",
            "text/plain": [
              "<Figure size 432x288 with 2 Axes>"
            ]
          },
          "metadata": {
            "needs_background": "light"
          }
        }
      ]
    },
    {
      "cell_type": "markdown",
      "source": [
        "Random Forest classifier gives better performance:\n",
        "- Accuracy              :98.75%\n",
        "- F1 Score              :98.67%\n",
        "- Precision             :99.11%\n",
        "- Recall                :98.24%\n",
        "- False Positive Rate   :01.57%\n",
        "\n",
        "Important Features:\n",
        "\n",
        "Static PE_features:\n",
        "1. NumberOfSections\n",
        "2. TimeDateStamp\n",
        "3. CheckSum\n",
        "4. DllCharacteristics\n",
        "5. SizeOfImage\n",
        "6. SizeOfInitializedData\n",
        "7. SizeOfStackCommit\n",
        "8. SizeOfUninitializedData\n",
        "8. MajorImageVersion\n",
        "10. MinorLinkerVersion\n",
        "\n",
        "String feature:\n",
        "11. msvbvm60\n"
      ],
      "metadata": {
        "id": "Cfzdu9TCPuFv"
      }
    }
  ]
}