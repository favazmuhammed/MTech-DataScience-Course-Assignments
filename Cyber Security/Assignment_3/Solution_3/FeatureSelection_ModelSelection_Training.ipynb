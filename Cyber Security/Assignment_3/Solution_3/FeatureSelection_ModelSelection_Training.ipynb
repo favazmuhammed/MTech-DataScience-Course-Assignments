{
  "nbformat": 4,
  "nbformat_minor": 0,
  "metadata": {
    "colab": {
      "name": "CSAssn3_FeatureSelection&Training.ipynb",
      "provenance": []
    },
    "kernelspec": {
      "name": "python3",
      "display_name": "Python 3"
    },
    "language_info": {
      "name": "python"
    }
  },
  "cells": [
    {
      "cell_type": "code",
      "execution_count": null,
      "metadata": {
        "id": "1XjBV1tU9ktB"
      },
      "outputs": [],
      "source": [
        "# importing all  necessary libraries\n",
        "import pandas as pd\n",
        "import numpy as np\n",
        "import matplotlib.pyplot as plt\n",
        "import seaborn as sns\n",
        "%matplotlib inline\n",
        "\n",
        "from sklearn.model_selection import train_test_split\n",
        "from sklearn.tree import DecisionTreeClassifier\n",
        "from sklearn.ensemble import RandomForestClassifier\n",
        "from sklearn.naive_bayes import GaussianNB,MultinomialNB,BernoulliNB\n",
        "from sklearn.svm import SVC\n",
        "from sklearn.metrics import accuracy_score, f1_score, precision_score, recall_score, confusion_matrix,classification_report"
      ]
    },
    {
      "cell_type": "code",
      "source": [
        "# function for calculating classification matrix and printing it\n",
        "# printing confusion matrix\n",
        "def calculate_performance(y_true,y_pred):\n",
        "  print(\"CLASSIFICATION REPORT\\n\"+\"-\"*21)\n",
        "  print(classification_report(y_true,y_pred))\n",
        "  print(\"\\nCONFUSION MATRIX\\n\"+\"-\"*16)\n",
        "  cm = confusion_matrix(y_true,y_pred)\n",
        "  sns.heatmap(cm, annot=True, fmt='d', cmap='Blues')\n",
        "  plt.xlabel(\"Predicted\")\n",
        "  plt.ylabel(\"Actual\")\n",
        "  plt.show()"
      ],
      "metadata": {
        "id": "NcVd5kD5LQ4R"
      },
      "execution_count": null,
      "outputs": []
    },
    {
      "cell_type": "code",
      "source": [
        "# importing the data extracted from binary files\n",
        "df = pd.read_csv('/content/drive/MyDrive/datasets/Assignments/ELF_data/features.csv')\n",
        "df.head(4)"
      ],
      "metadata": {
        "colab": {
          "base_uri": "https://localhost:8080/",
          "height": 256
        },
        "id": "3tPaCe35_ER_",
        "outputId": "807c65ac-01f1-4487-ed72-cba643100914"
      },
      "execution_count": null,
      "outputs": [
        {
          "output_type": "execute_result",
          "data": {
            "text/plain": [
              "           name  Entry_point_address  Size_of_program_headers  \\\n",
              "0        printf                13472                       56   \n",
              "1            pr                12896                       56   \n",
              "2       ppdhtml                17520                       56   \n",
              "3  png-fix-itxt                 5296                       56   \n",
              "\n",
              "   Size_of_section_headers  Start_of_program_headers  \\\n",
              "0                       64                        64   \n",
              "1                       64                        64   \n",
              "2                       64                        64   \n",
              "3                       64                        64   \n",
              "\n",
              "   Start_of_section_headers  size_text_section  total_size_file  \\\n",
              "0                     57904              29874            53733   \n",
              "1                     78480              42610            77981   \n",
              "2                    111136              61765           106603   \n",
              "3                     12728               1365             6561   \n",
              "\n",
              "   total_size_memory  n_seg_diff_size_in_file_and_memory  \\\n",
              "0              54165                                   1   \n",
              "1              78685                                   1   \n",
              "2             106619                                   1   \n",
              "3               6593                                   1   \n",
              "\n",
              "   n_p_type_header_as_int_type  total_p_flags  total_STT_NOTYPE_symbol  \\\n",
              "0                            0             59                        4   \n",
              "1                            0             59                        4   \n",
              "2                            0             59                        4   \n",
              "3                            0             59                        4   \n",
              "\n",
              "   total_STT_FUNC_symbol  total_STT_OBJECT_symbol  n_sec_not_in_memory  \\\n",
              "0                      0                        0                    0   \n",
              "1                      0                        0                    0   \n",
              "2                      0                        0                    0   \n",
              "3                      0                        0                    0   \n",
              "\n",
              "   total_global_symbols  total_local_symbols  total_weak_symbols  category  \n",
              "0                    58                    1                   6         0  \n",
              "1                    78                    1                   6         0  \n",
              "2                    59                    1                   4         0  \n",
              "3                     7                    1                   4         0  "
            ],
            "text/html": [
              "\n",
              "  <div id=\"df-4f8daec2-1594-4f26-99e5-2860c47b9f8e\">\n",
              "    <div class=\"colab-df-container\">\n",
              "      <div>\n",
              "<style scoped>\n",
              "    .dataframe tbody tr th:only-of-type {\n",
              "        vertical-align: middle;\n",
              "    }\n",
              "\n",
              "    .dataframe tbody tr th {\n",
              "        vertical-align: top;\n",
              "    }\n",
              "\n",
              "    .dataframe thead th {\n",
              "        text-align: right;\n",
              "    }\n",
              "</style>\n",
              "<table border=\"1\" class=\"dataframe\">\n",
              "  <thead>\n",
              "    <tr style=\"text-align: right;\">\n",
              "      <th></th>\n",
              "      <th>name</th>\n",
              "      <th>Entry_point_address</th>\n",
              "      <th>Size_of_program_headers</th>\n",
              "      <th>Size_of_section_headers</th>\n",
              "      <th>Start_of_program_headers</th>\n",
              "      <th>Start_of_section_headers</th>\n",
              "      <th>size_text_section</th>\n",
              "      <th>total_size_file</th>\n",
              "      <th>total_size_memory</th>\n",
              "      <th>n_seg_diff_size_in_file_and_memory</th>\n",
              "      <th>n_p_type_header_as_int_type</th>\n",
              "      <th>total_p_flags</th>\n",
              "      <th>total_STT_NOTYPE_symbol</th>\n",
              "      <th>total_STT_FUNC_symbol</th>\n",
              "      <th>total_STT_OBJECT_symbol</th>\n",
              "      <th>n_sec_not_in_memory</th>\n",
              "      <th>total_global_symbols</th>\n",
              "      <th>total_local_symbols</th>\n",
              "      <th>total_weak_symbols</th>\n",
              "      <th>category</th>\n",
              "    </tr>\n",
              "  </thead>\n",
              "  <tbody>\n",
              "    <tr>\n",
              "      <th>0</th>\n",
              "      <td>printf</td>\n",
              "      <td>13472</td>\n",
              "      <td>56</td>\n",
              "      <td>64</td>\n",
              "      <td>64</td>\n",
              "      <td>57904</td>\n",
              "      <td>29874</td>\n",
              "      <td>53733</td>\n",
              "      <td>54165</td>\n",
              "      <td>1</td>\n",
              "      <td>0</td>\n",
              "      <td>59</td>\n",
              "      <td>4</td>\n",
              "      <td>0</td>\n",
              "      <td>0</td>\n",
              "      <td>0</td>\n",
              "      <td>58</td>\n",
              "      <td>1</td>\n",
              "      <td>6</td>\n",
              "      <td>0</td>\n",
              "    </tr>\n",
              "    <tr>\n",
              "      <th>1</th>\n",
              "      <td>pr</td>\n",
              "      <td>12896</td>\n",
              "      <td>56</td>\n",
              "      <td>64</td>\n",
              "      <td>64</td>\n",
              "      <td>78480</td>\n",
              "      <td>42610</td>\n",
              "      <td>77981</td>\n",
              "      <td>78685</td>\n",
              "      <td>1</td>\n",
              "      <td>0</td>\n",
              "      <td>59</td>\n",
              "      <td>4</td>\n",
              "      <td>0</td>\n",
              "      <td>0</td>\n",
              "      <td>0</td>\n",
              "      <td>78</td>\n",
              "      <td>1</td>\n",
              "      <td>6</td>\n",
              "      <td>0</td>\n",
              "    </tr>\n",
              "    <tr>\n",
              "      <th>2</th>\n",
              "      <td>ppdhtml</td>\n",
              "      <td>17520</td>\n",
              "      <td>56</td>\n",
              "      <td>64</td>\n",
              "      <td>64</td>\n",
              "      <td>111136</td>\n",
              "      <td>61765</td>\n",
              "      <td>106603</td>\n",
              "      <td>106619</td>\n",
              "      <td>1</td>\n",
              "      <td>0</td>\n",
              "      <td>59</td>\n",
              "      <td>4</td>\n",
              "      <td>0</td>\n",
              "      <td>0</td>\n",
              "      <td>0</td>\n",
              "      <td>59</td>\n",
              "      <td>1</td>\n",
              "      <td>4</td>\n",
              "      <td>0</td>\n",
              "    </tr>\n",
              "    <tr>\n",
              "      <th>3</th>\n",
              "      <td>png-fix-itxt</td>\n",
              "      <td>5296</td>\n",
              "      <td>56</td>\n",
              "      <td>64</td>\n",
              "      <td>64</td>\n",
              "      <td>12728</td>\n",
              "      <td>1365</td>\n",
              "      <td>6561</td>\n",
              "      <td>6593</td>\n",
              "      <td>1</td>\n",
              "      <td>0</td>\n",
              "      <td>59</td>\n",
              "      <td>4</td>\n",
              "      <td>0</td>\n",
              "      <td>0</td>\n",
              "      <td>0</td>\n",
              "      <td>7</td>\n",
              "      <td>1</td>\n",
              "      <td>4</td>\n",
              "      <td>0</td>\n",
              "    </tr>\n",
              "  </tbody>\n",
              "</table>\n",
              "</div>\n",
              "      <button class=\"colab-df-convert\" onclick=\"convertToInteractive('df-4f8daec2-1594-4f26-99e5-2860c47b9f8e')\"\n",
              "              title=\"Convert this dataframe to an interactive table.\"\n",
              "              style=\"display:none;\">\n",
              "        \n",
              "  <svg xmlns=\"http://www.w3.org/2000/svg\" height=\"24px\"viewBox=\"0 0 24 24\"\n",
              "       width=\"24px\">\n",
              "    <path d=\"M0 0h24v24H0V0z\" fill=\"none\"/>\n",
              "    <path d=\"M18.56 5.44l.94 2.06.94-2.06 2.06-.94-2.06-.94-.94-2.06-.94 2.06-2.06.94zm-11 1L8.5 8.5l.94-2.06 2.06-.94-2.06-.94L8.5 2.5l-.94 2.06-2.06.94zm10 10l.94 2.06.94-2.06 2.06-.94-2.06-.94-.94-2.06-.94 2.06-2.06.94z\"/><path d=\"M17.41 7.96l-1.37-1.37c-.4-.4-.92-.59-1.43-.59-.52 0-1.04.2-1.43.59L10.3 9.45l-7.72 7.72c-.78.78-.78 2.05 0 2.83L4 21.41c.39.39.9.59 1.41.59.51 0 1.02-.2 1.41-.59l7.78-7.78 2.81-2.81c.8-.78.8-2.07 0-2.86zM5.41 20L4 18.59l7.72-7.72 1.47 1.35L5.41 20z\"/>\n",
              "  </svg>\n",
              "      </button>\n",
              "      \n",
              "  <style>\n",
              "    .colab-df-container {\n",
              "      display:flex;\n",
              "      flex-wrap:wrap;\n",
              "      gap: 12px;\n",
              "    }\n",
              "\n",
              "    .colab-df-convert {\n",
              "      background-color: #E8F0FE;\n",
              "      border: none;\n",
              "      border-radius: 50%;\n",
              "      cursor: pointer;\n",
              "      display: none;\n",
              "      fill: #1967D2;\n",
              "      height: 32px;\n",
              "      padding: 0 0 0 0;\n",
              "      width: 32px;\n",
              "    }\n",
              "\n",
              "    .colab-df-convert:hover {\n",
              "      background-color: #E2EBFA;\n",
              "      box-shadow: 0px 1px 2px rgba(60, 64, 67, 0.3), 0px 1px 3px 1px rgba(60, 64, 67, 0.15);\n",
              "      fill: #174EA6;\n",
              "    }\n",
              "\n",
              "    [theme=dark] .colab-df-convert {\n",
              "      background-color: #3B4455;\n",
              "      fill: #D2E3FC;\n",
              "    }\n",
              "\n",
              "    [theme=dark] .colab-df-convert:hover {\n",
              "      background-color: #434B5C;\n",
              "      box-shadow: 0px 1px 3px 1px rgba(0, 0, 0, 0.15);\n",
              "      filter: drop-shadow(0px 1px 2px rgba(0, 0, 0, 0.3));\n",
              "      fill: #FFFFFF;\n",
              "    }\n",
              "  </style>\n",
              "\n",
              "      <script>\n",
              "        const buttonEl =\n",
              "          document.querySelector('#df-4f8daec2-1594-4f26-99e5-2860c47b9f8e button.colab-df-convert');\n",
              "        buttonEl.style.display =\n",
              "          google.colab.kernel.accessAllowed ? 'block' : 'none';\n",
              "\n",
              "        async function convertToInteractive(key) {\n",
              "          const element = document.querySelector('#df-4f8daec2-1594-4f26-99e5-2860c47b9f8e');\n",
              "          const dataTable =\n",
              "            await google.colab.kernel.invokeFunction('convertToInteractive',\n",
              "                                                     [key], {});\n",
              "          if (!dataTable) return;\n",
              "\n",
              "          const docLinkHtml = 'Like what you see? Visit the ' +\n",
              "            '<a target=\"_blank\" href=https://colab.research.google.com/notebooks/data_table.ipynb>data table notebook</a>'\n",
              "            + ' to learn more about interactive tables.';\n",
              "          element.innerHTML = '';\n",
              "          dataTable['output_type'] = 'display_data';\n",
              "          await google.colab.output.renderOutput(dataTable, element);\n",
              "          const docLink = document.createElement('div');\n",
              "          docLink.innerHTML = docLinkHtml;\n",
              "          element.appendChild(docLink);\n",
              "        }\n",
              "      </script>\n",
              "    </div>\n",
              "  </div>\n",
              "  "
            ]
          },
          "metadata": {},
          "execution_count": 3
        }
      ]
    },
    {
      "cell_type": "markdown",
      "source": [
        "## Preparing the data"
      ],
      "metadata": {
        "id": "n1ZksUk-UuDT"
      }
    },
    {
      "cell_type": "code",
      "source": [
        "data = df.drop(axis = 1, columns = ['name']) # name of the file is not relevant so remove it \n",
        "features = list(data.columns[:-1])           # list of features \n",
        "print(\"Features using for classification:\\n\"+'-'*34)\n",
        "print('Total: {}'.format(len(features)))\n",
        "for f in features:\n",
        "  print(f)\n",
        "\n",
        "\n",
        "# define X and y and split data into train and test\n",
        "X = data.iloc[:,:-1]\n",
        "y = data.iloc[:,-1]\n",
        "X_train, X_test, y_train, y_test = train_test_split(X, y, test_size=0.3, random_state=42)"
      ],
      "metadata": {
        "colab": {
          "base_uri": "https://localhost:8080/"
        },
        "id": "ukIVQp7TMiWv",
        "outputId": "4c6c539a-4119-4345-d15d-88c57dd98938"
      },
      "execution_count": null,
      "outputs": [
        {
          "output_type": "stream",
          "name": "stdout",
          "text": [
            "Features using for classification:\n",
            "----------------------------------\n",
            "Total: 18\n",
            "Entry_point_address\n",
            "Size_of_program_headers\n",
            "Size_of_section_headers\n",
            "Start_of_program_headers\n",
            "Start_of_section_headers\n",
            "size_text_section\n",
            "total_size_file\n",
            "total_size_memory\n",
            "n_seg_diff_size_in_file_and_memory\n",
            "n_p_type_header_as_int_type\n",
            "total_p_flags\n",
            "total_STT_NOTYPE_symbol\n",
            "total_STT_FUNC_symbol\n",
            "total_STT_OBJECT_symbol\n",
            "n_sec_not_in_memory\n",
            "total_global_symbols\n",
            "total_local_symbols\n",
            "total_weak_symbols\n"
          ]
        }
      ]
    },
    {
      "cell_type": "markdown",
      "source": [
        "## Model Selection"
      ],
      "metadata": {
        "id": "B5aYqIFbU3Ab"
      }
    },
    {
      "cell_type": "markdown",
      "source": [
        "**1. Guassian NB**"
      ],
      "metadata": {
        "id": "v-I59Ss3U6mU"
      }
    },
    {
      "cell_type": "code",
      "source": [
        "# instantiate decision tree classifier\n",
        "clf = MultinomialNB()\n",
        "clf.fit(X_train, y_train)\n",
        "print('PERFORMANCE ON TRAIN DATA\\n'+'='*55)\n",
        "y_pred = clf.predict(X_train)\n",
        "calculate_performance(y_train,y_pred)"
      ],
      "metadata": {
        "colab": {
          "base_uri": "https://localhost:8080/",
          "height": 557
        },
        "id": "dhIb_WOtU1hO",
        "outputId": "3bfc4380-a589-4088-f320-79aee0525c44"
      },
      "execution_count": null,
      "outputs": [
        {
          "output_type": "stream",
          "name": "stdout",
          "text": [
            "PERFORMANCE ON TRAIN DATA\n",
            "=======================================================\n",
            "CLASSIFICATION REPORT\n",
            "---------------------\n",
            "              precision    recall  f1-score   support\n",
            "\n",
            "           0       0.76      0.99      0.86       327\n",
            "           1       0.98      0.71      0.82       352\n",
            "\n",
            "    accuracy                           0.84       679\n",
            "   macro avg       0.87      0.85      0.84       679\n",
            "weighted avg       0.88      0.84      0.84       679\n",
            "\n",
            "\n",
            "CONFUSION MATRIX\n",
            "----------------\n"
          ]
        },
        {
          "output_type": "display_data",
          "data": {
            "text/plain": [
              "<Figure size 432x288 with 2 Axes>"
            ],
            "image/png": "[encoded data removed]"
          },
          "metadata": {
            "needs_background": "light"
          }
        }
      ]
    },
    {
      "cell_type": "code",
      "source": [
        "print('\\nPERFORMANCE ON TEST DATA\\n'+'='*55)\n",
        "y_pred = clf.predict(X_test)\n",
        "calculate_performance(y_test,y_pred)"
      ],
      "metadata": {
        "colab": {
          "base_uri": "https://localhost:8080/",
          "height": 577
        },
        "id": "esGmdddjVe21",
        "outputId": "4f95e058-89b0-42da-ee08-99685305bc07"
      },
      "execution_count": null,
      "outputs": [
        {
          "output_type": "stream",
          "name": "stdout",
          "text": [
            "\n",
            "PERFORMANCE ON TEST DATA\n",
            "=======================================================\n",
            "CLASSIFICATION REPORT\n",
            "---------------------\n",
            "              precision    recall  f1-score   support\n",
            "\n",
            "           0       0.76      0.99      0.86       143\n",
            "           1       0.98      0.70      0.82       148\n",
            "\n",
            "    accuracy                           0.84       291\n",
            "   macro avg       0.87      0.84      0.84       291\n",
            "weighted avg       0.87      0.84      0.84       291\n",
            "\n",
            "\n",
            "CONFUSION MATRIX\n",
            "----------------\n"
          ]
        },
        {
          "output_type": "display_data",
          "data": {
            "text/plain": [
              "<Figure size 432x288 with 2 Axes>"
            ],
            "image/png": "[encoded data removed]"
          },
          "metadata": {
            "needs_background": "light"
          }
        }
      ]
    },
    {
      "cell_type": "markdown",
      "source": [
        "**2. BernoulliNB**"
      ],
      "metadata": {
        "id": "RAU75ZadUiJT"
      }
    },
    {
      "cell_type": "code",
      "source": [
        "# instantiate decision tree classifier\n",
        "clf = BernoulliNB()\n",
        "clf.fit(X_train, y_train)\n",
        "print('PERFORMANCE ON TRAIN DATA\\n'+'='*55)\n",
        "y_pred = clf.predict(X_train)\n",
        "calculate_performance(y_train,y_pred)"
      ],
      "metadata": {
        "colab": {
          "base_uri": "https://localhost:8080/",
          "height": 557
        },
        "id": "5H7BzFe1UnwG",
        "outputId": "bd8575e1-f24e-4e49-a6c9-6050607edfc9"
      },
      "execution_count": null,
      "outputs": [
        {
          "output_type": "stream",
          "name": "stdout",
          "text": [
            "PERFORMANCE ON TRAIN DATA\n",
            "=======================================================\n",
            "CLASSIFICATION REPORT\n",
            "---------------------\n",
            "              precision    recall  f1-score   support\n",
            "\n",
            "           0       0.95      1.00      0.97       327\n",
            "           1       1.00      0.95      0.98       352\n",
            "\n",
            "    accuracy                           0.97       679\n",
            "   macro avg       0.98      0.98      0.97       679\n",
            "weighted avg       0.98      0.97      0.97       679\n",
            "\n",
            "\n",
            "CONFUSION MATRIX\n",
            "----------------\n"
          ]
        },
        {
          "output_type": "display_data",
          "data": {
            "text/plain": [
              "<Figure size 432x288 with 2 Axes>"
            ],
            "image/png": "[encoded data removed]"
          },
          "metadata": {
            "needs_background": "light"
          }
        }
      ]
    },
    {
      "cell_type": "code",
      "source": [
        "print('\\nPERFORMANCE ON TEST DATA\\n'+'='*55)\n",
        "y_pred = clf.predict(X_test)\n",
        "calculate_performance(y_test,y_pred)"
      ],
      "metadata": {
        "colab": {
          "base_uri": "https://localhost:8080/",
          "height": 574
        },
        "id": "CYnfDM4QUyC4",
        "outputId": "a6cc20df-f546-4ed8-930e-483311f752a5"
      },
      "execution_count": null,
      "outputs": [
        {
          "output_type": "stream",
          "name": "stdout",
          "text": [
            "\n",
            "PERFORMANCE ON TEST DATA\n",
            "=======================================================\n",
            "CLASSIFICATION REPORT\n",
            "---------------------\n",
            "              precision    recall  f1-score   support\n",
            "\n",
            "           0       0.97      0.99      0.98       143\n",
            "           1       0.99      0.97      0.98       148\n",
            "\n",
            "    accuracy                           0.98       291\n",
            "   macro avg       0.98      0.98      0.98       291\n",
            "weighted avg       0.98      0.98      0.98       291\n",
            "\n",
            "\n",
            "CONFUSION MATRIX\n",
            "----------------\n"
          ]
        },
        {
          "output_type": "display_data",
          "data": {
            "text/plain": [
              "<Figure size 432x288 with 2 Axes>"
            ],
            "image/png": "[encoded data removed]"
          },
          "metadata": {
            "needs_background": "light"
          }
        }
      ]
    },
    {
      "cell_type": "markdown",
      "source": [
        "**3. Support Vector Machines**"
      ],
      "metadata": {
        "id": "y9nZsanZVm0u"
      }
    },
    {
      "cell_type": "code",
      "source": [
        "# instantiate decision tree classifier\n",
        "clf = SVC()\n",
        "clf.fit(X_train, y_train)\n",
        "print('PERFORMANCE ON TRAIN DATA\\n'+'='*55)\n",
        "y_pred = clf.predict(X_train)\n",
        "calculate_performance(y_train,y_pred)"
      ],
      "metadata": {
        "colab": {
          "base_uri": "https://localhost:8080/",
          "height": 557
        },
        "id": "Fr0orAewVs3w",
        "outputId": "d7cb82f6-33da-4c0c-bd9d-10e8b62d4a45"
      },
      "execution_count": null,
      "outputs": [
        {
          "output_type": "stream",
          "name": "stdout",
          "text": [
            "PERFORMANCE ON TRAIN DATA\n",
            "=======================================================\n",
            "CLASSIFICATION REPORT\n",
            "---------------------\n",
            "              precision    recall  f1-score   support\n",
            "\n",
            "           0       0.59      1.00      0.74       327\n",
            "           1       1.00      0.36      0.53       352\n",
            "\n",
            "    accuracy                           0.67       679\n",
            "   macro avg       0.80      0.68      0.64       679\n",
            "weighted avg       0.80      0.67      0.64       679\n",
            "\n",
            "\n",
            "CONFUSION MATRIX\n",
            "----------------\n"
          ]
        },
        {
          "output_type": "display_data",
          "data": {
            "text/plain": [
              "<Figure size 432x288 with 2 Axes>"
            ],
            "image/png": "[encoded data removed]"
          },
          "metadata": {
            "needs_background": "light"
          }
        }
      ]
    },
    {
      "cell_type": "code",
      "source": [
        "print('\\nPERFORMANCE ON TEST DATA\\n'+'='*55)\n",
        "y_pred = clf.predict(X_test)\n",
        "calculate_performance(y_test,y_pred)"
      ],
      "metadata": {
        "colab": {
          "base_uri": "https://localhost:8080/",
          "height": 574
        },
        "id": "TCALGP7kWR11",
        "outputId": "52d8cb39-a86f-4bee-f8f1-2118ac9548f6"
      },
      "execution_count": null,
      "outputs": [
        {
          "output_type": "stream",
          "name": "stdout",
          "text": [
            "\n",
            "PERFORMANCE ON TEST DATA\n",
            "=======================================================\n",
            "CLASSIFICATION REPORT\n",
            "---------------------\n",
            "              precision    recall  f1-score   support\n",
            "\n",
            "           0       0.60      1.00      0.75       143\n",
            "           1       1.00      0.36      0.53       148\n",
            "\n",
            "    accuracy                           0.67       291\n",
            "   macro avg       0.80      0.68      0.64       291\n",
            "weighted avg       0.80      0.67      0.64       291\n",
            "\n",
            "\n",
            "CONFUSION MATRIX\n",
            "----------------\n"
          ]
        },
        {
          "output_type": "display_data",
          "data": {
            "text/plain": [
              "<Figure size 432x288 with 2 Axes>"
            ],
            "image/png": "[encoded data removed]"
          },
          "metadata": {
            "needs_background": "light"
          }
        }
      ]
    },
    {
      "cell_type": "markdown",
      "source": [
        "**4. Decision Tree**"
      ],
      "metadata": {
        "id": "EGcLyNz6VtvY"
      }
    },
    {
      "cell_type": "code",
      "source": [
        "# instantiate decision tree classifier\n",
        "clf = DecisionTreeClassifier(random_state=0)\n",
        "clf.fit(X_train, y_train)\n",
        "print('PERFORMANCE ON TRAIN DATA\\n'+'='*55)\n",
        "y_pred = clf.predict(X_train)\n",
        "calculate_performance(y_train,y_pred)"
      ],
      "metadata": {
        "colab": {
          "base_uri": "https://localhost:8080/",
          "height": 560
        },
        "id": "4qf1ORHENW62",
        "outputId": "9030a703-ac98-4581-aa18-ba2849eb8679"
      },
      "execution_count": null,
      "outputs": [
        {
          "output_type": "stream",
          "name": "stdout",
          "text": [
            "PERFORMANCE ON TRAIN DATA\n",
            "=======================================================\n",
            "CLASSIFICATION REPORT\n",
            "---------------------\n",
            "              precision    recall  f1-score   support\n",
            "\n",
            "           0       1.00      1.00      1.00       327\n",
            "           1       1.00      1.00      1.00       352\n",
            "\n",
            "    accuracy                           1.00       679\n",
            "   macro avg       1.00      1.00      1.00       679\n",
            "weighted avg       1.00      1.00      1.00       679\n",
            "\n",
            "\n",
            "CONFUSION MATRIX\n",
            "----------------\n"
          ]
        },
        {
          "output_type": "display_data",
          "data": {
            "text/plain": [
              "<Figure size 432x288 with 2 Axes>"
            ],
            "image/png": "[encoded data removed]"
          },
          "metadata": {
            "needs_background": "light"
          }
        }
      ]
    },
    {
      "cell_type": "code",
      "source": [
        "print('\\nPERFORMANCE ON TEST DATA\\n'+'='*55)\n",
        "y_pred = clf.predict(X_test)\n",
        "calculate_performance(y_test,y_pred)"
      ],
      "metadata": {
        "colab": {
          "base_uri": "https://localhost:8080/",
          "height": 574
        },
        "id": "fUuWZ_TNTVOc",
        "outputId": "305e7131-52df-449f-c659-b235ce22d597"
      },
      "execution_count": null,
      "outputs": [
        {
          "output_type": "stream",
          "name": "stdout",
          "text": [
            "\n",
            "PERFORMANCE ON TEST DATA\n",
            "=======================================================\n",
            "CLASSIFICATION REPORT\n",
            "---------------------\n",
            "              precision    recall  f1-score   support\n",
            "\n",
            "           0       1.00      1.00      1.00       143\n",
            "           1       1.00      1.00      1.00       148\n",
            "\n",
            "    accuracy                           1.00       291\n",
            "   macro avg       1.00      1.00      1.00       291\n",
            "weighted avg       1.00      1.00      1.00       291\n",
            "\n",
            "\n",
            "CONFUSION MATRIX\n",
            "----------------\n"
          ]
        },
        {
          "output_type": "display_data",
          "data": {
            "text/plain": [
              "<Figure size 432x288 with 2 Axes>"
            ],
            "image/png": "[encoded data removed]"
          },
          "metadata": {
            "needs_background": "light"
          }
        }
      ]
    },
    {
      "cell_type": "markdown",
      "source": [
        "Observation:\n",
        "- Decision tree giving good accuracy"
      ],
      "metadata": {
        "id": "VFQlYRVtWqui"
      }
    },
    {
      "cell_type": "markdown",
      "source": [
        "## Feature Selection with Decision Tree feature importance"
      ],
      "metadata": {
        "id": "lb1hyhgPPvTl"
      }
    },
    {
      "cell_type": "code",
      "source": [
        "# retrive feature importance and plot it \n",
        "clf = DecisionTreeClassifier(random_state=0)\n",
        "clf.fit(X_train, y_train)\n",
        "importance = clf.feature_importances_\n",
        "x = range(0, len(features))\n",
        "plt.bar(x,importance)\n",
        "plt.show()"
      ],
      "metadata": {
        "colab": {
          "base_uri": "https://localhost:8080/",
          "height": 265
        },
        "id": "nwDd7ylQPuAG",
        "outputId": "1b85e368-be1d-42eb-f684-2132941e174c"
      },
      "execution_count": null,
      "outputs": [
        {
          "output_type": "display_data",
          "data": {
            "text/plain": [
              "<Figure size 432x288 with 1 Axes>"
            ],
            "image/png": "[encoded data removed]"
          },
          "metadata": {
            "needs_background": "light"
          }
        }
      ]
    },
    {
      "cell_type": "code",
      "source": [
        "imp_features = []\n",
        "print('Important features:\\n'+'-'*19)\n",
        "for feature, imp in zip(features, importance):\n",
        "  if imp > 0:\n",
        "    imp_features.append(feature)\n",
        "    print(feature)"
      ],
      "metadata": {
        "colab": {
          "base_uri": "https://localhost:8080/"
        },
        "id": "wzA5mCroQCFe",
        "outputId": "f26fb980-b55b-460d-c715-3b9ed7611daf"
      },
      "execution_count": null,
      "outputs": [
        {
          "output_type": "stream",
          "name": "stdout",
          "text": [
            "Important features:\n",
            "-------------------\n",
            "Entry_point_address\n",
            "Size_of_section_headers\n",
            "total_p_flags\n"
          ]
        }
      ]
    },
    {
      "cell_type": "markdown",
      "source": [
        "## Classification with new set of features"
      ],
      "metadata": {
        "id": "9hnav4KSUiku"
      }
    },
    {
      "cell_type": "code",
      "source": [
        "# train with new features and calculate accuracy with test data\n",
        "X = data.loc[:,imp_features]\n",
        "y = data.iloc[:,-1]\n",
        "X_train, X_test, y_train, y_test = train_test_split(X, y, test_size=0.3, random_state=42)\n",
        "# training the classifier and calculating performance\n",
        "clf = DecisionTreeClassifier(random_state=0)\n",
        "clf.fit(X_train, y_train)\n",
        "print('PERFORMANCE ON TRAIN DATA\\n'+'='*55)\n",
        "y_pred = clf.predict(X_train)\n",
        "calculate_performance(y_train,y_pred)"
      ],
      "metadata": {
        "colab": {
          "base_uri": "https://localhost:8080/",
          "height": 560
        },
        "id": "1qLfEO3RSnYd",
        "outputId": "e575b886-0177-4cd1-a983-ada00f11f567"
      },
      "execution_count": null,
      "outputs": [
        {
          "output_type": "stream",
          "name": "stdout",
          "text": [
            "PERFORMANCE ON TRAIN DATA\n",
            "=======================================================\n",
            "CLASSIFICATION REPORT\n",
            "---------------------\n",
            "              precision    recall  f1-score   support\n",
            "\n",
            "           0       1.00      1.00      1.00       327\n",
            "           1       1.00      1.00      1.00       352\n",
            "\n",
            "    accuracy                           1.00       679\n",
            "   macro avg       1.00      1.00      1.00       679\n",
            "weighted avg       1.00      1.00      1.00       679\n",
            "\n",
            "\n",
            "CONFUSION MATRIX\n",
            "----------------\n"
          ]
        },
        {
          "output_type": "display_data",
          "data": {
            "text/plain": [
              "<Figure size 432x288 with 2 Axes>"
            ],
            "image/png": "[encoded data removed]"
          },
          "metadata": {
            "needs_background": "light"
          }
        }
      ]
    },
    {
      "cell_type": "code",
      "source": [
        "print('\\nPERFORMANCE ON TEST DATA\\n'+'='*55)\n",
        "y_pred = clf.predict(X_test)\n",
        "calculate_performance(y_test,y_pred)"
      ],
      "metadata": {
        "colab": {
          "base_uri": "https://localhost:8080/",
          "height": 574
        },
        "id": "DkpAJEM1TNqb",
        "outputId": "afd469ce-f066-42e1-83c1-8ecdb6b0cd92"
      },
      "execution_count": null,
      "outputs": [
        {
          "output_type": "stream",
          "name": "stdout",
          "text": [
            "\n",
            "PERFORMANCE ON TEST DATA\n",
            "=======================================================\n",
            "CLASSIFICATION REPORT\n",
            "---------------------\n",
            "              precision    recall  f1-score   support\n",
            "\n",
            "           0       1.00      1.00      1.00       143\n",
            "           1       1.00      1.00      1.00       148\n",
            "\n",
            "    accuracy                           1.00       291\n",
            "   macro avg       1.00      1.00      1.00       291\n",
            "weighted avg       1.00      1.00      1.00       291\n",
            "\n",
            "\n",
            "CONFUSION MATRIX\n",
            "----------------\n"
          ]
        },
        {
          "output_type": "display_data",
          "data": {
            "text/plain": [
              "<Figure size 432x288 with 2 Axes>"
            ],
            "image/png": "[encoded data removed]"
          },
          "metadata": {
            "needs_background": "light"
          }
        }
      ]
    }
  ]
}