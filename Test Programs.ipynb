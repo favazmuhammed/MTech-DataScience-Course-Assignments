{
 "cells": [
  {
   "cell_type": "code",
   "execution_count": 1,
   "id": "864a3b39",
   "metadata": {},
   "outputs": [
    {
     "name": "stdout",
     "output_type": "stream",
     "text": [
      "Please enter the word: mom\n",
      "The word entered is a palindrome\n"
     ]
    }
   ],
   "source": [
    "\n",
    "#define class Stack\n",
    "\n",
    "class Stack():\n",
    "    \n",
    "    #initializing the class\n",
    "    def __init__(self):\n",
    "        self.items=[]\n",
    "        \n",
    "    #check if the stack is empty\n",
    "    def isEmpty(self):\n",
    "        return self.items==[]\n",
    "    \n",
    "    #append the data to the stack\n",
    "    def append(self, data):    \n",
    "        self.items.append(data)\n",
    "    \n",
    "    #remove a value from the stack and return the value, if stack is empty no action\n",
    "    def pop(self):\n",
    "        if self.isEmpty != True:\n",
    "            return self.items.pop()\n",
    "\n",
    "\n",
    "#input the word to the variable input_string\n",
    "#convert the word to lower letters\n",
    "input_string= input(\"Please enter the word: \")\n",
    "input_string= input_string.lower()\n",
    "\n",
    "\n",
    "#initialize an object to the class Stack()\n",
    "my_stack = Stack()\n",
    "\n",
    "#define an empty string for checking\n",
    "check_string=''\n",
    "\n",
    "#append the values to the variable my_stack\n",
    "for i in input_string:   \n",
    "    my_stack.append(i)\n",
    "    \n",
    "#remove a value from the my_stack and add to the check_string\n",
    "while my_stack.isEmpty() != True:\n",
    "    \n",
    "    check_string = check_string+my_stack.pop()\n",
    "    \n",
    "#if check_string is equal to input_string the given word is a palindrome else it is not a palindrome\n",
    "if (check_string==input_string):\n",
    "    \n",
    "    print('The word entered is a palindrome')\n",
    "\n",
    "else:\n",
    "    \n",
    "    print('The word entered is not a palindrome')\n",
    "        \n",
    "\n",
    "        \n",
    "        "
   ]
  },
  {
   "cell_type": "code",
   "execution_count": 6,
   "id": "9887d95c",
   "metadata": {},
   "outputs": [
    {
     "name": "stdout",
     "output_type": "stream",
     "text": [
      "True\n",
      "dog\n",
      "3\n",
      "False\n",
      "8.4\n",
      "True\n",
      "2\n"
     ]
    },
    {
     "ename": "NameError",
     "evalue": "name 'top' is not defined",
     "output_type": "error",
     "traceback": [
      "\u001b[1;31m---------------------------------------------------------------------------\u001b[0m",
      "\u001b[1;31mNameError\u001b[0m                                 Traceback (most recent call last)",
      "\u001b[1;32m~\\AppData\\Local\\Temp/ipykernel_1532/325429066.py\u001b[0m in \u001b[0;36m<module>\u001b[1;34m\u001b[0m\n\u001b[0;32m     16\u001b[0m \u001b[0mprint\u001b[0m\u001b[1;33m(\u001b[0m\u001b[0ms\u001b[0m\u001b[1;33m.\u001b[0m\u001b[0msize\u001b[0m\u001b[1;33m(\u001b[0m\u001b[1;33m)\u001b[0m\u001b[1;33m)\u001b[0m\u001b[1;33m\u001b[0m\u001b[1;33m\u001b[0m\u001b[0m\n\u001b[0;32m     17\u001b[0m \u001b[1;33m\u001b[0m\u001b[0m\n\u001b[1;32m---> 18\u001b[1;33m \u001b[0ms\u001b[0m\u001b[1;33m[\u001b[0m\u001b[0mtop\u001b[0m\u001b[1;33m-\u001b[0m\u001b[1;36m2\u001b[0m\u001b[1;33m]\u001b[0m\u001b[1;33m\u001b[0m\u001b[1;33m\u001b[0m\u001b[0m\n\u001b[0m",
      "\u001b[1;31mNameError\u001b[0m: name 'top' is not defined"
     ]
    }
   ],
   "source": [
    "from pythonds.basic import Stack\n",
    "\n",
    "s=Stack()\n",
    "\n",
    "#print(s.pop())\n",
    "print(s.isEmpty())\n",
    "s.push(4)\n",
    "s.push('dog')\n",
    "print(s.peek())\n",
    "s.push(True)\n",
    "print(s.size())\n",
    "print(s.isEmpty())\n",
    "s.push(8.4)\n",
    "print(s.pop())\n",
    "print(s.pop())\n",
    "print(s.size())\n",
    "\n",
    "s[top-2]\n"
   ]
  },
  {
   "cell_type": "code",
   "execution_count": 6,
   "id": "aad98eea",
   "metadata": {},
   "outputs": [
    {
     "data": {
      "text/plain": [
       "'<function <lambda> at 0x000001E1C6D53430>'"
      ]
     },
     "execution_count": 6,
     "metadata": {},
     "output_type": "execute_result"
    }
   ],
   "source": [
    "x,y=10,20\n",
    "\n",
    "a=lambda x,y:x+y\n",
    "a"
   ]
  },
  {
   "cell_type": "code",
   "execution_count": 7,
   "id": "facfda0f",
   "metadata": {},
   "outputs": [
    {
     "data": {
      "text/plain": [
       "[2]"
      ]
     },
     "execution_count": 7,
     "metadata": {},
     "output_type": "execute_result"
    }
   ],
   "source": [
    "arr = []\n",
    "arr.append(2)\n",
    "arr"
   ]
  },
  {
   "cell_type": "code",
   "execution_count": null,
   "id": "3999a669",
   "metadata": {},
   "outputs": [],
   "source": [
    "print(f\"58 degrees Celsius to Fahrenheit:{temp_converter(1,58)}\")\n",
    "print(\"58 degrees Fahrenheit to Celsius:{:.2f}\".format(temp_converter(2,58)))"
   ]
  },
  {
   "cell_type": "code",
   "execution_count": 2,
   "id": "177b1f38",
   "metadata": {},
   "outputs": [
    {
     "data": {
      "text/plain": [
       "array([ 0.27078604,  0.16732301,  0.01243606, -0.20939456, -0.09975822,\n",
       "       -0.20375511, -0.0420477 ,  0.09664203,  0.24414788,  0.06224547])"
      ]
     },
     "execution_count": 2,
     "metadata": {},
     "output_type": "execute_result"
    }
   ],
   "source": [
    "import numpy as np\n",
    "np.random.normal(0,0.15,10)"
   ]
  },
  {
   "cell_type": "code",
   "execution_count": 4,
   "id": "eaa8f977",
   "metadata": {},
   "outputs": [
    {
     "data": {
      "text/plain": [
       "array([[ 1.04719755e+00,  9.04934217e-01],\n",
       "       [ 1.39626340e+00,  9.23758880e-01],\n",
       "       [ 1.74532925e+00,  1.15536851e+00],\n",
       "       [ 2.09439510e+00,  9.57105074e-01],\n",
       "       [ 2.44346095e+00,  4.68348393e-01],\n",
       "       [ 2.79252680e+00,  3.47801156e-01],\n",
       "       [ 3.14159265e+00, -1.36952177e-03],\n",
       "       [ 3.49065850e+00, -8.67047931e-02],\n",
       "       [ 3.83972435e+00, -5.60016813e-01],\n",
       "       [ 4.18879020e+00, -9.45775413e-01],\n",
       "       [ 4.53785606e+00, -8.39945094e-01],\n",
       "       [ 4.88692191e+00, -1.27433160e+00]])"
      ]
     },
     "execution_count": 4,
     "metadata": {},
     "output_type": "execute_result"
    }
   ],
   "source": [
    "x = np.array([i*np.pi/180 for i in range(60,300,20)])\n",
    "y = np.sin(x) + np.random.normal(0,0.15,len(x))\n",
    "np.column_stack([x,y])\n",
    "\n"
   ]
  },
  {
   "cell_type": "code",
   "execution_count": 10,
   "id": "8d402444",
   "metadata": {},
   "outputs": [
    {
     "name": "stdout",
     "output_type": "stream",
     "text": [
      "40\n"
     ]
    }
   ],
   "source": [
    "print(\"{:.2g}\".format(39.54484700000000))"
   ]
  },
  {
   "cell_type": "code",
   "execution_count": 11,
   "id": "e8d96517",
   "metadata": {},
   "outputs": [
    {
     "name": "stdout",
     "output_type": "stream",
     "text": [
      "39.54\n"
     ]
    }
   ],
   "source": [
    "print(\"{:.2f}\".format(39.54484700000000))"
   ]
  },
  {
   "cell_type": "code",
   "execution_count": 6,
   "id": "4ed2e44c",
   "metadata": {},
   "outputs": [
    {
     "name": "stdout",
     "output_type": "stream",
     "text": [
      "39.545\n"
     ]
    }
   ],
   "source": [
    "print(f'{39.54484700000000:.3f}')"
   ]
  },
  {
   "cell_type": "code",
   "execution_count": null,
   "id": "c2bb7dd7",
   "metadata": {},
   "outputs": [],
   "source": []
  }
 ],
 "metadata": {
  "kernelspec": {
   "display_name": "Python 3 (ipykernel)",
   "language": "python",
   "name": "python3"
  },
  "language_info": {
   "codemirror_mode": {
    "name": "ipython",
    "version": 3
   },
   "file_extension": ".py",
   "mimetype": "text/x-python",
   "name": "python",
   "nbconvert_exporter": "python",
   "pygments_lexer": "ipython3",
   "version": "3.9.6"
  }
 },
 "nbformat": 4,
 "nbformat_minor": 5
}
