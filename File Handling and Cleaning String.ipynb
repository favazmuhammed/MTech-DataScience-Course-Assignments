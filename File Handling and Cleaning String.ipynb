{
 "cells": [
  {
   "cell_type": "code",
   "execution_count": null,
   "id": "c51bafa7",
   "metadata": {},
   "outputs": [],
   "source": [
    "#open the file 1.txt as file_1\n",
    "file_1 = open('1.txt', mode='r+')\n",
    "\n",
    "#print all the lines\n",
    "for line in file_1:\n",
    "    print(line, end='')"
   ]
  },
  {
   "cell_type": "code",
   "execution_count": null,
   "id": "f5a96bbf",
   "metadata": {},
   "outputs": [],
   "source": [
    "for i in range(len(tweet_list)):\n",
    "    tweet_list[i] = tweet_list[i].lower()\n",
    "    for word in tweet_list[i]:\n",
    "        word = ''.join(filter(str.isalnum, word))\n",
    "tweet_list"
   ]
  },
  {
   "cell_type": "code",
   "execution_count": null,
   "id": "8d00199b",
   "metadata": {},
   "outputs": [],
   "source": [
    "import re \n",
    "\n",
    "for i in range(len(tweet_list)):\n",
    "    tweet_list[i] = re.sub('[^A-Za-z0-9 ]+','', tweet_list[i] )\n",
    "    \n",
    "tweet_list[:50]"
   ]
  },
  {
   "cell_type": "code",
   "execution_count": 2,
   "id": "81e05327",
   "metadata": {},
   "outputs": [
    {
     "name": "stdout",
     "output_type": "stream",
     "text": [
      "Element found at index 1\n"
     ]
    }
   ],
   "source": [
    "# Iterative Binary Search Function\n",
    "# It returns index of n in given array arr if present,\n",
    "# else returns -1\n",
    "def binarySearch(arr, key):\n",
    "    low = 0\n",
    "    high = len(arr) - 1\n",
    "    mid = 0\n",
    " \n",
    "    while low <= high:\n",
    " \n",
    "        mid = (high + low) // 2\n",
    "        res = (key == arr[mid])\n",
    " \n",
    "        if res == 0:\n",
    "            return mid\n",
    "        \n",
    "        elif res<0:\n",
    "            low = mid + 1\n",
    " \n",
    "        elif res > 0:\n",
    "            high = mid - 1\n",
    " \n",
    "    # If we reach here, then the element was not present\n",
    "    return -1\n",
    "\n",
    "# Driver Code\n",
    "if __name__ == \"__main__\":\n",
    " \n",
    "    arr = [\"contribute\", \"geeks\",\n",
    "               \"ide\", \"practice\"];\n",
    "    key = \"ide\"\n",
    "    result = binarySearch(arr, key)\n",
    " \n",
    "    if (result == -1):\n",
    "        print(\"Element not present\")\n",
    "    else:\n",
    "        print(\"Element found at index\" ,\n",
    "                                 result)"
   ]
  },
  {
   "cell_type": "code",
   "execution_count": null,
   "id": "dfd7e5a0",
   "metadata": {},
   "outputs": [],
   "source": [
    "from google.colab import files\n",
    "uploaded_file = files.upload()"
   ]
  }
 ],
 "metadata": {
  "kernelspec": {
   "display_name": "Python 3 (ipykernel)",
   "language": "python",
   "name": "python3"
  },
  "language_info": {
   "codemirror_mode": {
    "name": "ipython",
    "version": 3
   },
   "file_extension": ".py",
   "mimetype": "text/x-python",
   "name": "python",
   "nbconvert_exporter": "python",
   "pygments_lexer": "ipython3",
   "version": "3.9.6"
  }
 },
 "nbformat": 4,
 "nbformat_minor": 5
}
