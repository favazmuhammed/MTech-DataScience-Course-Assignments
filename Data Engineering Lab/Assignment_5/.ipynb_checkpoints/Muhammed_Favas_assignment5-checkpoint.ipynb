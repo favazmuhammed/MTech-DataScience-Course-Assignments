{
 "cells": [
  {
   "cell_type": "markdown",
   "metadata": {
    "id": "4X3Eiw_XBYCO"
   },
   "source": [
    "### **Task-1**"
   ]
  },
  {
   "cell_type": "code",
   "execution_count": null,
   "metadata": {
    "id": "doVaHbcfvGf9"
   },
   "outputs": [],
   "source": [
    "# import required libraries\n",
    "import networkx as nx\n",
    "import numpy as np\n",
    "import matplotlib.pyplot as plt"
   ]
  },
  {
   "cell_type": "code",
   "execution_count": null,
   "metadata": {
    "id": "ht_h8GSnvO4E"
   },
   "outputs": [],
   "source": [
    "#define a function to built a graph with arguments as list of nodes and edges\n",
    "\n",
    "def buildGraph(nodes, edges):\n",
    "    G = nx.Graph()                     #define a graph \n",
    "    G.add_nodes_from(nodes)            #add nodes to the graph from list \"nodes\"\n",
    "    G.add_edges_from(edges)            #add edges to the graph from lis \"edges\"\n",
    "\n",
    "    np.random.seed(475)\n",
    "    plt.subplot()\n",
    "    nx.draw(G, with_labels=True, font_weight='bold')  #draw the graph\n",
    "    return G\n"
   ]
  },
  {
   "cell_type": "code",
   "execution_count": null,
   "metadata": {
    "colab": {
     "base_uri": "https://localhost:8080/",
     "height": 247
    },
    "id": "lul9LgHCxADP",
    "outputId": "c159c3d8-322d-4495-cebe-8d3f74063344"
   },
   "outputs": [
    {
     "data": {
      "image/png": "[encoded data removed]",
      "text/plain": [
       "<Figure size 432x288 with 1 Axes>"
      ]
     },
     "metadata": {},
     "output_type": "display_data"
    }
   ],
   "source": [
    "nodes_1=[1,2,3,4,5,6,7,8,9,10,11,12]                                                                 #list of node\n",
    "edges_1=[(1,2),(2,3),(3,4),(3,11),(4,5),(4,8),(5,6),(6,7),(7,8),(8,9),(9,10),(9,11),(1,11),(11,12)]  #list of egdes\n",
    "Graph_1 = buildGraph(nodes_1,edges_1)                                                                        #buitd a graph as G"
   ]
  },
  {
   "cell_type": "code",
   "execution_count": null,
   "metadata": {
    "colab": {
     "base_uri": "https://localhost:8080/"
    },
    "id": "z-vg7bIyyf68",
    "outputId": "82dc89d8-c8bb-406d-e782-9ea2d6d6952b"
   },
   "outputs": [
    {
     "data": {
      "text/plain": [
       "[[{'id': 2}, {'id': 11}],\n",
       " [{'id': 1}, {'id': 3}],\n",
       " [{'id': 2}, {'id': 4}, {'id': 11}],\n",
       " [{'id': 3}, {'id': 5}, {'id': 8}],\n",
       " [{'id': 4}, {'id': 6}],\n",
       " [{'id': 5}, {'id': 7}],\n",
       " [{'id': 6}, {'id': 8}],\n",
       " [{'id': 4}, {'id': 7}, {'id': 9}],\n",
       " [{'id': 8}, {'id': 10}, {'id': 11}],\n",
       " [{'id': 9}],\n",
       " [{'id': 3}, {'id': 9}, {'id': 1}, {'id': 12}],\n",
       " [{'id': 11}]]"
      ]
     },
     "execution_count": 132,
     "metadata": {},
     "output_type": "execute_result"
    }
   ],
   "source": [
    "adj_data_1 = nx.adjacency_data(Graph_1)['adjacency']\n",
    "adj_data_1"
   ]
  },
  {
   "cell_type": "code",
   "execution_count": null,
   "metadata": {
    "id": "z3QE9HPV3jtz"
   },
   "outputs": [],
   "source": [
    "#define a function for representing graph as adjacency list with adjacency data as argument\n",
    "def graph_to_adj_list(adj_data):\n",
    "    adj_list = {}                        #define a dictionary for representing adjacency list\n",
    "    key = 1\n",
    "    for data in adj_data:\n",
    "        values = [str(d['id']) for d in data]\n",
    "        adj_list[str(key)] = values\n",
    "        key += 1\n",
    "    return adj_list"
   ]
  },
  {
   "cell_type": "code",
   "execution_count": null,
   "metadata": {
    "colab": {
     "base_uri": "https://localhost:8080/"
    },
    "id": "3PadDO827EyO",
    "outputId": "20aa5543-1f67-46e9-b922-84b8c1c9a37d"
   },
   "outputs": [
    {
     "data": {
      "text/plain": [
       "{'1': ['2', '11'],\n",
       " '10': ['9'],\n",
       " '11': ['3', '9', '1', '12'],\n",
       " '12': ['11'],\n",
       " '2': ['1', '3'],\n",
       " '3': ['2', '4', '11'],\n",
       " '4': ['3', '5', '8'],\n",
       " '5': ['4', '6'],\n",
       " '6': ['5', '7'],\n",
       " '7': ['6', '8'],\n",
       " '8': ['4', '7', '9'],\n",
       " '9': ['8', '10', '11']}"
      ]
     },
     "execution_count": 134,
     "metadata": {},
     "output_type": "execute_result"
    }
   ],
   "source": [
    "adjacency_list_1 = graph_to_adj_list(adj_data_1)\n",
    "adjacency_list_1"
   ]
  },
  {
   "cell_type": "markdown",
   "metadata": {
    "id": "2hU2skbaBNiR"
   },
   "source": [
    "### **BFS**"
   ]
  },
  {
   "cell_type": "code",
   "execution_count": null,
   "metadata": {
    "id": "6ckZufWZ71yo"
   },
   "outputs": [],
   "source": [
    "#define an algorithm for finding bfs algorithm and print visited nodes\n",
    "#argument to the function are adjecency list(graph), visited list and starting node\n",
    "\n",
    "def bfs(graph,visited, start_node):\n",
    "  node = str(start_node)                 #convert starting node to string\n",
    "  visited.append(node)                   #add starting node to viisted list and queue\n",
    "  queue.append(node)\n",
    "  path_nodes=[]                         #define a list for saving nodes in the path\n",
    "\n",
    "  while queue:                          #while queue is nt empty\n",
    "    d = queue.pop(0)                    #remove first element from the queue\n",
    "    path_nodes.append(d)                #add current node to the list path_nodes   \n",
    "\n",
    "    for neighbour in graph[d]:          #iterate over each neighbour of node d\n",
    "      if neighbour not in visited:      #if neigbour not visited\n",
    "        visited.append(neighbour)       #add the neighbour to the visited list and queue\n",
    "        queue.append(neighbour)\n",
    " \n",
    "  return path_nodes"
   ]
  },
  {
   "cell_type": "code",
   "execution_count": null,
   "metadata": {
    "colab": {
     "base_uri": "https://localhost:8080/",
     "height": 265
    },
    "id": "o0qyDH0TBI89",
    "outputId": "c4dc5f2d-03eb-4b25-84a7-1e19da535169"
   },
   "outputs": [
    {
     "data": {
      "text/plain": [
       "<networkx.classes.graph.Graph at 0x7fe2aecf6c10>"
      ]
     },
     "execution_count": 136,
     "metadata": {},
     "output_type": "execute_result"
    },
    {
     "data": {
      "image/png": "[encoded data removed]",
      "text/plain": [
       "<Figure size 432x288 with 1 Axes>"
      ]
     },
     "metadata": {},
     "output_type": "display_data"
    }
   ],
   "source": [
    "buildGraph(nodes_1,edges_1)"
   ]
  },
  {
   "cell_type": "code",
   "execution_count": null,
   "metadata": {
    "colab": {
     "base_uri": "https://localhost:8080/"
    },
    "id": "xTt_nVJOAD78",
    "outputId": "e8cc2e58-1747-461b-f6cd-c817881b2499"
   },
   "outputs": [
    {
     "name": "stdout",
     "output_type": "stream",
     "text": [
      "1 2 11 3 9 12 4 8 10 5 7 6 "
     ]
    }
   ],
   "source": [
    "visited=[]                              #define visited list\n",
    "queue=[]                                #define a list queue\n",
    "visited_nodes=bfs(adjacency_list_1,visited,1)   #call bfs with starting node as 1\n",
    "\n",
    "for  node in visited_nodes:\n",
    "  print(node, end=' ')"
   ]
  },
  {
   "cell_type": "markdown",
   "metadata": {
    "id": "g-65_847BkIf"
   },
   "source": [
    "### **DFS**"
   ]
  },
  {
   "cell_type": "code",
   "execution_count": null,
   "metadata": {
    "id": "JcFki1hB9nw2"
   },
   "outputs": [],
   "source": [
    "#define a function for implementing dfs algorithm and print visited nodes\n",
    "\n",
    "def dfs(graph,visited, start_node):\n",
    "  node=str(start_node)                 #convert start_node to string\n",
    "\n",
    "  if node not in visited:              #if node not in visited list\n",
    "    print(node, end=' ')               #print the node\n",
    "    visited.append(node)               #add node to the visited list\n",
    "    for neighbour in graph[node]:      #iterate over neigbours of present node\n",
    "      dfs(graph,visited, neighbour)    #call dfs function recursively with neighbour as start_node"
   ]
  },
  {
   "cell_type": "code",
   "execution_count": null,
   "metadata": {
    "colab": {
     "base_uri": "https://localhost:8080/",
     "height": 265
    },
    "id": "KHjGX_8dA-ej",
    "outputId": "e92a9a29-dec3-49e8-b905-d93340a21fb1"
   },
   "outputs": [
    {
     "data": {
      "text/plain": [
       "<networkx.classes.graph.Graph at 0x7fe2aec82950>"
      ]
     },
     "execution_count": 139,
     "metadata": {},
     "output_type": "execute_result"
    },
    {
     "data": {
      "image/png": "[encoded data removed]",
      "text/plain": [
       "<Figure size 432x288 with 1 Axes>"
      ]
     },
     "metadata": {},
     "output_type": "display_data"
    }
   ],
   "source": [
    "buildGraph(nodes_1,edges_1)"
   ]
  },
  {
   "cell_type": "code",
   "execution_count": null,
   "metadata": {
    "colab": {
     "base_uri": "https://localhost:8080/"
    },
    "id": "d3C2r7EwAM_E",
    "outputId": "ae3836e7-ee5d-423c-d4e7-d3703a15b618"
   },
   "outputs": [
    {
     "name": "stdout",
     "output_type": "stream",
     "text": [
      "11 3 2 1 4 5 6 7 8 9 10 12 "
     ]
    }
   ],
   "source": [
    "visited=[]                                #define a list visited\n",
    "dfs(adjacency_list_1, visited, 11)          #call dfs function with start node as 11"
   ]
  },
  {
   "cell_type": "markdown",
   "metadata": {
    "id": "sogsJpFWBMRl"
   },
   "source": [
    "### **Task-2**"
   ]
  },
  {
   "cell_type": "code",
   "execution_count": null,
   "metadata": {
    "colab": {
     "base_uri": "https://localhost:8080/",
     "height": 247
    },
    "id": "Z8MTPMeLBPQW",
    "outputId": "a9ebe600-e515-4d47-ccaf-22a0a89b8de4"
   },
   "outputs": [
    {
     "data": {
      "image/png": "[encoded data removed]",
      "text/plain": [
       "<Figure size 432x288 with 1 Axes>"
      ]
     },
     "metadata": {},
     "output_type": "display_data"
    }
   ],
   "source": [
    "#define nodes and edges and build a graph using buildGraph() function\n",
    "\n",
    "nodes_2=[1,2,3,4,5,6,7,8,9,10,11,12,13,14,15]                                                                        \n",
    "edges_2=[(1,2),(1,4),(2,4),(4,3),(5,6),(5,9),(6,9),(6,7),(7,8),(11,12),(10,12),(13,14),(9,15)]                            \n",
    "Graph_2 = buildGraph(nodes_2,edges_2) "
   ]
  },
  {
   "cell_type": "code",
   "execution_count": null,
   "metadata": {
    "colab": {
     "base_uri": "https://localhost:8080/"
    },
    "id": "ZtIN093EKJbj",
    "outputId": "a21d169f-4e23-46cd-93cd-2eb1435d28b8"
   },
   "outputs": [
    {
     "data": {
      "text/plain": [
       "{'1': ['2', '4'],\n",
       " '10': ['12'],\n",
       " '11': ['12'],\n",
       " '12': ['11', '10'],\n",
       " '13': ['14'],\n",
       " '14': ['13'],\n",
       " '15': ['9'],\n",
       " '2': ['1', '4'],\n",
       " '3': ['4'],\n",
       " '4': ['1', '2', '3'],\n",
       " '5': ['6', '9'],\n",
       " '6': ['5', '9', '7'],\n",
       " '7': ['6', '8'],\n",
       " '8': ['7'],\n",
       " '9': ['5', '6', '15']}"
      ]
     },
     "execution_count": 144,
     "metadata": {},
     "output_type": "execute_result"
    }
   ],
   "source": [
    "adj_data_2 = nx.adjacency_data(Graph_2)['adjacency']                  #create an ajacency data dictionary\n",
    "adjacency_list_2 = graph_to_adj_list(adj_data_2)                      #by using this create adjacency list for graph_2\n",
    "adjacency_list_2"
   ]
  },
  {
   "cell_type": "code",
   "execution_count": null,
   "metadata": {
    "id": "pAgcCVoSLRcf"
   },
   "outputs": [],
   "source": [
    "visited=[]                                               #define list for saving visited nodes and nodes in a connected component                                              \n",
    "connected_graphs=[]                                      \n",
    "for node in nodes_2:                                     #iterate over all nodes\n",
    "  if node not in visited:                                #if node is not in the visited list\n",
    "    connected_graphs.append(bfs(adjacency_list_2,visited,node))   #call bfs() function with arguments as adjacency list of graph_2, visited list and current node as starting node\n",
    "                                                                  #this will return a list of nodes in the connected component\n"
   ]
  },
  {
   "cell_type": "code",
   "execution_count": null,
   "metadata": {
    "colab": {
     "base_uri": "https://localhost:8080/"
    },
    "id": "USn4KGRnVLdT",
    "outputId": "48139d7d-05b3-44ed-d83f-c12cda1ad438"
   },
   "outputs": [
    {
     "name": "stdout",
     "output_type": "stream",
     "text": [
      "length of largest connected component: 6\n",
      "length of second largest connected component: 4\n"
     ]
    }
   ],
   "source": [
    "length=[]                                                     #define a list for save length of each connected component\n",
    "for i in range(len(connected_graphs)):                        #iterate over all the connected components\n",
    "  length.append(len(connected_graphs[i]))                     #save length of each connected component\n",
    "\n",
    "length.sort(reverse=True)                                     #sort the length in decending order and get first two lengths as largest \n",
    "for i in range(1,3):                                          #and second largest connected component\n",
    "  if i==1:\n",
    "    print('length of largest connected component: %d'%length[i-1])\n",
    "  if i==2:\n",
    "    print('length of second largest connected component: %d'%length[i-1])\n",
    "\n",
    "\n"
   ]
  },
  {
   "cell_type": "code",
   "execution_count": null,
   "metadata": {
    "id": "WGPIJkMUbNah"
   },
   "outputs": [],
   "source": []
  },
  {
   "cell_type": "code",
   "execution_count": null,
   "metadata": {
    "id": "g0MQzgf3bNep"
   },
   "outputs": [],
   "source": []
  },
  {
   "cell_type": "markdown",
   "metadata": {
    "id": "Fykp6Gee7f8k"
   },
   "source": [
    "### Task-3"
   ]
  },
  {
   "cell_type": "code",
   "execution_count": null,
   "metadata": {
    "id": "sdCFYFsUKwLg"
   },
   "outputs": [],
   "source": [
    "#dijikstra function with argument as graph, agjacency_list of graph, source_node, list of nodes\n",
    "\n",
    "import math\n",
    "def dijikstra(graph,adjacency_list ,source_node,nodes):\n",
    "\n",
    "  queue=[]\n",
    "  dist=[]\n",
    "\n",
    "  for i in range(len(nodes)):\n",
    "    dist.append(math.inf)\n",
    "    queue.append(nodes[i])\n",
    "    \n",
    "  ind_1 = nodes.index(source_node)\n",
    "  dist[ind_1]=0\n",
    "  dist_temp  = dist\n",
    "  #print(dist)\n",
    "  #print(queue)\n",
    "\n",
    "  while queue:\n",
    "    min_dist = min(dist_temp)\n",
    "    ind_2 = dist.index(min_dist)\n",
    "    val = queue[ind_2]\n",
    "    queue.remove(val)\n",
    "    u = nodes[ind_2]\n",
    "    #print(queue)\n",
    "\n",
    "    for v in adjacency_list[str(u)]:\n",
    "      alt = dist[ind_2] + graph.get_edge_data(u,int(v))['weight']\n",
    "      if alt < dist[int(v)-1]:\n",
    "        dist[int(v)-1] = alt\n",
    "        dist_temp[int(v)-1]\n",
    "\n",
    "    for data in dist_temp:\n",
    "      if data==min_dist:\n",
    "        indx=dist_temp.index(data)\n",
    "        dist_temp[indx] = math.inf\n",
    "    print(dist_temp)\n",
    "  return dist\n",
    "\n"
   ]
  },
  {
   "cell_type": "code",
   "execution_count": null,
   "metadata": {
    "colab": {
     "base_uri": "https://localhost:8080/",
     "height": 265
    },
    "id": "8xELeuIMbgCu",
    "outputId": "fd548544-0533-4c16-fb4c-787bac12e712"
   },
   "outputs": [
    {
     "data": {
      "text/plain": [
       "<networkx.classes.graph.Graph at 0x7fe2aeafa290>"
      ]
     },
     "execution_count": 148,
     "metadata": {},
     "output_type": "execute_result"
    },
    {
     "data": {
      "image/png": "[encoded data removed]",
      "text/plain": [
       "<Figure size 432x288 with 1 Axes>"
      ]
     },
     "metadata": {},
     "output_type": "display_data"
    }
   ],
   "source": [
    "#in this task we are using Graph_1\n",
    "buildGraph(nodes_1,edges_1)"
   ]
  },
  {
   "cell_type": "code",
   "execution_count": null,
   "metadata": {
    "colab": {
     "base_uri": "https://localhost:8080/"
    },
    "id": "3f6iXt18d8Vm",
    "outputId": "e920ec61-7514-47fd-dfe0-12663af37e36"
   },
   "outputs": [
    {
     "data": {
      "text/plain": [
       "{'1': ['2', '11'],\n",
       " '10': ['9'],\n",
       " '11': ['3', '9', '1', '12'],\n",
       " '12': ['11'],\n",
       " '2': ['1', '3'],\n",
       " '3': ['2', '4', '11'],\n",
       " '4': ['3', '5', '8'],\n",
       " '5': ['4', '6'],\n",
       " '6': ['5', '7'],\n",
       " '7': ['6', '8'],\n",
       " '8': ['4', '7', '9'],\n",
       " '9': ['8', '10', '11']}"
      ]
     },
     "execution_count": 160,
     "metadata": {},
     "output_type": "execute_result"
    }
   ],
   "source": [
    "#add weight 1 for all edges\n",
    "nx.set_edge_attributes(Graph_1, values = 1, name = 'weight')\n",
    "#Graph_1.get_edge_data(1,2)['weight']\n",
    "adjacency_list_1"
   ]
  },
  {
   "cell_type": "code",
   "execution_count": null,
   "metadata": {
    "id": "1Y27m68AziQl"
   },
   "outputs": [],
   "source": [
    "min_distances=np.empy(shape=(len(nodes_1),len(nodes_1)), dtype='object')      #define a 2d matrix for save min distances between any nodes\n",
    "                                                                              #row number+1 is source node, column number+1 is target node\n",
    "\n",
    "for i in range(len(nodes_1)):                                                 #iterate over each node\n",
    " min_distances[i,:]= dijikstra(Graph_1, adjacency_list_1, node_1[i],nodes_1)          #call dijikstra function with ith node as source node\n",
    "                                                                                      #it will return list of min distances between all other nodes\n",
    "\n",
    "dia=max(min_distances)                                                        #diaameter of the graph is max of min_distance matrix\n",
    "print(\"daiameter of the graph is %d\"%dia)"
   ]
  }
 ],
 "metadata": {
  "colab": {
   "name": "Muhammed_Favas_assignment5.ipynb",
   "provenance": []
  },
  "kernelspec": {
   "display_name": "Python 3 (ipykernel)",
   "language": "python",
   "name": "python3"
  },
  "language_info": {
   "codemirror_mode": {
    "name": "ipython",
    "version": 3
   },
   "file_extension": ".py",
   "mimetype": "text/x-python",
   "name": "python",
   "nbconvert_exporter": "python",
   "pygments_lexer": "ipython3",
   "version": "3.9.6"
  }
 },
 "nbformat": 4,
 "nbformat_minor": 1
}
