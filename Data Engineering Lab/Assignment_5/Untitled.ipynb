{
 "cells": [
  {
   "cell_type": "code",
   "execution_count": 2,
   "id": "35f91a14",
   "metadata": {},
   "outputs": [],
   "source": [
    "# import required libraries\n",
    "import networkx as nx\n",
    "import numpy as np\n",
    "import matplotlib.pyplot as plt"
   ]
  },
  {
   "cell_type": "code",
   "execution_count": null,
   "id": "b579f180",
   "metadata": {},
   "outputs": [],
   "source": [
    "def buildGraph(nodes, edges):\n",
    "    g= nx.Graph()"
   ]
  },
  {
   "cell_type": "code",
   "execution_count": null,
   "id": "8848af4c",
   "metadata": {},
   "outputs": [],
   "source": [
    "nodes = [1,2,3,4,5,6,7,8,9,10,11,12]\n",
    "edges = []\n",
    "for i, edge in enumerate(G.edges())"
   ]
  }
 ],
 "metadata": {
  "kernelspec": {
   "display_name": "Python 3 (ipykernel)",
   "language": "python",
   "name": "python3"
  },
  "language_info": {
   "codemirror_mode": {
    "name": "ipython",
    "version": 3
   },
   "file_extension": ".py",
   "mimetype": "text/x-python",
   "name": "python",
   "nbconvert_exporter": "python",
   "pygments_lexer": "ipython3",
   "version": "3.9.6"
  }
 },
 "nbformat": 4,
 "nbformat_minor": 5
}
