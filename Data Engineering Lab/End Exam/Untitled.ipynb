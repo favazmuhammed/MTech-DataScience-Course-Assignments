{
 "cells": [
  {
   "cell_type": "code",
   "execution_count": 1,
   "id": "caa47853",
   "metadata": {},
   "outputs": [],
   "source": [
    "from pymongo import MongoClient\n",
    "import json\n",
    "\n",
    "#instantiating MongoDB server\n",
    "myclient = MongoClient()    "
   ]
  },
  {
   "cell_type": "code",
   "execution_count": 2,
   "id": "e3d7f818",
   "metadata": {},
   "outputs": [
    {
     "data": {
      "text/plain": [
       "['admin', 'config', 'end_exam', 'local', 'res_db']"
      ]
     },
     "execution_count": 2,
     "metadata": {},
     "output_type": "execute_result"
    }
   ],
   "source": [
    "#list of the databases\n",
    "myclient.list_database_names()"
   ]
  },
  {
   "cell_type": "code",
   "execution_count": 3,
   "id": "75aadc08",
   "metadata": {},
   "outputs": [
    {
     "data": {
      "text/plain": [
       "['movies', 'comments']"
      ]
     },
     "execution_count": 3,
     "metadata": {},
     "output_type": "execute_result"
    }
   ],
   "source": [
    "exam = myclient.end_exam                    #switching to res_db\n",
    "exam.list_collection_names()  "
   ]
  },
  {
   "cell_type": "code",
   "execution_count": 4,
   "id": "6d0bec8c",
   "metadata": {},
   "outputs": [
    {
     "data": {
      "text/plain": [
       "['_id',\n",
       " 'plot',\n",
       " 'genres',\n",
       " 'runtime',\n",
       " 'cast',\n",
       " 'num_mflix_comments',\n",
       " 'title',\n",
       " 'fullplot',\n",
       " 'countries',\n",
       " 'released',\n",
       " 'directors',\n",
       " 'rated',\n",
       " 'awards',\n",
       " 'lastupdated',\n",
       " 'year',\n",
       " 'imdb',\n",
       " 'type',\n",
       " 'tomatoes']"
      ]
     },
     "execution_count": 4,
     "metadata": {},
     "output_type": "execute_result"
    }
   ],
   "source": [
    "movies = exam.movies\n",
    "movie_1 = movies.find_one() \n",
    "attributes = list(movie_1.keys()) \n",
    "attributes"
   ]
  },
  {
   "cell_type": "code",
   "execution_count": 10,
   "id": "f55e2e22",
   "metadata": {},
   "outputs": [
    {
     "name": "stdout",
     "output_type": "stream",
     "text": [
      "{'_id': ObjectId('573a1390f29313caabcd4135'), 'plot': 'Three men hammer on an anvil and pass a bottle of beer around.', 'genres': ['Short'], 'runtime': 1, 'cast': ['Charles Kayser', 'John Ott'], 'num_mflix_comments': 1, 'title': 'Blacksmith Scene', 'fullplot': 'A stationary camera looks at a large anvil with a blacksmith behind it and one on either side. The smith in the middle draws a heated metal rod from the fire, places it on the anvil, and all three begin a rhythmic hammering. After several blows, the metal goes back in the fire. One smith pulls out a bottle of beer, and they each take a swig. Then, out comes the glowing metal and the hammering resumes.', 'countries': ['USA'], 'released': datetime.datetime(1893, 5, 9, 0, 0), 'directors': ['William K.L. Dickson'], 'rated': 'UNRATED', 'awards': {'wins': 1, 'nominations': 0, 'text': '1 win.'}, 'lastupdated': '2015-08-26 00:03:50.133000000', 'year': 1893, 'imdb': {'rating': 6.2, 'votes': 1189, 'id': 5}, 'type': 'movie', 'tomatoes': {'viewer': {'rating': 3, 'numReviews': 184, 'meter': 32}, 'lastUpdated': datetime.datetime(2015, 6, 28, 18, 34, 9)}}\n"
     ]
    }
   ],
   "source": [
    "user_cursor = movies.find(limit=1) # There's also a 'find_one' method that returns a single document\n",
    "for user in user_cursor:\n",
    "    print(user)"
   ]
  },
  {
   "cell_type": "code",
   "execution_count": 39,
   "id": "f1629600",
   "metadata": {},
   "outputs": [
    {
     "data": {
      "text/plain": [
       "['_id', 'name', 'email', 'movie_id', 'text', 'date']"
      ]
     },
     "execution_count": 39,
     "metadata": {},
     "output_type": "execute_result"
    }
   ],
   "source": [
    "comments_1 = exam.comments\n",
    "comment = comments.find_one() \n",
    "attributes = list(comment.keys()) \n",
    "attributes"
   ]
  },
  {
   "cell_type": "code",
   "execution_count": 11,
   "id": "048e0c30",
   "metadata": {},
   "outputs": [
    {
     "name": "stdout",
     "output_type": "stream",
     "text": [
      "{'_id': ObjectId('5a9427648b0beebeb69579cc'), 'name': 'Andrea Le', 'email': 'andrea_le@fakegmail.com', 'movie_id': ObjectId('573a1390f29313caabcd418c'), 'text': 'Rem officiis eaque repellendus amet eos doloribus. Porro dolor voluptatum voluptates neque culpa molestias. Voluptate unde nulla temporibus ullam.', 'date': datetime.datetime(2012, 3, 26, 23, 20, 16)}\n"
     ]
    }
   ],
   "source": [
    "user_cursor = comments.find(limit=1) # There's also a 'find_one' method that returns a single document\n",
    "for user in user_cursor:\n",
    "    print(user)"
   ]
  },
  {
   "cell_type": "code",
   "execution_count": 60,
   "id": "f1091983",
   "metadata": {},
   "outputs": [
    {
     "name": "stdout",
     "output_type": "stream",
     "text": [
      "{'plot': 'Three men hammer on an anvil and pass a bottle of beer around.', 'cast': ['Charles Kayser', 'John Ott'], 'comments': []}\n",
      "{'plot': 'A group of bandits stage a brazen train hold-up, only to find a determined posse hot on their heels.', 'cast': ['A.C. Abadie', \"Gilbert M. 'Broncho Billy' Anderson\", 'George Barnes', 'Justus D. Barnes'], 'comments': []}\n",
      "{'plot': 'A young boy, opressed by his mother, goes on an outing in the country with a social welfare group where he dares to dream of a land where the cares of his ordinary life fade.', 'cast': ['Martin Fuller', 'Mrs. William Bechtel', 'Walter Edwin', 'Ethel Jewett'], 'comments': [{'text': 'Eius veritatis vero facilis quaerat fuga temporibus. Praesentium expedita sequi repellat id. Corporis minima enim ex. Provident fugit nisi dignissimos nulla nam ipsum aliquam.'}]}\n",
      "{'plot': \"A greedy tycoon decides, on a whim, to corner the world market in wheat. This doubles the price of bread, forcing the grain's producers into charity lines and further into poverty. The film...\", 'cast': ['Frank Powell', 'Grace Henderson', 'James Kirkwood', 'Linda Arvidson'], 'comments': [{'text': 'Id error ab at molestias dolorum incidunt. Non deserunt praesentium dolorem nihil. Optio tempora vel ut quas.\\nMinus dicta numquam quasi. Rem totam cumque at eum. Ullam hic ut ea magni.'}]}\n",
      "{'plot': 'Cartoon figures announce, via comic strip balloons, that they will move - and move they do, in a wildly exaggerated style.', 'cast': ['Winsor McCay'], 'comments': []}\n",
      "{'plot': 'A woman, with the aid of her police officer sweetheart, endeavors to uncover the prostitution ring that has kidnapped her sister, and the philanthropist who secretly runs it.', 'cast': ['Jane Gail', 'Ethel Grandin', 'William H. Turner', 'Matt Moore'], 'comments': [{'text': 'Iure laboriosam quo et necessitatibus sed. Id iure delectus soluta. Quaerat officiis maiores commodi earum. Autem odio labore debitis optio libero.'}]}\n",
      "{'plot': 'The cartoonist, Winsor McCay, brings the Dinosaurus back to life in the figure of his latest creation, Gertie the Dinosaur.', 'cast': ['Winsor McCay', 'George McManus', 'Roy L. McCardell'], 'comments': []}\n",
      "{'plot': 'Original advertising for the film describes it as a drama of primitive life on the shores of the North Pacific...', 'cast': ['Stanley Hunt', 'Sarah Constance Smith Hunt', 'Mrs. George Walkus', \"Paddy 'Malid\"], 'comments': [{'text': 'Minima odit officiis minima nam. Aspernatur id reprehenderit eius inventore amet laudantium. Eos unde enim recusandae fugit sint.'}]}\n",
      "{'plot': \"Young Pauline is left a lot of money when her wealthy uncle dies. However, her uncle's secretary has been named as her guardian until she marries, at which time she will officially take ...\", 'cast': ['Pearl White', 'Crane Wilbur', 'Paul Panzer', 'Edward Josè'], 'comments': []}\n",
      "{'plot': \"The Civil War divides friends and destroys families, but that's nothing compared to the anarchy in the black-ruled South after the war.\", 'cast': ['Lillian Gish', 'Mae Marsh', 'Henry B. Walthall', 'Miriam Cooper'], 'comments': []}\n"
     ]
    }
   ],
   "source": [
    "pipeline = [{\"$limit\": 10},\n",
    "            {\"$lookup\": {'from': \"comments\", \n",
    "                         'localField': '_id', \n",
    "                         'foreignField': 'movie_id',\n",
    "                         'as': 'comments'}},\n",
    "            {\"$project\": {'_id': 0,\n",
    "                          'plot': 1, \n",
    "                          'cast': 1,\n",
    "                          'comments.text': 1,\n",
    "                          }}]\n",
    "\n",
    "# Call the aggregate function on 'users' collection passing in the pipeline:\n",
    "for movie in movies.aggregate(pipeline):\n",
    "    print(movie)"
   ]
  },
  {
   "cell_type": "code",
   "execution_count": 29,
   "id": "66ad9e4a",
   "metadata": {},
   "outputs": [],
   "source": [
    "year_count = movies.aggregate([{'$group':{'_id':'$year','count':{'$sum':1}}}])\n"
   ]
  },
  {
   "cell_type": "code",
   "execution_count": 30,
   "id": "ec7ac8bb",
   "metadata": {},
   "outputs": [
    {
     "name": "stdout",
     "output_type": "stream",
     "text": [
      "{'_id': '1999è', 'count': 1}\n",
      "{'_id': 1934, 'count': 32}\n",
      "{'_id': 1936, 'count': 40}\n",
      "{'_id': 1978, 'count': 133}\n",
      "{'_id': 2005, 'count': 758}\n",
      "{'_id': 1960, 'count': 93}\n",
      "{'_id': '2000è', 'count': 1}\n",
      "{'_id': 1919, 'count': 2}\n",
      "{'_id': 2010, 'count': 970}\n",
      "{'_id': 2004, 'count': 741}\n",
      "{'_id': 1972, 'count': 131}\n",
      "{'_id': 1984, 'count': 211}\n",
      "{'_id': 1949, 'count': 63}\n",
      "{'_id': 1915, 'count': 5}\n",
      "{'_id': 1931, 'count': 24}\n",
      "{'_id': 1967, 'count': 108}\n",
      "{'_id': '2006è2012', 'count': 2}\n",
      "{'_id': '2011è', 'count': 2}\n",
      "{'_id': 1913, 'count': 1}\n",
      "{'_id': 1986, 'count': 206}\n",
      "{'_id': 1948, 'count': 70}\n",
      "{'_id': 1958, 'count': 92}\n",
      "{'_id': '1995è', 'count': 1}\n",
      "{'_id': 1965, 'count': 100}\n",
      "{'_id': 1969, 'count': 117}\n",
      "{'_id': 2012, 'count': 1109}\n",
      "{'_id': 1982, 'count': 185}\n",
      "{'_id': 1893, 'count': 1}\n",
      "{'_id': '1987è', 'count': 1}\n",
      "{'_id': 1962, 'count': 98}\n",
      "{'_id': 1921, 'count': 6}\n",
      "{'_id': 2009, 'count': 990}\n",
      "{'_id': 1954, 'count': 64}\n",
      "{'_id': 1992, 'count': 288}\n",
      "{'_id': 1944, 'count': 30}\n",
      "{'_id': 1950, 'count': 69}\n",
      "{'_id': 2002, 'count': 655}\n",
      "{'_id': 1946, 'count': 44}\n",
      "{'_id': '1997è', 'count': 2}\n",
      "{'_id': 1996, 'count': 431}\n",
      "{'_id': 1947, 'count': 38}\n",
      "{'_id': 1923, 'count': 6}\n",
      "{'_id': '1981è', 'count': 1}\n",
      "{'_id': 1951, 'count': 63}\n",
      "{'_id': 1987, 'count': 239}\n",
      "{'_id': 2003, 'count': 657}\n",
      "{'_id': 2007, 'count': 872}\n",
      "{'_id': '2002è', 'count': 1}\n",
      "{'_id': 2014, 'count': 1147}\n",
      "{'_id': '2010è', 'count': 4}\n",
      "{'_id': '2015è', 'count': 1}\n",
      "{'_id': 1989, 'count': 244}\n",
      "{'_id': 1994, 'count': 318}\n",
      "{'_id': 1966, 'count': 116}\n",
      "{'_id': '1988è', 'count': 2}\n",
      "{'_id': '2009è', 'count': 2}\n",
      "{'_id': 2011, 'count': 1040}\n",
      "{'_id': 1974, 'count': 109}\n",
      "{'_id': 1924, 'count': 9}\n",
      "{'_id': 2008, 'count': 969}\n",
      "{'_id': 1995, 'count': 396}\n",
      "{'_id': 1955, 'count': 81}\n",
      "{'_id': 1920, 'count': 6}\n",
      "{'_id': '2014è', 'count': 2}\n",
      "{'_id': 1928, 'count': 19}\n",
      "{'_id': 1985, 'count': 204}\n",
      "{'_id': 1927, 'count': 11}\n",
      "{'_id': 1980, 'count': 176}\n",
      "{'_id': 1935, 'count': 40}\n",
      "{'_id': 1959, 'count': 89}\n",
      "{'_id': 1909, 'count': 1}\n",
      "{'_id': 1926, 'count': 9}\n",
      "{'_id': 1917, 'count': 3}\n",
      "{'_id': 1993, 'count': 292}\n",
      "{'_id': 1896, 'count': 2}\n",
      "{'_id': 1979, 'count': 140}\n",
      "{'_id': '2006è2007', 'count': 1}\n",
      "{'_id': 1918, 'count': 1}\n",
      "{'_id': '2007è', 'count': 3}\n",
      "{'_id': 1903, 'count': 1}\n",
      "{'_id': 1942, 'count': 36}\n",
      "{'_id': 1981, 'count': 179}\n",
      "{'_id': 1973, 'count': 123}\n",
      "{'_id': 1983, 'count': 172}\n",
      "{'_id': '1996è', 'count': 1}\n",
      "{'_id': 2000, 'count': 618}\n",
      "{'_id': '2012è', 'count': 3}\n",
      "{'_id': 1930, 'count': 12}\n",
      "{'_id': 1997, 'count': 458}\n",
      "{'_id': '2006è', 'count': 1}\n",
      "{'_id': 1894, 'count': 1}\n",
      "{'_id': 1911, 'count': 2}\n",
      "{'_id': 1922, 'count': 7}\n",
      "{'_id': 1938, 'count': 44}\n",
      "{'_id': 2016, 'count': 1}\n",
      "{'_id': 1914, 'count': 3}\n",
      "{'_id': 1939, 'count': 29}\n",
      "{'_id': 1953, 'count': 82}\n",
      "{'_id': 1990, 'count': 244}\n",
      "{'_id': 2013, 'count': 1221}\n",
      "{'_id': 1891, 'count': 1}\n",
      "{'_id': 1940, 'count': 31}\n",
      "{'_id': 1952, 'count': 58}\n",
      "{'_id': 1970, 'count': 128}\n",
      "{'_id': 2001, 'count': 645}\n",
      "{'_id': 1912, 'count': 2}\n",
      "{'_id': '2003è', 'count': 1}\n",
      "{'_id': 1956, 'count': 80}\n",
      "{'_id': 1932, 'count': 25}\n",
      "{'_id': 1945, 'count': 39}\n",
      "{'_id': 1991, 'count': 252}\n",
      "{'_id': 1975, 'count': 112}\n",
      "{'_id': '1994è1998', 'count': 1}\n",
      "{'_id': 1961, 'count': 94}\n",
      "{'_id': 1976, 'count': 127}\n",
      "{'_id': 1929, 'count': 10}\n",
      "{'_id': 1964, 'count': 113}\n",
      "{'_id': 1941, 'count': 31}\n",
      "{'_id': 1988, 'count': 265}\n",
      "{'_id': 1957, 'count': 89}\n",
      "{'_id': 2006, 'count': 844}\n",
      "{'_id': 1998, 'count': 552}\n",
      "{'_id': 1925, 'count': 13}\n",
      "{'_id': 1937, 'count': 40}\n",
      "{'_id': 1968, 'count': 112}\n",
      "{'_id': '1986è', 'count': 1}\n",
      "{'_id': 1971, 'count': 116}\n",
      "{'_id': 1977, 'count': 134}\n",
      "{'_id': '2005è', 'count': 2}\n",
      "{'_id': 1943, 'count': 36}\n",
      "{'_id': 1963, 'count': 99}\n",
      "{'_id': 1933, 'count': 27}\n",
      "{'_id': 1916, 'count': 4}\n",
      "{'_id': 1999, 'count': 542}\n",
      "{'_id': 2015, 'count': 484}\n"
     ]
    }
   ],
   "source": [
    "for movie in year_count:\n",
    "    print(movie)"
   ]
  },
  {
   "cell_type": "code",
   "execution_count": 53,
   "id": "1c40cf5e",
   "metadata": {},
   "outputs": [
    {
     "name": "stdout",
     "output_type": "stream",
     "text": [
      "left \u001b[47m\u001b[34mfoot\u001b[0m right \u001b[47m\u001b[34mfoot\u001b[0m left \u001b[47m\u001b[34mfoot\u001b[0m right. \u001b[47m\u001b[34mfeet\u001b[0m in the day, \u001b[47m\u001b[34mfeet\u001b[0m at night.\n"
     ]
    }
   ],
   "source": [
    "from termcolor import colored\n",
    "text='left foot right foot left foot right. Feet in the day, feet at night.'\n",
    "l1=['foot','feet']\n",
    "formattedText = []\n",
    "for t in text.lower().split():\n",
    "    if t in l1:\n",
    "        formattedText.append(colored(t,'blue','on_white'))\n",
    "    else: \n",
    "        formattedText.append(t)\n",
    "\n",
    "print(\" \".join(formattedText))"
   ]
  },
  {
   "cell_type": "code",
   "execution_count": null,
   "id": "1cd5fa04",
   "metadata": {},
   "outputs": [],
   "source": []
  }
 ],
 "metadata": {
  "kernelspec": {
   "display_name": "Python 3 (ipykernel)",
   "language": "python",
   "name": "python3"
  },
  "language_info": {
   "codemirror_mode": {
    "name": "ipython",
    "version": 3
   },
   "file_extension": ".py",
   "mimetype": "text/x-python",
   "name": "python",
   "nbconvert_exporter": "python",
   "pygments_lexer": "ipython3",
   "version": "3.9.6"
  }
 },
 "nbformat": 4,
 "nbformat_minor": 5
}
