{
 "cells": [
  {
   "cell_type": "code",
   "execution_count": 49,
   "id": "701d4d3f",
   "metadata": {},
   "outputs": [],
   "source": [
    "from pymongo import MongoClient\n",
    "import json\n",
    "\n",
    "myclient = MongoClient()"
   ]
  },
  {
   "cell_type": "code",
   "execution_count": 50,
   "id": "2127b5cf",
   "metadata": {},
   "outputs": [],
   "source": [
    "db = myclient[\"res_db\"]\n",
    "collection = db[\"restaurants\"]"
   ]
  },
  {
   "cell_type": "code",
   "execution_count": 82,
   "id": "58c67c26",
   "metadata": {},
   "outputs": [
    {
     "data": {
      "text/plain": [
       "<pymongo.results.InsertManyResult at 0x2184fd50cc0>"
      ]
     },
     "execution_count": 82,
     "metadata": {},
     "output_type": "execute_result"
    }
   ],
   "source": [
    "with open('primer_dataset.json') as file:\n",
    "    file_data = [json.loads(line) for line in file]\n",
    "    \n",
    "collection.insert_many(file_data)"
   ]
  },
  {
   "cell_type": "code",
   "execution_count": 84,
   "id": "ec70849c",
   "metadata": {},
   "outputs": [
    {
     "data": {
      "text/plain": [
       "['admin', 'config', 'local', 'res_db']"
      ]
     },
     "execution_count": 84,
     "metadata": {},
     "output_type": "execute_result"
    }
   ],
   "source": [
    "myclient.list_database_names()"
   ]
  },
  {
   "cell_type": "raw",
   "id": "30b93a69",
   "metadata": {},
   "source": []
  }
 ],
 "metadata": {
  "kernelspec": {
   "display_name": "Python 3 (ipykernel)",
   "language": "python",
   "name": "python3"
  },
  "language_info": {
   "codemirror_mode": {
    "name": "ipython",
    "version": 3
   },
   "file_extension": ".py",
   "mimetype": "text/x-python",
   "name": "python",
   "nbconvert_exporter": "python",
   "pygments_lexer": "ipython3",
   "version": "3.9.6"
  }
 },
 "nbformat": 4,
 "nbformat_minor": 5
}
