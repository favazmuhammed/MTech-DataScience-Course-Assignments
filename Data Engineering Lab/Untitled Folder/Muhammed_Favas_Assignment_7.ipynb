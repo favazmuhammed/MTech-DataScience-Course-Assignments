{
 "cells": [
  {
   "cell_type": "code",
   "execution_count": 1,
   "id": "4c81824c",
   "metadata": {},
   "outputs": [],
   "source": [
    "#import pymongo and json libraries\n",
    "from pymongo import MongoClient\n",
    "import json\n",
    "\n",
    "#instantiating MongoDB server\n",
    "myclient = MongoClient()                 "
   ]
  },
  {
   "cell_type": "markdown",
   "id": "12171408",
   "metadata": {},
   "source": [
    "##### 1. Create a MongoDB database named ‘res_db’ and import data from ‘primer-dataset.json’ file into a collection named ‘restaurants'"
   ]
  },
  {
   "cell_type": "code",
   "execution_count": 2,
   "id": "f5ac76e3",
   "metadata": {},
   "outputs": [],
   "source": [
    "db = myclient[\"res_db\"]                #create a database res_db\n",
    "collection = db[\"restaurants\"]         #create a collection restaurants"
   ]
  },
  {
   "cell_type": "code",
   "execution_count": 3,
   "id": "d3c8e5c8",
   "metadata": {},
   "outputs": [
    {
     "data": {
      "text/plain": [
       "<pymongo.results.InsertManyResult at 0x246c46ce7c0>"
      ]
     },
     "execution_count": 3,
     "metadata": {},
     "output_type": "execute_result"
    }
   ],
   "source": [
    "#importing primer_dataset.json file\n",
    "with open('primer_dataset.json') as file:\n",
    "    file_data = [json.loads(line) for line in file]\n",
    "    \n",
    "collection.insert_many(file_data)                 #insert documents to the collection restaurant"
   ]
  },
  {
   "cell_type": "code",
   "execution_count": 4,
   "id": "60dcbb19",
   "metadata": {},
   "outputs": [
    {
     "data": {
      "text/plain": [
       "['admin', 'config', 'local', 'res_db']"
      ]
     },
     "execution_count": 4,
     "metadata": {},
     "output_type": "execute_result"
    }
   ],
   "source": [
    "#list of the databases\n",
    "myclient.list_database_names()"
   ]
  },
  {
   "cell_type": "code",
   "execution_count": 5,
   "id": "d669e421",
   "metadata": {},
   "outputs": [
    {
     "data": {
      "text/plain": [
       "['restaurants']"
      ]
     },
     "execution_count": 5,
     "metadata": {},
     "output_type": "execute_result"
    }
   ],
   "source": [
    "res_db = myclient.res_db                    #switching to res_db\n",
    "res_db.list_collection_names()              #name of the collections in res_db"
   ]
  },
  {
   "cell_type": "markdown",
   "id": "c5f64706",
   "metadata": {},
   "source": [
    "##### 2. List all the attributes in the restaurants collection."
   ]
  },
  {
   "cell_type": "code",
   "execution_count": 6,
   "id": "5fc3de6c",
   "metadata": {},
   "outputs": [],
   "source": [
    "restaurants = res_db.restaurants           #switch to the collection restaurants"
   ]
  },
  {
   "cell_type": "code",
   "execution_count": 11,
   "id": "69ad6df4",
   "metadata": {},
   "outputs": [
    {
     "name": "stdout",
     "output_type": "stream",
     "text": [
      "_id\n",
      "address\n",
      "borough\n",
      "cuisine\n",
      "grades\n",
      "name\n",
      "restaurant_id\n"
     ]
    }
   ],
   "source": [
    "restaurant_1 = restaurants.find_one()     #retrive a document and keys of this document gives attributes in the collection\n",
    "attributes = list(restaurant_1.keys())    #keys of the restaurant_1 document gives list of attributes\n",
    "for attribute in attributes:\n",
    "    print(attribute)"
   ]
  },
  {
   "cell_type": "markdown",
   "id": "f78ee6b5",
   "metadata": {},
   "source": [
    "##### 3. Count the total number of restaurants."
   ]
  },
  {
   "cell_type": "code",
   "execution_count": 14,
   "id": "fb1db6e2",
   "metadata": {},
   "outputs": [
    {
     "name": "stdout",
     "output_type": "stream",
     "text": [
      "Total number of restaurants: 50718\n"
     ]
    }
   ],
   "source": [
    "tot_restaurants=restaurants.count_documents({})\n",
    "print('Total number of restaurants: {}'.format(tot_restaurants))"
   ]
  },
  {
   "cell_type": "markdown",
   "id": "827824c8",
   "metadata": {},
   "source": [
    "##### 4. Count the number of restaurants with American cuisine."
   ]
  },
  {
   "cell_type": "code",
   "execution_count": 91,
   "id": "7a58b3ff",
   "metadata": {},
   "outputs": [
    {
     "data": {
      "text/plain": [
       "6183"
      ]
     },
     "execution_count": 91,
     "metadata": {},
     "output_type": "execute_result"
    }
   ],
   "source": [
    "restaurants.count_documents({'cuisine':'American'})"
   ]
  },
  {
   "cell_type": "markdown",
   "id": "acf37d19",
   "metadata": {},
   "source": [
    "###### 5. Show a cuisine-wise count of restaurants."
   ]
  },
  {
   "cell_type": "code",
   "execution_count": 13,
   "id": "183948aa",
   "metadata": {},
   "outputs": [
    {
     "name": "stdout",
     "output_type": "stream",
     "text": [
      "Afghan cuisine:28\n",
      "African cuisine:136\n",
      "American cuisine:12366\n",
      "Armenian cuisine:80\n",
      "Asian cuisine:618\n",
      "Australian cuisine:32\n",
      "Bagels/Pretzels cuisine:336\n",
      "Bakery cuisine:1382\n",
      "Bangladeshi cuisine:72\n",
      "Barbecue cuisine:104\n",
      "Bottled beverages, including water, sodas, juices, etc. cuisine:144\n",
      "Brazilian cuisine:52\n",
      "CafÃ©/Coffee/Tea cuisine:4\n",
      "Café/Coffee/Tea cuisine:2428\n",
      "Cajun cuisine:14\n",
      "Californian cuisine:2\n",
      "Caribbean cuisine:1314\n",
      "Chicken cuisine:820\n",
      "Chilean cuisine:2\n",
      "Chinese cuisine:4836\n",
      "Chinese/Cuban cuisine:32\n",
      "Chinese/Japanese cuisine:118\n",
      "Continental cuisine:116\n",
      "Creole cuisine:48\n",
      "Creole/Cajun cuisine:2\n",
      "Czech cuisine:12\n",
      "Delicatessen cuisine:642\n",
      "Donuts cuisine:958\n",
      "Eastern European cuisine:130\n",
      "Egyptian cuisine:28\n",
      "English cuisine:32\n",
      "Ethiopian cuisine:36\n",
      "Filipino cuisine:52\n",
      "French cuisine:688\n",
      "Fruits/Vegetables cuisine:14\n",
      "German cuisine:62\n",
      "Greek cuisine:222\n",
      "Hamburgers cuisine:866\n",
      "Hawaiian cuisine:6\n",
      "Hotdogs cuisine:68\n",
      "Hotdogs/Pretzels cuisine:32\n",
      "Ice Cream, Gelato, Yogurt, Ices cuisine:696\n",
      "Indian cuisine:632\n",
      "Indonesian cuisine:16\n",
      "Iranian cuisine:4\n",
      "Irish cuisine:380\n",
      "Italian cuisine:2138\n",
      "Japanese cuisine:1520\n",
      "Jewish/Kosher cuisine:632\n",
      "Juice, Smoothies, Fruit Salads cuisine:546\n",
      "Korean cuisine:524\n",
      "Latin (Cuban, Dominican, Puerto Rican, South & Central American) cuisine:1700\n",
      "Mediterranean cuisine:438\n",
      "Mexican cuisine:1508\n",
      "Middle Eastern cuisine:336\n",
      "Moroccan cuisine:30\n",
      "Not Listed/Not Applicable cuisine:38\n",
      "Nuts/Confectionary cuisine:12\n",
      "Other cuisine:2022\n",
      "Pakistani cuisine:62\n",
      "Pancakes/Waffles cuisine:32\n",
      "Peruvian cuisine:136\n",
      "Pizza cuisine:2326\n",
      "Pizza/Italian cuisine:936\n",
      "Polish cuisine:50\n",
      "Polynesian cuisine:2\n",
      "Portuguese cuisine:16\n",
      "Russian cuisine:176\n",
      "Salads cuisine:90\n",
      "Sandwiches cuisine:918\n",
      "Sandwiches/Salads/Mixed Buffet cuisine:510\n",
      "Scandinavian cuisine:14\n",
      "Seafood cuisine:294\n",
      "Soul Food cuisine:88\n",
      "Soups cuisine:8\n",
      "Soups & Sandwiches cuisine:102\n",
      "Southwestern cuisine:18\n",
      "Spanish cuisine:1274\n",
      "Steak cuisine:172\n",
      "Tapas cuisine:56\n",
      "Tex-Mex cuisine:286\n",
      "Thai cuisine:570\n",
      "Turkish cuisine:140\n",
      "Vegetarian cuisine:204\n",
      "Vietnamese/Cambodian/Malaysia cuisine:132\n"
     ]
    }
   ],
   "source": [
    "cuisines=restaurants.distinct('cuisine')                      #get list of all distinct cuisines\n",
    "for cuisine in cuisines:\n",
    "    count = restaurants.count_documents({'cuisine': cuisine}) #for each cuisine count the restaurants\n",
    "    print('{} cuisine:{}'.format(cuisine,count))              #print cuisine and count\n",
    "        "
   ]
  },
  {
   "cell_type": "markdown",
   "id": "63c332b1",
   "metadata": {},
   "source": [
    "##### 6.Count the number of Hawaiian cuisine restaurants with grade=A"
   ]
  },
  {
   "cell_type": "code",
   "execution_count": 114,
   "id": "df74e405",
   "metadata": {},
   "outputs": [
    {
     "data": {
      "text/plain": [
       "3"
      ]
     },
     "execution_count": 114,
     "metadata": {},
     "output_type": "execute_result"
    }
   ],
   "source": [
    "restaurants.count_documents({'cuisine':'Hawaiian', 'grades.grade':'A'})"
   ]
  },
  {
   "cell_type": "markdown",
   "id": "9e770300",
   "metadata": {},
   "source": [
    "##### 7. Show cuisines having a restaurant count more than 100."
   ]
  },
  {
   "cell_type": "code",
   "execution_count": 109,
   "id": "190fd0c3",
   "metadata": {},
   "outputs": [
    {
     "name": "stdout",
     "output_type": "stream",
     "text": [
      "American\n",
      "Asian\n",
      "Bagels/Pretzels\n",
      "Bakery\n",
      "Café/Coffee/Tea\n",
      "Caribbean\n",
      "Chicken\n",
      "Chinese\n",
      "Delicatessen\n",
      "Donuts\n",
      "French\n",
      "Greek\n",
      "Hamburgers\n",
      "Ice Cream, Gelato, Yogurt, Ices\n",
      "Indian\n",
      "Irish\n",
      "Italian\n",
      "Japanese\n",
      "Jewish/Kosher\n",
      "Juice, Smoothies, Fruit Salads\n",
      "Korean\n",
      "Latin (Cuban, Dominican, Puerto Rican, South & Central American)\n",
      "Mediterranean\n",
      "Mexican\n",
      "Middle Eastern\n",
      "Other\n",
      "Pizza\n",
      "Pizza/Italian\n",
      "Sandwiches\n",
      "Sandwiches/Salads/Mixed Buffet\n",
      "Seafood\n",
      "Spanish\n",
      "Tex-Mex\n",
      "Thai\n",
      "Vegetarian\n"
     ]
    }
   ],
   "source": [
    "cuisines=restaurants.distinct('cuisine')                          #list of distinct cuisine names\n",
    "for cuisine in cuisines:\n",
    "    count = restaurants.count_documents({'cuisine': cuisine})     #count number of reastaurants with each cuisine\n",
    "    if count>100:                                                 #if count >100 print the cuisine name\n",
    "        print(cuisine)"
   ]
  },
  {
   "cell_type": "code",
   "execution_count": null,
   "id": "9c2aad51",
   "metadata": {},
   "outputs": [],
   "source": []
  }
 ],
 "metadata": {
  "kernelspec": {
   "display_name": "Python 3 (ipykernel)",
   "language": "python",
   "name": "python3"
  },
  "language_info": {
   "codemirror_mode": {
    "name": "ipython",
    "version": 3
   },
   "file_extension": ".py",
   "mimetype": "text/x-python",
   "name": "python",
   "nbconvert_exporter": "python",
   "pygments_lexer": "ipython3",
   "version": "3.9.6"
  }
 },
 "nbformat": 4,
 "nbformat_minor": 5
}
