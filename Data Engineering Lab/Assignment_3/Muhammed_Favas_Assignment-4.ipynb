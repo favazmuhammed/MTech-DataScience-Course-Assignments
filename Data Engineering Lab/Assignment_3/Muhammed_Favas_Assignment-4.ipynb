{
 "cells": [
  {
   "cell_type": "markdown",
   "id": "cb76d808",
   "metadata": {},
   "source": [
    "### 1. Implement insertion sort, quick sort, bubble sort, merge sort. Test with arrays of sizes 10, 100, 1000, 10000. Use same array for all sorting algorithms and print time taken by each of them. "
   ]
  },
  {
   "cell_type": "markdown",
   "id": "d59562dc",
   "metadata": {},
   "source": [
    "###### Insersion Sort"
   ]
  },
  {
   "cell_type": "code",
   "execution_count": 7,
   "id": "4edadb58",
   "metadata": {},
   "outputs": [],
   "source": [
    "#implementing insertion sort\n",
    "#compare the key element with already sorted array in the left\n",
    "\n",
    "def insertionSort(arr):              \n",
    "    for i in range(1,len(arr)):                               #itrate from second element of the array to last\n",
    "        for j in range(i,0,-1):                               #comparae ith element with element left to it\n",
    "            if arr[j]<arr[j-1]:                               #if ith element is less than i-1 th element\n",
    "                arr[j-1], arr[j]= arr[j], arr[j-1]            #the it will swap"
   ]
  },
  {
   "cell_type": "markdown",
   "id": "e5d8c849",
   "metadata": {},
   "source": [
    "###### Quick Sort"
   ]
  },
  {
   "cell_type": "code",
   "execution_count": 8,
   "id": "05257269",
   "metadata": {},
   "outputs": [],
   "source": [
    "#implementing partition function it will take last element as key\n",
    "#and place it in the correct position of the sorted array\n",
    "\n",
    "def partition(arr, low, high):\n",
    "    i=low                                 #define variable i\n",
    "    key=arr[high]                         #define variable key as last element of array\n",
    "    for j in range(low, high):            #iterate from low to high\n",
    "        \n",
    "        if arr[j]<= key:                  #if jth element less than key element\n",
    "            \n",
    "            arr[i],arr[j]=arr[j],arr[i]   #it shift to left side of the array\n",
    "            i=i+1                         #increment i by 1\n",
    "        \n",
    "    \n",
    "    arr[i],arr[high]=arr[high], arr[i]    #swap ith element and key element, ie key element will comes in to the correct \n",
    "                                          #position in the sorted array\n",
    "    return i                              #return index of the middle element\n",
    "\n",
    "\n",
    "#define quciSort function\n",
    "#arr[] is the array to be sorted\n",
    "#low: lower index of the array\n",
    "#hogh: higher index of the array\n",
    "\n",
    "def quickSort(arr, low, high):\n",
    "    \n",
    "    if len(arr)==1:                      #if length of the array is 1\n",
    "        return arr                       #return array,  no need of sorting\n",
    "    \n",
    "    if low<high:\n",
    "        part_index=partition(arr, low,high) #get index of element with respect it partition done \n",
    "        quickSort(arr, low, part_index-1)   #call quckSort function in the lower part and \n",
    "        quickSort(arr, part_index+1, high)  #upper part of partitioned array recursively\n",
    "    "
   ]
  },
  {
   "cell_type": "markdown",
   "id": "77c0ce9c",
   "metadata": {},
   "source": [
    "###### Bubble Sort"
   ]
  },
  {
   "cell_type": "code",
   "execution_count": 9,
   "id": "b5cb3042",
   "metadata": {},
   "outputs": [],
   "source": [
    "#implementing bubble sort function\n",
    "#arr[]: array to be sorted\n",
    "\n",
    "def bubbleSort(arr):\n",
    "    for i in range(len(arr)):                       #iterate over all element of the array\n",
    "        for j in range(len(arr)-i-1):               #comapare the ith element to the following element\n",
    "            if arr[j] > arr[j+1]:                   #if true\n",
    "                arr[j], arr[j+1] = arr[j+1], arr[j] #swap the element, it will done up to last element"
   ]
  },
  {
   "cell_type": "markdown",
   "id": "ec5e07c1",
   "metadata": {},
   "source": [
    "###### Merge Sort"
   ]
  },
  {
   "cell_type": "code",
   "execution_count": 10,
   "id": "279ebd71",
   "metadata": {},
   "outputs": [],
   "source": [
    "#defining mergeSort() function\n",
    "#arr[]: array to be sorted\n",
    "\n",
    "def mergeSort(arr):\n",
    "    if len(arr) > 1:\n",
    "        mid = len(arr)//2                        #finding middle position\n",
    "        left_arr = arr[:mid]                     #left half of the array up to middle position\n",
    "        right_arr = arr[mid:]                    #right half of the array from middle position to last\n",
    " \n",
    "\n",
    "        mergeSort(left_arr)                     #call mergeSort for each half recursively\n",
    "        mergeSort(right_arr)\n",
    " \n",
    "        i = j = k = 0                           #define i,j,k variables\n",
    " \n",
    "        #Copy data to temp arrays left_arr[] and right_arr[]\n",
    "        #do the process up to i&j more than length of left_arr[] and right_arr[] respectively\n",
    "        while i < len(left_arr) and j < len(right_arr):    \n",
    "            if left_arr[i] < right_arr[j]:                  #if ith element of left_arr < jth element of right_arr\n",
    "                arr[k] = left_arr[i]                        #kth position of sorted array is ith element of left_arr\n",
    "                i += 1\n",
    "            else:\n",
    "                arr[k] = right_arr[j]                       #else kth position is jth element of right_arr\n",
    "                j += 1\n",
    "            k += 1\n",
    " \n",
    "        # Checking if any element was left\n",
    "        while i < len(left_arr):\n",
    "            arr[k] = left_arr[i]\n",
    "            i += 1\n",
    "            k += 1\n",
    " \n",
    "        while j < len(right_arr):\n",
    "            arr[k] = right_arr[j]\n",
    "            j += 1\n",
    "            k += 1"
   ]
  },
  {
   "cell_type": "code",
   "execution_count": 11,
   "id": "2f043319",
   "metadata": {},
   "outputs": [],
   "source": [
    "import numpy as np\n",
    "\n",
    "#function for creating an array of given size from random integers upto 100\n",
    "def randomArray(size):\n",
    "    return np.random.randint(100, size=size)\n",
    "    "
   ]
  },
  {
   "cell_type": "code",
   "execution_count": 12,
   "id": "b60980c3",
   "metadata": {},
   "outputs": [],
   "source": [
    "import time\n",
    "\n",
    "#defining a function for comparing different sorting algorithms\n",
    "#begin=time.time() for star the timer\n",
    "#end=time.time() for stop the timer\n",
    "#end-begin gives time of execution\n",
    "#arr=temp_arr  for assigning arr[] as unsorted array\n",
    "\n",
    "#from these two values \n",
    "def sortComparison():\n",
    "    begin= time.time()\n",
    "    arr=temp_arr           \n",
    "    insertionSort(arr)\n",
    "    #print(arr)\n",
    "    end= time.time()\n",
    "    print(\"Time for insertion sort:{}\".format(end-begin))\n",
    "\n",
    "    begin= time.time()\n",
    "    arr=temp_arr \n",
    "    mergeSort(arr)\n",
    "    #print(arr)\n",
    "    end= time.time()\n",
    "    print(\"Time for merge sort:{}\".format(end-begin))\n",
    "    \n",
    "    begin= time.time()\n",
    "    arr=temp_arr \n",
    "    bubbleSort(arr)\n",
    "    #print(arr)\n",
    "    end= time.time()\n",
    "    print(\"Time for bubble sort:{}\".format(end-begin))\n",
    "    \n",
    "    begin= time.time()\n",
    "    arr=temp_arr \n",
    "    quickSort(arr,0, len(arr)-1)\n",
    "    #print(arr)\n",
    "    end= time.time()\n",
    "    print(\"Time for quick sort:{}\".format(end-begin))\n",
    "    \n",
    "    "
   ]
  },
  {
   "cell_type": "code",
   "execution_count": 13,
   "id": "a7058537",
   "metadata": {},
   "outputs": [
    {
     "name": "stdout",
     "output_type": "stream",
     "text": [
      "Time for insertion sort:0.0\n",
      "Time for merge sort:0.0\n",
      "Time for bubble sort:0.0\n",
      "Time for quick sort:0.0\n"
     ]
    }
   ],
   "source": [
    "arr=randomArray(10)  #create an array of size=10\n",
    "temp_arr =arr        #make a copy of original array\n",
    "sortComparison()     #compare the different sorting algorithms fro array size=10"
   ]
  },
  {
   "cell_type": "code",
   "execution_count": 14,
   "id": "aa27666e",
   "metadata": {},
   "outputs": [
    {
     "name": "stdout",
     "output_type": "stream",
     "text": [
      "Time for insertion sort:0.004953861236572266\n",
      "Time for merge sort:0.0010006427764892578\n",
      "Time for bubble sort:0.0019998550415039062\n",
      "Time for quick sort:0.0040018558502197266\n"
     ]
    }
   ],
   "source": [
    "arr=randomArray(100)  #create an array of size=100\n",
    "temp_arr =arr        #make a copy of original array\n",
    "sortComparison()     #compare the different sorting algorithms fro array size=100"
   ]
  },
  {
   "cell_type": "code",
   "execution_count": 15,
   "id": "6f1251da",
   "metadata": {},
   "outputs": [
    {
     "name": "stdout",
     "output_type": "stream",
     "text": [
      "Time for insertion sort:0.331967830657959\n",
      "Time for merge sort:0.0069963932037353516\n",
      "Time for bubble sort:0.15195870399475098\n",
      "Time for quick sort:0.35097813606262207\n"
     ]
    }
   ],
   "source": [
    "arr=randomArray(1000)  #create an array of size=1000\n",
    "temp_arr =arr        #make a copy of original array\n",
    "sortComparison()     #compare the different sorting algorithms fro array size=1000"
   ]
  },
  {
   "cell_type": "code",
   "execution_count": null,
   "id": "4d22b0aa",
   "metadata": {},
   "outputs": [
    {
     "name": "stdout",
     "output_type": "stream",
     "text": [
      "Time for insertion sort:27.66723132133484\n",
      "Time for merge sort:0.08599448204040527\n",
      "Time for bubble sort:16.16398811340332\n"
     ]
    }
   ],
   "source": [
    "import sys\n",
    "sys.setrecursionlimit(20000)\n",
    "arr=randomArray(10000)  #create an array of size=10000\n",
    "temp_arr =arr        #make a copy of original array\n",
    "sortComparison()     #compare the different sorting algorithms fro array size=10000"
   ]
  },
  {
   "cell_type": "code",
   "execution_count": null,
   "id": "53b3e6cd",
   "metadata": {},
   "outputs": [],
   "source": []
  },
  {
   "cell_type": "markdown",
   "id": "155c6fa6",
   "metadata": {},
   "source": [
    "### 2. Read the dataset given. Clean the dataset to consider only the tweet texts. Convert all characters to small case. Remove special characters and punctuations. Implement binary search for searching a word (The user will input the word to search) from a preprocessed text file. You are free to choose the required data structures."
   ]
  },
  {
   "cell_type": "code",
   "execution_count": 1,
   "id": "4825a679",
   "metadata": {},
   "outputs": [
    {
     "data": {
      "text/plain": [
       "['Drugs need careful monitoring for expiry dates, pharmacists say',\n",
       " 'Sabra hummus recalled in U.S.',\n",
       " \"U.S. sperm bank sued by Canadian couple didn't verify donor info, executive says\",\n",
       " 'Manitoba pharmacists want clampdown on Tylenol 1 sales',\n",
       " \"Mom of 7 'spooked' by vaccinations reverses stand â€” but then kids get sick\",\n",
       " 'Hamilton police send mental health pros to the front lines with cops',\n",
       " 'Wind turbine noise linked to only 1 health issue â€“ annoyance',\n",
       " \"'Wild West' of e-cigarettes sparks debate over regulation\",\n",
       " \"Dementia patients sold unproven 'brainwave optimization'\",\n",
       " 'Passengers on second China-Vancouver flight in 2 weeks at risk of measles']"
      ]
     },
     "execution_count": 1,
     "metadata": {},
     "output_type": "execute_result"
    }
   ],
   "source": [
    "file = open('cbchealth.txt', mode='r+')    #open the file 'cbchealth.txt'\n",
    "tweet_list=[]                              #create an empty array for holding different tweet texts\n",
    "\n",
    "for line in file:                          #iterate over each line of the file\n",
    "    list1=line.split('|')                  #split each line wrt '|' hold each strings in list1\n",
    "    list2= list1[2].split(' http')         #again split 3rd string of list1(contain tweet text) split it wrt ' http'  \n",
    "                                           #for removing url. save both in list2\n",
    "    tweet_list.append(list2[0])            #add tweet text from each line to the tweet_list\n",
    "    \n",
    "tweet_list[:10]\n"
   ]
  },
  {
   "cell_type": "code",
   "execution_count": 2,
   "id": "aeaaef4c",
   "metadata": {},
   "outputs": [
    {
     "data": {
      "text/plain": [
       "['drugs need careful monitoring for expiry dates, pharmacists say',\n",
       " 'sabra hummus recalled in u.s.',\n",
       " \"u.s. sperm bank sued by canadian couple didn't verify donor info, executive says\",\n",
       " 'manitoba pharmacists want clampdown on tylenol 1 sales',\n",
       " \"mom of 7 'spooked' by vaccinations reverses stand â€” but then kids get sick\",\n",
       " 'hamilton police send mental health pros to the front lines with cops',\n",
       " 'wind turbine noise linked to only 1 health issue â€“ annoyance',\n",
       " \"'wild west' of e-cigarettes sparks debate over regulation\",\n",
       " \"dementia patients sold unproven 'brainwave optimization'\",\n",
       " 'passengers on second china-vancouver flight in 2 weeks at risk of measles']"
      ]
     },
     "execution_count": 2,
     "metadata": {},
     "output_type": "execute_result"
    }
   ],
   "source": [
    "#convert each string in the tweet_list to lowercase letters\n",
    "for i in range(len(tweet_list)):\n",
    "    tweet_list[i] = tweet_list[i].lower()\n",
    "tweet_list[:10]"
   ]
  },
  {
   "cell_type": "code",
   "execution_count": 3,
   "id": "75ce86d8",
   "metadata": {},
   "outputs": [
    {
     "data": {
      "text/plain": [
       "['drugs need careful monitoring for expiry dates pharmacists say',\n",
       " 'sabra hummus recalled in us',\n",
       " 'us sperm bank sued by canadian couple didnt verify donor info executive says',\n",
       " 'manitoba pharmacists want clampdown on tylenol 1 sales',\n",
       " 'mom of 7 spooked by vaccinations reverses stand  but then kids get sick',\n",
       " 'hamilton police send mental health pros to the front lines with cops',\n",
       " 'wind turbine noise linked to only 1 health issue  annoyance',\n",
       " 'wild west of ecigarettes sparks debate over regulation',\n",
       " 'dementia patients sold unproven brainwave optimization',\n",
       " 'passengers on second chinavancouver flight in 2 weeks at risk of measles',\n",
       " 'check expiry dates health canada advises after alesse 21 birth control pill recall',\n",
       " 'hashtagging eating disorders help or hindrance in recovery',\n",
       " 'obama says memory of daughters preschool asthma attacks spurs climate change debate',\n",
       " 'women into healing accused of failing drug addicts by angry families',\n",
       " 'expired alesse birth control exposes deficiency',\n",
       " 'despite paying top dollar some military mental health jobs hard to fill',\n",
       " 'boys severe peanut fish allergies traced to blood transfusion',\n",
       " 'weight watchers jenny craig get best marks in diet research review',\n",
       " 'cancerstricken baby from whitehorse awaiting liver transplant',\n",
       " 'avian flu confirmed on turkey farm near woodstock',\n",
       " 'sperm donors criminal record schizophrenia allegedly not disclosed to couple',\n",
       " 'shoppers drug mart mistakenly sells expired birth control pills in western canada',\n",
       " 'fracking criticism spreads even in alberta and texas',\n",
       " 'fake oxycontin suspected in od death of moose jaw sask man',\n",
       " 'bc doctor geoffrey harding slain on vacation in bahamas family says',\n",
       " 'titanium implant massively improves quality of life for man who lost leg',\n",
       " 'listen to mom loud smartphone music can blast your hearing',\n",
       " 'addiction canada ignores government orders to pay exemployees',\n",
       " 'breast milk sold online may be contaminated with cows milk',\n",
       " 'ghana how canada is scaling up pediatric nursing to save little lives',\n",
       " '3d printing helps give girl a new face',\n",
       " 'costco recalls kirkland roasted chicken salad over listeria concerns',\n",
       " 'medieval remedy kills antibioticresistant mrsa superbugs',\n",
       " '2 new measles cases confirmed in metro vancouver',\n",
       " 'france bans superskinny models in effort to curb eating disorders',\n",
       " 'seriously ill senior stuck in us cant find a hospital bed at home in ontario',\n",
       " 'quadriplegic temporary foreign worker denied health coverage by alberta',\n",
       " 'three ways to help coworkers with depression',\n",
       " 'drugresistant intestinal illness spreads in us',\n",
       " 'rob ford to have cancer surgery may 11',\n",
       " 'rt healthcanada health canada suspends two natural health product licences due to potential serious risks of male fern',\n",
       " 'writing medical notes for employers a waste of time doctor says in note that went viral',\n",
       " 'fetal dna blood test for down syndrome more accurate but exceptions exist',\n",
       " 'shortage of meat inspectors not affecting food safety cfia says',\n",
       " 'take a tour of one of canadas medical marijuana facilities',\n",
       " 'herbicide chemical glyphosate probably carcinogenic who agency finds',\n",
       " 'saskatchewan senior dies after eating detergent pods',\n",
       " 'should your genetic test results be private',\n",
       " 'more tv time may raise type 2 diabetes risk',\n",
       " 'why suicideprevention monitoring should last longer']"
      ]
     },
     "execution_count": 3,
     "metadata": {},
     "output_type": "execute_result"
    }
   ],
   "source": [
    "#remove special charactors and panctuations from each string \n",
    "\n",
    "import re                                                         #import re library\n",
    "for i in range(len(tweet_list)):\n",
    "    tweet_list[i] = re.sub('[^A-Za-z0-9 ]+','', tweet_list[i] )   #remove all special charactor and panctuations\n",
    "    \n",
    "tweet_list[:50]"
   ]
  },
  {
   "cell_type": "code",
   "execution_count": 4,
   "id": "24a1332c",
   "metadata": {},
   "outputs": [],
   "source": [
    "#define binary search function\n",
    "#list1: list of words\n",
    "#key: word to be searched\n",
    "\n",
    "def binarySearch(list1,key):\n",
    "    low=0                           #define variable\n",
    "    high=len(list1)-1\n",
    "    flag=False                      #define varible flag as False\n",
    "    \n",
    "    while low<=high and not flag:\n",
    "        mid= (low+high)//2          #find middle index\n",
    "        if key==list1[mid]:         #if middle element is same as key \n",
    "            flag = True             #assign flag as True\n",
    "        elif key>list1[mid]:\n",
    "            low=mid+1\n",
    "        else:\n",
    "            high=mid-1\n",
    "            \n",
    "    return flag                   #return flag(True if word is present, else False)\n",
    "    \n",
    "    \n",
    "    "
   ]
  },
  {
   "cell_type": "code",
   "execution_count": 5,
   "id": "7f11cbb8",
   "metadata": {},
   "outputs": [
    {
     "name": "stdout",
     "output_type": "stream",
     "text": [
      "input word: health\n",
      "The given word present in 318 tweets\n"
     ]
    }
   ],
   "source": [
    "key = input(\"input word: \")       #input the word to be searched to the variable 'key'\n",
    "search_list=[]                    #create an empty list for holding return values from binarSearch() for each tweet messages\n",
    "\n",
    "for i in range(len(tweet_list)):  #iterate over all tweet messages in the list 'tweet_list'\n",
    "    temp_list=tweet_list[i].split() #split ith tweet message to different words and save it to 'temp_list'\n",
    "    temp_list.sort()                #sort temp_list for doing binary search\n",
    "    search_list.append(binarySearch(temp_list, key)) #do binary search with temp_list and save return value in the 'search-list'\n",
    "                                                     #return value will be either True or False\n",
    "        \n",
    "#if atleast one True present in 'serarch_list' the given word is present in any of the list. sum of 'search_list' gives \n",
    "#number of tweets having the gven word\n",
    "\n",
    "if True in search_list:                             \n",
    "                                                     \n",
    "    print(\"The given word present in {} tweets\".format(sum(search_list)))\n",
    "else:\n",
    "    print(\"The given word not present in any of the tweets\")      "
   ]
  },
  {
   "cell_type": "markdown",
   "id": "1d54bc7d",
   "metadata": {},
   "source": [
    "### 3. you need to create a random array of size 100 (numbers of array should be between 0-10). You need to sort this array according to the frequency of occurance of each number. You are free to choose any sorting algorithm."
   ]
  },
  {
   "cell_type": "code",
   "execution_count": 102,
   "id": "149c52dc",
   "metadata": {},
   "outputs": [
    {
     "name": "stdout",
     "output_type": "stream",
     "text": [
      "[1 2 9 9 1 8 8 7 9 8 9 3 3 9 5 1 0 1 5 1 3 0 5 8 5 6 0 8 4 9 4 0 3 3 9 4 3\n",
      " 6 6 9 1 7 6 2 0 8 3 8 1 9 2 9 3 7 0 1 3 2 0 4 7 1 5 5 4 0 0 7 3 7 5 5 4 3\n",
      " 8 7 4 7 4 9 5 1 7 7 1 9 7 8 4 7 2 4 4 1 8 4 0 3 6 5]\n"
     ]
    }
   ],
   "source": [
    "import numpy as np\n",
    "\n",
    "#define a random  array of size 100, having values 1-10\n",
    "arr=np.random.randint(10, size=100)\n",
    "print(arr)"
   ]
  },
  {
   "cell_type": "code",
   "execution_count": 103,
   "id": "f9a505ce",
   "metadata": {},
   "outputs": [
    {
     "data": {
      "text/plain": [
       "[0, 1, 2, 3, 4, 5, 6, 7, 8, 9]"
      ]
     },
     "execution_count": 103,
     "metadata": {},
     "output_type": "execute_result"
    }
   ],
   "source": [
    "#save different elements present in the 'arr[]' to list 'element_array'\n",
    "element_array=list(np.unique(arr))\n",
    "element_array"
   ]
  },
  {
   "cell_type": "code",
   "execution_count": 104,
   "id": "e8cecd7e",
   "metadata": {},
   "outputs": [],
   "source": [
    "#define a function for counting a particular element in the given list\n",
    "#arr[]--> input array\n",
    "#elem--> element to be counted\n",
    "\n",
    "def frequencyCount(arr,elem):\n",
    "    count=0  \n",
    "    for i in range(len(arr)):\n",
    "        if arr[i]==elem:\n",
    "            count=count+1\n",
    "    return count"
   ]
  },
  {
   "cell_type": "code",
   "execution_count": 105,
   "id": "69e37ca7",
   "metadata": {},
   "outputs": [
    {
     "data": {
      "text/plain": [
       "[10, 12, 5, 12, 12, 10, 5, 12, 10, 12]"
      ]
     },
     "execution_count": 105,
     "metadata": {},
     "output_type": "execute_result"
    }
   ],
   "source": [
    "frequency_array=[]   #define an empty array for holding frequencies of different element in the arr[]\n",
    "\n",
    "#for each element in the 'element_array' count number of times the given element repeated and save \n",
    "#it to the frequency_array\n",
    "\n",
    "for i in range(len(element_array)):\n",
    "    frequency_array.append(frequencyCount(arr,element_array[i]))  \n",
    "frequency_array"
   ]
  },
  {
   "cell_type": "code",
   "execution_count": 106,
   "id": "7bdc7c52",
   "metadata": {},
   "outputs": [],
   "source": [
    "#define a function to sort different frequencies along with its values in the 'element_array'\n",
    "def frequencySort(ele_arr,fre_arr):\n",
    "    for i in range(1,len(fre_arr)):\n",
    "        for j in range(i,0,-1):\n",
    "            if fre_arr[j]<fre_arr[j-1]:\n",
    "                fre_arr[j-1], fre_arr[j]= fre_arr[j], fre_arr[j-1]    #sorting in frequency_array\n",
    "                ele_arr[j-1], ele_arr[j]= ele_arr[j], ele_arr[j-1]    #change the element to correct index position"
   ]
  },
  {
   "cell_type": "code",
   "execution_count": 107,
   "id": "baf44500",
   "metadata": {},
   "outputs": [
    {
     "name": "stdout",
     "output_type": "stream",
     "text": [
      "[2, 6, 0, 5, 8, 1, 3, 4, 7, 9]\n",
      "[5, 5, 10, 10, 10, 12, 12, 12, 12, 12]\n"
     ]
    }
   ],
   "source": [
    "#sort frequecy_array along with element_array\n",
    "frequencySort(element_array,frequency_array)\n",
    "print(element_array)\n",
    "print(frequency_array)"
   ]
  },
  {
   "cell_type": "code",
   "execution_count": 108,
   "id": "9826320c",
   "metadata": {},
   "outputs": [
    {
     "data": {
      "text/plain": [
       "array([9, 9, 9, 9, 9, 9, 9, 9, 9, 9, 9, 9, 7, 7, 7, 7, 7, 7, 7, 7, 7, 7,\n",
       "       7, 7, 4, 4, 4, 4, 4, 4, 4, 4, 4, 4, 4, 4, 3, 3, 3, 3, 3, 3, 3, 3,\n",
       "       3, 3, 3, 3, 1, 1, 1, 1, 1, 1, 1, 1, 1, 1, 1, 1, 8, 8, 8, 8, 8, 8,\n",
       "       8, 8, 8, 8, 5, 5, 5, 5, 5, 5, 5, 5, 5, 5, 0, 0, 0, 0, 0, 0, 0, 0,\n",
       "       0, 0, 6, 6, 6, 6, 6, 2, 2, 2, 2, 2])"
      ]
     },
     "execution_count": 108,
     "metadata": {},
     "output_type": "execute_result"
    }
   ],
   "source": [
    "\n",
    "index=0         #define a variable index\n",
    "\n",
    "for i in range(len(element_array)):             #iterate over element_array\n",
    "    value=element_array.pop()                   #pop() last value of element_array and assign it to a variable 'value'\n",
    "    for j in range(frequency_array.pop()):      #update arr[] from index to index+frequency of poped value with 'value'\n",
    "        if index < len(arr):\n",
    "            arr[index] = value\n",
    "            index = index+1\n",
    "\n",
    "arr\n",
    "    "
   ]
  },
  {
   "cell_type": "code",
   "execution_count": null,
   "id": "600a53ed",
   "metadata": {},
   "outputs": [],
   "source": []
  }
 ],
 "metadata": {
  "kernelspec": {
   "display_name": "Python 3 (ipykernel)",
   "language": "python",
   "name": "python3"
  },
  "language_info": {
   "codemirror_mode": {
    "name": "ipython",
    "version": 3
   },
   "file_extension": ".py",
   "mimetype": "text/x-python",
   "name": "python",
   "nbconvert_exporter": "python",
   "pygments_lexer": "ipython3",
   "version": "3.9.6"
  }
 },
 "nbformat": 4,
 "nbformat_minor": 5
}
