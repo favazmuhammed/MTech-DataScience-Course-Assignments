{
 "cells": [
  {
   "cell_type": "markdown",
   "id": "f53a6169",
   "metadata": {},
   "source": [
    "###### 1. Read an input string from user and check whether it is a palindrome or not using the stack data structure"
   ]
  },
  {
   "cell_type": "code",
   "execution_count": 93,
   "id": "91d8cec3",
   "metadata": {},
   "outputs": [
    {
     "name": "stdout",
     "output_type": "stream",
     "text": [
      "Please enter the word: malayalam\n",
      "The word entered is a palindrome\n"
     ]
    }
   ],
   "source": [
    "\n",
    "input_string= input(\"Please enter the word: \")                 #input the word to the variable input_string\n",
    "input_string= input_string.lower()                             #convert the word to lower letters\n",
    "\n",
    "my_stack=[]                                                    #intilize a list my_stack, it can be used as a stack\n",
    "check_string =''                                               #initialize an empty string, check_string\n",
    "\n",
    "\n",
    "for i in input_string:                                         #append all values from the input_string to the list my_stack\n",
    "    my_stack.append(i)\n",
    "\n",
    "for i in range(len(my_stack)):                                 #pop a value from my_stack and add it to the check_string\n",
    "    check_string = check_string + my_stack.pop()\n",
    "\n",
    "    \n",
    "if (check_string==input_string):                              #if check_string is equal to input_string \n",
    "    print('The word entered is a palindrome')                 #the given word is a palindrome else it is not a palindrome\n",
    "\n",
    "else:\n",
    "    print('The word entered is not a palindrome')\n",
    "\n",
    "    "
   ]
  },
  {
   "cell_type": "markdown",
   "id": "b433549a",
   "metadata": {},
   "source": [
    "###### 2. Read lines from the file ‘1.txt’, sort the lines in natural sort order using the third letter of each line and finally write the sorted result to a file ‘1_out.txt’"
   ]
  },
  {
   "cell_type": "code",
   "execution_count": 61,
   "id": "11bbb10f",
   "metadata": {},
   "outputs": [
    {
     "name": "stdout",
     "output_type": "stream",
     "text": [
      "January\n",
      "February\n",
      "March\n",
      "April\n",
      "May\n",
      "June\n",
      "July\n",
      "August\n",
      "September\n",
      "October\n",
      "November\n",
      "December\n"
     ]
    }
   ],
   "source": [
    "#open the file 1.txt as file_1\n",
    "file_1 = open('1.txt', mode='r+')\n",
    "\n",
    "#print all the lines\n",
    "for line in file_1:\n",
    "    print(line, end='')\n"
   ]
  },
  {
   "cell_type": "code",
   "execution_count": 66,
   "id": "1f53182a",
   "metadata": {},
   "outputs": [],
   "source": [
    "#define a function which return third letter of a string \n",
    "def third_letter(string):\n",
    "        return string[2]\n",
    "\n",
    "file_1 = open('1.txt', mode='r+')     #open the '1.txt'\n",
    "lines_list = file_1.readlines()        #read all lines and save it to a list\n",
    "lines_list.sort(key=third_letter)\n",
    "\n",
    "\n",
    "#open the file '1_Out.txt'\n",
    "file_2= open('1_Out.txt', mode='w+')\n",
    "\n",
    "#Write the soarted list to the file uning file.write() command\n",
    "for i in range(len(lines_list)):\n",
    "    file_2.write(lines_list[i])\n"
   ]
  },
  {
   "cell_type": "code",
   "execution_count": 67,
   "id": "4103ae4f",
   "metadata": {},
   "outputs": [
    {
     "name": "stdout",
     "output_type": "stream",
     "text": [
      "February\n",
      "December\n",
      "August\n",
      "July\n",
      "January\n",
      "June\n",
      "September\n",
      "March\n",
      "April\n",
      "October\n",
      "November\n",
      "May\n"
     ]
    }
   ],
   "source": [
    "#open the file '1_Out.txt' for checking sorted list is written to it\n",
    "file_2= open('1_Out.txt', mode='r')\n",
    "\n",
    "#print the lines that wrote to the file '1_Out.txt'\n",
    "for line in file_2:\n",
    "    print(line, end='')"
   ]
  },
  {
   "cell_type": "code",
   "execution_count": 68,
   "id": "f1c167a9",
   "metadata": {},
   "outputs": [],
   "source": [
    "#close the file '1.txt' and file '1_Out.txt'\n",
    "file_1.close()\n",
    "file_2.close()"
   ]
  },
  {
   "cell_type": "markdown",
   "id": "91a2976f",
   "metadata": {},
   "source": [
    "###### 3. Write a higher order function that has a formal parameter ‘mode’ of type int. If mode is ‘1’, this function should return a lambda function that converts a passed in temperature from Celsius to Fahrenheit and if mode is ‘2’ the higher order function should return a lambda function that converts a passed in temperature from Fahrenheit to Celsius. Call the higher order function for both modes and use the returned functions to convert 58 degrees Celsius to Fahrenheit and 58 degrees Fahrenheit to Celsius"
   ]
  },
  {
   "cell_type": "code",
   "execution_count": 2,
   "id": "9e76b111",
   "metadata": {},
   "outputs": [
    {
     "name": "stdout",
     "output_type": "stream",
     "text": [
      "1 for celcius to fahrenheit, 2 for fahrenheit to celcius, 0 for end the process:1\n",
      "Please enter the value of temperature in celcius:58\n",
      "Temperature in Fahrenheit:136.40\n",
      "\n",
      "1 for celcius to fahrenheit, 2 for fahrenheit to celcius, 0 for end the process:2\n",
      "Please enter the value of temperature in fahrenheit:58\n",
      "Temperature Celsius:14.44\n",
      "\n",
      "1 for celcius to fahrenheit, 2 for fahrenheit to celcius, 0 for end the process:0\n"
     ]
    }
   ],
   "source": [
    "#define function for converting temparature\n",
    "def temp_converter(mode, temp):\n",
    "    \n",
    "    if mode==1:                                            #if mode=1 convert temp to fahrenheit\n",
    "        return (lambda temp: (temp*(9/5))+32)(temp)        #fahrenheit=(celcius*(9/5))+32\n",
    "    elif mode==2:                                          #if mode=2 convert temp to celcius\n",
    "        return (lambda temp: (temp-32)*(5/9))(temp)        #celcius= (fahrenheit-32)*(5/9)\n",
    "\n",
    "    \n",
    "while True:                                                #execute the block continously\n",
    "    mode= int(input(\"1 for celcius to fahrenheit, 2 for fahrenheit to celcius, 0 for end the process:\")) #enter the mode value\n",
    "\n",
    "    if mode==1:                                                                   #if mode=1 conversion is from celcius to fahrenheit\n",
    "        temp= float(input(\"Please enter the value of temperature in celcius:\"))\n",
    "        print(\"Temperature in Fahrenheit:{:.2f}\\n\".format(temp_converter(1,58)))\n",
    "    elif mode==2:                                                                 #if mode=2 conversion is from fahrenheit to celcius\n",
    "        temp= float(input(\"Please enter the value of temperature in fahrenheit:\"))\n",
    "        print(\"Temperature Celsius:{:.2f}\\n\".format(temp_converter(2,58)))\n",
    "    elif mode==0:\n",
    "        break\n",
    "    else:\n",
    "        print(\"Please enter 1 or 2\")"
   ]
  },
  {
   "cell_type": "markdown",
   "id": "452110e8",
   "metadata": {},
   "source": [
    "###### 4. Create a 4x4 matrix (list of lists) with random positive integer values using list comprehension. Use this matrix and list comprehension to create a new matrix such that even numbers remain unchanged, but odd numbers get incremented by 1"
   ]
  },
  {
   "cell_type": "code",
   "execution_count": 1,
   "id": "ba8efdf0",
   "metadata": {},
   "outputs": [
    {
     "name": "stdout",
     "output_type": "stream",
     "text": [
      "Please enter the number of columns 4\n",
      "Please enter the number of rows 4\n",
      "\n",
      "Initial matrix:\n",
      "[[7 9 6 8]\n",
      " [7 3 2 1]\n",
      " [1 7 1 7]\n",
      " [9 6 7 7]] \n",
      "\n",
      "Updated matrix:\n",
      "[[ 8 10  6  8]\n",
      " [ 8  4  2  2]\n",
      " [ 2  8  2  8]\n",
      " [10  6  8  8]]\n"
     ]
    }
   ],
   "source": [
    "\n",
    "import numpy as np                                                  #import library numpy\n",
    "\n",
    "col = int(input(\"Please enter the number of columns \"))             #enter number of columns to variable col\n",
    "row = int(input(\"Please enter the number of rows \"))                #enter number of rows to the variable row\n",
    "\n",
    "my_matrix = np.array([[np.random.randint(1,10)                      #np.array() transform list of list to array\n",
    "                       for i in range(col)] for j in range(row)])   #np.random.randint(1,10) assign random values \n",
    "                                                                    #between 1 and 10                \n",
    "                                                                                              \n",
    "print(\"\\nInitial matrix:\")\n",
    "print(my_matrix,\"\\n\")                                               #print initial matrix\n",
    "\n",
    "                                                                    #if the number is even (reminder = 0 while dividing with 2) \n",
    "                                                                    #retain the number,#else increment by 1        \n",
    "\n",
    "new_matrix= np.array([[my_matrix[j,i] if (my_matrix[j,i]%2==0)         \n",
    "                       else my_matrix[j,i]+1 for i in range(col)] for j in range(row)]) \n",
    "\n",
    "print(\"Updated matrix:\")                                            #print updated matrix\n",
    "print(new_matrix)\n"
   ]
  },
  {
   "cell_type": "markdown",
   "id": "3544837c",
   "metadata": {},
   "source": [
    "###### 5.Read lines from files ‘5_1.txt’ and ‘5_2.txt’, find out the words that are present in file ‘5_2.txt’ but not in file ‘5_1.txt’ and finally write the result to a file named ‘5_out.txt’"
   ]
  },
  {
   "cell_type": "code",
   "execution_count": 86,
   "id": "d9b05c94",
   "metadata": {},
   "outputs": [],
   "source": [
    "#open file '5_1.txt' and '5_2.txt' as read, write\n",
    "#create a new file '5_out.txt'\n",
    "\n",
    "file_1 = open('5_1.txt', mode='r+')\n",
    "file_2= open('5_2.txt', mode='r+')\n",
    "file_out = open('5_out.txt', mode='w+')\n",
    "\n",
    "#save lines from file_1 and file_2 in the seperate lists\n",
    "file1_lines = file_1.readlines()\n",
    "file2_lines = file_2.readlines()\n",
    "\n",
    "#check lines from file_2 not present in the file_1\n",
    "#if so write the line file_out\n",
    "for line in file2_lines:\n",
    "    if(line not in file1_lines): \n",
    "        file_out.write(line)\n"
   ]
  },
  {
   "cell_type": "code",
   "execution_count": 87,
   "id": "b76142e1",
   "metadata": {},
   "outputs": [],
   "source": [
    "#close all files\n",
    "file_1.close()\n",
    "file_2.close()\n",
    "file_out.close()"
   ]
  },
  {
   "cell_type": "code",
   "execution_count": null,
   "id": "aa076575",
   "metadata": {},
   "outputs": [],
   "source": []
  }
 ],
 "metadata": {
  "kernelspec": {
   "display_name": "Python 3 (ipykernel)",
   "language": "python",
   "name": "python3"
  },
  "language_info": {
   "codemirror_mode": {
    "name": "ipython",
    "version": 3
   },
   "file_extension": ".py",
   "mimetype": "text/x-python",
   "name": "python",
   "nbconvert_exporter": "python",
   "pygments_lexer": "ipython3",
   "version": "3.9.6"
  }
 },
 "nbformat": 4,
 "nbformat_minor": 5
}
