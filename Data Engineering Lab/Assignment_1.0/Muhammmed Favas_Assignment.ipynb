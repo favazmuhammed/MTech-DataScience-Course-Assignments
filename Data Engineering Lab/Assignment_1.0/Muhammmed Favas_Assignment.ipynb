{
 "cells": [
  {
   "cell_type": "markdown",
   "id": "9b5c00d5",
   "metadata": {},
   "source": [
    "###### 1. Write a python program to print multiplication of two numbers."
   ]
  },
  {
   "cell_type": "code",
   "execution_count": 1,
   "id": "4fc5de15",
   "metadata": {},
   "outputs": [
    {
     "name": "stdout",
     "output_type": "stream",
     "text": [
      "8\n"
     ]
    }
   ],
   "source": [
    "#desining two variables num1 and num2\n",
    "num1 = 2\n",
    "num2 = 4\n",
    "#print multiplication of num1 and num2\n",
    "print(num1*num2)"
   ]
  },
  {
   "cell_type": "markdown",
   "id": "206237dd",
   "metadata": {},
   "source": [
    "###### 2. Write a python program to find the area of a circle\n",
    "\n",
    "         Note: Take the diameter of the circle as input from the user"
   ]
  },
  {
   "cell_type": "code",
   "execution_count": 11,
   "id": "1eb8a330",
   "metadata": {},
   "outputs": [
    {
     "name": "stdout",
     "output_type": "stream",
     "text": [
      "Please enter the value of diameter of the circle: 77\n",
      "Area of circle:4656.63\n"
     ]
    }
   ],
   "source": [
    "#import math library \n",
    "import math\n",
    "\n",
    "#input the value of diameter to the variable dia\n",
    "dia = float(input(\"Please enter the value of diameter of the circle: \"))\n",
    "\n",
    "#area of circle is pie*(dia**2)/4\n",
    "area = (math.pi)*(dia**2)/4\n",
    "print(\"Area of circle:%.2f\"%area)"
   ]
  },
  {
   "cell_type": "markdown",
   "id": "a032bc24",
   "metadata": {},
   "source": [
    "# 3. Write a python program whether the given number is even or odd"
   ]
  },
  {
   "cell_type": "code",
   "execution_count": null,
   "id": "2fa1f1a2",
   "metadata": {},
   "outputs": [],
   "source": [
    "#input the number to the variable num\n",
    "num = int(input(\"Enter the number: \"))\n",
    "\n",
    "#if number is divided by 2 results zero reminder it will be even number, else it is odd\n",
    "if ((num % 2) == 0):\n",
    "    print(\"The given number is even\")\n",
    "else:\n",
    "    print(\"The given number is odd\")"
   ]
  },
  {
   "cell_type": "markdown",
   "id": "b6becba6",
   "metadata": {},
   "source": [
    "###### 4. Write a python program to print the length of a given input string"
   ]
  },
  {
   "cell_type": "code",
   "execution_count": 23,
   "id": "22ed1683",
   "metadata": {},
   "outputs": [
    {
     "name": "stdout",
     "output_type": "stream",
     "text": [
      "Input your name: Muhammed Favas\n",
      "14\n"
     ]
    }
   ],
   "source": [
    "#input a string to the variable name\n",
    "name = input(\"Input your name: \")\n",
    "#using len() function we can find the length of a string\n",
    "print(len(name))"
   ]
  },
  {
   "cell_type": "markdown",
   "id": "a05bdb00",
   "metadata": {},
   "source": [
    "###### 5. Write a python program to print all the odd numbers till given input number"
   ]
  },
  {
   "cell_type": "code",
   "execution_count": 5,
   "id": "b90021f3",
   "metadata": {},
   "outputs": [
    {
     "name": "stdout",
     "output_type": "stream",
     "text": [
      "Enter the number: 31\n",
      "1 3 5 7 9 11 13 15 17 19 21 23 25 27 29 31 "
     ]
    }
   ],
   "source": [
    "#input the number to the variable num\n",
    "num = int(input(\"Enter the number: \"))\n",
    "\n",
    "#if the numbers devided by 2 gives reminder 1, it will be an odd number\n",
    "for x in range(1, num+1):\n",
    "    if ((x%2)==1):\n",
    "        print(x, end=\" \")"
   ]
  },
  {
   "cell_type": "markdown",
   "id": "10a7522e",
   "metadata": {},
   "source": [
    "###### 6. Write a python program to split this string into a list\n",
    "        str  = \"Welcome all in Data Science!\""
   ]
  },
  {
   "cell_type": "code",
   "execution_count": 9,
   "id": "6c947b3e",
   "metadata": {},
   "outputs": [
    {
     "name": "stdout",
     "output_type": "stream",
     "text": [
      "['Welcome', 'all', 'in', 'Data', 'Science!']\n"
     ]
    }
   ],
   "source": [
    "str  = \"Welcome all in Data Science!\"\n",
    "#use split() function for spliting a string\n",
    "my_list = str.split()\n",
    "print(my_list)"
   ]
  },
  {
   "cell_type": "markdown",
   "id": "d03b1783",
   "metadata": {},
   "source": [
    "###### 7. Add parentheses to the following expression so that it evaluates to zero\n",
    "\n",
    "               8-3*2-1+1\n"
   ]
  },
  {
   "cell_type": "code",
   "execution_count": 10,
   "id": "5b138c68",
   "metadata": {},
   "outputs": [
    {
     "name": "stdout",
     "output_type": "stream",
     "text": [
      "0\n"
     ]
    }
   ],
   "source": [
    "print(8-(3*2)-(1+1))"
   ]
  },
  {
   "cell_type": "markdown",
   "id": "6deb16ee",
   "metadata": {},
   "source": [
    "###### 8. Sort the following list in the alphabetical order\n",
    "\n",
    "         fruits = [ 'mango', 'papaya', 'banana','apple']"
   ]
  },
  {
   "cell_type": "code",
   "execution_count": 6,
   "id": "4c6625c1",
   "metadata": {},
   "outputs": [
    {
     "name": "stdout",
     "output_type": "stream",
     "text": [
      "['apple', 'banana', 'mango', 'papaya']\n"
     ]
    }
   ],
   "source": [
    "fruits = ['mango','papaya','banana','apple']\n",
    "\n",
    "#use sort() function for sorting a list in alphabetical order\n",
    "fruits.sort()\n",
    "print(fruits)"
   ]
  },
  {
   "cell_type": "markdown",
   "id": "f7ec43d9",
   "metadata": {},
   "source": [
    "###### 9. Which list index will select the value 'blue' from the given list?\n",
    "\n",
    "        Colors = ['red','green','blue','white']"
   ]
  },
  {
   "cell_type": "code",
   "execution_count": 19,
   "id": "deeb6201",
   "metadata": {},
   "outputs": [
    {
     "name": "stdout",
     "output_type": "stream",
     "text": [
      "blue\n"
     ]
    }
   ],
   "source": [
    "Colors = ['red','green','blue','white']\n",
    "#in a list index start from zero. so index of 'blue' is 2\n",
    "print(Colors[2])"
   ]
  },
  {
   "cell_type": "markdown",
   "id": "5943c886",
   "metadata": {},
   "source": [
    "###### 10. Count the occurrences of the letter \"a\" in the given list\n",
    "\n",
    "         list = [\"d\", \"a\", \"t\", \"a\", \"c\", \"a\", \"m\", \"p\"]"
   ]
  },
  {
   "cell_type": "code",
   "execution_count": 7,
   "id": "502f2b2e",
   "metadata": {},
   "outputs": [
    {
     "name": "stdout",
     "output_type": "stream",
     "text": [
      "3\n"
     ]
    }
   ],
   "source": [
    "list = [\"d\", \"a\", \"t\", \"a\", \"c\", \"a\", \"m\", \"p\"]\n",
    "#use count function to find occurrences of an element in a list\n",
    "print(list.count(\"a\"))"
   ]
  },
  {
   "cell_type": "markdown",
   "id": "f0253f24",
   "metadata": {},
   "source": [
    "###### 11. How do you assign tuple of length 1 to a variable a?"
   ]
  },
  {
   "cell_type": "code",
   "execution_count": 24,
   "id": "71da1e59",
   "metadata": {},
   "outputs": [
    {
     "name": "stdout",
     "output_type": "stream",
     "text": [
      "<class 'tuple'>\n"
     ]
    }
   ],
   "source": [
    "#one element tuple require a comma at the end\n",
    "a = (10, )\n",
    "print(type(a))"
   ]
  },
  {
   "cell_type": "markdown",
   "id": "3bb8a1ec",
   "metadata": {},
   "source": [
    "###### 12. Write the python code that prints out captain Kirk's email address from employee dictionary below:\n",
    "\n",
    "          employee = {\"id\":1701, \"name\": \"James T Kirk\", \"email\":\"jtkirk@starfleet.com\", \"position\":\"captain\"}"
   ]
  },
  {
   "cell_type": "code",
   "execution_count": 8,
   "id": "65f9ec61",
   "metadata": {},
   "outputs": [
    {
     "name": "stdout",
     "output_type": "stream",
     "text": [
      "jtkirk@starfleet.com\n"
     ]
    }
   ],
   "source": [
    "employee = {\"id\":1701, \"name\": \"James T Kirk\", \"email\":\"jtkirk@starfleet.com\", \"position\":\"captain\"}\n",
    "\n",
    "print(employee[\"email\"]) #or we can use: print(employee.get(\"email\"))"
   ]
  },
  {
   "cell_type": "markdown",
   "id": "b5bd3748",
   "metadata": {},
   "source": [
    "###### 13. Write a python program which accepts user's first and last name print them in reverse order with space between them"
   ]
  },
  {
   "cell_type": "code",
   "execution_count": 1,
   "id": "3952af48",
   "metadata": {},
   "outputs": [
    {
     "name": "stdout",
     "output_type": "stream",
     "text": [
      "Input your First Name : Muhammed\n",
      "Input your Last Name : Favas\n",
      "Favas Muhammed\n"
     ]
    }
   ],
   "source": [
    "#input first name to the variable first_name\n",
    "first_name = input(\"Input your First Name : \")\n",
    "#input last name to the variable last_name\n",
    "last_name = input(\"Input your Last Name : \")\n",
    "print (last_name + \" \" + first_name)"
   ]
  },
  {
   "cell_type": "code",
   "execution_count": null,
   "id": "22e6ea8c",
   "metadata": {},
   "outputs": [],
   "source": []
  }
 ],
 "metadata": {
  "kernelspec": {
   "display_name": "Python 3 (ipykernel)",
   "language": "python",
   "name": "python3"
  },
  "language_info": {
   "codemirror_mode": {
    "name": "ipython",
    "version": 3
   },
   "file_extension": ".py",
   "mimetype": "text/x-python",
   "name": "python",
   "nbconvert_exporter": "python",
   "pygments_lexer": "ipython3",
   "version": "3.9.6"
  }
 },
 "nbformat": 4,
 "nbformat_minor": 5
}
