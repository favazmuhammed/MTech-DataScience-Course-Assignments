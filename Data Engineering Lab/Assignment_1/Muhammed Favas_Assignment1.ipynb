{
 "cells": [
  {
   "cell_type": "markdown",
   "id": "c27d07b5",
   "metadata": {},
   "source": [
    "###### 1. Write a Python program to print the alphabet pattern 'G'"
   ]
  },
  {
   "cell_type": "code",
   "execution_count": 1,
   "id": "d0537330",
   "metadata": {},
   "outputs": [
    {
     "name": "stdout",
     "output_type": "stream",
     "text": [
      "  ***  \n",
      "*     *\n",
      "*      \n",
      "*   ***\n",
      "*     *\n",
      "*     *\n",
      "  ***  \n"
     ]
    }
   ],
   "source": [
    "print(\"  ***  \")\n",
    "print(\"*     *\")\n",
    "print(\"*      \")\n",
    "print(\"*   ***\")\n",
    "print(\"*     *\")\n",
    "print(\"*     *\")\n",
    "print(\"  ***  \")"
   ]
  },
  {
   "cell_type": "markdown",
   "id": "2f90a823",
   "metadata": {},
   "source": [
    "###### 2. Write a Python program to check whether an alphabet is a vowel or consonant."
   ]
  },
  {
   "cell_type": "code",
   "execution_count": 12,
   "id": "55fa3745",
   "metadata": {},
   "outputs": [
    {
     "name": "stdout",
     "output_type": "stream",
     "text": [
      "Please enter the alphabet: K\n",
      "The alphabet is a consonant\n"
     ]
    }
   ],
   "source": [
    "#define list of vowels\n",
    "\n",
    "vowels={'a','e','i','o','u'}\n",
    "\n",
    "#input the alphabet to the variable alphabet\n",
    "\n",
    "alphabet= input(\"Please enter the alphabet: \")\n",
    "#Please change the alphabet to lower if it is in upper case and update the value of alphabet\n",
    "alphabet= alphabet.lower()\n",
    "\n",
    "#if the alphabet is one of the letter from the list vowels, the alphabet will be a vowel, else it is a consonant\n",
    "if alphabet in vowels:\n",
    "    print(\"The alphabet is a vowel\")\n",
    "else:\n",
    "    print(\"The alphabet is a consonant\")"
   ]
  },
  {
   "cell_type": "markdown",
   "id": "52782a8f",
   "metadata": {},
   "source": [
    "###### 3. Write a Python program to convert month names to a number of days."
   ]
  },
  {
   "cell_type": "code",
   "execution_count": 15,
   "id": "f17196a7",
   "metadata": {},
   "outputs": [
    {
     "name": "stdout",
     "output_type": "stream",
     "text": [
      "Enter the month: february\n",
      "number of days in the month: 28\n"
     ]
    }
   ],
   "source": [
    "#define dictionary month_days with keys as month and number of days as values\n",
    "month_days= {'january':31, 'february':28, 'march':31, 'april':30, 'may':31, 'june':30, \n",
    "             'july':31, 'august':31, 'september':30, 'october':31, 'novomber':30, 'december':31}\n",
    "\n",
    "#enter the month name to string month_name\n",
    "month_name = input(\"Enter the month: \")\n",
    "\n",
    "#make month name to lower case\n",
    "month_name= month_name.lower()\n",
    "\n",
    "#print number of the days in the month\n",
    "print(\"number of days in the month:\", month_days[month_name])\n"
   ]
  },
  {
   "cell_type": "markdown",
   "id": "d8f57d9a",
   "metadata": {},
   "source": [
    "###### 4. Write a Python program that takes three integers as input and prints minimum among those three values."
   ]
  },
  {
   "cell_type": "code",
   "execution_count": 20,
   "id": "9996a8f0",
   "metadata": {},
   "outputs": [
    {
     "name": "stdout",
     "output_type": "stream",
     "text": [
      "Intiger1=77\n",
      "Intiger2=55\n",
      "Intiger3=66\n",
      "minimum amoung three intigers is 55\n"
     ]
    }
   ],
   "source": [
    "#input three integers to the variable int1, int2 and int3\n",
    "\n",
    "int1= int(input(\"Intiger1=\"))\n",
    "int2= int(input(\"Intiger2=\"))\n",
    "int3= int(input(\"Intiger3=\"))\n",
    "\n",
    "#print ,minimumvalue using min() function\n",
    "\n",
    "print(\"minimum amoung three intigers is\",min(int1, int2, int3))"
   ]
  },
  {
   "cell_type": "markdown",
   "id": "cacd1a5f",
   "metadata": {},
   "source": [
    "###### 5. Write a python program that takes string as input and check whether the given string is palindrome or not."
   ]
  },
  {
   "cell_type": "code",
   "execution_count": 20,
   "id": "0e1b9c5b",
   "metadata": {},
   "outputs": [
    {
     "name": "stdout",
     "output_type": "stream",
     "text": [
      "Please enter the string: apple\n",
      "The given string is not a palindrome\n"
     ]
    }
   ],
   "source": [
    "\n",
    "string = input(\"Please enter the string: \")         #input the value of string to the variable string\n",
    "string = string.lower()                             #make all letters in the string to lowercase\n",
    "reversed_string= reverse(string)   #return the reversed string to the varible reverse_string by calling the function reverse()\n",
    "\n",
    "#check given string and reversed string are same, if yes its a palindrome. else it is not a palindrome\n",
    "if(reversed_string==string):\n",
    "    print(\"The given string is a palindrome\")\n",
    "\n",
    "else:\n",
    "    print(\"The given string is not a palindrome\")\n",
    "    \n",
    "    \n",
    "\n",
    "#define function to reverse a give string\n",
    "def reverse(string):\n",
    "    string = string[::-1]      #string slicing start at end and end at 0 index with 1 decriment\n",
    "    return string              #return the reversed string\n",
    "    \n"
   ]
  },
  {
   "cell_type": "markdown",
   "id": "55e4acd3",
   "metadata": {},
   "source": [
    "###### 6.Write a Python program that prints the given pattern."
   ]
  },
  {
   "cell_type": "code",
   "execution_count": 23,
   "id": "fc9e40a0",
   "metadata": {},
   "outputs": [
    {
     "name": "stdout",
     "output_type": "stream",
     "text": [
      "* * * * *  \n",
      "* * * *  \n",
      "* * *  \n",
      "* *  \n",
      "*  \n",
      "* *  \n",
      "* * *  \n",
      "* * * *  \n",
      "* * * * *  \n"
     ]
    }
   ],
   "source": [
    "'''\n",
    "pattern is given as:\n",
    "\n",
    "* * * * *\n",
    "* * * *\n",
    "* * *\n",
    "* *\n",
    "*\n",
    "* *\n",
    "* * *\n",
    "* * * *\n",
    "* * * * *\n",
    "\n",
    "'''\n",
    "\n",
    "#nested loop for printing first 4 lines\n",
    "for i in range(4):                         #inner loop\n",
    "    for j in range(5-i,0,-1):              #outer loop\n",
    "        print('* ', end='')\n",
    "    print(\" \")\n",
    "\n",
    "#nested loop for printing remaining 5 lines\n",
    "for i in range(5):\n",
    "    for j in range(i+1):\n",
    "        print(\"* \", end='')\n",
    "    print(\" \")\n",
    "\n"
   ]
  },
  {
   "cell_type": "markdown",
   "id": "fb67a09b",
   "metadata": {},
   "source": [
    "###### 7. Write a python code that will print a diamond of height H, where H is taken from the user as input. Note that, N>=3 and add a check for the same in your code. \n"
   ]
  },
  {
   "cell_type": "code",
   "execution_count": 141,
   "id": "edc56c61",
   "metadata": {},
   "outputs": [
    {
     "name": "stdout",
     "output_type": "stream",
     "text": [
      "Enter number of rows : 3\n",
      " *\n",
      "* *\n",
      " *\n"
     ]
    }
   ],
   "source": [
    "n = int(input(\"Enter number of rows : \"))\n",
    "\n",
    "#check wether n is even or odd\n",
    "#if even call diamond_even() function, if odd call diamond_odd() function\n",
    "if (n%2==1):\n",
    "    h = int((n+1)/2) #find half of (n+1), it gives the middle row\n",
    "    diamond_upper(h)\n",
    "    diamond_lower(h)\n",
    "else:\n",
    "    h = int(n/2)    #find half of the n, hth and h+1th rows are middle rows\n",
    "    diamond_upper(h)\n",
    "    diamond_lower(h+1)\n",
    "\n",
    "    \n",
    "#defining function for printing diamond if n is odd\n",
    "def diamond_upper(h):\n",
    "# Upper triangle shape\n",
    "    for i in range(1, h + 1):\n",
    "        for j in range(1, h - i + 1):\n",
    "        # printing spaces \n",
    "            print(end = ' ')\n",
    "        for k in range(1, 2 * i):\n",
    "            if k == 1 or k == i * 2 - 1:\n",
    "            # print outline stars\n",
    "                print('*', end = '')\n",
    "            else:\n",
    "            #printing spaces inside the diamond \n",
    "                print(' ', end = '')\n",
    "        print() #next row\n",
    "        \n",
    "        \n",
    "#defining the function for printing diamond if n is even\n",
    "def diamond_lower(h):\n",
    "    for i in range(h-1, 0, -1):\n",
    "        for j in range(1, h - i + 1):\n",
    "        #printing spaces \n",
    "            print(' ', end = '')\n",
    "        for k in range(1, 2 * i):\n",
    "            if k == 1 or k == i * 2 - 1:\n",
    "            # printing outline stars\n",
    "                print('*', end = '')\n",
    "            else:\n",
    "            #printing spaces inside the diamond\n",
    "                print(' ', end = '')\n",
    "        print() #new row"
   ]
  },
  {
   "cell_type": "markdown",
   "id": "d9719b6d",
   "metadata": {},
   "source": [
    "###### 8. Write a Python program that takes a positive input integer n and prints fibonacci numbers less than or equal to n."
   ]
  },
  {
   "cell_type": "code",
   "execution_count": 126,
   "id": "e7488cc1",
   "metadata": {},
   "outputs": [
    {
     "name": "stdout",
     "output_type": "stream",
     "text": [
      "Please enter the value of n: 89\n",
      "0,1,1,2,3,5,8,13,21,34,55,89,"
     ]
    }
   ],
   "source": [
    "#enter the value of n to the variable n\n",
    "n= int(input(\"Please enter the value of n: \")) \n",
    "\n",
    "#define first two terms\n",
    "term_1 =0\n",
    "term_2 =1\n",
    "\n",
    "#print first two terms\n",
    "print(term_1, end=',')\n",
    "print(term_2, end=',')\n",
    "\n",
    "\n",
    "while(True):\n",
    "    nth_term=term_1+term_2 #nth_term is sum of preceding two terms\n",
    "    if nth_term<= n:\n",
    "        print(nth_term, end=',')\n",
    "        #update the values of term_1 and term_2 as pre\n",
    "        term_1= term_2\n",
    "        term_2= nth_term    \n",
    "    else:\n",
    "        break\n",
    "    \n",
    "    \n",
    "    "
   ]
  },
  {
   "cell_type": "code",
   "execution_count": null,
   "id": "b9a1ae4f",
   "metadata": {},
   "outputs": [],
   "source": []
  }
 ],
 "metadata": {
  "kernelspec": {
   "display_name": "Python 3 (ipykernel)",
   "language": "python",
   "name": "python3"
  },
  "language_info": {
   "codemirror_mode": {
    "name": "ipython",
    "version": 3
   },
   "file_extension": ".py",
   "mimetype": "text/x-python",
   "name": "python",
   "nbconvert_exporter": "python",
   "pygments_lexer": "ipython3",
   "version": "3.9.6"
  }
 },
 "nbformat": 4,
 "nbformat_minor": 5
}
