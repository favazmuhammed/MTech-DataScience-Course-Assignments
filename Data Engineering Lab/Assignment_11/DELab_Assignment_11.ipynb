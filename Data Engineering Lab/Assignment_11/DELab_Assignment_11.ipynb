{
 "cells": [
  {
   "cell_type": "code",
   "execution_count": 30,
   "id": "57258c6d",
   "metadata": {},
   "outputs": [],
   "source": [
    "#import required libraries\n",
    "import numpy as np\n",
    "import matplotlib.pyplot as plt\n",
    "from sklearn.datasets import make_regression\n",
    "from sklearn.linear_model import LinearRegression, Ridge, Lasso\n",
    "from sklearn.metrics import mean_squared_error"
   ]
  },
  {
   "cell_type": "markdown",
   "id": "72318cac",
   "metadata": {},
   "source": [
    "###### 1. Generate 10 synthetic datasets where the number of datapoints should vary from 100 to 1000 by step size 100. With 100 features in each dataset. In that 100 features 40 should be informative. Implement Linear Regression on each generated synthetic datasets and find Mean Square Error(MSE)."
   ]
  },
  {
   "cell_type": "code",
   "execution_count": 69,
   "id": "f5624400",
   "metadata": {},
   "outputs": [
    {
     "name": "stdout",
     "output_type": "stream",
     "text": [
      "Number of features = 100, Number of informative features = 40\n",
      "===========================================================\n",
      "MSE for 100 samples = 9.311160029328996e-25\n",
      "MSE for 200 samples = 7.982609875448435e-25\n",
      "MSE for 300 samples = 7.597017873010752e-25\n",
      "MSE for 400 samples = 5.9805862898144445e-25\n",
      "MSE for 500 samples = 6.122965175579579e-25\n",
      "MSE for 600 samples = 9.209542385915682e-25\n",
      "MSE for 700 samples = 1.18156263001271e-24\n",
      "MSE for 800 samples = 6.290109907702022e-25\n",
      "MSE for 900 samples = 7.707709888598278e-25\n",
      "MSE for 1000 samples = 6.86493397978372e-25\n"
     ]
    }
   ],
   "source": [
    "n_samples = np.linspace(100,1000,10).astype(int)                  #define list of different number of samples\n",
    "n_features=100                                                    #number of features\n",
    "n_informative=40                                                  #number of informative features\n",
    "print(f'Number of features = {n_features}, Number of informative features = {n_informative}')\n",
    "print('===========================================================')\n",
    "mse = []                                                          #list for saving different mse values\n",
    "#iterate over different number of samples\n",
    "for n_sample in n_samples:\n",
    "    #generate random regression data set the specified variables\n",
    "    X, y = make_regression(n_samples=n_sample, n_features=n_features, n_informative=n_informative, random_state=1) \n",
    "    model = LinearRegression()                                   #define the model                   \n",
    "    model.fit(X,y)                                               #fit the mode\n",
    "    y_pred = model.predict(X)                                    #predict the values with the model\n",
    "    MSE = mean_squared_error(y_pred,y)                           #calculate mean squared error\n",
    "    mse.append(MSE)                                              #append mse value to the mse list\n",
    "    print(f'MSE for {n_sample} samples = {MSE}')                #print mean squared error for different number of samples\n",
    "    "
   ]
  },
  {
   "cell_type": "code",
   "execution_count": 72,
   "id": "ad82de06",
   "metadata": {},
   "outputs": [
    {
     "data": {
      "image/png": "[encoded data removed]",
      "text/plain": [
       "<Figure size 432x288 with 1 Axes>"
      ]
     },
     "metadata": {
      "needs_background": "light"
     },
     "output_type": "display_data"
    }
   ],
   "source": [
    "#plotting mse value wrt to nuber of samples\n",
    "plt.plot(n_samples, mse)\n",
    "plt.xlabel('No. of samples')\n",
    "plt.ylabel('MSE value')\n",
    "plt.title('MSE vs No. of samples')\n",
    "plt.show()"
   ]
  },
  {
   "cell_type": "markdown",
   "id": "320e57fb",
   "metadata": {},
   "source": [
    "###### Observations\n",
    "\n",
    "There is no linear relation between sample size and mean squared error. That is as sample size increase mean squared error may incease or decrease"
   ]
  },
  {
   "cell_type": "markdown",
   "id": "58c9f73c",
   "metadata": {},
   "source": [
    "###### 2. Generate a synthetic dataset with 100 features and 1000 data points. In that 100 features 40 should be informative. Retrieve the Important features on generated synthetic dataset using Linear Regression Features Importance technique."
   ]
  },
  {
   "cell_type": "code",
   "execution_count": 57,
   "id": "5342380d",
   "metadata": {},
   "outputs": [],
   "source": [
    "#generate random regression dataset with number pf samples=1000\n",
    "#number of features=100, number of informativee features =40\n",
    "X, y = make_regression(n_samples=1000, n_features=100, n_informative=40, random_state=1)\n",
    "\n",
    "model=LinearRegression()                                      #define regression model\n",
    "model.fit(X,y)                                                #fit the model\n",
    "parameters = model.coef_                                      #retrieve parameters corresponding to each feature\n",
    "index =[]                                                     #define an empty list for saving index of un important features\n",
    "\n",
    "#iterate over each feature parameter\n",
    "for i,coef in enumerate(parameters):\n",
    "    parameter = float(\"{0:.5f}\".format(coef))                 #define parameter as coefficient of feature upto 5 decimal points\n",
    "    #print('Feature: {}, Score: {}'.format(i,score))  \n",
    "   \n",
    "    #if absolute value of parameter equelto zero, append index of feature to index list\n",
    "    if abs(parameter)==0:\n",
    "        index.append(i)"
   ]
  },
  {
   "cell_type": "code",
   "execution_count": 58,
   "id": "7815579e",
   "metadata": {},
   "outputs": [
    {
     "data": {
      "image/png": "[encoded data removed]",
      "text/plain": [
       "<Figure size 1080x576 with 1 Axes>"
      ]
     },
     "metadata": {
      "needs_background": "light"
     },
     "output_type": "display_data"
    }
   ],
   "source": [
    "#plot feature importance as barplot\n",
    "features = np.linspace(1,100,100).astype(int)\n",
    "plt.figure(figsize=(15,8))\n",
    "plt.bar(features,parameters)\n",
    "plt.xlabel('Feature Number')\n",
    "plt.ylabel('Coefficient')\n",
    "plt.title('Feature Importance')\n",
    "plt.show()\n",
    "plt.close()"
   ]
  },
  {
   "cell_type": "code",
   "execution_count": 59,
   "id": "59d9e244",
   "metadata": {},
   "outputs": [
    {
     "name": "stdout",
     "output_type": "stream",
     "text": [
      "Indices of un important features:\n",
      "[0, 2, 3, 5, 6, 7, 8, 10, 11, 12, 13, 14, 15, 16, 19, 22, 23, 24, 25, 28, 33, 35, 39, 41, 43, 45, 47, 49, 51, 52, 53, 55, 56, 57, 58, 59, 60, 61, 64, 65, 67, 68, 72, 73, 74, 75, 77, 78, 79, 80, 83, 85, 87, 91, 93, 94, 96, 97, 98, 99]\n"
     ]
    }
   ],
   "source": [
    "#print indices of un important features\n",
    "print('Indices of un important features:')\n",
    "print(index)"
   ]
  },
  {
   "cell_type": "code",
   "execution_count": 61,
   "id": "71eca715",
   "metadata": {},
   "outputs": [
    {
     "data": {
      "text/plain": [
       "((1000, 100), (1000, 40), (1000,))"
      ]
     },
     "execution_count": 61,
     "metadata": {},
     "output_type": "execute_result"
    }
   ],
   "source": [
    "#remove all un important features and define array of important features\n",
    "X_imp = np.delete(X,index,axis=1)\n",
    "X.shape,X_imp.shape, y.shape"
   ]
  },
  {
   "cell_type": "markdown",
   "id": "9b124f65",
   "metadata": {},
   "source": [
    "###### a. Linear Regression"
   ]
  },
  {
   "cell_type": "code",
   "execution_count": 62,
   "id": "73a47630",
   "metadata": {},
   "outputs": [
    {
     "name": "stdout",
     "output_type": "stream",
     "text": [
      "Mse for Linear regression: 3.8952243221523305e-25\n"
     ]
    }
   ],
   "source": [
    "model = LinearRegression()                                #define linear regression model\n",
    "model.fit(X_imp,y)                                        #fit the model\n",
    "y_pred = model.predict(X_imp)                             #predict y values\n",
    "MSE = mean_squared_error(y, y_pred)                       #calculate mse\n",
    "print('Mse for Linear regression: {}'.format(MSE))       "
   ]
  },
  {
   "cell_type": "markdown",
   "id": "976015ce",
   "metadata": {},
   "source": [
    "###### b. Ridge Regression"
   ]
  },
  {
   "cell_type": "code",
   "execution_count": 63,
   "id": "2dd4a13a",
   "metadata": {},
   "outputs": [
    {
     "name": "stdout",
     "output_type": "stream",
     "text": [
      "Mse for Ridge regression: 0.15088215007770836\n"
     ]
    }
   ],
   "source": [
    "model = Ridge()                                          #define ridge regression model\n",
    "model.fit(X_imp,y)                                       #fit the model\n",
    "y_pred = model.predict(X_imp)                            #predict y                       \n",
    "MSE = mean_squared_error(y, y_pred)                      #calculate mse \n",
    "print('Mse for Ridge regression: {}'.format(MSE))"
   ]
  },
  {
   "cell_type": "markdown",
   "id": "c85bf767",
   "metadata": {},
   "source": [
    "###### c. Lasso Regression"
   ]
  },
  {
   "cell_type": "code",
   "execution_count": 64,
   "id": "e8df4ed3",
   "metadata": {},
   "outputs": [
    {
     "name": "stdout",
     "output_type": "stream",
     "text": [
      "Mse for Lasso regression: 42.42028668780959\n"
     ]
    }
   ],
   "source": [
    "model = Lasso()                                         #define lasso regression model\n",
    "model.fit(X_imp,y)                                      #fit the model\n",
    "y_pred = model.predict(X_imp)                           #predict y\n",
    "MSE = mean_squared_error(y, y_pred)                     #calculate mse\n",
    "print('Mse for Lasso regression: {}'.format(MSE))"
   ]
  },
  {
   "cell_type": "markdown",
   "id": "fa6be8c0",
   "metadata": {},
   "source": [
    "###### Observations\n",
    "\n",
    "Mean squared error values is less for linear regression and more for lasso regression model. It implies linear regression model overfit."
   ]
  },
  {
   "cell_type": "markdown",
   "id": "41fae41c",
   "metadata": {},
   "source": [
    "###### 3. Generate 10 synthetic datasets with 1000 data points and 100 features where the number of informative features should vary from 10 to 100 by step size 10. mplement Linear Regression on each generated synthetic datasets and find Mean Square Error(MSE).\n"
   ]
  },
  {
   "cell_type": "code",
   "execution_count": 73,
   "id": "9f6b561c",
   "metadata": {},
   "outputs": [
    {
     "name": "stdout",
     "output_type": "stream",
     "text": [
      "Number of samples = 1000, Number of features = 100\n",
      "===========================================================\n",
      "MSE for 10 informative features = 1.9738629000368921e-25\n",
      "MSE for 20 informative features = 4.929399091812023e-25\n",
      "MSE for 30 informative features = 3.1751166073682646e-25\n",
      "MSE for 40 informative features = 6.86493397978372e-25\n",
      "MSE for 50 informative features = 9.310261769193439e-25\n",
      "MSE for 60 informative features = 1.5801006867660336e-24\n",
      "MSE for 70 informative features = 1.285285242405644e-24\n",
      "MSE for 80 informative features = 1.6673556101495635e-24\n",
      "MSE for 90 informative features = 4.86749233967869e-24\n",
      "MSE for 100 informative features = 3.689543745853895e-24\n"
     ]
    }
   ],
   "source": [
    "n_informative = np.linspace(10,100,10).astype(int)              #define a list of different N_informative values\n",
    "n_samples=1000\n",
    "n_features=100\n",
    "print(f'Number of samples = {n_samples}, Number of features = {n_features}')\n",
    "print('===========================================================')\n",
    "mse = []                                                        #list for saving different mse values\n",
    "\n",
    "#iterate over different n_informative values\n",
    "for n_info in n_informative:\n",
    "    #generate random regression dataset with specified variables\n",
    "    X, y = make_regression(n_samples=n_samples, n_features=n_features, n_informative=n_info, random_state=1)\n",
    "    model = LinearRegression()                           #define linear regression model\n",
    "    model.fit(X,y)                                       #fit the model\n",
    "    y_pred = model.predict(X)                            #predict y values with model\n",
    "    MSE = mean_squared_error(y_pred,y)                   #calculate mse\n",
    "    mse.append(MSE)\n",
    "    print(f'MSE for {n_info} informative features = {MSE}')  #print mse for different n_informative values\n",
    "    "
   ]
  },
  {
   "cell_type": "code",
   "execution_count": 74,
   "id": "25f261e3",
   "metadata": {},
   "outputs": [
    {
     "data": {
      "image/png": "[encoded data removed]",
      "text/plain": [
       "<Figure size 432x288 with 1 Axes>"
      ]
     },
     "metadata": {
      "needs_background": "light"
     },
     "output_type": "display_data"
    }
   ],
   "source": [
    "#plotting mse value wrt to nuber of samples\n",
    "plt.plot(n_informative, mse)\n",
    "plt.xlabel('No. of informative features')\n",
    "plt.ylabel('MSE value')\n",
    "plt.title('MSE vs No. of informative features')\n",
    "plt.show()"
   ]
  },
  {
   "cell_type": "markdown",
   "id": "b1533436",
   "metadata": {},
   "source": [
    "###### Observations\n",
    "\n",
    "As number of informative feature increase mean squared error may increase but not linear.\n",
    "Mean squared error is lower for low value of number of informative features."
   ]
  },
  {
   "cell_type": "code",
   "execution_count": null,
   "id": "5ad83249",
   "metadata": {},
   "outputs": [],
   "source": []
  }
 ],
 "metadata": {
  "kernelspec": {
   "display_name": "Python 3 (ipykernel)",
   "language": "python",
   "name": "python3"
  },
  "language_info": {
   "codemirror_mode": {
    "name": "ipython",
    "version": 3
   },
   "file_extension": ".py",
   "mimetype": "text/x-python",
   "name": "python",
   "nbconvert_exporter": "python",
   "pygments_lexer": "ipython3",
   "version": "3.9.6"
  }
 },
 "nbformat": 4,
 "nbformat_minor": 5
}
