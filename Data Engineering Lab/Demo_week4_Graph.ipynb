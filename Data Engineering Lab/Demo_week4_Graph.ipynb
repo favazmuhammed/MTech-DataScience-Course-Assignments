{
 "cells": [
  {
   "cell_type": "markdown",
   "metadata": {},
   "source": [
    "## Today's Topics:-\n",
    "* Graph\n",
    "* BFS (Breadth-first search)\n",
    "* DFS (Depth-first search)"
   ]
  },
  {
   "cell_type": "markdown",
   "metadata": {},
   "source": [
    "# Graphs\n",
    "\n",
    "* Connection of nodes (data points) and edges (relationship between data points)"
   ]
  },
  {
   "cell_type": "markdown",
   "metadata": {},
   "source": [
    "Example of a simple graph:\n",
    "\n",
    "![A-simple-graph-example.png](data:image/png;base64,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)"
   ]
  },
  {
   "cell_type": "code",
   "execution_count": 22,
   "metadata": {},
   "outputs": [
    {
     "name": "stdout",
     "output_type": "stream",
     "text": [
      "networkx version: 2.6.2\n"
     ]
    }
   ],
   "source": [
    "#Import the required packages\n",
    "\n",
    "import networkx as nx\n",
    "import numpy as np\n",
    "import matplotlib.pyplot as plt\n",
    "\n",
    "%matplotlib inline\n",
    "\n",
    "print(f\"networkx version: {nx.__version__}\")"
   ]
  },
  {
   "cell_type": "code",
   "execution_count": 23,
   "metadata": {},
   "outputs": [],
   "source": [
    "# Graph building function\n",
    "\n",
    "def build_graph(nodes, edges):\n",
    "    G = nx.Graph()\n",
    "    G.add_nodes_from(nodes) # Add nodes from an iterable data structure\n",
    "    G.add_edges_from(edges) # Add edges from an iterable data structure\n",
    "\n",
    "    np.random.seed(458)\n",
    "    plt.subplot()\n",
    "    nx.draw(G, with_labels=True, font_weight='bold')\n",
    "    return G"
   ]
  },
  {
   "cell_type": "code",
   "execution_count": 24,
   "metadata": {},
   "outputs": [
    {
     "data": {
      "text/plain": [
       "networkx.classes.graph.Graph"
      ]
     },
     "execution_count": 24,
     "metadata": {},
     "output_type": "execute_result"
    },
    {
     "data": {
      "image/png": "[encoded data removed]",
      "text/plain": [
       "<Figure size 432x288 with 1 Axes>"
      ]
     },
     "metadata": {},
     "output_type": "display_data"
    }
   ],
   "source": [
    "nodes = [1, 2, 3, 4, 5, 6, 7, 8, 9, 10]\n",
    "edges = [(1,2), (3,4), (2, 4), (1, 5), (5,6), (2, 5),(1,10),(1,9),(3,7),(3,9),(10,8)]\n",
    "G = build_graph(nodes, edges)\n",
    "type(G)"
   ]
  },
  {
   "cell_type": "code",
   "execution_count": 25,
   "metadata": {},
   "outputs": [
    {
     "data": {
      "text/plain": [
       "<networkx.classes.graph.Graph at 0x20b15c49b20>"
      ]
     },
     "execution_count": 25,
     "metadata": {},
     "output_type": "execute_result"
    }
   ],
   "source": [
    "G"
   ]
  },
  {
   "cell_type": "code",
   "execution_count": 26,
   "metadata": {},
   "outputs": [
    {
     "data": {
      "text/plain": [
       "[[{'id': 2}, {'id': 5}, {'id': 10}, {'id': 9}],\n",
       " [{'id': 1}, {'id': 4}, {'id': 5}],\n",
       " [{'id': 4}, {'id': 7}, {'id': 9}],\n",
       " [{'id': 3}, {'id': 2}],\n",
       " [{'id': 1}, {'id': 6}, {'id': 2}],\n",
       " [{'id': 5}],\n",
       " [{'id': 3}],\n",
       " [{'id': 10}],\n",
       " [{'id': 1}, {'id': 3}],\n",
       " [{'id': 1}, {'id': 8}]]"
      ]
     },
     "execution_count": 26,
     "metadata": {},
     "output_type": "execute_result"
    }
   ],
   "source": [
    "adj_data = nx.adjacency_data(G)['adjacency']\n",
    "adj_data"
   ]
  },
  {
   "cell_type": "code",
   "execution_count": 27,
   "metadata": {},
   "outputs": [],
   "source": [
    "# Adjacency list representation of graph G\n",
    "\n",
    "def graph_to_adj_list(adj_data):\n",
    "  # Using a Python dictionary to act as an adjacency list\n",
    "    adj_list = {}\n",
    "    key = 1\n",
    "    for line in adj_data:\n",
    "        values = [str(l['id']) for l in line]\n",
    "#         print(values)\n",
    "        adj_list[str(key)] = values\n",
    "        key += 1\n",
    "    return adj_list"
   ]
  },
  {
   "cell_type": "code",
   "execution_count": 17,
   "metadata": {},
   "outputs": [
    {
     "data": {
      "text/plain": [
       "{'1': ['2', '5', '10', '9'],\n",
       " '2': ['1', '4', '5'],\n",
       " '3': ['4', '7', '9'],\n",
       " '4': ['3', '2'],\n",
       " '5': ['1', '6', '2'],\n",
       " '6': ['5'],\n",
       " '7': ['3'],\n",
       " '8': ['10'],\n",
       " '9': ['1', '3'],\n",
       " '10': ['1', '8']}"
      ]
     },
     "execution_count": 17,
     "metadata": {},
     "output_type": "execute_result"
    }
   ],
   "source": [
    "adj_list = graph_to_adj_list(adj_data)\n",
    "adj_list"
   ]
  },
  {
   "cell_type": "markdown",
   "metadata": {},
   "source": [
    "# BFS\n",
    "\n",
    "A breadth-first search (BFS) is another technique for traversing a finite graph. BFS visits the sibling vertices before visiting the child vertices, and a queue is used in the search process. This algorithm is often used to find the shortest path from one vertex to another.\n",
    "\n",
    "\n",
    "**Visualization of BFS**:- https://www.cs.usfca.edu/~galles/visualization/BFS.html <br>\n",
    "\n",
    "\n",
    "**Pseudocode**:\n",
    "\n",
    "*   *Input*: A graph *G* and a vertex *v* of *G*.\n",
    "*   *Output*: The closest vertex to *v* satisfying some conditions, or null if no such vertex exists.\n",
    "\n",
    "```\n",
    "procedure BFS(G, v) is\n",
    "    create a queue Q\n",
    "    enqueue v onto Q\n",
    "    mark v\n",
    "    while Q is not empty do\n",
    "        w ← Q.dequeue()\n",
    "        if w is what we are looking for then\n",
    "            return w\n",
    "        for all edges e in G.adjacentEdges(w) do\n",
    "            x ← G.adjacentVertex(w, e)\n",
    "            if x is not marked then\n",
    "                mark x\n",
    "                enqueue x onto Q\n",
    "    return null\n",
    "```\n",
    "\n",
    "**Refrence**:- https://en.wikipedia.org/wiki/Graph_traversal"
   ]
  },
  {
   "cell_type": "code",
   "execution_count": 31,
   "metadata": {},
   "outputs": [
    {
     "data": {
      "image/png": "[encoded data removed]",
      "text/plain": [
       "<Figure size 432x288 with 1 Axes>"
      ]
     },
     "metadata": {},
     "output_type": "display_data"
    }
   ],
   "source": [
    "np.random.seed(458)\n",
    "nx.draw(G, with_labels=True, font_weight='bold')"
   ]
  },
  {
   "cell_type": "code",
   "execution_count": 38,
   "metadata": {},
   "outputs": [
    {
     "name": "stdout",
     "output_type": "stream",
     "text": [
      "2 1 4 5 10 9 3 6 8 7 None\n"
     ]
    }
   ],
   "source": [
    "def bfs(visited, graph, node):\n",
    "  node = str(node)\n",
    "  visited.append(node)\n",
    "  queue.append(node)\n",
    "\n",
    "  while queue:\n",
    "    s = queue.pop(0) \n",
    "    print (s, end = \" \") \n",
    "\n",
    "    for neighbour in graph[s]:\n",
    "      if neighbour not in visited:\n",
    "        visited.append(neighbour)\n",
    "        queue.append(neighbour)\n",
    "        \n",
    "    \n",
    "    \n",
    "visited = []   # List to keep track of visited nodes.\n",
    "queue = []     # Initialize a queue\n",
    "\n",
    "print(bfs(visited, adj_list, 2))"
   ]
  },
  {
   "cell_type": "markdown",
   "metadata": {},
   "source": [
    "## Application of BFS:-\n",
    "\n",
    "* To find the shortest path.\n",
    "* Social Networking Websites.\n",
    "* GPS Navigation System. <br>\n",
    "And many more...<br>\n",
    "Refrence:- https://www.geeksforgeeks.org/applications-of-breadth-first-traversal/"
   ]
  },
  {
   "cell_type": "markdown",
   "metadata": {},
   "source": [
    "# DFS (Depth First Search)\n",
    "\n",
    "A depth-first search (DFS) is an algorithm for traversing a **finite** graph. DFS traverses the **depth** of any particular path before exploring its breadth. A **stack** (often the program's call stack via **recursion**) is generally used when implementing the algorithm. Key steps of this algorithm are:\n",
    "\n",
    "*   Begins with a chosen \"**root**\" node.\n",
    "*   Iteratively transitions from the current node to an adjacent, **unvisited** node, till no new node is found for transition.\n",
    "*   Backtracks along previously visited nodes, until it finds a node connected to unvisited nodes.\n",
    "*   Proceeds down the new path similarly, backtracking as it encounters dead-ends.\n",
    "*   Ends when it has backtracked past the original \"root\" node from the very first step.\n",
    "\n",
    "\n",
    "**Visualization of DFS**: https://www.cs.usfca.edu/~galles/visualization/DFS.html\n",
    "\n",
    "**Pseudocode**:\n",
    "\n",
    "*   *Input*: A graph *G* and a node *v* of *G*.\n",
    "*   *Output*: A labeling of the edges in the connected component of *v* as discovery edges and back edges.\n",
    "\n",
    "```\n",
    "procedure DFS(G, v) is\n",
    "    label v as explored\n",
    "    for all edges e in G.incidentEdges(v) do\n",
    "        if edge e is unexplored then\n",
    "            w ← G.adjacentNode(v, e)\n",
    "            if node w is unexplored then\n",
    "                label e as a discovered edge\n",
    "                recursively call DFS(G, w)\n",
    "            else\n",
    "                label e as a back edge\n",
    "```\n",
    "\n",
    "Source: https://en.wikipedia.org/wiki/Graph_traversal\n",
    "\n",
    "Reference: https://www.educative.io/edpresso/how-to-implement-depth-first-search-in-python\n"
   ]
  },
  {
   "cell_type": "code",
   "execution_count": 35,
   "metadata": {},
   "outputs": [
    {
     "name": "stdout",
     "output_type": "stream",
     "text": [
      "6 5 1 2 4 3 7 9 10 8 "
     ]
    }
   ],
   "source": [
    "# DFS function\n",
    "\n",
    "def dfs(visited, graph, node):\n",
    "  node = str(node)\n",
    "  if node not in visited:\n",
    "    print(node, end = \" \")\n",
    "    visited.add(node)\n",
    "    for neighbour in graph[node]:\n",
    "      dfs(visited, graph, neighbour)\n",
    "    \n",
    "    \n",
    "visited = set() # Set to keep track of visited nodes.\n",
    "dfs(visited, adj_list, 6)"
   ]
  },
  {
   "cell_type": "markdown",
   "metadata": {},
   "source": [
    "## Applications of DFS\n",
    "\n",
    "*   Topological Sorting\n",
    "*   Detect cycles in graphs\n",
    "*   Find connected components\n",
    "*   Solving maze type problems\n",
    "\n",
    "Refrence:- https://www.geeksforgeeks.org/applications-of-depth-first-search/"
   ]
  }
 ],
 "metadata": {
  "kernelspec": {
   "display_name": "Python 3 (ipykernel)",
   "language": "python",
   "name": "python3"
  },
  "language_info": {
   "codemirror_mode": {
    "name": "ipython",
    "version": 3
   },
   "file_extension": ".py",
   "mimetype": "text/x-python",
   "name": "python",
   "nbconvert_exporter": "python",
   "pygments_lexer": "ipython3",
   "version": "3.9.6"
  }
 },
 "nbformat": 4,
 "nbformat_minor": 4
}
