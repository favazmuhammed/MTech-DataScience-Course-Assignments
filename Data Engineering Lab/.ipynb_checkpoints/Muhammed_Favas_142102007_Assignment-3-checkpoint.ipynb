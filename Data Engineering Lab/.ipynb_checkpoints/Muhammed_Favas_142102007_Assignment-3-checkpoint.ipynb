{
 "cells": [
  {
   "cell_type": "markdown",
   "id": "f53a6169",
   "metadata": {},
   "source": [
    "###### 1. Read an input string from user and check whether it is a palindrome or not using the stack data structure"
   ]
  },
  {
   "cell_type": "code",
   "execution_count": 93,
   "id": "91d8cec3",
   "metadata": {},
   "outputs": [
    {
     "name": "stdout",
     "output_type": "stream",
     "text": [
      "Please enter the word: malayalam\n",
      "The word entered is a palindrome\n"
     ]
    }
   ],
   "source": [
    "\n",
    "input_string= input(\"Please enter the word: \")                 #input the word to the variable input_string\n",
    "input_string= input_string.lower()                             #convert the word to lower letters\n",
    "\n",
    "my_stack=[]                                                    #intilize a list my_stack, it can be used as a stack\n",
    "check_string =''                                               #initialize an empty string, check_string\n",
    "\n",
    "\n",
    "for i in input_string:                                         #append all values from the input_string to the list my_stack\n",
    "    my_stack.append(i)\n",
    "\n",
    "for i in range(len(my_stack)):                                 #pop a value from my_stack and add it to the check_string\n",
    "    check_string = check_string + my_stack.pop()\n",
    "\n",
    "    \n",
    "if (check_string==input_string):                              #if check_string is equal to input_string \n",
    "    print('The word entered is a palindrome')                 #the given word is a palindrome else it is not a palindrome\n",
    "\n",
    "else:\n",
    "    print('The word entered is not a palindrome')\n",
    "\n",
    "    "
   ]
  },
  {
   "cell_type": "markdown",
   "id": "b433549a",
   "metadata": {},
   "source": [
    "###### 2. Read lines from the file ‘1.txt’, sort the lines in natural sort order using the third letter of each line and finally write the sorted result to a file ‘1_out.txt’"
   ]
  },
  {
   "cell_type": "code",
   "execution_count": 1,
   "id": "11bbb10f",
   "metadata": {},
   "outputs": [
    {
     "name": "stdout",
     "output_type": "stream",
     "text": [
      "January\n",
      "February\n",
      "March\n",
      "April\n",
      "May\n",
      "June\n",
      "July\n",
      "August\n",
      "September\n",
      "October\n",
      "November\n",
      "December\n"
     ]
    }
   ],
   "source": [
    "#open the file 1.txt as file\n",
    "file = open('1.txt', mode='r+')\n",
    "\n",
    "#print all the lines\n",
    "for line in file:\n",
    "    print(line, end='')\n"
   ]
  },
  {
   "cell_type": "code",
   "execution_count": 2,
   "id": "1f53182a",
   "metadata": {},
   "outputs": [],
   "source": [
    "#define a function which return third letter of a string \n",
    "def third_letter(string):\n",
    "        return string[2]\n",
    "\n",
    "file = open('1.txt', mode='r+')\n",
    "line_list = file.readlines()\n",
    "line_list.sort(key=third_letter)"
   ]
  },
  {
   "cell_type": "code",
   "execution_count": 3,
   "id": "8d142543",
   "metadata": {},
   "outputs": [],
   "source": [
    "#close the file '1.txt'\n",
    "file.close()"
   ]
  },
  {
   "cell_type": "code",
   "execution_count": 4,
   "id": "3d30a1e8",
   "metadata": {},
   "outputs": [
    {
     "ename": "FileNotFoundError",
     "evalue": "[Errno 2] No such file or directory: '1_Out.txt'",
     "output_type": "error",
     "traceback": [
      "\u001b[1;31m---------------------------------------------------------------------------\u001b[0m",
      "\u001b[1;31mFileNotFoundError\u001b[0m                         Traceback (most recent call last)",
      "\u001b[1;32m~\\AppData\\Local\\Temp/ipykernel_8536/515661658.py\u001b[0m in \u001b[0;36m<module>\u001b[1;34m\u001b[0m\n\u001b[0;32m      1\u001b[0m \u001b[1;31m#open the file '1_Out.txt'\u001b[0m\u001b[1;33m\u001b[0m\u001b[1;33m\u001b[0m\u001b[1;33m\u001b[0m\u001b[0m\n\u001b[1;32m----> 2\u001b[1;33m \u001b[0mfile\u001b[0m\u001b[1;33m=\u001b[0m \u001b[0mopen\u001b[0m\u001b[1;33m(\u001b[0m\u001b[1;34m'1_Out.txt'\u001b[0m\u001b[1;33m,\u001b[0m \u001b[0mmode\u001b[0m\u001b[1;33m=\u001b[0m\u001b[1;34m'r+'\u001b[0m\u001b[1;33m)\u001b[0m\u001b[1;33m\u001b[0m\u001b[1;33m\u001b[0m\u001b[0m\n\u001b[0m\u001b[0;32m      3\u001b[0m \u001b[1;33m\u001b[0m\u001b[0m\n\u001b[0;32m      4\u001b[0m \u001b[1;31m#Write the soarted list to the file uning file.write() command\u001b[0m\u001b[1;33m\u001b[0m\u001b[1;33m\u001b[0m\u001b[1;33m\u001b[0m\u001b[0m\n\u001b[0;32m      5\u001b[0m \u001b[1;32mfor\u001b[0m \u001b[0mi\u001b[0m \u001b[1;32min\u001b[0m \u001b[0mrange\u001b[0m\u001b[1;33m(\u001b[0m\u001b[0mlen\u001b[0m\u001b[1;33m(\u001b[0m\u001b[0mline_list\u001b[0m\u001b[1;33m)\u001b[0m\u001b[1;33m)\u001b[0m\u001b[1;33m:\u001b[0m\u001b[1;33m\u001b[0m\u001b[1;33m\u001b[0m\u001b[0m\n",
      "\u001b[1;31mFileNotFoundError\u001b[0m: [Errno 2] No such file or directory: '1_Out.txt'"
     ]
    }
   ],
   "source": [
    "#open the file '1_Out.txt'\n",
    "file= open('1_Out.txt', mode='r+')\n",
    "\n",
    "#Write the soarted list to the file uning file.write() command\n",
    "for i in range(len(line_list)):\n",
    "    file.write(line_list[i])\n",
    "    "
   ]
  },
  {
   "cell_type": "code",
   "execution_count": 55,
   "id": "a00a1d9d",
   "metadata": {},
   "outputs": [
    {
     "name": "stdout",
     "output_type": "stream",
     "text": [
      "\u0000\u0000\u0000\u0000\u0000\u0000\u0000\u0000\u0000\u0000\u0000\u0000\u0000\u0000\u0000\u0000\u0000\u0000\u0000\u0000\u0000\u0000\u0000\u0000\u0000\u0000\u0000\u0000\u0000\u0000\u0000\u0000\u0000\u0000\u0000\u0000\u0000\u0000\u0000\u0000\u0000\u0000\u0000\u0000\u0000\u0000\u0000\u0000\u0000\u0000\u0000\u0000\u0000\u0000\u0000\u0000\u0000\u0000\u0000\u0000\u0000\u0000\u0000\u0000\u0000\u0000\u0000\u0000\u0000\u0000\u0000\u0000\u0000\u0000\u0000\u0000\u0000\u0000\u0000\u0000\u0000\u0000\u0000\u0000\u0000\u0000\u0000\u0000\u0000\u0000\u0000\u0000\u0000\u0000\u0000\u0000\u0000\u0000\u0000\u0000\u0000\u0000\u0000\u0000\u0000\u0000\u0000\u0000\u0000\u0000\u0000\u0000\u0000\u0000\u0000\u0000\u0000\u0000\u0000\u0000\u0000\u0000\u0000\u0000\u0000\u0000\u0000\u0000\u0000\u0000\u0000\u0000\u0000\u0000\u0000\u0000\u0000\u0000\u0000\u0000\u0000\u0000\u0000\u0000\u0000\u0000\u0000\u0000\u0000\u0000\u0000\u0000\u0000\u0000\u0000\u0000\u0000\u0000\u0000\u0000\u0000\u0000\u0000\u0000\u0000\u0000\u0000\u0000\u0000\u0000\u0000\u0000\u0000\u0000\u0000\u0000\u0000\u0000\u0000\u0000\u0000\u0000\u0000\u0000\u0000\u0000\u0000\u0000\u0000\u0000\u0000\u0000\u0000\u0000\u0000\u0000February\n",
      "December\n",
      "August\n",
      "July\n",
      "January\n",
      "June\n",
      "September\n",
      "March\n",
      "April\n",
      "October\n",
      "November\n",
      "May\n"
     ]
    }
   ],
   "source": [
    "#print the lines that wrote to the file '1_Out.txt'\n",
    "for line in file:\n",
    "    print(line, end='')"
   ]
  },
  {
   "cell_type": "code",
   "execution_count": 56,
   "id": "f1c167a9",
   "metadata": {},
   "outputs": [],
   "source": [
    "#close the file '1_Out.txt'\n",
    "file.close()"
   ]
  },
  {
   "cell_type": "markdown",
   "id": "91a2976f",
   "metadata": {},
   "source": [
    "###### 3. Write a higher order function that has a formal parameter ‘mode’ of type int. If mode is ‘1’, this function should return a lambda function that converts a passed in temperature from Celsius to Fahrenheit and if mode is ‘2’ the higher order function should return a lambda function that converts a passed in temperature from Fahrenheit to Celsius. Call the higher order function for both modes and use the returned functions to convert 58 degrees Celsius to Fahrenheit and 58 degrees Fahrenheit to Celsius"
   ]
  },
  {
   "cell_type": "code",
   "execution_count": 5,
   "id": "9e76b111",
   "metadata": {},
   "outputs": [
    {
     "name": "stdout",
     "output_type": "stream",
     "text": [
      "58 degrees Celsius to Fahrenheit:136.40\n",
      "58 degrees Fahrenheit to Celsius:14.44\n"
     ]
    }
   ],
   "source": [
    "def temp_converter(mode, temp):\n",
    "    \n",
    "    if mode==1:\n",
    "        return (lambda temp: (temp*(9/5))+32)(temp)\n",
    "    elif mode==2:\n",
    "        return (lambda temp: (temp-32)*(5/9))(temp)\n",
    "    \n",
    "    \n",
    "print(\"58 degrees Celsius to Fahrenheit:{:.2f}\".format(temp_converter(1,58)))\n",
    "print(\"58 degrees Fahrenheit to Celsius:{:.2f}\".format(temp_converter(2,58)))"
   ]
  },
  {
   "cell_type": "markdown",
   "id": "452110e8",
   "metadata": {},
   "source": [
    "###### 4. Create a 4x4 matrix (list of lists) with random positive integer values using list comprehension. Use this matrix and list comprehension to create a new matrix such that even numbers remain unchanged, but odd numbers get incremented by 1"
   ]
  },
  {
   "cell_type": "code",
   "execution_count": 6,
   "id": "ba8efdf0",
   "metadata": {},
   "outputs": [
    {
     "name": "stdout",
     "output_type": "stream",
     "text": [
      "Please enter the number of columns 4\n",
      "Please enter the number of rows 4\n",
      "\n",
      "Initial matrix:\n",
      "[[8 6 7 3]\n",
      " [8 8 1 5]\n",
      " [6 4 7 4]\n",
      " [8 3 1 6]] \n",
      "\n",
      "Updated matrix:\n",
      "[[8 6 8 4]\n",
      " [8 8 2 6]\n",
      " [6 4 8 4]\n",
      " [8 4 2 6]]\n"
     ]
    }
   ],
   "source": [
    "\n",
    "import numpy as np                                                  #import library numpy\n",
    "\n",
    "col = int(input(\"Please enter the number of columns \"))             #enter number of columns to variable col\n",
    "row = int(input(\"Please enter the number of rows \"))                #enter number of rows to the variable row\n",
    "\n",
    "my_matrix = np.array([[np.random.randint(1,10)                      #np.array() transform list of list to array\n",
    "                       for i in range(col)] for j in range(row)])   #np.random.randint(1,10) assign random values \n",
    "                                                                    #between 1 and 10                \n",
    "                                                                                              \n",
    "print(\"\\nInitial matrix:\")\n",
    "print(my_matrix,\"\\n\")                                               #print initial matrix\n",
    "\n",
    "                                                                    #if the number is even (reminder = 0 while dividing with 2) \n",
    "                                                                    #retain the number,#else increment by 1        \n",
    "\n",
    "new_matrix= np.array([[my_matrix[j,i] if (my_matrix[j,i]%2==0)         \n",
    "                       else my_matrix[j,i]+1 for i in range(col)] for j in range(row)]) \n",
    "\n",
    "print(\"Updated matrix:\")                                            #print updated matrix\n",
    "print(new_matrix)\n"
   ]
  },
  {
   "cell_type": "markdown",
   "id": "3544837c",
   "metadata": {},
   "source": [
    "###### 5.Read lines from files ‘5_1.txt’ and ‘5_2.txt’, find out the words that are present in file ‘5_2.txt’ but not in file ‘5_1.txt’ and finally write the result to a file named ‘5_out.txt’"
   ]
  },
  {
   "cell_type": "code",
   "execution_count": 99,
   "id": "d9b05c94",
   "metadata": {},
   "outputs": [],
   "source": [
    "file_1 = open('5_1.txt', mode='r+')\n",
    "file1_lines = file_1.readlines()\n",
    "file_1.close()\n",
    "\n",
    "file_2= open('5_2.txt', mode='r+')\n",
    "file2_lines = file_2.readlines()\n",
    "file_2.close()\n",
    "\n",
    "file_out = open('5_out.txt', mode='r+')\n",
    "\n",
    "for line in file1_lines:\n",
    "    if(line in file2_lines):\n",
    "        file_out.write(line)\n",
    "file_out.close()"
   ]
  },
  {
   "cell_type": "code",
   "execution_count": null,
   "id": "b76142e1",
   "metadata": {},
   "outputs": [],
   "source": []
  },
  {
   "cell_type": "code",
   "execution_count": null,
   "id": "aa076575",
   "metadata": {},
   "outputs": [],
   "source": []
  }
 ],
 "metadata": {
  "kernelspec": {
   "display_name": "Python 3 (ipykernel)",
   "language": "python",
   "name": "python3"
  },
  "language_info": {
   "codemirror_mode": {
    "name": "ipython",
    "version": 3
   },
   "file_extension": ".py",
   "mimetype": "text/x-python",
   "name": "python",
   "nbconvert_exporter": "python",
   "pygments_lexer": "ipython3",
   "version": "3.9.6"
  }
 },
 "nbformat": 4,
 "nbformat_minor": 5
}
