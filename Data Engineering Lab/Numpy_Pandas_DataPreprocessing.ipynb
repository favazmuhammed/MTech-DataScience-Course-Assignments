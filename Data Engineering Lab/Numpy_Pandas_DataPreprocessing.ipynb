{
 "cells": [
  {
   "cell_type": "markdown",
   "metadata": {
    "id": "07GBYOqn8yQb"
   },
   "source": [
    "# Numpy\n",
    "\n",
    "NumPy is a library for the Python programming language, adding support for large, multi-dimensional arrays and matrices, along with a large collection of high-level mathematical functions to operate on these arrays.\n",
    "\n",
    "### Resources\n",
    " * https://numpy.org/learn/ Tutorial\n",
    " * https://numpy.org/doc/stable/reference/generated/numpy.set_printoptions.html print options\n"
   ]
  },
  {
   "cell_type": "markdown",
   "metadata": {
    "id": "XLUaNQZ7AFBH"
   },
   "source": [
    "## Basics"
   ]
  },
  {
   "cell_type": "code",
   "execution_count": null,
   "metadata": {
    "id": "mBQB7NoV8x4P"
   },
   "outputs": [],
   "source": [
    "import numpy as np "
   ]
  },
  {
   "cell_type": "code",
   "execution_count": null,
   "metadata": {
    "colab": {
     "base_uri": "https://localhost:8080/"
    },
    "id": "F75DDUtS95yJ",
    "outputId": "c00e7c14-7fb2-40ae-fcdb-8ad0b8fb90be"
   },
   "outputs": [],
   "source": [
    "## Converting list to numpy array\n",
    "lis = [1, 2, 3, 4]\n",
    "lis2 = np.array(lis)\n",
    "\n",
    "print(type(lis))\n",
    "print(type(lis2))"
   ]
  },
  {
   "cell_type": "code",
   "execution_count": null,
   "metadata": {
    "colab": {
     "base_uri": "https://localhost:8080/"
    },
    "id": "cgaVKghO8x0X",
    "outputId": "81c0cb86-d499-4c65-a028-b73b7bbf7168"
   },
   "outputs": [],
   "source": [
    "## The arange function\n",
    "np.arange(0, 3, 0.4)      ## np.arange(start, stop, step)"
   ]
  },
  {
   "cell_type": "code",
   "execution_count": null,
   "metadata": {
    "colab": {
     "base_uri": "https://localhost:8080/",
     "height": 35
    },
    "id": "-9ytx0958xxX",
    "outputId": "8f19e1a3-d153-43e9-e22d-60677233b4e8"
   },
   "outputs": [],
   "source": [
    "## Example of homogenity\n",
    "\n",
    "a = np.array([0,'a',1.5])\n",
    "a.dtype.name"
   ]
  },
  {
   "cell_type": "code",
   "execution_count": null,
   "metadata": {
    "colab": {
     "base_uri": "https://localhost:8080/"
    },
    "id": "ZyA1UUAA8xts",
    "outputId": "2275ccab-b729-4388-c280-b35c80930a96"
   },
   "outputs": [],
   "source": [
    "my_matrix = [[1,2,3],[4,5,6],[7,8,9]]\n",
    "my_matrix"
   ]
  },
  {
   "cell_type": "code",
   "execution_count": null,
   "metadata": {
    "colab": {
     "base_uri": "https://localhost:8080/"
    },
    "id": "uaaN7tQL8xqQ",
    "outputId": "faf712ab-534b-45b9-893e-d536876cbc84"
   },
   "outputs": [],
   "source": [
    "np.array(my_matrix)"
   ]
  },
  {
   "cell_type": "markdown",
   "metadata": {
    "id": "q2JR_Uu-ABKz"
   },
   "source": [
    "### Zeros and Ones"
   ]
  },
  {
   "cell_type": "code",
   "execution_count": null,
   "metadata": {
    "colab": {
     "base_uri": "https://localhost:8080/"
    },
    "id": "6LVk5G6i8xmw",
    "outputId": "a60c8fb0-1ae7-4ad7-c02e-d01c1a81d35f",
    "scrolled": true
   },
   "outputs": [],
   "source": [
    "np.zeros(3)"
   ]
  },
  {
   "cell_type": "code",
   "execution_count": null,
   "metadata": {
    "colab": {
     "base_uri": "https://localhost:8080/"
    },
    "id": "Xpbvst398xeq",
    "outputId": "6f3c4645-98a2-4fcb-9a91-43e8a561ffc2"
   },
   "outputs": [],
   "source": [
    "np.zeros((3,3))"
   ]
  },
  {
   "cell_type": "code",
   "execution_count": null,
   "metadata": {
    "colab": {
     "base_uri": "https://localhost:8080/"
    },
    "id": "V-h7p7VyAVBF",
    "outputId": "e4a6717d-b5e4-4bb6-f40e-9a6fd5e18262"
   },
   "outputs": [],
   "source": [
    "print(np.ones(3))\n",
    "print('\\n',np.ones((3,3)))"
   ]
  },
  {
   "cell_type": "code",
   "execution_count": null,
   "metadata": {
    "colab": {
     "base_uri": "https://localhost:8080/"
    },
    "id": "w9M3YVhBBK8j",
    "outputId": "364450f3-6cfc-480c-e390-050827c51aa3"
   },
   "outputs": [],
   "source": [
    "## Identity matrix\n",
    "\n",
    "np.eye(4)"
   ]
  },
  {
   "cell_type": "markdown",
   "metadata": {
    "id": "yMMVus8aAopL"
   },
   "source": [
    "### Linspace"
   ]
  },
  {
   "cell_type": "code",
   "execution_count": null,
   "metadata": {
    "colab": {
     "base_uri": "https://localhost:8080/"
    },
    "id": "MbejCiqDAU8c",
    "outputId": "c27e27a9-7b10-4967-d429-0483bf27d8c0"
   },
   "outputs": [],
   "source": [
    "np.linspace(0, 10, 3)   ### np.linspace(start, stop, number of data points)"
   ]
  },
  {
   "cell_type": "code",
   "execution_count": null,
   "metadata": {
    "colab": {
     "base_uri": "https://localhost:8080/"
    },
    "id": "IVqfQpjcAU5H",
    "outputId": "98747e08-b6e3-454b-e016-6ad4ae05dc23"
   },
   "outputs": [],
   "source": [
    "np.linspace(-1,1,20)"
   ]
  },
  {
   "cell_type": "markdown",
   "metadata": {
    "id": "ksDNZInmBTPD"
   },
   "source": [
    "### Random"
   ]
  },
  {
   "cell_type": "markdown",
   "metadata": {
    "id": "EGD3e0fWE2Qc"
   },
   "source": [
    "#### rand\n",
    "\n",
    "Creates an array of the given shape and populates it with random samples from a uniform distribution over [0, 1)"
   ]
  },
  {
   "cell_type": "code",
   "execution_count": null,
   "metadata": {
    "colab": {
     "base_uri": "https://localhost:8080/"
    },
    "id": "Zr49wWqZAU1C",
    "outputId": "b2322b4d-08f3-46a0-d7e8-f9dcdc1a03a7"
   },
   "outputs": [],
   "source": [
    "print(np.random.rand(2))\n",
    "print('\\n',np.random.rand(2,2))"
   ]
  },
  {
   "cell_type": "markdown",
   "metadata": {
    "id": "6fErEVB3H9DI"
   },
   "source": [
    "### randint\n",
    "Returns random integers from `low` (inclusive) to `high` (exclusive).  [[reference](https://docs.scipy.org/doc/numpy-1.15.0/reference/generated/numpy.random.randint.html)]"
   ]
  },
  {
   "cell_type": "code",
   "execution_count": null,
   "metadata": {
    "colab": {
     "base_uri": "https://localhost:8080/"
    },
    "id": "U1Be_hSdAUxE",
    "outputId": "1aa734d3-070c-4d8c-b01e-1acba22afc9d"
   },
   "outputs": [],
   "source": [
    "print(np.random.randint(1,25))\n",
    "\n",
    "np.random.randint(1,100,10)"
   ]
  },
  {
   "cell_type": "markdown",
   "metadata": {
    "id": "sFAsVVy0MjKj"
   },
   "source": [
    "### seed\n",
    "Can be used to set the random state, so that the same \"random\" results can be reproduced. [[reference](https://docs.scipy.org/doc/numpy-1.15.0/reference/generated/numpy.random.seed.html)]"
   ]
  },
  {
   "cell_type": "code",
   "execution_count": null,
   "metadata": {
    "colab": {
     "base_uri": "https://localhost:8080/"
    },
    "id": "-EWVFC_-AUsv",
    "outputId": "0de3a2f1-6576-4302-87e0-244b3331cb1f"
   },
   "outputs": [],
   "source": [
    "np.random.seed(100)\n",
    "np.random.rand(4)"
   ]
  },
  {
   "cell_type": "code",
   "execution_count": null,
   "metadata": {
    "colab": {
     "base_uri": "https://localhost:8080/"
    },
    "id": "9VkprLxvAUob",
    "outputId": "9555e063-3a65-483f-bbf0-745e05be464f"
   },
   "outputs": [],
   "source": [
    "np.random.seed(100)\n",
    "np.random.rand(4)"
   ]
  },
  {
   "cell_type": "code",
   "execution_count": null,
   "metadata": {
    "colab": {
     "base_uri": "https://localhost:8080/"
    },
    "id": "V14Yu2fPAUkr",
    "outputId": "49462b54-b17a-4265-9af7-3a065ae1a664"
   },
   "outputs": [],
   "source": [
    "np.random.seed(10)\n",
    "np.random.rand(4)"
   ]
  },
  {
   "cell_type": "code",
   "execution_count": null,
   "metadata": {
    "colab": {
     "base_uri": "https://localhost:8080/"
    },
    "id": "5obzgqCHAUgs",
    "outputId": "0979cd3f-b7a0-45d5-cd07-559b9580a91c"
   },
   "outputs": [],
   "source": [
    "np.random.seed(10)\n",
    "np.random.rand(4)"
   ]
  },
  {
   "cell_type": "markdown",
   "metadata": {
    "id": "D-XCEe74NamM"
   },
   "source": [
    "### Reshape"
   ]
  },
  {
   "cell_type": "code",
   "execution_count": null,
   "metadata": {
    "colab": {
     "base_uri": "https://localhost:8080/"
    },
    "id": "WaCKIhlYNaZe",
    "outputId": "173087a2-f6d7-4dd3-991e-7d30b6584779"
   },
   "outputs": [],
   "source": [
    "a = np.arange(16)\n",
    "print(a,'\\n')\n",
    "print(a.reshape(4,4),'\\n')\n",
    "print(a.reshape(2,8))"
   ]
  },
  {
   "cell_type": "markdown",
   "metadata": {
    "id": "xtlYBoEhNzbd"
   },
   "source": [
    "### max, min, argmax, argmin\n",
    "\n",
    "These are useful methods for finding max or min values. Or to find their index locations using argmin or argmax"
   ]
  },
  {
   "cell_type": "code",
   "execution_count": null,
   "metadata": {
    "colab": {
     "base_uri": "https://localhost:8080/"
    },
    "id": "B_8UYzjKNaVf",
    "outputId": "93edb655-5093-43ce-8dd0-7706177280a3"
   },
   "outputs": [],
   "source": [
    "arr = np.random.randint(0,50,10)\n",
    "\n",
    "print(arr,'\\n')\n",
    "print('max: ', arr.max(),'\\n')\n",
    "print('min: ', arr.min(),'\\n')\n",
    "print('argmax: ', arr.argmax(),'\\n')\n",
    "print('argmin: ', arr.argmin(),'\\n')"
   ]
  },
  {
   "cell_type": "markdown",
   "metadata": {
    "id": "ndB3LQ0HPV1B"
   },
   "source": [
    "### Indexing"
   ]
  },
  {
   "cell_type": "code",
   "execution_count": null,
   "metadata": {
    "colab": {
     "base_uri": "https://localhost:8080/"
    },
    "id": "mBp2tTNFPY5M",
    "outputId": "3b29614c-f4fa-4c89-9eca-9b2a89f425e7"
   },
   "outputs": [],
   "source": [
    "a = np.random.randint(10,39,10)\n",
    "\n",
    "print(a)\n",
    "print(a[5])\n",
    "print(a[1:5])"
   ]
  },
  {
   "cell_type": "code",
   "execution_count": null,
   "metadata": {
    "colab": {
     "base_uri": "https://localhost:8080/"
    },
    "id": "DJuqiEanPY1d",
    "outputId": "0a90be1c-2e4e-4f2a-97cf-13e1294a944e"
   },
   "outputs": [],
   "source": [
    "#Setting a value\n",
    "a[5] = 9\n",
    "a"
   ]
  },
  {
   "cell_type": "code",
   "execution_count": null,
   "metadata": {
    "colab": {
     "base_uri": "https://localhost:8080/"
    },
    "id": "639viocbPYxy",
    "outputId": "6472c0e7-1f8e-4727-dc29-60cdfa6b83ac"
   },
   "outputs": [],
   "source": [
    "a = np.array(([1, 2, 3],[4, 5, 6],[7, 8, 9]))\n",
    "\n",
    "a[2, 1]"
   ]
  },
  {
   "cell_type": "code",
   "execution_count": null,
   "metadata": {
    "colab": {
     "base_uri": "https://localhost:8080/"
    },
    "id": "PogBdfjMSF5t",
    "outputId": "34552aac-2f1a-4e9a-ea2e-c02389b0b551"
   },
   "outputs": [],
   "source": [
    "#Shape (2,2)\n",
    "a[:2,:2]"
   ]
  },
  {
   "cell_type": "markdown",
   "metadata": {
    "id": "qwME_bJXPJZC"
   },
   "source": [
    "## Operations"
   ]
  },
  {
   "cell_type": "code",
   "execution_count": null,
   "metadata": {
    "colab": {
     "base_uri": "https://localhost:8080/"
    },
    "id": "LC5wRptrPaVQ",
    "outputId": "d9955611-868b-4fff-9c27-4d4a3a845172"
   },
   "outputs": [],
   "source": [
    "a = np.arange(10)\n",
    "\n",
    "print('add \\t \\t: ',a + a)\n",
    "print('add integer \\t: ',a + 8)\n",
    "print('Substract \\t: ',a - 2)\n",
    "print('multiply \\t: ',a * a)\n",
    "print('power \\t\\t: ',a ** 2)"
   ]
  },
  {
   "cell_type": "code",
   "execution_count": null,
   "metadata": {
    "colab": {
     "base_uri": "https://localhost:8080/"
    },
    "id": "abKIJhwuPHbg",
    "outputId": "ec56411d-1647-499b-9661-972677dc5531"
   },
   "outputs": [],
   "source": [
    "a = np.arange(1, 11)\n",
    "\n",
    "# Taking Square Roots\n",
    "print('square root: \\n',np.sqrt(a))\n",
    "\n",
    "# Calculating exponential (e^)\n",
    "print(\"\\n\\nExponential: \\n\",np.exp(a))\n",
    "\n",
    "# Trigonometric Functions like sine\n",
    "print('\\n\\nTrigonometric function: \\n',np.sin(a))\n",
    "\n",
    "# Taking the Natural Logarithm\n",
    "print(\"\\n\\nNatural Log: \\n\",np.log(a))"
   ]
  },
  {
   "cell_type": "code",
   "execution_count": null,
   "metadata": {
    "colab": {
     "base_uri": "https://localhost:8080/"
    },
    "id": "CGs3b3V-XVWh",
    "outputId": "65ecc955-d8c0-45ba-8fe2-9948133d3525"
   },
   "outputs": [],
   "source": [
    "a = np.arange(1, 11)\n",
    "\n",
    "# Taking Square Roots\n",
    "print('square root: \\n',np.around(np.sqrt(a),3))\n",
    "\n",
    "# Calculating exponential (e^)\n",
    "print(\"\\n\\nExponential: \\n\",np.around(np.exp(a),3))\n",
    "\n",
    "# Trigonometric Functions like sine\n",
    "print('\\n\\nTrigonometric function: \\n',np.around(np.sin(a),3))\n",
    "\n",
    "# Taking the Natural Logarithm\n",
    "print(\"\\n\\nNatural Log: \\n\",np.around(np.log(a),3))"
   ]
  },
  {
   "cell_type": "markdown",
   "metadata": {
    "id": "6xedLIE9ucQf"
   },
   "source": [
    "# Basic plotting\n",
    "\n",
    "### Reference: https://matplotlib.org/stable/api/_as_gen/matplotlib.pyplot.html"
   ]
  },
  {
   "cell_type": "code",
   "execution_count": null,
   "metadata": {
    "colab": {
     "base_uri": "https://localhost:8080/",
     "height": 265
    },
    "id": "Q7HiNQSCubnt",
    "outputId": "9b1b793f-169e-4f50-8d20-2356e1835b12"
   },
   "outputs": [],
   "source": [
    "import matplotlib.pyplot as plt\n",
    "import numpy as np\n",
    "x = np.random.randint(0,10,10)\n",
    "y = np.arange(10)\n",
    "plt.plot(x,y)\n",
    "plt.show()"
   ]
  },
  {
   "cell_type": "code",
   "execution_count": null,
   "metadata": {
    "colab": {
     "base_uri": "https://localhost:8080/",
     "height": 265
    },
    "id": "jOLZaCrdwIb3",
    "outputId": "70702e2f-cffb-48dd-8411-f430f2a44e7f"
   },
   "outputs": [],
   "source": [
    "plt.scatter(x,y)\n",
    "plt.show()"
   ]
  },
  {
   "cell_type": "code",
   "execution_count": null,
   "metadata": {
    "colab": {
     "base_uri": "https://localhost:8080/",
     "height": 265
    },
    "id": "2eofIFTQu8DC",
    "outputId": "ee79465b-8071-4d48-c966-54b88737d42f"
   },
   "outputs": [],
   "source": [
    "plt.scatter(x,y, c = np.array([1,0,0,0,1,1,0,1,1,0]))\n",
    "plt.show()"
   ]
  },
  {
   "cell_type": "code",
   "execution_count": null,
   "metadata": {},
   "outputs": [],
   "source": [
    "plt.bar(x,y)"
   ]
  },
  {
   "cell_type": "code",
   "execution_count": null,
   "metadata": {
    "colab": {
     "base_uri": "https://localhost:8080/",
     "height": 265
    },
    "id": "FbvlyhlovOmZ",
    "outputId": "418ccc49-46be-4211-e3c9-4e75e6e63acc"
   },
   "outputs": [],
   "source": [
    "x = np.arange(50)\n",
    "y = np.sin(x)\n",
    "plt.plot(x,y)\n",
    "plt.show()"
   ]
  },
  {
   "cell_type": "markdown",
   "metadata": {
    "id": "OWr4pOniM4n_"
   },
   "source": [
    "# Scipy\n"
   ]
  },
  {
   "cell_type": "markdown",
   "metadata": {
    "id": "2xpMzb8ce8Ak"
   },
   "source": [
    "### Resources\n",
    "https://www.tutorialspoint.com/scipy/index.htm<br>\n",
    "https://docs.scipy.org/doc/scipy/reference/tutorial/general.html<br>\n",
    "SciPy is a collection of mathematical algorithms and convenience functions built on the NumPy extension of Python. \n",
    "\n",
    "\n",
    "* NumPy stands for Numerical Python while SciPy stands for Scientific Python. \n",
    "* SciPy is actually a collection of tools like integration, differentiation, gradient optimization, and much more. \n",
    "* Subpackages\n",
    "\n",
    "    * cluster: Clustering algorithms\n",
    "\n",
    "    * constants: Physical and mathematical constants\n",
    "\n",
    "    * fftpack: Fast Fourier Transform routines\n",
    "\n",
    "    * integrate: Integration and ordinary differential equation solvers\n",
    "\n",
    "    * interpolate: Interpolation and smoothing splines\n",
    "\n",
    "    * io: Input and Output\n",
    "\n",
    "    * linalg: Linear algebra\n",
    "\n",
    "    * ndimage: N-dimensional image processing\n",
    "\n",
    "    * odr: Orthogonal distance regression\n",
    "\n",
    "    * optimize: Optimization and root-finding routines\n",
    "\n",
    "    * signal: Signal processing\n",
    "\n",
    "    * sparse: Sparse matrices and associated routines\n",
    "\n",
    "    * spatial: Spatial data structures and algorithms\n",
    "\n",
    "    * special: Special functions\n",
    "\n",
    "    * stats: Statistical distributions and functions"
   ]
  },
  {
   "cell_type": "code",
   "execution_count": null,
   "metadata": {
    "colab": {
     "base_uri": "https://localhost:8080/"
    },
    "id": "r2DE7K5mAUct",
    "outputId": "f7eafa44-06bd-4136-b2d9-5ae8e4266525"
   },
   "outputs": [],
   "source": [
    "#constants\n",
    "import scipy\n",
    "from scipy.constants import *\\\n",
    "\n",
    "print(\"sciPy - pi = %.2f\"%pi)\n",
    "print(\"\\nSpeed of light is: \",c,\"m/s\")\n",
    "print(\"\\nOne milli-gram is\",milli,\"grams\")\n",
    "print(\"\\n1 Degree is {:.5f} radians\".format(degree))"
   ]
  },
  {
   "cell_type": "markdown",
   "metadata": {
    "id": "dwUNRzsTaYoo"
   },
   "source": [
    "### linalg"
   ]
  },
  {
   "cell_type": "code",
   "execution_count": null,
   "metadata": {
    "colab": {
     "base_uri": "https://localhost:8080/"
    },
    "id": "1ehAkwlIAUY9",
    "outputId": "9c20e202-39eb-4a04-fb16-c9ed44846fb0"
   },
   "outputs": [],
   "source": [
    "import numpy as np\n",
    "from scipy import linalg\n",
    "\n",
    "A = np.mat('[1 2;3 4]') #A = np.array([[1,2],[3,4]])\n",
    "\n",
    "print(linalg.inv(A))\n",
    "\n",
    "print(A.dot(linalg.inv(A)) )"
   ]
  },
  {
   "cell_type": "code",
   "execution_count": null,
   "metadata": {
    "colab": {
     "base_uri": "https://localhost:8080/"
    },
    "id": "yAdV3drEAUNW",
    "outputId": "de3e9372-cd81-4b74-9efe-550769f4a546"
   },
   "outputs": [],
   "source": [
    "## Solving equations\n",
    "A = np.array([[1, 2], [3, 4]])\n",
    "print(A)\n",
    "b = np.array([[5], [11]])\n",
    "print(b)\n",
    "\n",
    "ans = linalg.inv(A).dot(b)  \n",
    "print(ans)"
   ]
  },
  {
   "cell_type": "markdown",
   "metadata": {
    "id": "e2yU7bL4ezhl"
   },
   "source": [
    "# Pandas\n",
    "\n",
    "Pandas is one of the tools in Machine Learning which is used for data cleaning and analysis. It has features which are used for exploring, cleaning, transforming and visualizing from data.\n",
    "\n",
    "You can think of pandas as an extremely powerful version of Excel, with a lot more features."
   ]
  },
  {
   "cell_type": "code",
   "execution_count": 7,
   "metadata": {
    "id": "zLYQ59uJjHkO"
   },
   "outputs": [],
   "source": [
    "import pandas as pd\n",
    "import numpy as np\n",
    "from numpy.random import randn\n",
    "np.random.seed(100)"
   ]
  },
  {
   "cell_type": "markdown",
   "metadata": {
    "id": "7XspKOGVgAyT"
   },
   "source": [
    "### DataFrames\n",
    "\n",
    "We can think of a DataFrame as a bunch of Series objects put together to share the same index."
   ]
  },
  {
   "cell_type": "code",
   "execution_count": 6,
   "metadata": {
    "colab": {
     "base_uri": "https://localhost:8080/",
     "height": 203
    },
    "id": "YGl1yg9HfBOg",
    "outputId": "3fbd6348-b61e-4841-ebbc-1d03581876f2"
   },
   "outputs": [
    {
     "data": {
      "text/html": [
       "<div>\n",
       "<style scoped>\n",
       "    .dataframe tbody tr th:only-of-type {\n",
       "        vertical-align: middle;\n",
       "    }\n",
       "\n",
       "    .dataframe tbody tr th {\n",
       "        vertical-align: top;\n",
       "    }\n",
       "\n",
       "    .dataframe thead th {\n",
       "        text-align: right;\n",
       "    }\n",
       "</style>\n",
       "<table border=\"1\" class=\"dataframe\">\n",
       "  <thead>\n",
       "    <tr style=\"text-align: right;\">\n",
       "      <th></th>\n",
       "      <th>W</th>\n",
       "      <th>X</th>\n",
       "      <th>Y</th>\n",
       "      <th>Z</th>\n",
       "    </tr>\n",
       "  </thead>\n",
       "  <tbody>\n",
       "    <tr>\n",
       "      <th>A</th>\n",
       "      <td>1.618982</td>\n",
       "      <td>1.541605</td>\n",
       "      <td>-0.251879</td>\n",
       "      <td>-0.842436</td>\n",
       "    </tr>\n",
       "    <tr>\n",
       "      <th>B</th>\n",
       "      <td>0.184519</td>\n",
       "      <td>0.937082</td>\n",
       "      <td>0.731000</td>\n",
       "      <td>1.361556</td>\n",
       "    </tr>\n",
       "    <tr>\n",
       "      <th>C</th>\n",
       "      <td>-0.326238</td>\n",
       "      <td>0.055676</td>\n",
       "      <td>0.222400</td>\n",
       "      <td>-1.443217</td>\n",
       "    </tr>\n",
       "    <tr>\n",
       "      <th>D</th>\n",
       "      <td>-0.756352</td>\n",
       "      <td>0.816454</td>\n",
       "      <td>0.750445</td>\n",
       "      <td>-0.455947</td>\n",
       "    </tr>\n",
       "    <tr>\n",
       "      <th>E</th>\n",
       "      <td>1.189622</td>\n",
       "      <td>-1.690617</td>\n",
       "      <td>-1.356399</td>\n",
       "      <td>-1.232435</td>\n",
       "    </tr>\n",
       "  </tbody>\n",
       "</table>\n",
       "</div>"
      ],
      "text/plain": [
       "          W         X         Y         Z\n",
       "A  1.618982  1.541605 -0.251879 -0.842436\n",
       "B  0.184519  0.937082  0.731000  1.361556\n",
       "C -0.326238  0.055676  0.222400 -1.443217\n",
       "D -0.756352  0.816454  0.750445 -0.455947\n",
       "E  1.189622 -1.690617 -1.356399 -1.232435"
      ]
     },
     "execution_count": 6,
     "metadata": {},
     "output_type": "execute_result"
    }
   ],
   "source": [
    "df = pd.DataFrame(randn(5,4),index='A B C D E'.split(),columns='W X Y Z'.split())\n",
    "df"
   ]
  },
  {
   "cell_type": "markdown",
   "metadata": {
    "id": "Y6PaujVLj_fC"
   },
   "source": [
    "### Indexing"
   ]
  },
  {
   "cell_type": "code",
   "execution_count": 3,
   "metadata": {
    "colab": {
     "base_uri": "https://localhost:8080/"
    },
    "id": "vxi7r3YIj-3S",
    "outputId": "6a37b455-a587-4039-cdef-705c063f9547"
   },
   "outputs": [
    {
     "data": {
      "text/plain": [
       "A    0.342680\n",
       "B    0.514219\n",
       "C    0.255001\n",
       "D    0.816847\n",
       "E    1.029733\n",
       "Name: X, dtype: float64"
      ]
     },
     "execution_count": 3,
     "metadata": {},
     "output_type": "execute_result"
    }
   ],
   "source": [
    "df['X']"
   ]
  },
  {
   "cell_type": "code",
   "execution_count": 4,
   "metadata": {
    "colab": {
     "base_uri": "https://localhost:8080/",
     "height": 203
    },
    "id": "uF7EIsCGfBLN",
    "outputId": "b222a517-9e39-452d-8e61-81f1e8c2074b"
   },
   "outputs": [
    {
     "data": {
      "text/html": [
       "<div>\n",
       "<style scoped>\n",
       "    .dataframe tbody tr th:only-of-type {\n",
       "        vertical-align: middle;\n",
       "    }\n",
       "\n",
       "    .dataframe tbody tr th {\n",
       "        vertical-align: top;\n",
       "    }\n",
       "\n",
       "    .dataframe thead th {\n",
       "        text-align: right;\n",
       "    }\n",
       "</style>\n",
       "<table border=\"1\" class=\"dataframe\">\n",
       "  <thead>\n",
       "    <tr style=\"text-align: right;\">\n",
       "      <th></th>\n",
       "      <th>W</th>\n",
       "      <th>Y</th>\n",
       "    </tr>\n",
       "  </thead>\n",
       "  <tbody>\n",
       "    <tr>\n",
       "      <th>A</th>\n",
       "      <td>-1.749765</td>\n",
       "      <td>1.153036</td>\n",
       "    </tr>\n",
       "    <tr>\n",
       "      <th>B</th>\n",
       "      <td>0.981321</td>\n",
       "      <td>0.221180</td>\n",
       "    </tr>\n",
       "    <tr>\n",
       "      <th>C</th>\n",
       "      <td>-0.189496</td>\n",
       "      <td>-0.458027</td>\n",
       "    </tr>\n",
       "    <tr>\n",
       "      <th>D</th>\n",
       "      <td>-0.583595</td>\n",
       "      <td>0.672721</td>\n",
       "    </tr>\n",
       "    <tr>\n",
       "      <th>E</th>\n",
       "      <td>-0.531280</td>\n",
       "      <td>-0.438136</td>\n",
       "    </tr>\n",
       "  </tbody>\n",
       "</table>\n",
       "</div>"
      ],
      "text/plain": [
       "          W         Y\n",
       "A -1.749765  1.153036\n",
       "B  0.981321  0.221180\n",
       "C -0.189496 -0.458027\n",
       "D -0.583595  0.672721\n",
       "E -0.531280 -0.438136"
      ]
     },
     "execution_count": 4,
     "metadata": {},
     "output_type": "execute_result"
    }
   ],
   "source": [
    "df[['W','Y']]"
   ]
  },
  {
   "cell_type": "code",
   "execution_count": 9,
   "metadata": {},
   "outputs": [
    {
     "data": {
      "text/plain": [
       "1.5416051745134067"
      ]
     },
     "execution_count": 9,
     "metadata": {},
     "output_type": "execute_result"
    }
   ],
   "source": [
    "df['X']['A']"
   ]
  },
  {
   "cell_type": "code",
   "execution_count": 5,
   "metadata": {
    "colab": {
     "base_uri": "https://localhost:8080/"
    },
    "id": "5dAGpSM3fBII",
    "outputId": "f40bf5b1-04c5-4008-d376-6eb3792eec6b"
   },
   "outputs": [
    {
     "data": {
      "text/plain": [
       "A    1.153036\n",
       "B    0.221180\n",
       "C   -0.458027\n",
       "D    0.672721\n",
       "E   -0.438136\n",
       "Name: Y, dtype: float64"
      ]
     },
     "execution_count": 5,
     "metadata": {},
     "output_type": "execute_result"
    }
   ],
   "source": [
    "df.Y"
   ]
  },
  {
   "cell_type": "markdown",
   "metadata": {
    "id": "mei2nV_FlPR4"
   },
   "source": [
    "### Creating a new column:"
   ]
  },
  {
   "cell_type": "code",
   "execution_count": null,
   "metadata": {
    "id": "rnY3_1dllPR4"
   },
   "outputs": [],
   "source": [
    "df['new'] = df['W'] + df['Y']"
   ]
  },
  {
   "cell_type": "code",
   "execution_count": null,
   "metadata": {
    "colab": {
     "base_uri": "https://localhost:8080/",
     "height": 203
    },
    "id": "Qq2dmlMwlPR5",
    "outputId": "e2306bea-5557-4fd8-a137-87a154197281"
   },
   "outputs": [],
   "source": [
    "df"
   ]
  },
  {
   "cell_type": "markdown",
   "metadata": {
    "id": "7_iuiwgQlPR5"
   },
   "source": [
    "### Removing Columns"
   ]
  },
  {
   "cell_type": "code",
   "execution_count": null,
   "metadata": {
    "colab": {
     "base_uri": "https://localhost:8080/",
     "height": 203
    },
    "id": "b9VfAFFllPR5",
    "outputId": "66851d08-02bb-42bf-b88e-cfce4fd99b19"
   },
   "outputs": [],
   "source": [
    "df.drop('new',axis=1)"
   ]
  },
  {
   "cell_type": "code",
   "execution_count": null,
   "metadata": {
    "colab": {
     "base_uri": "https://localhost:8080/",
     "height": 203
    },
    "id": "9Qzefdd8lPR5",
    "outputId": "5d013855-e5b7-474c-9364-623bf79da244"
   },
   "outputs": [],
   "source": [
    "# Not inplace unless specified!\n",
    "df"
   ]
  },
  {
   "cell_type": "code",
   "execution_count": null,
   "metadata": {
    "id": "LRsOgNjQlPR5"
   },
   "outputs": [],
   "source": [
    "df.drop('new',axis=1,inplace=True)"
   ]
  },
  {
   "cell_type": "code",
   "execution_count": null,
   "metadata": {
    "colab": {
     "base_uri": "https://localhost:8080/",
     "height": 203
    },
    "id": "KCidXsfOlPR6",
    "outputId": "bf6ce854-1416-422c-95b9-743721928c9a"
   },
   "outputs": [],
   "source": [
    "df"
   ]
  },
  {
   "cell_type": "markdown",
   "metadata": {
    "id": "Zw7R6S86lPR6"
   },
   "source": [
    "Can also drop rows this way:"
   ]
  },
  {
   "cell_type": "code",
   "execution_count": null,
   "metadata": {
    "colab": {
     "base_uri": "https://localhost:8080/",
     "height": 172
    },
    "id": "L_QHKwPmlPR6",
    "outputId": "6a8369c9-c171-4cf6-89b0-2fc1c88524bb"
   },
   "outputs": [],
   "source": [
    "df.drop('E',axis=0)"
   ]
  },
  {
   "cell_type": "markdown",
   "metadata": {
    "id": "qQFnQ2CKlPR6"
   },
   "source": [
    "### Selecting Rows"
   ]
  },
  {
   "cell_type": "code",
   "execution_count": null,
   "metadata": {
    "colab": {
     "base_uri": "https://localhost:8080/"
    },
    "id": "QiTgzXWolPR6",
    "outputId": "987e5213-421f-4229-ff86-96ef977ff16e"
   },
   "outputs": [],
   "source": [
    "df.loc['A']"
   ]
  },
  {
   "cell_type": "markdown",
   "metadata": {
    "id": "7sHpWoXglPR6"
   },
   "source": [
    "Or select based off of position instead of label "
   ]
  },
  {
   "cell_type": "code",
   "execution_count": null,
   "metadata": {
    "colab": {
     "base_uri": "https://localhost:8080/"
    },
    "id": "WcwmXKB3lPR6",
    "outputId": "027abcee-ce71-46a0-82d2-05c6e3c96e29"
   },
   "outputs": [],
   "source": [
    "df.iloc[2]"
   ]
  },
  {
   "cell_type": "markdown",
   "metadata": {
    "id": "z3cStqDqlPR7"
   },
   "source": [
    "### Selecting subset of rows and columns"
   ]
  },
  {
   "cell_type": "code",
   "execution_count": null,
   "metadata": {
    "colab": {
     "base_uri": "https://localhost:8080/"
    },
    "id": "udPdxQPElPR7",
    "outputId": "1704e701-6eb9-4af2-abee-da8841947d3f"
   },
   "outputs": [],
   "source": [
    "df.loc['B','Y']"
   ]
  },
  {
   "cell_type": "code",
   "execution_count": null,
   "metadata": {
    "colab": {
     "base_uri": "https://localhost:8080/",
     "height": 110
    },
    "id": "NHxSIln9lPR7",
    "outputId": "2e283c3a-dc19-488c-f7f7-ce3cd5aa78a7"
   },
   "outputs": [],
   "source": [
    "df.loc[['A','B'],['W','Y']]"
   ]
  },
  {
   "cell_type": "markdown",
   "metadata": {
    "id": "2GinpwmRlPR7"
   },
   "source": [
    "### Conditional Selection\n",
    "\n",
    "An important feature of pandas is conditional selection using bracket notation, very similar to numpy:"
   ]
  },
  {
   "cell_type": "code",
   "execution_count": null,
   "metadata": {
    "colab": {
     "base_uri": "https://localhost:8080/",
     "height": 203
    },
    "id": "5WeHwDeYlPR7",
    "outputId": "a9fbd797-f1a5-47a7-9c35-71066c0173d7"
   },
   "outputs": [],
   "source": [
    "df"
   ]
  },
  {
   "cell_type": "code",
   "execution_count": null,
   "metadata": {
    "colab": {
     "base_uri": "https://localhost:8080/",
     "height": 203
    },
    "id": "5-eQ6Km9lPR7",
    "outputId": "3ecca404-698f-4be3-b941-e0ac2354c763"
   },
   "outputs": [],
   "source": [
    "df>0"
   ]
  },
  {
   "cell_type": "code",
   "execution_count": null,
   "metadata": {
    "colab": {
     "base_uri": "https://localhost:8080/",
     "height": 203
    },
    "id": "Dn_ExXqKlPR7",
    "outputId": "58a5210b-7539-42a1-f23c-3cdb3fe66772"
   },
   "outputs": [],
   "source": [
    "df[df>0]"
   ]
  },
  {
   "cell_type": "code",
   "execution_count": null,
   "metadata": {
    "colab": {
     "base_uri": "https://localhost:8080/",
     "height": 80
    },
    "id": "BqfMHISzlPR8",
    "outputId": "09f699b0-0cb4-4998-a0cc-7369a7536a55"
   },
   "outputs": [],
   "source": [
    "df[df['W']>0]"
   ]
  },
  {
   "cell_type": "code",
   "execution_count": 10,
   "metadata": {
    "colab": {
     "base_uri": "https://localhost:8080/"
    },
    "id": "goZO9J8zlPR8",
    "outputId": "1e33173f-7363-496a-c4cb-0a7a7fff0324"
   },
   "outputs": [
    {
     "data": {
      "text/plain": [
       "A   -0.251879\n",
       "B    0.731000\n",
       "E   -1.356399\n",
       "Name: Y, dtype: float64"
      ]
     },
     "execution_count": 10,
     "metadata": {},
     "output_type": "execute_result"
    }
   ],
   "source": [
    "df[df['W']>0]['Y']"
   ]
  },
  {
   "cell_type": "code",
   "execution_count": null,
   "metadata": {
    "colab": {
     "base_uri": "https://localhost:8080/",
     "height": 80
    },
    "id": "Npu6vMsnlPR8",
    "outputId": "568652e8-d651-45c6-de12-4a688ed826f0"
   },
   "outputs": [],
   "source": [
    "df[df['W']>0][['Y','X']]"
   ]
  },
  {
   "cell_type": "markdown",
   "metadata": {
    "id": "tlgGssvnlPR8"
   },
   "source": [
    "For two conditions you can use | and & with parenthesis:"
   ]
  },
  {
   "cell_type": "code",
   "execution_count": null,
   "metadata": {
    "colab": {
     "base_uri": "https://localhost:8080/",
     "height": 49
    },
    "id": "Rko_50ADlPR8",
    "outputId": "5e9c1002-d4e9-400e-a043-1da14c9f4a49"
   },
   "outputs": [],
   "source": [
    "df[(df['W']>0) & (df['Y'] > 1)]"
   ]
  },
  {
   "cell_type": "markdown",
   "metadata": {
    "collapsed": true,
    "id": "xwLVHQnNlPR8"
   },
   "source": [
    "### Operations\n",
    "\n",
    "There are lots of operations with pandas that will be really useful to you, but don't fall into any distinct category. Let's show them here in this lecture:"
   ]
  },
  {
   "cell_type": "code",
   "execution_count": 12,
   "metadata": {
    "colab": {
     "base_uri": "https://localhost:8080/",
     "height": 172
    },
    "id": "BF-Qlv-NlPR9",
    "outputId": "a629f634-634a-47ae-e222-b27144eacbc7"
   },
   "outputs": [
    {
     "data": {
      "text/html": [
       "<div>\n",
       "<style scoped>\n",
       "    .dataframe tbody tr th:only-of-type {\n",
       "        vertical-align: middle;\n",
       "    }\n",
       "\n",
       "    .dataframe tbody tr th {\n",
       "        vertical-align: top;\n",
       "    }\n",
       "\n",
       "    .dataframe thead th {\n",
       "        text-align: right;\n",
       "    }\n",
       "</style>\n",
       "<table border=\"1\" class=\"dataframe\">\n",
       "  <thead>\n",
       "    <tr style=\"text-align: right;\">\n",
       "      <th></th>\n",
       "      <th>col1</th>\n",
       "      <th>col2</th>\n",
       "      <th>col3</th>\n",
       "    </tr>\n",
       "  </thead>\n",
       "  <tbody>\n",
       "    <tr>\n",
       "      <th>0</th>\n",
       "      <td>1</td>\n",
       "      <td>444</td>\n",
       "      <td>abc</td>\n",
       "    </tr>\n",
       "    <tr>\n",
       "      <th>1</th>\n",
       "      <td>2</td>\n",
       "      <td>555</td>\n",
       "      <td>def</td>\n",
       "    </tr>\n",
       "    <tr>\n",
       "      <th>2</th>\n",
       "      <td>3</td>\n",
       "      <td>666</td>\n",
       "      <td>ghi</td>\n",
       "    </tr>\n",
       "    <tr>\n",
       "      <th>3</th>\n",
       "      <td>4</td>\n",
       "      <td>444</td>\n",
       "      <td>xyz</td>\n",
       "    </tr>\n",
       "  </tbody>\n",
       "</table>\n",
       "</div>"
      ],
      "text/plain": [
       "   col1  col2 col3\n",
       "0     1   444  abc\n",
       "1     2   555  def\n",
       "2     3   666  ghi\n",
       "3     4   444  xyz"
      ]
     },
     "execution_count": 12,
     "metadata": {},
     "output_type": "execute_result"
    }
   ],
   "source": [
    "import pandas as pd\n",
    "df = pd.DataFrame({'col1':[1,2,3,4],'col2':[444,555,666,444],'col3':['abc','def','ghi','xyz']})\n",
    "df.head()"
   ]
  },
  {
   "cell_type": "markdown",
   "metadata": {
    "id": "oS2h5C4mlPR9"
   },
   "source": [
    "### Info on Unique Values"
   ]
  },
  {
   "cell_type": "code",
   "execution_count": null,
   "metadata": {
    "colab": {
     "base_uri": "https://localhost:8080/"
    },
    "id": "0uBz8uqglPR9",
    "outputId": "a54d67db-9b36-40dd-b9ad-855b2f30042b"
   },
   "outputs": [],
   "source": [
    "df['col2'].unique()"
   ]
  },
  {
   "cell_type": "code",
   "execution_count": 18,
   "metadata": {
    "colab": {
     "base_uri": "https://localhost:8080/"
    },
    "id": "mBOxjtVilPR9",
    "outputId": "4d28e39a-5c78-4dbd-b104-1431890e8153"
   },
   "outputs": [
    {
     "data": {
      "text/plain": [
       "3"
      ]
     },
     "execution_count": 18,
     "metadata": {},
     "output_type": "execute_result"
    }
   ],
   "source": [
    "df['col2'].nunique()"
   ]
  },
  {
   "cell_type": "code",
   "execution_count": 20,
   "metadata": {
    "colab": {
     "base_uri": "https://localhost:8080/"
    },
    "id": "H3StRPNFlPR9",
    "outputId": "c02f52cf-4632-464c-dbe0-a315f50169d8"
   },
   "outputs": [
    {
     "data": {
      "text/plain": [
       "444    2\n",
       "555    1\n",
       "666    1\n",
       "Name: col2, dtype: int64"
      ]
     },
     "execution_count": 20,
     "metadata": {},
     "output_type": "execute_result"
    }
   ],
   "source": [
    "df['col2'].value_counts()\n"
   ]
  },
  {
   "cell_type": "markdown",
   "metadata": {
    "id": "q6ALHPPWlPR9"
   },
   "source": [
    "### Selecting Data"
   ]
  },
  {
   "cell_type": "code",
   "execution_count": 21,
   "metadata": {
    "id": "bTkvYbdklPR9"
   },
   "outputs": [],
   "source": [
    "#Select from DataFrame using criteria from multiple columns\n",
    "newdf = df[(df['col1']>2) & (df['col2']==444)]"
   ]
  },
  {
   "cell_type": "code",
   "execution_count": 22,
   "metadata": {
    "colab": {
     "base_uri": "https://localhost:8080/",
     "height": 80
    },
    "id": "Z46yRUiZlPR-",
    "outputId": "b1fb516a-4c5b-4e18-f859-7c6a3886f18b"
   },
   "outputs": [
    {
     "data": {
      "text/html": [
       "<div>\n",
       "<style scoped>\n",
       "    .dataframe tbody tr th:only-of-type {\n",
       "        vertical-align: middle;\n",
       "    }\n",
       "\n",
       "    .dataframe tbody tr th {\n",
       "        vertical-align: top;\n",
       "    }\n",
       "\n",
       "    .dataframe thead th {\n",
       "        text-align: right;\n",
       "    }\n",
       "</style>\n",
       "<table border=\"1\" class=\"dataframe\">\n",
       "  <thead>\n",
       "    <tr style=\"text-align: right;\">\n",
       "      <th></th>\n",
       "      <th>col1</th>\n",
       "      <th>col2</th>\n",
       "      <th>col3</th>\n",
       "    </tr>\n",
       "  </thead>\n",
       "  <tbody>\n",
       "    <tr>\n",
       "      <th>3</th>\n",
       "      <td>4</td>\n",
       "      <td>444</td>\n",
       "      <td>xyz</td>\n",
       "    </tr>\n",
       "  </tbody>\n",
       "</table>\n",
       "</div>"
      ],
      "text/plain": [
       "   col1  col2 col3\n",
       "3     4   444  xyz"
      ]
     },
     "execution_count": 22,
     "metadata": {},
     "output_type": "execute_result"
    }
   ],
   "source": [
    "newdf"
   ]
  },
  {
   "cell_type": "markdown",
   "metadata": {
    "id": "InhK9qUVlPR-"
   },
   "source": [
    "### Applying Functions"
   ]
  },
  {
   "cell_type": "code",
   "execution_count": null,
   "metadata": {
    "id": "pcis_XCWlPR-"
   },
   "outputs": [],
   "source": [
    "def times2(x):\n",
    "    return x*2"
   ]
  },
  {
   "cell_type": "code",
   "execution_count": null,
   "metadata": {
    "colab": {
     "base_uri": "https://localhost:8080/"
    },
    "id": "9kep-VX0lPR-",
    "outputId": "ec9ddb07-6c80-43b9-8ba1-63b0e61c6de9"
   },
   "outputs": [],
   "source": [
    "df['col1'].apply(times2)"
   ]
  },
  {
   "cell_type": "code",
   "execution_count": null,
   "metadata": {
    "colab": {
     "base_uri": "https://localhost:8080/"
    },
    "id": "Zuw2YdqglPR-",
    "outputId": "a66ac234-4276-452e-c3ed-e5e6e81c9f92"
   },
   "outputs": [],
   "source": [
    "df['col3'].apply(len)"
   ]
  },
  {
   "cell_type": "code",
   "execution_count": null,
   "metadata": {
    "colab": {
     "base_uri": "https://localhost:8080/"
    },
    "id": "FmmTx3dFlPR-",
    "outputId": "323dc71f-977e-4559-8128-a975786c6b25"
   },
   "outputs": [],
   "source": [
    "df['col1'].sum()"
   ]
  },
  {
   "cell_type": "markdown",
   "metadata": {
    "id": "rtpo-A5jlPR-"
   },
   "source": [
    "### Permanently Removing a Column"
   ]
  },
  {
   "cell_type": "code",
   "execution_count": null,
   "metadata": {
    "id": "b-2ZlRbxlPR-"
   },
   "outputs": [],
   "source": [
    "del df['col1']"
   ]
  },
  {
   "cell_type": "code",
   "execution_count": null,
   "metadata": {
    "colab": {
     "base_uri": "https://localhost:8080/",
     "height": 172
    },
    "id": "Cxh1JOsRlPR_",
    "outputId": "7ed7aaa7-63e7-427c-fe7c-c6606ad19222"
   },
   "outputs": [],
   "source": [
    "df"
   ]
  },
  {
   "cell_type": "markdown",
   "metadata": {
    "id": "DoCcw9NNlPR_"
   },
   "source": [
    "### Get column and index names:"
   ]
  },
  {
   "cell_type": "code",
   "execution_count": null,
   "metadata": {
    "colab": {
     "base_uri": "https://localhost:8080/"
    },
    "id": "oVPrvsuDlPR_",
    "outputId": "dbb37708-60f9-4668-f34d-cc74f640fe41"
   },
   "outputs": [],
   "source": [
    "df.columns"
   ]
  },
  {
   "cell_type": "code",
   "execution_count": null,
   "metadata": {
    "colab": {
     "base_uri": "https://localhost:8080/"
    },
    "id": "eOPGnsEblPR_",
    "outputId": "412d6cae-dc38-4aba-80be-7ac4ad998bcc"
   },
   "outputs": [],
   "source": [
    "df.index"
   ]
  },
  {
   "cell_type": "markdown",
   "metadata": {
    "id": "ewogpoGVlPR_"
   },
   "source": [
    "### Sorting and Ordering a DataFrame:"
   ]
  },
  {
   "cell_type": "code",
   "execution_count": null,
   "metadata": {
    "colab": {
     "base_uri": "https://localhost:8080/",
     "height": 172
    },
    "id": "tEhOgIH8lPR_",
    "outputId": "a663345a-e31d-4665-e5f7-efa1ce87e093"
   },
   "outputs": [],
   "source": [
    "df"
   ]
  },
  {
   "cell_type": "code",
   "execution_count": null,
   "metadata": {
    "colab": {
     "base_uri": "https://localhost:8080/",
     "height": 172
    },
    "id": "0aLZCMZhlPR_",
    "outputId": "1fbb4403-116f-483a-cf9b-d90e91dc5019"
   },
   "outputs": [],
   "source": [
    "df.sort_values(by='col2') #inplace=False by default"
   ]
  },
  {
   "cell_type": "code",
   "execution_count": null,
   "metadata": {
    "id": "uSDKBSmYfBEK"
   },
   "outputs": [],
   "source": []
  },
  {
   "cell_type": "markdown",
   "metadata": {
    "id": "rp8J_F2M8IQ6"
   },
   "source": [
    "# Data Pre-processing:\n",
    "    Data preprocessing involves set of steps which are used to make data more efficient, more relevant, and suitable to use for machine learning and further data mining processes\n",
    "### Need of Data preprocessing:\n",
    "    Data in real world is quite dirty.  Data collection methods are often loosely controlled.That result into\n",
    "    Incomplete data:  Missing important values\n",
    "    Noisy data:  Data that contains outliers, or data for e.g.  Age as negative value\n",
    "    Inconsistent data:  Data containing impossible combinations like year of birth 1990 and age50.\n",
    "    Duplicate data:  This data may cause misleading statistics and hence may affect predictions.\n",
    "    \n",
    "    Throughout this notebook, we will learn some data pre-processing methods."
   ]
  },
  {
   "cell_type": "markdown",
   "metadata": {
    "id": "HylGUu-O8IRE"
   },
   "source": [
    "### 1. Loading the Dataset\n",
    "    Normally we load dataset using pandas.\n",
    "    Here as we are using .csv file we are loading it using pd.read_csv command.\n",
    "    \n",
    "    I dataset used here is house dataset with columns as city, number of bedrooms, whether it is near market area or not, price, and whether purchased or not.\n",
    "    Here the column named purchased is dependent column."
   ]
  },
  {
   "cell_type": "code",
   "execution_count": null,
   "metadata": {
    "id": "Zoh6RMFR8IRL"
   },
   "outputs": [],
   "source": [
    "#Reading data using pandas\n",
    "data = pd.read_csv('House.csv')"
   ]
  },
  {
   "cell_type": "code",
   "execution_count": 2,
   "metadata": {
    "colab": {
     "base_uri": "https://localhost:8080/",
     "height": 1000
    },
    "id": "Els7rDFD8IRO",
    "outputId": "226152f6-22a2-43de-d438-7363d059fe9e"
   },
   "outputs": [
    {
     "ename": "NameError",
     "evalue": "name 'data' is not defined",
     "output_type": "error",
     "traceback": [
      "\u001b[1;31m---------------------------------------------------------------------------\u001b[0m",
      "\u001b[1;31mNameError\u001b[0m                                 Traceback (most recent call last)",
      "\u001b[1;32m<ipython-input-2-c5d84736ba45>\u001b[0m in \u001b[0;36m<module>\u001b[1;34m\u001b[0m\n\u001b[1;32m----> 1\u001b[1;33m \u001b[0mdata\u001b[0m\u001b[1;33m\u001b[0m\u001b[1;33m\u001b[0m\u001b[0m\n\u001b[0m",
      "\u001b[1;31mNameError\u001b[0m: name 'data' is not defined"
     ]
    }
   ],
   "source": [
    "data"
   ]
  },
  {
   "cell_type": "code",
   "execution_count": null,
   "metadata": {
    "colab": {
     "base_uri": "https://localhost:8080/",
     "height": 142
    },
    "id": "cJXmAzTZ8IRS",
    "outputId": "cc6b0b4a-7e10-4ff7-f7f7-2ac2d4515bee"
   },
   "outputs": [],
   "source": [
    "#Delete extra row\n",
    "del data['Unnamed: 0']\n",
    "data.head(3)"
   ]
  },
  {
   "cell_type": "markdown",
   "metadata": {
    "id": "cNTXtqRk8IRV"
   },
   "source": [
    "### Spliting the dataset\n",
    "    Generally data is splitted as independent and dependent variables before preprocessing.\n",
    "    Here independent variables are the one who decide output which is whether house is purchased or not."
   ]
  },
  {
   "cell_type": "code",
   "execution_count": null,
   "metadata": {
    "id": "1hSsO12K8IRY"
   },
   "outputs": [],
   "source": [
    "#Input or independent features\n",
    "#As our dependent dataset is in last column we are selecting all except last one here as input\n",
    "In = data.iloc[:, :-1].values\n",
    "#Dependent features\n",
    "#Our dependent dataset is in last column the last column for output\n",
    "Out = data.iloc[:, -1].values"
   ]
  },
  {
   "cell_type": "code",
   "execution_count": null,
   "metadata": {
    "colab": {
     "base_uri": "https://localhost:8080/"
    },
    "id": "1fFspPeb8IRc",
    "outputId": "6cb2c387-0e6f-454e-d01e-7a52cbc172f5"
   },
   "outputs": [],
   "source": [
    "In[:5]    #first 5 values in data"
   ]
  },
  {
   "cell_type": "code",
   "execution_count": null,
   "metadata": {
    "colab": {
     "base_uri": "https://localhost:8080/"
    },
    "id": "HL4_hrXw8IRg",
    "outputId": "583b3205-1224-4f23-8570-1a5572f71f55"
   },
   "outputs": [],
   "source": [
    "Out"
   ]
  },
  {
   "cell_type": "markdown",
   "metadata": {
    "id": "vbNXh6yK8IRh"
   },
   "source": [
    "### Missing Values:\n",
    "    \n",
    "    In  case  of  missing  values  it  is  often  good  step  to  discard  the  respective  records  withmissing  values  to  increase  effectiveness  of  data.   But  this  often  leads  to  loss  of  huge  amount  of data or some important data.  In order to deal with that we use missing value imputation wheremissing values are replaced with some values like 0, 1 or mean/median values.  Some algorithms like scikit-learning are used to deal with data as In most cases missing values are coded as Nan, na or blank.\n",
    "    \n",
    "       In our data we can notice that we have missing values in rows 1,4,11,19 and so on. \n",
    "    Here in pace of missing data, we are going to add the average value of the present data.\n",
    " ### Scikitlearn:\n",
    "    Here we are going to use library named scikitlearn named as sklearn. It is the most useful and robust library for machine learning in Python. It provides a selection of efficient tools for machine learning and statistical modeling.\n",
    "    \n",
    "    The class from sklearn we are going to use here is simpleimputer to impute missing data."
   ]
  },
  {
   "cell_type": "code",
   "execution_count": null,
   "metadata": {
    "id": "1X1yyKLd8IRj"
   },
   "outputs": [],
   "source": [
    "from sklearn.impute import SimpleImputer\n",
    "#creating the object for class\n",
    "#missing vale variable is given none values of common types in nparray and \n",
    "#strategy suggests that the missing value is replaced by mean\n",
    "SI = SimpleImputer(missing_values=np.nan, strategy='mean')"
   ]
  },
  {
   "cell_type": "code",
   "execution_count": null,
   "metadata": {
    "id": "a5FL291Y8IRk"
   },
   "outputs": [],
   "source": [
    "#Fit method is used to replace missing values\n",
    "#fit will accept columns in input data with numerical values\n",
    "#and this will connect our imputer to all missing values\n",
    "SI.fit(In[:, 1:3])\n",
    "#Transform will return new updeted version with all missing data imputation\n",
    "In[:, 1:3] = SI.transform(In[:, 1:3])"
   ]
  },
  {
   "cell_type": "code",
   "execution_count": null,
   "metadata": {
    "colab": {
     "base_uri": "https://localhost:8080/"
    },
    "id": "ezAm7VYl8IRl",
    "outputId": "ae092371-9788-4f56-c718-d82453e03a58"
   },
   "outputs": [],
   "source": [
    "#showing first ten rows in idependent data\n",
    "In[:10] #as we can see here missing values are replaced by mean value of columns"
   ]
  },
  {
   "cell_type": "markdown",
   "metadata": {
    "id": "iIa0pEhK8IRm"
   },
   "source": [
    "### Managing categorical data:\n",
    "    When we have categories in string data columns, it becomes difficult for ML model tocompute some correlations between these columns. In order to save this we need to encode such data into some numerical value. We can enumerate data insuch columns with each value with each number. But this may misguide our future model so we use onehotencoding here. In this categorical variables are converted into a form that could be provided to ML algorithms to do a better job in prediction. It turns the n number of categories in n columns with creating binary vectors for each countries."
   ]
  },
  {
   "cell_type": "code",
   "execution_count": null,
   "metadata": {
    "id": "PEZceYhP8IRn"
   },
   "outputs": [],
   "source": [
    "#Dependent Variable\n",
    "#OneHotEncoding converts the categorical data into numerical values\n",
    "#ColumnTransformer will combine LabelEncoding and OneHotEncoding into one line of code\n",
    "from sklearn.compose import ColumnTransformer\n",
    "from sklearn.preprocessing import OneHotEncoder\n",
    "transformer = ColumnTransformer(transformers=[('encoder', OneHotEncoder(), [0])], remainder='passthrough')\n",
    "In= np.array(transformer.fit_transform(In))\n",
    "#LabelEncoder converts values as yes no or true false in o,1\n",
    "from sklearn.preprocessing import LabelEncoder\n",
    "le = LabelEncoder()\n",
    "In[:, -1] = le.fit_transform(In[:, -1])\n",
    "# Independent variable\n",
    "Out = le.fit_transform(Out)"
   ]
  },
  {
   "cell_type": "code",
   "execution_count": null,
   "metadata": {
    "colab": {
     "base_uri": "https://localhost:8080/"
    },
    "id": "V4tTAZlG8IRo",
    "outputId": "07c13176-2f7d-4986-df21-3d3c927aabbd"
   },
   "outputs": [],
   "source": [
    "#showing first ten rows in idependent data\n",
    "In[:10]"
   ]
  },
  {
   "cell_type": "code",
   "execution_count": null,
   "metadata": {
    "colab": {
     "base_uri": "https://localhost:8080/"
    },
    "id": "i50YIX398IRo",
    "outputId": "ae55e044-f830-4b64-aaa3-890a5b97081a"
   },
   "outputs": [],
   "source": [
    "Out"
   ]
  },
  {
   "cell_type": "markdown",
   "metadata": {
    "id": "Vs8WQ8gM8IRp"
   },
   "source": [
    "### Splitting the dataset into the Training set and Test set\n",
    "\n",
    "    Before applying to Machine learning model data is splitted to two sets as training and test dataset. Where training dataset is applied to machine learning model where test data set is preserved for testing purposes. It is best practice to reserve 20% data as test dataset. Before feature scaling, this data splitting must be performed. For splitting data scikitlearning provides train test split algorithm under model selection subpackage."
   ]
  },
  {
   "cell_type": "code",
   "execution_count": null,
   "metadata": {
    "id": "arLKVQPk8IRp"
   },
   "outputs": [],
   "source": [
    "#train_test_split will split data into the given partition percentage\n",
    "#The test dataset will be chosen randomly\n",
    "from sklearn.model_selection import train_test_split\n",
    "In_train, In_test, Out_train, Out_test = train_test_split(In, Out, test_size = 0.2, random_state = 1)   #0.2 to reserve 20% data as test data"
   ]
  },
  {
   "cell_type": "code",
   "execution_count": null,
   "metadata": {
    "colab": {
     "base_uri": "https://localhost:8080/"
    },
    "id": "9c_ZbEve8IRq",
    "outputId": "a6c24ca6-5b5e-44d6-a388-d02ca7464d71"
   },
   "outputs": [],
   "source": [
    "print('Lengeth of dependent training set   :', len(In_train))\n",
    "print('Lengeth of independent training set :', len(Out_train))\n",
    "print('Lengeth of dependent test set   :', len(In_test))\n",
    "print('Lengeth of independent test set :', len(Out_test))"
   ]
  },
  {
   "cell_type": "markdown",
   "metadata": {
    "id": "THLb9d-h8IRr"
   },
   "source": [
    "### Feature Scaling:\n",
    "    It puts all the features on same scale to save data from dominating value of some features over other. Feature scaling is not needed in all machine learning models. The two main feature scaling techniques are normalization and standardization. The measurement units can affect the data analysis. For example changing the unit from meter to inches can change the result upto very extent. In order to save the restriction on choice of unit for data we must normalize or standardize the data.\n",
    "    \n",
    "#### Standardization:\n",
    "    standardization converts columns in the value in range -3 to 3\n",
    "    the formulae for standardization is\n",
    "    xstand = (x-mean(x))/standard_deviation(x)\n",
    "    \n",
    "#### Normalization:\n",
    "    Normalization converts columns in the value in range 0 to 1\n",
    "    the formulae for standardization is\n",
    "    xnorm = (x-min(x))/(max(x)-min(x))\n",
    "    \n",
    "    Normalization is recommended when we have normal distribution in our feature values.\n",
    "    Standardization can be used everytime.\n",
    "    So here we will go with standardization"
   ]
  },
  {
   "cell_type": "code",
   "execution_count": null,
   "metadata": {
    "id": "rh27eJAv8IRs"
   },
   "outputs": [],
   "source": [
    "#Here we are standardizing the data\n",
    "#Feature scaling must be done after spliting the dataset into training and testing\n",
    "from sklearn.preprocessing import StandardScaler\n",
    "#creating object for class StandardScaler()\n",
    "scaler = StandardScaler()"
   ]
  },
  {
   "cell_type": "code",
   "execution_count": null,
   "metadata": {
    "id": "HWpR0VF18IRs"
   },
   "outputs": [],
   "source": [
    "#Here we dont need to apply feature scaling to categorical encoded data as it is already in the required range\n",
    "#Aim of feature scaling is to have all the values in same range \n",
    "#The encoded columns already met the conditions \n",
    "#If we apply feature scaling on them we can get misleading values too\n",
    "#So ignoring first four and last column from data and the  output we will apply feature scaling\n",
    "#So columns 4,5 are the required ones\n",
    "In_train[:, 4:6] = scaler.fit_transform(In_train[:, 4:6])\n",
    "#Here fit will get the mean and standard deviation values \n",
    "#Transform will update the transformed values\n",
    "In_test[:, 4:6] = scaler.transform(In_test[:, 4:6])"
   ]
  },
  {
   "cell_type": "code",
   "execution_count": null,
   "metadata": {
    "colab": {
     "base_uri": "https://localhost:8080/"
    },
    "id": "ha0Bm9QI8IRt",
    "outputId": "e650836c-4343-4d27-a2e7-863c374902aa"
   },
   "outputs": [],
   "source": [
    "#showing first ten rows in idependent data\n",
    "In_train[:10]"
   ]
  },
  {
   "cell_type": "code",
   "execution_count": null,
   "metadata": {
    "colab": {
     "base_uri": "https://localhost:8080/"
    },
    "id": "91dr0DeW8IRu",
    "outputId": "bf904059-20dd-4586-f63e-17d327bf9657"
   },
   "outputs": [],
   "source": [
    "In_test"
   ]
  },
  {
   "cell_type": "markdown",
   "metadata": {
    "id": "viJ-rhEb8IRu"
   },
   "source": [
    "    This makes the dataset ready to apply to Machine Learning Models."
   ]
  }
 ],
 "metadata": {
  "colab": {
   "collapsed_sections": [],
   "name": "ML_Demo_1.ipynb",
   "provenance": []
  },
  "kernelspec": {
   "display_name": "Python 3 (ipykernel)",
   "language": "python",
   "name": "python3"
  },
  "language_info": {
   "codemirror_mode": {
    "name": "ipython",
    "version": 3
   },
   "file_extension": ".py",
   "mimetype": "text/x-python",
   "name": "python",
   "nbconvert_exporter": "python",
   "pygments_lexer": "ipython3",
   "version": "3.9.6"
  }
 },
 "nbformat": 4,
 "nbformat_minor": 1
}
